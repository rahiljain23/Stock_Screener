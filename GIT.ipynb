{
 "cells": [
  {
   "cell_type": "code",
   "execution_count": 1,
   "id": "6cecd104-ef0b-4496-b43c-2044a4f8e927",
   "metadata": {},
   "outputs": [
    {
     "name": "stderr",
     "output_type": "stream",
     "text": [
      "warning: in the working copy of '.ipynb_checkpoints/Stocks_Screener-checkpoint.ipynb', LF will be replaced by CRLF the next time Git touches it\n",
      "warning: in the working copy of '.ipynb_checkpoints/Stocks_Screener_India-checkpoint.ipynb', LF will be replaced by CRLF the next time Git touches it\n",
      "warning: in the working copy of 'GIT.ipynb', LF will be replaced by CRLF the next time Git touches it\n",
      "warning: in the working copy of 'Stocks_Screener.ipynb', LF will be replaced by CRLF the next time Git touches it\n",
      "warning: in the working copy of 'Stocks_Screener_India.ipynb', LF will be replaced by CRLF the next time Git touches it\n"
     ]
    },
    {
     "name": "stdout",
     "output_type": "stream",
     "text": [
      "[main 9012559] Some update\n",
      " 13 files changed, 3538 insertions(+), 3522 deletions(-)\n",
      " delete mode 100644 .ipynb_checkpoints/Stocks_Screener_USA-checkpoint.ipynb\n",
      " create mode 100644 2025-07-15_USA_Screener_India.csv\n",
      " create mode 100644 2025-07-16_Screener_India.csv\n",
      " create mode 100644 2025-07-16_USA_Screener_India.csv\n",
      " create mode 100644 2025-07-17_India_Screener_India.csv\n",
      " delete mode 100644 Stocks_Screener_USA.ipynb\n",
      " create mode 100644 test.csv\n",
      " create mode 100644 test2.csv\n"
     ]
    },
    {
     "name": "stderr",
     "output_type": "stream",
     "text": [
      "To https://github.com/rahiljain23/Stock_Screener\n",
      "   e6f866c..9012559  main -> main\n"
     ]
    }
   ],
   "source": [
    "!cd C:\\Users\\PC\\Desktop\\stock_screener\n",
    "!git add .\n",
    "!git commit -m \"Some update\"\n",
    "!git push\n"
   ]
  },
  {
   "cell_type": "code",
   "execution_count": null,
   "id": "6ba10042-6f5e-4848-90a7-c8067c011f73",
   "metadata": {},
   "outputs": [],
   "source": []
  }
 ],
 "metadata": {
  "kernelspec": {
   "display_name": "Python 3 (ipykernel)",
   "language": "python",
   "name": "python3"
  },
  "language_info": {
   "codemirror_mode": {
    "name": "ipython",
    "version": 3
   },
   "file_extension": ".py",
   "mimetype": "text/x-python",
   "name": "python",
   "nbconvert_exporter": "python",
   "pygments_lexer": "ipython3",
   "version": "3.10.11"
  }
 },
 "nbformat": 4,
 "nbformat_minor": 5
}
