{
 "cells": [
  {
   "cell_type": "code",
   "execution_count": 2,
   "id": "3d612f9b-7f15-4355-9d39-579246e875fd",
   "metadata": {},
   "outputs": [],
   "source": [
    "import yfinance as yf\n",
    "import pandas as pd\n",
    "import pandas_ta as ta\n"
   ]
  },
  {
   "cell_type": "code",
   "execution_count": 3,
   "id": "bc234a34-3613-438e-b44d-6902ada78ce1",
   "metadata": {},
   "outputs": [],
   "source": [
    "ticker_list = [\n",
    "    \"RELIANCE.NS\", \"HDFCBANK.NS\", \"ICICIBANK.NS\", \"INFY.NS\", \"TCS.NS\",\n",
    "    \"LT.NS\", \"ITC.NS\", \"KOTAKBANK.NS\", \"HINDUNILVR.NS\", \"AXISBANK.NS\",\n",
    "    \"SBIN.NS\", \"BHARTIARTL.NS\", \"BAJFINANCE.NS\", \"ASIANPAINT.NS\", \"MARUTI.NS\",\n",
    "    \"HCLTECH.NS\", \"SUNPHARMA.NS\", \"NTPC.NS\", \"TITAN.NS\", \"ONGC.NS\",\n",
    "    \"ULTRACEMCO.NS\", \"POWERGRID.NS\", \"ADANIENT.NS\", \"JSWSTEEL.NS\", \"WIPRO.NS\",\n",
    "    \"TATAMOTORS.NS\", \"INDUSINDBK.NS\", \"BAJAJFINSV.NS\", \"HINDALCO.NS\", \"GRASIM.NS\",\n",
    "    \"TECHM.NS\", \"DIVISLAB.NS\", \"NESTLEIND.NS\", \"TATASTEEL.NS\", \"CIPLA.NS\",\n",
    "    \"ADANIPORTS.NS\", \"DRREDDY.NS\", \"BPCL.NS\", \"SBILIFE.NS\", \"BRITANNIA.NS\",\n",
    "    \"EICHERMOT.NS\", \"HEROMOTOCO.NS\", \"COALINDIA.NS\", \"BAJAJ-AUTO.NS\", \"HDFCLIFE.NS\",\n",
    "    \"SHREECEM.NS\", \"APOLLOHOSP.NS\", \"M&M.NS\", \"ICICIPRULI.NS\", \"UPL.NS\", \"ABB.NS\", \"ACC.NS\", \"ADANIGREEN.NS\", \"ALKEM.NS\",\n",
    "    \"AMBUJACEM.NS\", \"AUROPHARMA.NS\", \"BAJAJHLDNG.NS\", \"BANDHANBNK.NS\", \"BANKBARODA.NS\",\n",
    "    \"BERGEPAINT.NS\", \"BIOCON.NS\", \"BOSCHLTD.NS\", \"CANBK.NS\", \"CHOLAFIN.NS\",\n",
    "    \"COLPAL.NS\", \"DABUR.NS\", \"DIXON.NS\", \"GAIL.NS\", \"GODREJCP.NS\",\n",
    "    \"HAVELLS.NS\", \"ICICIGI.NS\", \"ICICIPRULI.NS\", \"IDEA.NS\", \"IGL.NS\",\n",
    "    \"INDIGO.NS\", \"INDUSTOWER.NS\", \"IOC.NS\", \"LICHSGFIN.NS\", \"MARICO.NS\", \"MOTHERSON.NS\", \"MRF.NS\", \"NHPC.NS\", \"NMDC.NS\",\n",
    "    \"PAGEIND.NS\", \"PEL.NS\", \"PIDILITIND.NS\", \"PNB.NS\", \"RECLTD.NS\",\n",
    "    \"SAIL.NS\", \"SIEMENS.NS\", \"SRF.NS\", \"TORNTPHARM.NS\", \"TRENT.NS\",\n",
    "    \"TVSMOTOR.NS\", \"UBL.NS\", \"VEDL.NS\", \"VOLTAS.NS\", \"ZEEL.NS\"\n",
    "]\n",
    "\n"
   ]
  },
  {
   "cell_type": "code",
   "execution_count": 4,
   "id": "e18c624a-910e-409d-aee8-f2ecdc48cfa0",
   "metadata": {},
   "outputs": [],
   "source": [
    "def process_stock(ticker):\n",
    "    Data=yf.download(tickers=ticker,period=\"5y\",interval=\"1d\",group_by=ticker)\n",
    "    \n",
    "    Data.columns = Data.columns.droplevel(0)\n",
    "    # Data.head(5)\n",
    "    Data=Data[0:-20]\n",
    "    ## Add Useful KPIs\n",
    "    \n",
    "    Data['RSI']=ta.rsi(Data[\"Close\"], length=14)\n",
    "    \n",
    "    info = yf.Ticker(ticker).info\n",
    "    Data['Sector']=info.get(\"sector\")\n",
    "    Data['Industry']=info.get(\"industry\")\n",
    "    \n",
    "    MACD=ta.macd(Data[\"Close\"], fast=12, slow=26, signal=9)\n",
    "    Data=pd.concat([Data,MACD],axis=1)\n",
    "    \n",
    "    Data.rename(columns={\n",
    "        \"MACD_12_26_9\": \"MACD_Line\",\n",
    "        \"MACDs_12_26_9\": \"MACD_Signal\",\n",
    "        \"MACDh_12_26_9\": \"MACD_Histogram\"\n",
    "    }, inplace=True)\n",
    "    \n",
    "    \n",
    "    Data[\"EMA_20\"] = ta.ema(Data[\"Close\"], length=20)\n",
    "    Data[\"EMA_50\"] = ta.ema(Data[\"Close\"], length=50)\n",
    "    \n",
    "    # Add Bollinger Bands (20-day default)\n",
    "    bbands = ta.bbands(Data[\"Close\"], length=20)\n",
    "    \n",
    "    # Combine with main DataFrame\n",
    "    Data = pd.concat([Data, bbands], axis=1)\n",
    "    \n",
    "    # Optional rename (if needed)\n",
    "    Data.rename(columns={\n",
    "        \"BBL_20_2.0\": \"BB_Lower\",\n",
    "        \"BBM_20_2.0\": \"BB_Middle\",\n",
    "        \"BBU_20_2.0\": \"BB_Upper\",\n",
    "        \"BBB_20_2.0\": \"BB_Bandwidth\",\n",
    "        \"BBP_20_2.0\": \"BB_Percent\"\n",
    "    }, inplace=True)\n",
    "    \n",
    "    # Add ADX (default 14-period)\n",
    "    adx_df = ta.adx(Data[\"High\"], Data[\"Low\"], Data[\"Close\"], length=14)\n",
    "    \n",
    "    # Join it with main DataFrame\n",
    "    Data = pd.concat([Data, adx_df], axis=1)\n",
    "    \n",
    "    # Optional rename (for clarity)\n",
    "    Data.rename(columns={\n",
    "        \"ADX_14\": \"ADX\",\n",
    "        \"DMP_14\": \"DI_Plus\",\n",
    "        \"DMN_14\": \"DI_Minus\"\n",
    "    }, inplace=True)\n",
    "    \n",
    "    # Add ATR (default length=14)\n",
    "    Data[\"ATR_14\"] = ta.atr(Data[\"High\"], Data[\"Low\"], Data[\"Close\"], length=14)\n",
    "    \n",
    "    # Add Stochastic Oscillator (default k=14, d=3)\n",
    "    stoch_df = ta.stoch(Data[\"High\"], Data[\"Low\"], Data[\"Close\"], k=14, d=3)\n",
    "    \n",
    "    # Combine with main DataFrame\n",
    "    Data = pd.concat([Data, stoch_df], axis=1)\n",
    "    \n",
    "    # Optional rename\n",
    "    Data.rename(columns={\n",
    "        \"STOCHk_14_3_3\": \"Stoch_%K\",\n",
    "        \"STOCHd_14_3_3\": \"Stoch_%D\"\n",
    "    }, inplace=True)\n",
    "    \n",
    "    \n",
    "    \n",
    "    # Add CCI (default period = 20)\n",
    "    Data[\"CCI_20\"] = ta.cci(Data[\"High\"], Data[\"Low\"], Data[\"Close\"], length=20)\n",
    "    \n",
    "    # Data.to_csv(\"test.csv\")\n",
    "    \n",
    "    Data.reset_index(inplace=True)\n",
    "    \n",
    "    ## Feature Engineering\n",
    "    \n",
    "    Data['Volume1']=Data['Volume'].shift(1)\n",
    "    Data['Volume_Inc']=(Data['Volume']-Data['Volume1'])/Data['Volume1']\n",
    "    \n",
    "    Data['EMA_20_Price']=(Data['Close']-Data['EMA_20'])/Data['EMA_20']\n",
    "    Data['EMA_50_Price']=(Data['Close']-Data['EMA_50'])/Data['EMA_50']\n",
    "    \n",
    "    Data['Stoch_k_D']=(Data['Stoch_%K']-Data['Stoch_%D'])\n",
    "    \n",
    "    Data['Close1']=Data['Close'].shift(10)\n",
    "    Data['Close_Inc']=(Data['Close1']-Data['Close'])/Data['Close']\n",
    "    \n",
    "    # Data.head(50)\n",
    "    \n",
    "    def Buy_Variable(row):\n",
    "        if row['Close_Inc']>=0.04:\n",
    "            return 1\n",
    "        else:\n",
    "            return 0\n",
    "    \n",
    "    Data['Buy']=Data.apply(Buy_Variable,axis=1)\n",
    "    \n",
    "    ## Data Clean\n",
    "    \n",
    "    Clean_Data=Data[['RSI', 'MACD_Histogram','BB_Percent','ADX','ATR_14', 'Stoch_%K',\n",
    "           'Stoch_%D', 'CCI_20','Volume_Inc', 'EMA_20_Price',\n",
    "           'EMA_50_Price', 'Stoch_k_D', 'Buy']]\n",
    "    \n",
    "    Clean_Data=Clean_Data.dropna(subset=['RSI', 'MACD_Histogram','BB_Percent','ADX','ATR_14', 'Stoch_%K',\n",
    "           'Stoch_%D', 'CCI_20','Volume_Inc', 'EMA_20_Price',\n",
    "           'EMA_50_Price'])\n",
    "    \n",
    "    # Clean_Data.head(10)\n",
    "    \n",
    "    ## Visualize\n",
    "    \n",
    "    import seaborn as sns\n",
    "    import matplotlib.pyplot as plt\n",
    "    \n",
    "    features = [\"RSI\", \"MACD_Histogram\", \"BB_Percent\", \"ADX\", \"ATR_14\", \n",
    "                \"Stoch_%K\", \"CCI_20\", \"EMA_20_Price\", \"Volume_Inc\"]\n",
    "    \n",
    "    # for feature in features:\n",
    "    #     plt.figure(figsize=(6, 3))\n",
    "    #     sns.kdeplot(data=Clean_Data[Clean_Data[\"Buy\"] == 1], x=feature, label=\"Buy = 1\", shade=True)\n",
    "    #     sns.kdeplot(data=Clean_Data[Clean_Data[\"Buy\"] == 0], x=feature, label=\"Buy = 0\", shade=True)\n",
    "    #     plt.title(f\"{feature} vs Buy\")\n",
    "    #     plt.legend()\n",
    "    #     plt.tight_layout()\n",
    "    #     plt.show()\n",
    "    \n",
    "    \n",
    "    # for feature in features:\n",
    "    #     plt.figure(figsize=(6, 3))\n",
    "    #     sns.boxplot(data=Clean_Data, x=\"Buy\", y=feature)\n",
    "    #     plt.title(f\"{feature} by Buy value\")\n",
    "    #     plt.tight_layout()\n",
    "    #     plt.show()\n",
    "    \n",
    "    \n",
    "    Clean_Data.drop(columns=\"Volume_Inc\",inplace=True)\n",
    "    \n",
    "    # # Step 1: Compute correlation matrix\n",
    "    # corr_matrix = Clean_Data.corr()\n",
    "    \n",
    "    # # Step 2: Set up the heatmap\n",
    "    # plt.figure(figsize=(12, 8))\n",
    "    # sns.heatmap(corr_matrix, annot=True, fmt=\".2f\", cmap=\"coolwarm\", linewidths=0.5)\n",
    "    # plt.title(\"Correlation Heatmap\")\n",
    "    # plt.tight_layout()\n",
    "    # plt.show()\n",
    "    \n",
    "    # Clean_Data.head(5)\n",
    "    \n",
    "    ## Model Build\n",
    "    \n",
    "    from sklearn.preprocessing import StandardScaler\n",
    "    \n",
    "    scaler = StandardScaler()\n",
    "    X_scaled = scaler.fit_transform(Clean_Data.drop(\"Buy\", axis=1))\n",
    "    \n",
    "    \n",
    "    \n",
    "    # X_scaled\n",
    "    \n",
    "    from sklearn.model_selection import train_test_split\n",
    "    y=Clean_Data['Buy']\n",
    "    \n",
    "    X_train, X_test, y_train, y_test = train_test_split(\n",
    "        X_scaled, y, test_size=0.2, random_state=42, stratify=y\n",
    "    )\n",
    "    \n",
    "    # ### Logisitic\n",
    "    \n",
    "    # from sklearn.linear_model import LogisticRegression\n",
    "    \n",
    "    # model=LogisticRegression()\n",
    "    # model.fit(X_train, y_train)\n",
    "    # y=model.predict(X_test)\n",
    "    # y_proba = model.predict_proba(X_test)[:, 1]\n",
    "    # from sklearn.metrics import classification_report,roc_auc_score\n",
    "    # print(\"🔹 Logistic Regression:\")\n",
    "    # print(classification_report(y_test, y))\n",
    "    # print(f\"ROC AUC Score: {roc_auc_score(y_test, y_proba):.4f}\")\n",
    "    \n",
    "    # ### Random Forest\n",
    "    \n",
    "    # from sklearn.ensemble import RandomForestClassifier\n",
    "    \n",
    "    # model=RandomForestClassifier(random_state=42)\n",
    "    # model.fit(X_train, y_train)\n",
    "    # y=model.predict(X_test)\n",
    "    # y_proba = model.predict_proba(X_test)[:, 1]\n",
    "    # feature_importances = model.feature_importances_\n",
    "    # features = Clean_Data.drop(\"Buy\", axis=1).columns\n",
    "    # # Combine into a DataFrame\n",
    "    # F_Imp = pd.DataFrame({\n",
    "    #     \"Feature\": features,\n",
    "    #     \"Importance\": feature_importances\n",
    "    # }).sort_values(\"Importance\", ascending=False)\n",
    "    # print(F_Imp)\n",
    "    # from sklearn.metrics import classification_report\n",
    "    # print(\"🔹 RandomForestClassifier:\")\n",
    "    # print(classification_report(y_test, y))\n",
    "    # print(f\"ROC AUC Score: {roc_auc_score(y_test, y_proba):.4f}\")\n",
    "    \n",
    "    ### XG Boost\n",
    "    \n",
    "    from xgboost import XGBClassifier\n",
    "    model=XGBClassifier(use_label_encoder=False, eval_metric='logloss', random_state=42)\n",
    "    model.fit(X_train, y_train)\n",
    "    y=model.predict(X_test)\n",
    "    y_proba = model.predict_proba(X_test)[:, 1]\n",
    "    feature_importances = model.feature_importances_\n",
    "    features = Clean_Data.drop(\"Buy\", axis=1).columns\n",
    "    # Combine into a DataFrame\n",
    "    F_Imp = pd.DataFrame({\n",
    "        \"Feature\": features,\n",
    "        \"Importance\": feature_importances\n",
    "    }).sort_values(\"Importance\", ascending=False)\n",
    "    # print(F_Imp)\n",
    "    from sklearn.metrics import classification_report\n",
    "    # print(\"🔹 XGBClassifier: \")\n",
    "    # print(classification_report(y_test, y))\n",
    "    # print(f\"ROC AUC Score: {roc_auc_score(y_test, y_proba):.4f}\")\n",
    "    \n",
    "    \n",
    "    \n",
    "    data_Test = yf.download(tickers=ticker, period=\"60d\", interval=\"1d\", group_by=\"ticker\")\n",
    "    data_Test.columns = data_Test.columns.droplevel(0)\n",
    "    \n",
    "    data_Test['RSI']=ta.rsi(data_Test[\"Close\"], length=14)\n",
    "    \n",
    "    info = yf.Ticker(ticker).info\n",
    "    data_Test['Sector']=info.get(\"sector\")\n",
    "    data_Test['Industry']=info.get(\"industry\")\n",
    "    \n",
    "    MACD=ta.macd(data_Test[\"Close\"], fast=12, slow=26, signal=9)\n",
    "    data_Test=pd.concat([data_Test,MACD],axis=1)\n",
    "    \n",
    "    data_Test.rename(columns={\n",
    "        \"MACD_12_26_9\": \"MACD_Line\",\n",
    "        \"MACDs_12_26_9\": \"MACD_Signal\",\n",
    "        \"MACDh_12_26_9\": \"MACD_Histogram\"\n",
    "    }, inplace=True)\n",
    "    \n",
    "    \n",
    "    data_Test[\"EMA_20\"] = ta.ema(data_Test[\"Close\"], length=20)\n",
    "    data_Test[\"EMA_50\"] = ta.ema(data_Test[\"Close\"], length=50)\n",
    "    \n",
    "    # Add Bollinger Bands (20-day default)\n",
    "    bbands = ta.bbands(data_Test[\"Close\"], length=20)\n",
    "    \n",
    "    # Combine with main DataFrame\n",
    "    data_Test = pd.concat([data_Test, bbands], axis=1)\n",
    "    \n",
    "    # Optional rename (if needed)\n",
    "    data_Test.rename(columns={\n",
    "        \"BBL_20_2.0\": \"BB_Lower\",\n",
    "        \"BBM_20_2.0\": \"BB_Middle\",\n",
    "        \"BBU_20_2.0\": \"BB_Upper\",\n",
    "        \"BBB_20_2.0\": \"BB_Bandwidth\",\n",
    "        \"BBP_20_2.0\": \"BB_Percent\"\n",
    "    }, inplace=True)\n",
    "    \n",
    "    # Add ADX (default 14-period)\n",
    "    adx_df = ta.adx(data_Test[\"High\"], data_Test[\"Low\"], data_Test[\"Close\"], length=14)\n",
    "    \n",
    "    # Join it with main DataFrame\n",
    "    data_Test = pd.concat([data_Test, adx_df], axis=1)\n",
    "    \n",
    "    # Optional rename (for clarity)\n",
    "    data_Test.rename(columns={\n",
    "        \"ADX_14\": \"ADX\",\n",
    "        \"DMP_14\": \"DI_Plus\",\n",
    "        \"DMN_14\": \"DI_Minus\"\n",
    "    }, inplace=True)\n",
    "    \n",
    "    # Add ATR (default length=14)\n",
    "    data_Test[\"ATR_14\"] = ta.atr(data_Test[\"High\"], data_Test[\"Low\"], data_Test[\"Close\"], length=14)\n",
    "    \n",
    "    # Add Stochastic Oscillator (default k=14, d=3)\n",
    "    stoch_df = ta.stoch(data_Test[\"High\"], data_Test[\"Low\"], data_Test[\"Close\"], k=14, d=3)\n",
    "    \n",
    "    # Combine with main DataFrame\n",
    "    data_Test = pd.concat([data_Test, stoch_df], axis=1)\n",
    "    \n",
    "    # Optional rename\n",
    "    data_Test.rename(columns={\n",
    "        \"STOCHk_14_3_3\": \"Stoch_%K\",\n",
    "        \"STOCHd_14_3_3\": \"Stoch_%D\"\n",
    "    }, inplace=True)\n",
    "    \n",
    "    \n",
    "    \n",
    "    # Add CCI (default period = 20)\n",
    "    data_Test[\"CCI_20\"] = ta.cci(data_Test[\"High\"], data_Test[\"Low\"], data_Test[\"Close\"], length=20)\n",
    "    \n",
    "    data_Test['Volume1']=data_Test['Volume'].shift(1)\n",
    "    data_Test['Volume_Inc']=(data_Test['Volume']-data_Test['Volume1'])/data_Test['Volume1']\n",
    "    \n",
    "    data_Test['EMA_20_Price']=(data_Test['Close']-data_Test['EMA_20'])/data_Test['EMA_20']\n",
    "    data_Test['EMA_50_Price']=(data_Test['Close']-data_Test['EMA_50'])/data_Test['EMA_50']\n",
    "    \n",
    "    data_Test['Stoch_k_D']=(data_Test['Stoch_%K']-data_Test['Stoch_%D'])\n",
    "    \n",
    "    data_Test['Close1']=data_Test['Close'].shift(10)\n",
    "    data_Test['Close_Inc']=(data_Test['Close1']-data_Test['Close'])/data_Test['Close']\n",
    "    \n",
    "    data_Test.head(50)\n",
    "    \n",
    "    def Buy_Variable(row):\n",
    "        if row['Close_Inc']>=0.03:\n",
    "            return 1\n",
    "        else:\n",
    "            return 0\n",
    "    \n",
    "    data_Test['Buy']=data_Test.apply(Buy_Variable,axis=1)\n",
    "    \n",
    "    data_Test.iloc[-2:-1]\n",
    "    \n",
    "    Clean_Data_Test=data_Test[['RSI', 'MACD_Histogram','BB_Percent','ADX','ATR_14', 'Stoch_%K',\n",
    "           'Stoch_%D', 'CCI_20','Volume_Inc', 'EMA_20_Price',\n",
    "           'EMA_50_Price', 'Stoch_k_D', 'Buy']]\n",
    "    \n",
    "    # Step 1: Get feature columns (same as used during training)\n",
    "    features = ['RSI', 'MACD_Histogram', 'BB_Percent', 'ADX', 'ATR_14',\n",
    "                'Stoch_%K', 'Stoch_%D', 'CCI_20', 'EMA_20_Price', 'EMA_50_Price', 'Stoch_k_D']\n",
    "    \n",
    "    # Step 2: Extract today's row (last row in the test table)\n",
    "    today_row = Clean_Data_Test[features].iloc[-1:]  # Keep it as DataFrame\n",
    "    \n",
    "    # Step 3: Apply the same scaler used during training\n",
    "    today_scaled = scaler.transform(today_row)\n",
    "    \n",
    "    # Step 4: Predict using the trained model\n",
    "    buy_prediction = model.predict(today_scaled)[0]\n",
    "    print(today_scaled)\n",
    "    buy_probability = model.predict_proba(today_scaled)[0][1]\n",
    "    \n",
    "    # Step 5: Print result\n",
    "    # print(\"🔮 Buy Prediction:\", \"Yes\" if buy_prediction == 1 else \"No\")\n",
    "    # print(f\"📊 Confidence: {buy_probability:.2%}\")\n",
    "    return {\n",
    "            \"Ticker\": ticker,\n",
    "            \"Buy\": \"Yes\" if buy_prediction == 1 else \"No\",\n",
    "            \"Confidence\": round(buy_probability * 100, 2)\n",
    "        }\n",
    "    \n",
    "    \n"
   ]
  },
  {
   "cell_type": "code",
   "execution_count": null,
   "id": "164c2aa0-9c38-4583-b141-046ce538d15d",
   "metadata": {},
   "outputs": [
    {
     "name": "stderr",
     "output_type": "stream",
     "text": [
      "C:\\Users\\PC\\AppData\\Local\\Temp\\ipykernel_2408\\1505815251.py:2: FutureWarning: YF.download() has changed argument auto_adjust default to True\n",
      "  Data=yf.download(tickers=ticker,period=\"5y\",interval=\"1d\",group_by=ticker)\n",
      "[*********************100%***********************]  1 of 1 completed\n",
      "C:\\Users\\PC\\AppData\\Local\\Programs\\Python\\Python310\\lib\\site-packages\\xgboost\\training.py:183: UserWarning: [15:54:28] WARNING: C:\\actions-runner\\_work\\xgboost\\xgboost\\src\\learner.cc:738: \n",
      "Parameters: { \"use_label_encoder\" } are not used.\n",
      "\n",
      "  bst.update(dtrain, iteration=i, fobj=obj)\n",
      "C:\\Users\\PC\\AppData\\Local\\Temp\\ipykernel_2408\\1505815251.py:229: FutureWarning: YF.download() has changed argument auto_adjust default to True\n",
      "  data_Test = yf.download(tickers=ticker, period=\"60d\", interval=\"1d\", group_by=\"ticker\")\n",
      "[*********************100%***********************]  1 of 1 completed\n"
     ]
    },
    {
     "name": "stdout",
     "output_type": "stream",
     "text": [
      "[[-0.12193056 -0.77934639 -0.23898925  1.19561926 -0.06048691 -0.17292763\n",
      "   0.39323543 -0.13924448 -0.32334178  0.30173865 -1.91737638]]\n"
     ]
    },
    {
     "name": "stderr",
     "output_type": "stream",
     "text": [
      "C:\\Users\\PC\\AppData\\Local\\Temp\\ipykernel_2408\\1505815251.py:2: FutureWarning: YF.download() has changed argument auto_adjust default to True\n",
      "  Data=yf.download(tickers=ticker,period=\"5y\",interval=\"1d\",group_by=ticker)\n",
      "[*********************100%***********************]  1 of 1 completed\n",
      "C:\\Users\\PC\\AppData\\Local\\Programs\\Python\\Python310\\lib\\site-packages\\xgboost\\training.py:183: UserWarning: [15:54:32] WARNING: C:\\actions-runner\\_work\\xgboost\\xgboost\\src\\learner.cc:738: \n",
      "Parameters: { \"use_label_encoder\" } are not used.\n",
      "\n",
      "  bst.update(dtrain, iteration=i, fobj=obj)\n",
      "C:\\Users\\PC\\AppData\\Local\\Temp\\ipykernel_2408\\1505815251.py:229: FutureWarning: YF.download() has changed argument auto_adjust default to True\n",
      "  data_Test = yf.download(tickers=ticker, period=\"60d\", interval=\"1d\", group_by=\"ticker\")\n",
      "[*********************100%***********************]  1 of 1 completed\n"
     ]
    },
    {
     "name": "stdout",
     "output_type": "stream",
     "text": [
      "[[ 0.15784844 -0.2112407   0.03270888 -0.38879431 -0.7731994   0.42156879\n",
      "   0.87379258 -0.01588008 -0.06743428  0.15892155 -1.4277479 ]]\n"
     ]
    },
    {
     "name": "stderr",
     "output_type": "stream",
     "text": [
      "C:\\Users\\PC\\AppData\\Local\\Temp\\ipykernel_2408\\1505815251.py:2: FutureWarning: YF.download() has changed argument auto_adjust default to True\n",
      "  Data=yf.download(tickers=ticker,period=\"5y\",interval=\"1d\",group_by=ticker)\n",
      "[*********************100%***********************]  1 of 1 completed\n",
      "C:\\Users\\PC\\AppData\\Local\\Programs\\Python\\Python310\\lib\\site-packages\\xgboost\\training.py:183: UserWarning: [15:54:35] WARNING: C:\\actions-runner\\_work\\xgboost\\xgboost\\src\\learner.cc:738: \n",
      "Parameters: { \"use_label_encoder\" } are not used.\n",
      "\n",
      "  bst.update(dtrain, iteration=i, fobj=obj)\n",
      "C:\\Users\\PC\\AppData\\Local\\Temp\\ipykernel_2408\\1505815251.py:229: FutureWarning: YF.download() has changed argument auto_adjust default to True\n",
      "  data_Test = yf.download(tickers=ticker, period=\"60d\", interval=\"1d\", group_by=\"ticker\")\n",
      "[*********************100%***********************]  1 of 1 completed\n"
     ]
    },
    {
     "name": "stdout",
     "output_type": "stream",
     "text": [
      "[[-0.82464902 -0.31449701 -0.6928568  -1.42354905  0.09173103 -1.43462837\n",
      "  -1.09662354 -0.85598928 -0.55813893 -0.75822109 -1.28098093]]\n"
     ]
    },
    {
     "name": "stderr",
     "output_type": "stream",
     "text": [
      "C:\\Users\\PC\\AppData\\Local\\Temp\\ipykernel_2408\\1505815251.py:2: FutureWarning: YF.download() has changed argument auto_adjust default to True\n",
      "  Data=yf.download(tickers=ticker,period=\"5y\",interval=\"1d\",group_by=ticker)\n",
      "[*********************100%***********************]  1 of 1 completed\n",
      "C:\\Users\\PC\\AppData\\Local\\Programs\\Python\\Python310\\lib\\site-packages\\xgboost\\training.py:183: UserWarning: [15:54:39] WARNING: C:\\actions-runner\\_work\\xgboost\\xgboost\\src\\learner.cc:738: \n",
      "Parameters: { \"use_label_encoder\" } are not used.\n",
      "\n",
      "  bst.update(dtrain, iteration=i, fobj=obj)\n",
      "C:\\Users\\PC\\AppData\\Local\\Temp\\ipykernel_2408\\1505815251.py:229: FutureWarning: YF.download() has changed argument auto_adjust default to True\n",
      "  data_Test = yf.download(tickers=ticker, period=\"60d\", interval=\"1d\", group_by=\"ticker\")\n",
      "[*********************100%***********************]  1 of 1 completed\n"
     ]
    },
    {
     "name": "stdout",
     "output_type": "stream",
     "text": [
      "[[-0.86812847 -0.92345174 -1.88000361  0.77769621 -0.10839944 -0.73437276\n",
      "  -0.03006346 -1.8800771  -0.81241504 -0.23500588 -2.46937505]]\n"
     ]
    },
    {
     "name": "stderr",
     "output_type": "stream",
     "text": [
      "C:\\Users\\PC\\AppData\\Local\\Temp\\ipykernel_2408\\1505815251.py:2: FutureWarning: YF.download() has changed argument auto_adjust default to True\n",
      "  Data=yf.download(tickers=ticker,period=\"5y\",interval=\"1d\",group_by=ticker)\n",
      "[*********************100%***********************]  1 of 1 completed\n",
      "C:\\Users\\PC\\AppData\\Local\\Programs\\Python\\Python310\\lib\\site-packages\\xgboost\\training.py:183: UserWarning: [15:54:42] WARNING: C:\\actions-runner\\_work\\xgboost\\xgboost\\src\\learner.cc:738: \n",
      "Parameters: { \"use_label_encoder\" } are not used.\n",
      "\n",
      "  bst.update(dtrain, iteration=i, fobj=obj)\n",
      "C:\\Users\\PC\\AppData\\Local\\Temp\\ipykernel_2408\\1505815251.py:229: FutureWarning: YF.download() has changed argument auto_adjust default to True\n",
      "  data_Test = yf.download(tickers=ticker, period=\"60d\", interval=\"1d\", group_by=\"ticker\")\n",
      "[*********************100%***********************]  1 of 1 completed\n"
     ]
    },
    {
     "name": "stdout",
     "output_type": "stream",
     "text": [
      "[[-2.12313859 -1.27947218 -2.31279674 -0.73606619 -0.89900966 -1.51224088\n",
      "  -1.40191882 -2.92009588 -1.85424228 -1.47782048 -0.53598736]]\n"
     ]
    },
    {
     "name": "stderr",
     "output_type": "stream",
     "text": [
      "C:\\Users\\PC\\AppData\\Local\\Temp\\ipykernel_2408\\1505815251.py:2: FutureWarning: YF.download() has changed argument auto_adjust default to True\n",
      "  Data=yf.download(tickers=ticker,period=\"5y\",interval=\"1d\",group_by=ticker)\n",
      "[*********************100%***********************]  1 of 1 completed\n",
      "C:\\Users\\PC\\AppData\\Local\\Programs\\Python\\Python310\\lib\\site-packages\\xgboost\\training.py:183: UserWarning: [15:54:46] WARNING: C:\\actions-runner\\_work\\xgboost\\xgboost\\src\\learner.cc:738: \n",
      "Parameters: { \"use_label_encoder\" } are not used.\n",
      "\n",
      "  bst.update(dtrain, iteration=i, fobj=obj)\n",
      "C:\\Users\\PC\\AppData\\Local\\Temp\\ipykernel_2408\\1505815251.py:229: FutureWarning: YF.download() has changed argument auto_adjust default to True\n",
      "  data_Test = yf.download(tickers=ticker, period=\"60d\", interval=\"1d\", group_by=\"ticker\")\n",
      "[*********************100%***********************]  1 of 1 completed\n"
     ]
    },
    {
     "name": "stdout",
     "output_type": "stream",
     "text": [
      "[[-1.68482172 -1.51859921 -2.25946638 -0.99525364  0.11417452 -1.97518249\n",
      "  -1.86192448 -2.32174446 -1.16829768 -0.78114105 -0.5888108 ]]\n"
     ]
    },
    {
     "name": "stderr",
     "output_type": "stream",
     "text": [
      "C:\\Users\\PC\\AppData\\Local\\Temp\\ipykernel_2408\\1505815251.py:2: FutureWarning: YF.download() has changed argument auto_adjust default to True\n",
      "  Data=yf.download(tickers=ticker,period=\"5y\",interval=\"1d\",group_by=ticker)\n",
      "[*********************100%***********************]  1 of 1 completed\n",
      "C:\\Users\\PC\\AppData\\Local\\Programs\\Python\\Python310\\lib\\site-packages\\xgboost\\training.py:183: UserWarning: [15:54:49] WARNING: C:\\actions-runner\\_work\\xgboost\\xgboost\\src\\learner.cc:738: \n",
      "Parameters: { \"use_label_encoder\" } are not used.\n",
      "\n",
      "  bst.update(dtrain, iteration=i, fobj=obj)\n",
      "C:\\Users\\PC\\AppData\\Local\\Temp\\ipykernel_2408\\1505815251.py:229: FutureWarning: YF.download() has changed argument auto_adjust default to True\n",
      "  data_Test = yf.download(tickers=ticker, period=\"60d\", interval=\"1d\", group_by=\"ticker\")\n",
      "[*********************100%***********************]  1 of 1 completed\n"
     ]
    },
    {
     "name": "stdout",
     "output_type": "stream",
     "text": [
      "[[-0.07788781  0.40035142  0.8304014  -1.41502959 -0.7636998   0.22964687\n",
      "   0.25754831  0.63796817 -0.09311796 -0.42743826 -0.07046214]]\n"
     ]
    },
    {
     "name": "stderr",
     "output_type": "stream",
     "text": [
      "C:\\Users\\PC\\AppData\\Local\\Temp\\ipykernel_2408\\1505815251.py:2: FutureWarning: YF.download() has changed argument auto_adjust default to True\n",
      "  Data=yf.download(tickers=ticker,period=\"5y\",interval=\"1d\",group_by=ticker)\n",
      "[*********************100%***********************]  1 of 1 completed\n",
      "C:\\Users\\PC\\AppData\\Local\\Programs\\Python\\Python310\\lib\\site-packages\\xgboost\\training.py:183: UserWarning: [15:54:53] WARNING: C:\\actions-runner\\_work\\xgboost\\xgboost\\src\\learner.cc:738: \n",
      "Parameters: { \"use_label_encoder\" } are not used.\n",
      "\n",
      "  bst.update(dtrain, iteration=i, fobj=obj)\n",
      "C:\\Users\\PC\\AppData\\Local\\Temp\\ipykernel_2408\\1505815251.py:229: FutureWarning: YF.download() has changed argument auto_adjust default to True\n",
      "  data_Test = yf.download(tickers=ticker, period=\"60d\", interval=\"1d\", group_by=\"ticker\")\n",
      "[*********************100%***********************]  1 of 1 completed\n"
     ]
    },
    {
     "name": "stdout",
     "output_type": "stream",
     "text": [
      "[[ 0.42903338  0.35068164  0.44628358 -0.64452928 -0.0736167   0.81231781\n",
      "   1.02334062  0.57025389  0.2684548   0.30956111 -0.6138752 ]]\n"
     ]
    },
    {
     "name": "stderr",
     "output_type": "stream",
     "text": [
      "C:\\Users\\PC\\AppData\\Local\\Temp\\ipykernel_2408\\1505815251.py:2: FutureWarning: YF.download() has changed argument auto_adjust default to True\n",
      "  Data=yf.download(tickers=ticker,period=\"5y\",interval=\"1d\",group_by=ticker)\n",
      "[*********************100%***********************]  1 of 1 completed\n",
      "C:\\Users\\PC\\AppData\\Local\\Programs\\Python\\Python310\\lib\\site-packages\\xgboost\\training.py:183: UserWarning: [15:54:57] WARNING: C:\\actions-runner\\_work\\xgboost\\xgboost\\src\\learner.cc:738: \n",
      "Parameters: { \"use_label_encoder\" } are not used.\n",
      "\n",
      "  bst.update(dtrain, iteration=i, fobj=obj)\n",
      "C:\\Users\\PC\\AppData\\Local\\Temp\\ipykernel_2408\\1505815251.py:229: FutureWarning: YF.download() has changed argument auto_adjust default to True\n",
      "  data_Test = yf.download(tickers=ticker, period=\"60d\", interval=\"1d\", group_by=\"ticker\")\n",
      "[*********************100%***********************]  1 of 1 completed\n"
     ]
    },
    {
     "name": "stdout",
     "output_type": "stream",
     "text": [
      "[[ 2.02249753  2.40805537  1.69409016  0.51453328 -0.47540962  1.48203124\n",
      "   1.45028823  1.65473163  2.20704637  1.6132545   0.26109902]]\n"
     ]
    },
    {
     "name": "stderr",
     "output_type": "stream",
     "text": [
      "C:\\Users\\PC\\AppData\\Local\\Temp\\ipykernel_2408\\1505815251.py:2: FutureWarning: YF.download() has changed argument auto_adjust default to True\n",
      "  Data=yf.download(tickers=ticker,period=\"5y\",interval=\"1d\",group_by=ticker)\n",
      "[*********************100%***********************]  1 of 1 completed\n",
      "C:\\Users\\PC\\AppData\\Local\\Programs\\Python\\Python310\\lib\\site-packages\\xgboost\\training.py:183: UserWarning: [15:54:59] WARNING: C:\\actions-runner\\_work\\xgboost\\xgboost\\src\\learner.cc:738: \n",
      "Parameters: { \"use_label_encoder\" } are not used.\n",
      "\n",
      "  bst.update(dtrain, iteration=i, fobj=obj)\n",
      "C:\\Users\\PC\\AppData\\Local\\Temp\\ipykernel_2408\\1505815251.py:229: FutureWarning: YF.download() has changed argument auto_adjust default to True\n",
      "  data_Test = yf.download(tickers=ticker, period=\"60d\", interval=\"1d\", group_by=\"ticker\")\n",
      "[*********************100%***********************]  1 of 1 completed\n"
     ]
    },
    {
     "name": "stdout",
     "output_type": "stream",
     "text": [
      "[[-0.91834128 -0.66163522 -0.87669008 -1.09909647 -0.3813654  -1.56532629\n",
      "  -1.75083097 -0.80061457 -0.52514258 -0.61761392  0.42565209]]\n"
     ]
    },
    {
     "name": "stderr",
     "output_type": "stream",
     "text": [
      "C:\\Users\\PC\\AppData\\Local\\Temp\\ipykernel_2408\\1505815251.py:2: FutureWarning: YF.download() has changed argument auto_adjust default to True\n",
      "  Data=yf.download(tickers=ticker,period=\"5y\",interval=\"1d\",group_by=ticker)\n",
      "[*********************100%***********************]  1 of 1 completed\n",
      "C:\\Users\\PC\\AppData\\Local\\Programs\\Python\\Python310\\lib\\site-packages\\xgboost\\training.py:183: UserWarning: [15:55:02] WARNING: C:\\actions-runner\\_work\\xgboost\\xgboost\\src\\learner.cc:738: \n",
      "Parameters: { \"use_label_encoder\" } are not used.\n",
      "\n",
      "  bst.update(dtrain, iteration=i, fobj=obj)\n",
      "C:\\Users\\PC\\AppData\\Local\\Temp\\ipykernel_2408\\1505815251.py:229: FutureWarning: YF.download() has changed argument auto_adjust default to True\n",
      "  data_Test = yf.download(tickers=ticker, period=\"60d\", interval=\"1d\", group_by=\"ticker\")\n",
      "[*********************100%***********************]  1 of 1 completed\n"
     ]
    },
    {
     "name": "stdout",
     "output_type": "stream",
     "text": [
      "[[-0.10691828 -0.07639921  0.14604814 -1.14741492 -0.61021349 -0.197824\n",
      "  -0.02253457  0.24904516 -0.22733045 -0.29122307 -0.62294688]]\n"
     ]
    },
    {
     "name": "stderr",
     "output_type": "stream",
     "text": [
      "C:\\Users\\PC\\AppData\\Local\\Temp\\ipykernel_2408\\1505815251.py:2: FutureWarning: YF.download() has changed argument auto_adjust default to True\n",
      "  Data=yf.download(tickers=ticker,period=\"5y\",interval=\"1d\",group_by=ticker)\n",
      "[*********************100%***********************]  1 of 1 completed\n",
      "C:\\Users\\PC\\AppData\\Local\\Programs\\Python\\Python310\\lib\\site-packages\\xgboost\\training.py:183: UserWarning: [15:55:06] WARNING: C:\\actions-runner\\_work\\xgboost\\xgboost\\src\\learner.cc:738: \n",
      "Parameters: { \"use_label_encoder\" } are not used.\n",
      "\n",
      "  bst.update(dtrain, iteration=i, fobj=obj)\n",
      "C:\\Users\\PC\\AppData\\Local\\Temp\\ipykernel_2408\\1505815251.py:229: FutureWarning: YF.download() has changed argument auto_adjust default to True\n",
      "  data_Test = yf.download(tickers=ticker, period=\"60d\", interval=\"1d\", group_by=\"ticker\")\n",
      "[*********************100%***********************]  1 of 1 completed\n"
     ]
    },
    {
     "name": "stdout",
     "output_type": "stream",
     "text": [
      "[[-1.09997978 -2.85199187 -1.02326198  1.08238805  1.42561159 -1.57843905\n",
      "  -0.61404146 -1.00034033 -1.08272393 -0.43014081 -3.30770315]]\n"
     ]
    },
    {
     "name": "stderr",
     "output_type": "stream",
     "text": [
      "C:\\Users\\PC\\AppData\\Local\\Temp\\ipykernel_2408\\1505815251.py:2: FutureWarning: YF.download() has changed argument auto_adjust default to True\n",
      "  Data=yf.download(tickers=ticker,period=\"5y\",interval=\"1d\",group_by=ticker)\n",
      "[*********************100%***********************]  1 of 1 completed\n",
      "C:\\Users\\PC\\AppData\\Local\\Programs\\Python\\Python310\\lib\\site-packages\\xgboost\\training.py:183: UserWarning: [15:55:10] WARNING: C:\\actions-runner\\_work\\xgboost\\xgboost\\src\\learner.cc:738: \n",
      "Parameters: { \"use_label_encoder\" } are not used.\n",
      "\n",
      "  bst.update(dtrain, iteration=i, fobj=obj)\n",
      "C:\\Users\\PC\\AppData\\Local\\Temp\\ipykernel_2408\\1505815251.py:229: FutureWarning: YF.download() has changed argument auto_adjust default to True\n",
      "  data_Test = yf.download(tickers=ticker, period=\"60d\", interval=\"1d\", group_by=\"ticker\")\n",
      "[*********************100%***********************]  1 of 1 completed\n"
     ]
    },
    {
     "name": "stdout",
     "output_type": "stream",
     "text": [
      "[[-0.46941108 -0.1373815  -0.52351322 -1.34816209  0.84613166 -0.01031837\n",
      "   0.40005213 -0.45233036 -0.42998085 -0.32661567 -1.43572463]]\n"
     ]
    },
    {
     "name": "stderr",
     "output_type": "stream",
     "text": [
      "C:\\Users\\PC\\AppData\\Local\\Temp\\ipykernel_2408\\1505815251.py:2: FutureWarning: YF.download() has changed argument auto_adjust default to True\n",
      "  Data=yf.download(tickers=ticker,period=\"5y\",interval=\"1d\",group_by=ticker)\n",
      "[*********************100%***********************]  1 of 1 completed\n",
      "C:\\Users\\PC\\AppData\\Local\\Programs\\Python\\Python310\\lib\\site-packages\\xgboost\\training.py:183: UserWarning: [15:55:13] WARNING: C:\\actions-runner\\_work\\xgboost\\xgboost\\src\\learner.cc:738: \n",
      "Parameters: { \"use_label_encoder\" } are not used.\n",
      "\n",
      "  bst.update(dtrain, iteration=i, fobj=obj)\n",
      "C:\\Users\\PC\\AppData\\Local\\Temp\\ipykernel_2408\\1505815251.py:229: FutureWarning: YF.download() has changed argument auto_adjust default to True\n",
      "  data_Test = yf.download(tickers=ticker, period=\"60d\", interval=\"1d\", group_by=\"ticker\")\n",
      "[*********************100%***********************]  1 of 1 completed\n"
     ]
    },
    {
     "name": "stdout",
     "output_type": "stream",
     "text": [
      "[[ 0.34655198  0.50612941  0.2669144   1.01786212 -0.97729524  0.29399666\n",
      "   0.73661101  0.30941521  0.19985081  0.30098319 -1.56173997]]\n"
     ]
    },
    {
     "name": "stderr",
     "output_type": "stream",
     "text": [
      "C:\\Users\\PC\\AppData\\Local\\Temp\\ipykernel_2408\\1505815251.py:2: FutureWarning: YF.download() has changed argument auto_adjust default to True\n",
      "  Data=yf.download(tickers=ticker,period=\"5y\",interval=\"1d\",group_by=ticker)\n",
      "[*********************100%***********************]  1 of 1 completed\n",
      "C:\\Users\\PC\\AppData\\Local\\Programs\\Python\\Python310\\lib\\site-packages\\xgboost\\training.py:183: UserWarning: [15:55:16] WARNING: C:\\actions-runner\\_work\\xgboost\\xgboost\\src\\learner.cc:738: \n",
      "Parameters: { \"use_label_encoder\" } are not used.\n",
      "\n",
      "  bst.update(dtrain, iteration=i, fobj=obj)\n",
      "C:\\Users\\PC\\AppData\\Local\\Temp\\ipykernel_2408\\1505815251.py:229: FutureWarning: YF.download() has changed argument auto_adjust default to True\n",
      "  data_Test = yf.download(tickers=ticker, period=\"60d\", interval=\"1d\", group_by=\"ticker\")\n",
      "[*********************100%***********************]  1 of 1 completed\n"
     ]
    },
    {
     "name": "stdout",
     "output_type": "stream",
     "text": [
      "[[-0.31906434 -0.4136547  -0.777775   -1.70045475  0.07556595 -0.15002747\n",
      "  -0.3819326  -0.69610611 -0.28841902 -0.23792895  0.73572216]]\n"
     ]
    },
    {
     "name": "stderr",
     "output_type": "stream",
     "text": [
      "C:\\Users\\PC\\AppData\\Local\\Temp\\ipykernel_2408\\1505815251.py:2: FutureWarning: YF.download() has changed argument auto_adjust default to True\n",
      "  Data=yf.download(tickers=ticker,period=\"5y\",interval=\"1d\",group_by=ticker)\n",
      "[*********************100%***********************]  1 of 1 completed\n",
      "C:\\Users\\PC\\AppData\\Local\\Programs\\Python\\Python310\\lib\\site-packages\\xgboost\\training.py:183: UserWarning: [15:55:20] WARNING: C:\\actions-runner\\_work\\xgboost\\xgboost\\src\\learner.cc:738: \n",
      "Parameters: { \"use_label_encoder\" } are not used.\n",
      "\n",
      "  bst.update(dtrain, iteration=i, fobj=obj)\n",
      "C:\\Users\\PC\\AppData\\Local\\Temp\\ipykernel_2408\\1505815251.py:229: FutureWarning: YF.download() has changed argument auto_adjust default to True\n",
      "  data_Test = yf.download(tickers=ticker, period=\"60d\", interval=\"1d\", group_by=\"ticker\")\n",
      "[*********************100%***********************]  1 of 1 completed\n"
     ]
    },
    {
     "name": "stdout",
     "output_type": "stream",
     "text": [
      "[[-1.56769816 -2.31649902 -2.22766615  0.36235838  0.61311103 -1.68930203\n",
      "  -1.68162145 -2.50470552 -1.38899772 -0.7622741  -0.20066821]]\n"
     ]
    },
    {
     "name": "stderr",
     "output_type": "stream",
     "text": [
      "C:\\Users\\PC\\AppData\\Local\\Temp\\ipykernel_2408\\1505815251.py:2: FutureWarning: YF.download() has changed argument auto_adjust default to True\n",
      "  Data=yf.download(tickers=ticker,period=\"5y\",interval=\"1d\",group_by=ticker)\n",
      "[*********************100%***********************]  1 of 1 completed\n",
      "C:\\Users\\PC\\AppData\\Local\\Programs\\Python\\Python310\\lib\\site-packages\\xgboost\\training.py:183: UserWarning: [15:55:23] WARNING: C:\\actions-runner\\_work\\xgboost\\xgboost\\src\\learner.cc:738: \n",
      "Parameters: { \"use_label_encoder\" } are not used.\n",
      "\n",
      "  bst.update(dtrain, iteration=i, fobj=obj)\n",
      "C:\\Users\\PC\\AppData\\Local\\Temp\\ipykernel_2408\\1505815251.py:229: FutureWarning: YF.download() has changed argument auto_adjust default to True\n",
      "  data_Test = yf.download(tickers=ticker, period=\"60d\", interval=\"1d\", group_by=\"ticker\")\n",
      "[*********************100%***********************]  1 of 1 completed\n"
     ]
    },
    {
     "name": "stdout",
     "output_type": "stream",
     "text": [
      "[[-0.14584056  0.7456229   0.87452786 -1.41350881  0.38549024 -0.19128479\n",
      "  -0.31773716  1.10545398 -0.13328375 -0.80279271  0.4568461 ]]\n"
     ]
    },
    {
     "name": "stderr",
     "output_type": "stream",
     "text": [
      "C:\\Users\\PC\\AppData\\Local\\Temp\\ipykernel_2408\\1505815251.py:2: FutureWarning: YF.download() has changed argument auto_adjust default to True\n",
      "  Data=yf.download(tickers=ticker,period=\"5y\",interval=\"1d\",group_by=ticker)\n",
      "[*********************100%***********************]  1 of 1 completed\n",
      "C:\\Users\\PC\\AppData\\Local\\Programs\\Python\\Python310\\lib\\site-packages\\xgboost\\training.py:183: UserWarning: [15:55:27] WARNING: C:\\actions-runner\\_work\\xgboost\\xgboost\\src\\learner.cc:738: \n",
      "Parameters: { \"use_label_encoder\" } are not used.\n",
      "\n",
      "  bst.update(dtrain, iteration=i, fobj=obj)\n",
      "C:\\Users\\PC\\AppData\\Local\\Temp\\ipykernel_2408\\1505815251.py:229: FutureWarning: YF.download() has changed argument auto_adjust default to True\n",
      "  data_Test = yf.download(tickers=ticker, period=\"60d\", interval=\"1d\", group_by=\"ticker\")\n",
      "[*********************100%***********************]  1 of 1 completed\n"
     ]
    },
    {
     "name": "stdout",
     "output_type": "stream",
     "text": [
      "[[ 1.65536674e-01  1.12676385e+00  7.90944028e-01 -1.09211175e+00\n",
      "   7.69121831e-04  1.02966157e+00  1.23374166e+00  8.48050986e-01\n",
      "   5.54820048e-03 -4.81481822e-01 -6.27385237e-01]]\n"
     ]
    },
    {
     "name": "stderr",
     "output_type": "stream",
     "text": [
      "C:\\Users\\PC\\AppData\\Local\\Temp\\ipykernel_2408\\1505815251.py:2: FutureWarning: YF.download() has changed argument auto_adjust default to True\n",
      "  Data=yf.download(tickers=ticker,period=\"5y\",interval=\"1d\",group_by=ticker)\n",
      "[*********************100%***********************]  1 of 1 completed\n",
      "C:\\Users\\PC\\AppData\\Local\\Programs\\Python\\Python310\\lib\\site-packages\\xgboost\\training.py:183: UserWarning: [15:55:30] WARNING: C:\\actions-runner\\_work\\xgboost\\xgboost\\src\\learner.cc:738: \n",
      "Parameters: { \"use_label_encoder\" } are not used.\n",
      "\n",
      "  bst.update(dtrain, iteration=i, fobj=obj)\n",
      "C:\\Users\\PC\\AppData\\Local\\Temp\\ipykernel_2408\\1505815251.py:229: FutureWarning: YF.download() has changed argument auto_adjust default to True\n",
      "  data_Test = yf.download(tickers=ticker, period=\"60d\", interval=\"1d\", group_by=\"ticker\")\n",
      "[*********************100%***********************]  1 of 1 completed\n"
     ]
    },
    {
     "name": "stdout",
     "output_type": "stream",
     "text": [
      "[[-1.29902435 -2.41876874 -1.16056322  0.03310958  0.38918373 -1.71168256\n",
      "  -1.85509265 -1.15510954 -1.27848496 -0.97007105  0.3417671 ]]\n"
     ]
    },
    {
     "name": "stderr",
     "output_type": "stream",
     "text": [
      "C:\\Users\\PC\\AppData\\Local\\Temp\\ipykernel_2408\\1505815251.py:2: FutureWarning: YF.download() has changed argument auto_adjust default to True\n",
      "  Data=yf.download(tickers=ticker,period=\"5y\",interval=\"1d\",group_by=ticker)\n",
      "[*********************100%***********************]  1 of 1 completed\n",
      "C:\\Users\\PC\\AppData\\Local\\Programs\\Python\\Python310\\lib\\site-packages\\xgboost\\training.py:183: UserWarning: [15:55:38] WARNING: C:\\actions-runner\\_work\\xgboost\\xgboost\\src\\learner.cc:738: \n",
      "Parameters: { \"use_label_encoder\" } are not used.\n",
      "\n",
      "  bst.update(dtrain, iteration=i, fobj=obj)\n",
      "C:\\Users\\PC\\AppData\\Local\\Temp\\ipykernel_2408\\1505815251.py:229: FutureWarning: YF.download() has changed argument auto_adjust default to True\n",
      "  data_Test = yf.download(tickers=ticker, period=\"60d\", interval=\"1d\", group_by=\"ticker\")\n",
      "[*********************100%***********************]  1 of 1 completed\n"
     ]
    },
    {
     "name": "stdout",
     "output_type": "stream",
     "text": [
      "[[-0.40160624 -0.23061767 -0.43140818 -1.20962314 -0.23983463 -0.77275805\n",
      "  -1.20568166 -0.60873728 -0.26481843 -0.41932245  1.35787236]]\n"
     ]
    },
    {
     "name": "stderr",
     "output_type": "stream",
     "text": [
      "C:\\Users\\PC\\AppData\\Local\\Temp\\ipykernel_2408\\1505815251.py:2: FutureWarning: YF.download() has changed argument auto_adjust default to True\n",
      "  Data=yf.download(tickers=ticker,period=\"5y\",interval=\"1d\",group_by=ticker)\n",
      "[*********************100%***********************]  1 of 1 completed\n",
      "C:\\Users\\PC\\AppData\\Local\\Programs\\Python\\Python310\\lib\\site-packages\\xgboost\\training.py:183: UserWarning: [15:55:42] WARNING: C:\\actions-runner\\_work\\xgboost\\xgboost\\src\\learner.cc:738: \n",
      "Parameters: { \"use_label_encoder\" } are not used.\n",
      "\n",
      "  bst.update(dtrain, iteration=i, fobj=obj)\n",
      "C:\\Users\\PC\\AppData\\Local\\Temp\\ipykernel_2408\\1505815251.py:229: FutureWarning: YF.download() has changed argument auto_adjust default to True\n",
      "  data_Test = yf.download(tickers=ticker, period=\"60d\", interval=\"1d\", group_by=\"ticker\")\n",
      "[*********************100%***********************]  1 of 1 completed\n"
     ]
    },
    {
     "name": "stdout",
     "output_type": "stream",
     "text": [
      "[[ 1.2197363   0.90228766  0.53162932  1.26336979  0.58938137  1.1085558\n",
      "   1.2734413   0.44121073  0.65381846  0.60288341 -0.42949335]]\n"
     ]
    },
    {
     "name": "stderr",
     "output_type": "stream",
     "text": [
      "C:\\Users\\PC\\AppData\\Local\\Temp\\ipykernel_2408\\1505815251.py:2: FutureWarning: YF.download() has changed argument auto_adjust default to True\n",
      "  Data=yf.download(tickers=ticker,period=\"5y\",interval=\"1d\",group_by=ticker)\n",
      "[*********************100%***********************]  1 of 1 completed\n",
      "C:\\Users\\PC\\AppData\\Local\\Programs\\Python\\Python310\\lib\\site-packages\\xgboost\\training.py:183: UserWarning: [15:55:46] WARNING: C:\\actions-runner\\_work\\xgboost\\xgboost\\src\\learner.cc:738: \n",
      "Parameters: { \"use_label_encoder\" } are not used.\n",
      "\n",
      "  bst.update(dtrain, iteration=i, fobj=obj)\n",
      "C:\\Users\\PC\\AppData\\Local\\Temp\\ipykernel_2408\\1505815251.py:229: FutureWarning: YF.download() has changed argument auto_adjust default to True\n",
      "  data_Test = yf.download(tickers=ticker, period=\"60d\", interval=\"1d\", group_by=\"ticker\")\n",
      "[*********************100%***********************]  1 of 1 completed\n"
     ]
    },
    {
     "name": "stdout",
     "output_type": "stream",
     "text": [
      "[[-0.04184717  0.84510905  0.38905539 -1.12165007  0.12449008  0.82936802\n",
      "   1.00769749  0.42100905 -0.0918318  -0.57187069 -0.50452102]]\n"
     ]
    },
    {
     "name": "stderr",
     "output_type": "stream",
     "text": [
      "C:\\Users\\PC\\AppData\\Local\\Temp\\ipykernel_2408\\1505815251.py:2: FutureWarning: YF.download() has changed argument auto_adjust default to True\n",
      "  Data=yf.download(tickers=ticker,period=\"5y\",interval=\"1d\",group_by=ticker)\n",
      "[*********************100%***********************]  1 of 1 completed\n",
      "C:\\Users\\PC\\AppData\\Local\\Programs\\Python\\Python310\\lib\\site-packages\\xgboost\\training.py:183: UserWarning: [15:55:50] WARNING: C:\\actions-runner\\_work\\xgboost\\xgboost\\src\\learner.cc:738: \n",
      "Parameters: { \"use_label_encoder\" } are not used.\n",
      "\n",
      "  bst.update(dtrain, iteration=i, fobj=obj)\n",
      "C:\\Users\\PC\\AppData\\Local\\Temp\\ipykernel_2408\\1505815251.py:229: FutureWarning: YF.download() has changed argument auto_adjust default to True\n",
      "  data_Test = yf.download(tickers=ticker, period=\"60d\", interval=\"1d\", group_by=\"ticker\")\n",
      "[*********************100%***********************]  1 of 1 completed\n"
     ]
    },
    {
     "name": "stdout",
     "output_type": "stream",
     "text": [
      "[[-0.11951791 -0.20149321  0.04873309 -0.47915407 -0.70343501 -0.52209257\n",
      "  -0.18827411 -0.03029631 -0.16264676 -0.17268137 -1.18278609]]\n"
     ]
    },
    {
     "name": "stderr",
     "output_type": "stream",
     "text": [
      "C:\\Users\\PC\\AppData\\Local\\Temp\\ipykernel_2408\\1505815251.py:2: FutureWarning: YF.download() has changed argument auto_adjust default to True\n",
      "  Data=yf.download(tickers=ticker,period=\"5y\",interval=\"1d\",group_by=ticker)\n",
      "[*********************100%***********************]  1 of 1 completed\n",
      "C:\\Users\\PC\\AppData\\Local\\Programs\\Python\\Python310\\lib\\site-packages\\xgboost\\training.py:183: UserWarning: [15:55:54] WARNING: C:\\actions-runner\\_work\\xgboost\\xgboost\\src\\learner.cc:738: \n",
      "Parameters: { \"use_label_encoder\" } are not used.\n",
      "\n",
      "  bst.update(dtrain, iteration=i, fobj=obj)\n",
      "C:\\Users\\PC\\AppData\\Local\\Temp\\ipykernel_2408\\1505815251.py:229: FutureWarning: YF.download() has changed argument auto_adjust default to True\n",
      "  data_Test = yf.download(tickers=ticker, period=\"60d\", interval=\"1d\", group_by=\"ticker\")\n",
      "[*********************100%***********************]  1 of 1 completed\n"
     ]
    },
    {
     "name": "stdout",
     "output_type": "stream",
     "text": [
      "[[ 0.28005821  0.1602478   0.31987657 -0.31536248  0.03902144  0.20316131\n",
      "   0.41885022  0.26954028  0.0051671  -0.08020426 -0.67134485]]\n"
     ]
    },
    {
     "name": "stderr",
     "output_type": "stream",
     "text": [
      "C:\\Users\\PC\\AppData\\Local\\Temp\\ipykernel_2408\\1505815251.py:2: FutureWarning: YF.download() has changed argument auto_adjust default to True\n",
      "  Data=yf.download(tickers=ticker,period=\"5y\",interval=\"1d\",group_by=ticker)\n",
      "[*********************100%***********************]  1 of 1 completed\n",
      "C:\\Users\\PC\\AppData\\Local\\Programs\\Python\\Python310\\lib\\site-packages\\xgboost\\training.py:183: UserWarning: [15:55:57] WARNING: C:\\actions-runner\\_work\\xgboost\\xgboost\\src\\learner.cc:738: \n",
      "Parameters: { \"use_label_encoder\" } are not used.\n",
      "\n",
      "  bst.update(dtrain, iteration=i, fobj=obj)\n",
      "C:\\Users\\PC\\AppData\\Local\\Temp\\ipykernel_2408\\1505815251.py:229: FutureWarning: YF.download() has changed argument auto_adjust default to True\n",
      "  data_Test = yf.download(tickers=ticker, period=\"60d\", interval=\"1d\", group_by=\"ticker\")\n",
      "[*********************100%***********************]  1 of 1 completed\n"
     ]
    },
    {
     "name": "stdout",
     "output_type": "stream",
     "text": [
      "[[-1.05236942 -1.26681014 -2.28196626  0.308894   -0.38356249 -1.27359208\n",
      "  -0.59796895 -2.59729041 -1.01119918 -0.31274559 -2.49028258]]\n"
     ]
    },
    {
     "name": "stderr",
     "output_type": "stream",
     "text": [
      "C:\\Users\\PC\\AppData\\Local\\Temp\\ipykernel_2408\\1505815251.py:2: FutureWarning: YF.download() has changed argument auto_adjust default to True\n",
      "  Data=yf.download(tickers=ticker,period=\"5y\",interval=\"1d\",group_by=ticker)\n",
      "[*********************100%***********************]  1 of 1 completed\n",
      "C:\\Users\\PC\\AppData\\Local\\Programs\\Python\\Python310\\lib\\site-packages\\xgboost\\training.py:183: UserWarning: [15:56:01] WARNING: C:\\actions-runner\\_work\\xgboost\\xgboost\\src\\learner.cc:738: \n",
      "Parameters: { \"use_label_encoder\" } are not used.\n",
      "\n",
      "  bst.update(dtrain, iteration=i, fobj=obj)\n",
      "C:\\Users\\PC\\AppData\\Local\\Temp\\ipykernel_2408\\1505815251.py:229: FutureWarning: YF.download() has changed argument auto_adjust default to True\n",
      "  data_Test = yf.download(tickers=ticker, period=\"60d\", interval=\"1d\", group_by=\"ticker\")\n",
      "[*********************100%***********************]  1 of 1 completed\n"
     ]
    },
    {
     "name": "stdout",
     "output_type": "stream",
     "text": [
      "[[-1.02810268 -0.11442723 -0.88078959 -1.30986986 -0.50387214 -0.27082216\n",
      "   0.57597966 -0.74902472 -0.5884347  -0.57878964 -2.95470242]]\n"
     ]
    },
    {
     "name": "stderr",
     "output_type": "stream",
     "text": [
      "C:\\Users\\PC\\AppData\\Local\\Temp\\ipykernel_2408\\1505815251.py:2: FutureWarning: YF.download() has changed argument auto_adjust default to True\n",
      "  Data=yf.download(tickers=ticker,period=\"5y\",interval=\"1d\",group_by=ticker)\n",
      "[*********************100%***********************]  1 of 1 completed\n",
      "C:\\Users\\PC\\AppData\\Local\\Programs\\Python\\Python310\\lib\\site-packages\\xgboost\\training.py:183: UserWarning: [15:56:05] WARNING: C:\\actions-runner\\_work\\xgboost\\xgboost\\src\\learner.cc:738: \n",
      "Parameters: { \"use_label_encoder\" } are not used.\n",
      "\n",
      "  bst.update(dtrain, iteration=i, fobj=obj)\n",
      "C:\\Users\\PC\\AppData\\Local\\Temp\\ipykernel_2408\\1505815251.py:229: FutureWarning: YF.download() has changed argument auto_adjust default to True\n",
      "  data_Test = yf.download(tickers=ticker, period=\"60d\", interval=\"1d\", group_by=\"ticker\")\n",
      "[*********************100%***********************]  1 of 1 completed\n"
     ]
    },
    {
     "name": "stdout",
     "output_type": "stream",
     "text": [
      "[[ 0.64367513 -0.02806348  0.7458434  -0.49866188 -1.91735662 -0.10422979\n",
      "  -0.47744362  0.69325907  0.37434614  0.42239294  1.25202677]]\n"
     ]
    },
    {
     "name": "stderr",
     "output_type": "stream",
     "text": [
      "C:\\Users\\PC\\AppData\\Local\\Temp\\ipykernel_2408\\1505815251.py:2: FutureWarning: YF.download() has changed argument auto_adjust default to True\n",
      "  Data=yf.download(tickers=ticker,period=\"5y\",interval=\"1d\",group_by=ticker)\n",
      "[*********************100%***********************]  1 of 1 completed\n",
      "C:\\Users\\PC\\AppData\\Local\\Programs\\Python\\Python310\\lib\\site-packages\\xgboost\\training.py:183: UserWarning: [15:56:08] WARNING: C:\\actions-runner\\_work\\xgboost\\xgboost\\src\\learner.cc:738: \n",
      "Parameters: { \"use_label_encoder\" } are not used.\n",
      "\n",
      "  bst.update(dtrain, iteration=i, fobj=obj)\n",
      "C:\\Users\\PC\\AppData\\Local\\Temp\\ipykernel_2408\\1505815251.py:229: FutureWarning: YF.download() has changed argument auto_adjust default to True\n",
      "  data_Test = yf.download(tickers=ticker, period=\"60d\", interval=\"1d\", group_by=\"ticker\")\n",
      "[*********************100%***********************]  1 of 1 completed\n"
     ]
    },
    {
     "name": "stdout",
     "output_type": "stream",
     "text": [
      "[[-0.43927269 -0.00574373 -0.40851693 -1.27539695  0.02311614 -0.19826205\n",
      "   0.1425903  -0.50156986 -0.33830742 -0.40766273 -1.2375592 ]]\n"
     ]
    },
    {
     "name": "stderr",
     "output_type": "stream",
     "text": [
      "C:\\Users\\PC\\AppData\\Local\\Temp\\ipykernel_2408\\1505815251.py:2: FutureWarning: YF.download() has changed argument auto_adjust default to True\n",
      "  Data=yf.download(tickers=ticker,period=\"5y\",interval=\"1d\",group_by=ticker)\n",
      "[*********************100%***********************]  1 of 1 completed\n",
      "C:\\Users\\PC\\AppData\\Local\\Programs\\Python\\Python310\\lib\\site-packages\\xgboost\\training.py:183: UserWarning: [15:56:12] WARNING: C:\\actions-runner\\_work\\xgboost\\xgboost\\src\\learner.cc:738: \n",
      "Parameters: { \"use_label_encoder\" } are not used.\n",
      "\n",
      "  bst.update(dtrain, iteration=i, fobj=obj)\n",
      "C:\\Users\\PC\\AppData\\Local\\Temp\\ipykernel_2408\\1505815251.py:229: FutureWarning: YF.download() has changed argument auto_adjust default to True\n",
      "  data_Test = yf.download(tickers=ticker, period=\"60d\", interval=\"1d\", group_by=\"ticker\")\n",
      "[*********************100%***********************]  1 of 1 completed\n"
     ]
    },
    {
     "name": "stdout",
     "output_type": "stream",
     "text": [
      "[[-0.53454171 -0.98846191 -0.60728379 -0.47807257 -0.11783452 -1.06698576\n",
      "  -0.56109436 -0.4246482  -0.47167637 -0.20246802 -1.85853296]]\n"
     ]
    },
    {
     "name": "stderr",
     "output_type": "stream",
     "text": [
      "C:\\Users\\PC\\AppData\\Local\\Temp\\ipykernel_2408\\1505815251.py:2: FutureWarning: YF.download() has changed argument auto_adjust default to True\n",
      "  Data=yf.download(tickers=ticker,period=\"5y\",interval=\"1d\",group_by=ticker)\n",
      "[*********************100%***********************]  1 of 1 completed\n",
      "C:\\Users\\PC\\AppData\\Local\\Programs\\Python\\Python310\\lib\\site-packages\\xgboost\\training.py:183: UserWarning: [15:56:16] WARNING: C:\\actions-runner\\_work\\xgboost\\xgboost\\src\\learner.cc:738: \n",
      "Parameters: { \"use_label_encoder\" } are not used.\n",
      "\n",
      "  bst.update(dtrain, iteration=i, fobj=obj)\n",
      "C:\\Users\\PC\\AppData\\Local\\Temp\\ipykernel_2408\\1505815251.py:229: FutureWarning: YF.download() has changed argument auto_adjust default to True\n",
      "  data_Test = yf.download(tickers=ticker, period=\"60d\", interval=\"1d\", group_by=\"ticker\")\n",
      "[*********************100%***********************]  1 of 1 completed\n"
     ]
    },
    {
     "name": "stdout",
     "output_type": "stream",
     "text": [
      "[[-0.15461232 -0.86402316 -0.3129784   0.4003575   0.49306405 -1.14874028\n",
      "  -0.68413043 -0.35922415 -0.23551079 -0.18921524 -1.75190149]]\n"
     ]
    },
    {
     "name": "stderr",
     "output_type": "stream",
     "text": [
      "C:\\Users\\PC\\AppData\\Local\\Temp\\ipykernel_2408\\1505815251.py:2: FutureWarning: YF.download() has changed argument auto_adjust default to True\n",
      "  Data=yf.download(tickers=ticker,period=\"5y\",interval=\"1d\",group_by=ticker)\n",
      "[*********************100%***********************]  1 of 1 completed\n",
      "C:\\Users\\PC\\AppData\\Local\\Programs\\Python\\Python310\\lib\\site-packages\\xgboost\\training.py:183: UserWarning: [15:56:19] WARNING: C:\\actions-runner\\_work\\xgboost\\xgboost\\src\\learner.cc:738: \n",
      "Parameters: { \"use_label_encoder\" } are not used.\n",
      "\n",
      "  bst.update(dtrain, iteration=i, fobj=obj)\n",
      "C:\\Users\\PC\\AppData\\Local\\Temp\\ipykernel_2408\\1505815251.py:229: FutureWarning: YF.download() has changed argument auto_adjust default to True\n",
      "  data_Test = yf.download(tickers=ticker, period=\"60d\", interval=\"1d\", group_by=\"ticker\")\n",
      "[*********************100%***********************]  1 of 1 completed\n"
     ]
    },
    {
     "name": "stdout",
     "output_type": "stream",
     "text": [
      "[[-1.02996693 -1.84204708 -2.03770749  0.0544528   0.11144364 -1.44949167\n",
      "  -1.52793583 -2.10287824 -0.90842604 -0.2601616   0.1114599 ]]\n"
     ]
    },
    {
     "name": "stderr",
     "output_type": "stream",
     "text": [
      "C:\\Users\\PC\\AppData\\Local\\Temp\\ipykernel_2408\\1505815251.py:2: FutureWarning: YF.download() has changed argument auto_adjust default to True\n",
      "  Data=yf.download(tickers=ticker,period=\"5y\",interval=\"1d\",group_by=ticker)\n",
      "[*********************100%***********************]  1 of 1 completed\n",
      "C:\\Users\\PC\\AppData\\Local\\Programs\\Python\\Python310\\lib\\site-packages\\xgboost\\training.py:183: UserWarning: [15:56:25] WARNING: C:\\actions-runner\\_work\\xgboost\\xgboost\\src\\learner.cc:738: \n",
      "Parameters: { \"use_label_encoder\" } are not used.\n",
      "\n",
      "  bst.update(dtrain, iteration=i, fobj=obj)\n",
      "C:\\Users\\PC\\AppData\\Local\\Temp\\ipykernel_2408\\1505815251.py:229: FutureWarning: YF.download() has changed argument auto_adjust default to True\n",
      "  data_Test = yf.download(tickers=ticker, period=\"60d\", interval=\"1d\", group_by=\"ticker\")\n",
      "[*********************100%***********************]  1 of 1 completed\n"
     ]
    },
    {
     "name": "stdout",
     "output_type": "stream",
     "text": [
      "[[ 0.03840071 -0.45251621 -0.02462814  0.82181878  0.83277464 -0.03010387\n",
      "   0.39443434 -0.28978385 -0.15234169  0.27494937 -1.39837742]]\n"
     ]
    },
    {
     "name": "stderr",
     "output_type": "stream",
     "text": [
      "C:\\Users\\PC\\AppData\\Local\\Temp\\ipykernel_2408\\1505815251.py:2: FutureWarning: YF.download() has changed argument auto_adjust default to True\n",
      "  Data=yf.download(tickers=ticker,period=\"5y\",interval=\"1d\",group_by=ticker)\n",
      "[*********************100%***********************]  1 of 1 completed\n",
      "C:\\Users\\PC\\AppData\\Local\\Programs\\Python\\Python310\\lib\\site-packages\\xgboost\\training.py:183: UserWarning: [15:56:28] WARNING: C:\\actions-runner\\_work\\xgboost\\xgboost\\src\\learner.cc:738: \n",
      "Parameters: { \"use_label_encoder\" } are not used.\n",
      "\n",
      "  bst.update(dtrain, iteration=i, fobj=obj)\n",
      "C:\\Users\\PC\\AppData\\Local\\Temp\\ipykernel_2408\\1505815251.py:229: FutureWarning: YF.download() has changed argument auto_adjust default to True\n",
      "  data_Test = yf.download(tickers=ticker, period=\"60d\", interval=\"1d\", group_by=\"ticker\")\n",
      "[*********************100%***********************]  1 of 1 completed\n"
     ]
    },
    {
     "name": "stdout",
     "output_type": "stream",
     "text": [
      "[[-0.21468985 -0.0259946  -0.04658878 -0.8176372  -0.1328036  -0.37216023\n",
      "   0.11387391 -0.04275072 -0.24086481 -0.19044268 -1.6458046 ]]\n"
     ]
    },
    {
     "name": "stderr",
     "output_type": "stream",
     "text": [
      "C:\\Users\\PC\\AppData\\Local\\Temp\\ipykernel_2408\\1505815251.py:2: FutureWarning: YF.download() has changed argument auto_adjust default to True\n",
      "  Data=yf.download(tickers=ticker,period=\"5y\",interval=\"1d\",group_by=ticker)\n",
      "[*********************100%***********************]  1 of 1 completed\n",
      "C:\\Users\\PC\\AppData\\Local\\Programs\\Python\\Python310\\lib\\site-packages\\xgboost\\training.py:183: UserWarning: [15:56:33] WARNING: C:\\actions-runner\\_work\\xgboost\\xgboost\\src\\learner.cc:738: \n",
      "Parameters: { \"use_label_encoder\" } are not used.\n",
      "\n",
      "  bst.update(dtrain, iteration=i, fobj=obj)\n",
      "C:\\Users\\PC\\AppData\\Local\\Temp\\ipykernel_2408\\1505815251.py:229: FutureWarning: YF.download() has changed argument auto_adjust default to True\n",
      "  data_Test = yf.download(tickers=ticker, period=\"60d\", interval=\"1d\", group_by=\"ticker\")\n",
      "[*********************100%***********************]  1 of 1 completed\n"
     ]
    },
    {
     "name": "stdout",
     "output_type": "stream",
     "text": [
      "[[ 0.12375441 -0.56019692  0.08567431 -0.54883736 -0.06861221 -0.40532934\n",
      "  -0.24895339  0.04783712 -0.09273548  0.11459714 -0.59458061]]\n"
     ]
    },
    {
     "name": "stderr",
     "output_type": "stream",
     "text": [
      "C:\\Users\\PC\\AppData\\Local\\Temp\\ipykernel_2408\\1505815251.py:2: FutureWarning: YF.download() has changed argument auto_adjust default to True\n",
      "  Data=yf.download(tickers=ticker,period=\"5y\",interval=\"1d\",group_by=ticker)\n",
      "[*********************100%***********************]  1 of 1 completed\n",
      "C:\\Users\\PC\\AppData\\Local\\Programs\\Python\\Python310\\lib\\site-packages\\xgboost\\training.py:183: UserWarning: [15:56:37] WARNING: C:\\actions-runner\\_work\\xgboost\\xgboost\\src\\learner.cc:738: \n",
      "Parameters: { \"use_label_encoder\" } are not used.\n",
      "\n",
      "  bst.update(dtrain, iteration=i, fobj=obj)\n",
      "C:\\Users\\PC\\AppData\\Local\\Temp\\ipykernel_2408\\1505815251.py:229: FutureWarning: YF.download() has changed argument auto_adjust default to True\n",
      "  data_Test = yf.download(tickers=ticker, period=\"60d\", interval=\"1d\", group_by=\"ticker\")\n",
      "[*********************100%***********************]  1 of 1 completed\n"
     ]
    },
    {
     "name": "stdout",
     "output_type": "stream",
     "text": [
      "[[-0.75488686 -0.55453925 -1.2762067  -0.64984402 -0.43451319 -0.88486768\n",
      "  -0.9909017  -1.24301898 -0.51537688 -0.59932018  0.27138684]]\n"
     ]
    },
    {
     "name": "stderr",
     "output_type": "stream",
     "text": [
      "C:\\Users\\PC\\AppData\\Local\\Temp\\ipykernel_2408\\1505815251.py:2: FutureWarning: YF.download() has changed argument auto_adjust default to True\n",
      "  Data=yf.download(tickers=ticker,period=\"5y\",interval=\"1d\",group_by=ticker)\n",
      "[*********************100%***********************]  1 of 1 completed\n",
      "C:\\Users\\PC\\AppData\\Local\\Programs\\Python\\Python310\\lib\\site-packages\\xgboost\\training.py:183: UserWarning: [15:56:41] WARNING: C:\\actions-runner\\_work\\xgboost\\xgboost\\src\\learner.cc:738: \n",
      "Parameters: { \"use_label_encoder\" } are not used.\n",
      "\n",
      "  bst.update(dtrain, iteration=i, fobj=obj)\n",
      "C:\\Users\\PC\\AppData\\Local\\Temp\\ipykernel_2408\\1505815251.py:229: FutureWarning: YF.download() has changed argument auto_adjust default to True\n",
      "  data_Test = yf.download(tickers=ticker, period=\"60d\", interval=\"1d\", group_by=\"ticker\")\n",
      "[*********************100%***********************]  1 of 1 completed\n"
     ]
    },
    {
     "name": "stdout",
     "output_type": "stream",
     "text": [
      "[[ 0.04840852 -0.2103074   0.16731502 -0.1005912  -0.26114189  0.53068009\n",
      "   0.88478071  0.17096581 -0.11676816  0.03060895 -1.0840727 ]]\n"
     ]
    },
    {
     "name": "stderr",
     "output_type": "stream",
     "text": [
      "C:\\Users\\PC\\AppData\\Local\\Temp\\ipykernel_2408\\1505815251.py:2: FutureWarning: YF.download() has changed argument auto_adjust default to True\n",
      "  Data=yf.download(tickers=ticker,period=\"5y\",interval=\"1d\",group_by=ticker)\n",
      "[*********************100%***********************]  1 of 1 completed\n",
      "C:\\Users\\PC\\AppData\\Local\\Programs\\Python\\Python310\\lib\\site-packages\\xgboost\\training.py:183: UserWarning: [15:56:44] WARNING: C:\\actions-runner\\_work\\xgboost\\xgboost\\src\\learner.cc:738: \n",
      "Parameters: { \"use_label_encoder\" } are not used.\n",
      "\n",
      "  bst.update(dtrain, iteration=i, fobj=obj)\n",
      "C:\\Users\\PC\\AppData\\Local\\Temp\\ipykernel_2408\\1505815251.py:229: FutureWarning: YF.download() has changed argument auto_adjust default to True\n",
      "  data_Test = yf.download(tickers=ticker, period=\"60d\", interval=\"1d\", group_by=\"ticker\")\n",
      "[*********************100%***********************]  1 of 1 completed\n"
     ]
    },
    {
     "name": "stdout",
     "output_type": "stream",
     "text": [
      "[[-0.93024845 -1.5729916  -1.26698204 -0.17110145  0.24952726 -1.68099619\n",
      "  -1.64579539 -1.15500203 -0.84381397 -0.19112934 -0.29084455]]\n"
     ]
    },
    {
     "name": "stderr",
     "output_type": "stream",
     "text": [
      "C:\\Users\\PC\\AppData\\Local\\Temp\\ipykernel_2408\\1505815251.py:2: FutureWarning: YF.download() has changed argument auto_adjust default to True\n",
      "  Data=yf.download(tickers=ticker,period=\"5y\",interval=\"1d\",group_by=ticker)\n",
      "[*********************100%***********************]  1 of 1 completed\n",
      "C:\\Users\\PC\\AppData\\Local\\Programs\\Python\\Python310\\lib\\site-packages\\xgboost\\training.py:183: UserWarning: [15:56:48] WARNING: C:\\actions-runner\\_work\\xgboost\\xgboost\\src\\learner.cc:738: \n",
      "Parameters: { \"use_label_encoder\" } are not used.\n",
      "\n",
      "  bst.update(dtrain, iteration=i, fobj=obj)\n",
      "C:\\Users\\PC\\AppData\\Local\\Temp\\ipykernel_2408\\1505815251.py:229: FutureWarning: YF.download() has changed argument auto_adjust default to True\n",
      "  data_Test = yf.download(tickers=ticker, period=\"60d\", interval=\"1d\", group_by=\"ticker\")\n",
      "[*********************100%***********************]  1 of 1 completed\n"
     ]
    },
    {
     "name": "stdout",
     "output_type": "stream",
     "text": [
      "[[ 0.77618075  0.86567999  0.57454029  0.82047966  0.94241568  0.7666041\n",
      "   1.01826148  0.58689872  0.50240765  0.7250303  -0.75761719]]\n"
     ]
    },
    {
     "name": "stderr",
     "output_type": "stream",
     "text": [
      "C:\\Users\\PC\\AppData\\Local\\Temp\\ipykernel_2408\\1505815251.py:2: FutureWarning: YF.download() has changed argument auto_adjust default to True\n",
      "  Data=yf.download(tickers=ticker,period=\"5y\",interval=\"1d\",group_by=ticker)\n",
      "[*********************100%***********************]  1 of 1 completed\n",
      "C:\\Users\\PC\\AppData\\Local\\Programs\\Python\\Python310\\lib\\site-packages\\xgboost\\training.py:183: UserWarning: [15:56:52] WARNING: C:\\actions-runner\\_work\\xgboost\\xgboost\\src\\learner.cc:738: \n",
      "Parameters: { \"use_label_encoder\" } are not used.\n",
      "\n",
      "  bst.update(dtrain, iteration=i, fobj=obj)\n",
      "C:\\Users\\PC\\AppData\\Local\\Temp\\ipykernel_2408\\1505815251.py:229: FutureWarning: YF.download() has changed argument auto_adjust default to True\n",
      "  data_Test = yf.download(tickers=ticker, period=\"60d\", interval=\"1d\", group_by=\"ticker\")\n",
      "[*********************100%***********************]  1 of 1 completed\n"
     ]
    },
    {
     "name": "stdout",
     "output_type": "stream",
     "text": [
      "[[ 0.63222501 -0.36271114  0.67575558 -1.13545085  0.01084788 -0.01783467\n",
      "  -0.40842099  0.53716818  0.36720245  0.4395192   1.29456399]]\n"
     ]
    },
    {
     "name": "stderr",
     "output_type": "stream",
     "text": [
      "C:\\Users\\PC\\AppData\\Local\\Temp\\ipykernel_2408\\1505815251.py:2: FutureWarning: YF.download() has changed argument auto_adjust default to True\n",
      "  Data=yf.download(tickers=ticker,period=\"5y\",interval=\"1d\",group_by=ticker)\n",
      "[*********************100%***********************]  1 of 1 completed\n",
      "C:\\Users\\PC\\AppData\\Local\\Programs\\Python\\Python310\\lib\\site-packages\\xgboost\\training.py:183: UserWarning: [15:56:55] WARNING: C:\\actions-runner\\_work\\xgboost\\xgboost\\src\\learner.cc:738: \n",
      "Parameters: { \"use_label_encoder\" } are not used.\n",
      "\n",
      "  bst.update(dtrain, iteration=i, fobj=obj)\n",
      "C:\\Users\\PC\\AppData\\Local\\Temp\\ipykernel_2408\\1505815251.py:229: FutureWarning: YF.download() has changed argument auto_adjust default to True\n",
      "  data_Test = yf.download(tickers=ticker, period=\"60d\", interval=\"1d\", group_by=\"ticker\")\n",
      "[*********************100%***********************]  1 of 1 completed\n"
     ]
    },
    {
     "name": "stdout",
     "output_type": "stream",
     "text": [
      "[[ 0.17195381 -0.25618629  0.13535088 -0.70196881  0.960935    0.43979802\n",
      "   0.88207751  0.10852723  0.02195257  0.40095054 -1.54512106]]\n"
     ]
    },
    {
     "name": "stderr",
     "output_type": "stream",
     "text": [
      "C:\\Users\\PC\\AppData\\Local\\Temp\\ipykernel_2408\\1505815251.py:2: FutureWarning: YF.download() has changed argument auto_adjust default to True\n",
      "  Data=yf.download(tickers=ticker,period=\"5y\",interval=\"1d\",group_by=ticker)\n",
      "[*********************100%***********************]  1 of 1 completed\n",
      "C:\\Users\\PC\\AppData\\Local\\Programs\\Python\\Python310\\lib\\site-packages\\xgboost\\training.py:183: UserWarning: [15:56:59] WARNING: C:\\actions-runner\\_work\\xgboost\\xgboost\\src\\learner.cc:738: \n",
      "Parameters: { \"use_label_encoder\" } are not used.\n",
      "\n",
      "  bst.update(dtrain, iteration=i, fobj=obj)\n",
      "C:\\Users\\PC\\AppData\\Local\\Temp\\ipykernel_2408\\1505815251.py:229: FutureWarning: YF.download() has changed argument auto_adjust default to True\n",
      "  data_Test = yf.download(tickers=ticker, period=\"60d\", interval=\"1d\", group_by=\"ticker\")\n",
      "[*********************100%***********************]  1 of 1 completed\n"
     ]
    },
    {
     "name": "stdout",
     "output_type": "stream",
     "text": [
      "[[-0.58686155 -0.5826458  -0.63349907 -0.46124306 -0.09472067 -0.67971368\n",
      "  -0.03628306 -0.47609564 -0.51157374 -0.3730457  -2.21526513]]\n"
     ]
    },
    {
     "name": "stderr",
     "output_type": "stream",
     "text": [
      "C:\\Users\\PC\\AppData\\Local\\Temp\\ipykernel_2408\\1505815251.py:2: FutureWarning: YF.download() has changed argument auto_adjust default to True\n",
      "  Data=yf.download(tickers=ticker,period=\"5y\",interval=\"1d\",group_by=ticker)\n",
      "[*********************100%***********************]  1 of 1 completed\n",
      "C:\\Users\\PC\\AppData\\Local\\Programs\\Python\\Python310\\lib\\site-packages\\xgboost\\training.py:183: UserWarning: [15:57:02] WARNING: C:\\actions-runner\\_work\\xgboost\\xgboost\\src\\learner.cc:738: \n",
      "Parameters: { \"use_label_encoder\" } are not used.\n",
      "\n",
      "  bst.update(dtrain, iteration=i, fobj=obj)\n",
      "C:\\Users\\PC\\AppData\\Local\\Temp\\ipykernel_2408\\1505815251.py:229: FutureWarning: YF.download() has changed argument auto_adjust default to True\n",
      "  data_Test = yf.download(tickers=ticker, period=\"60d\", interval=\"1d\", group_by=\"ticker\")\n",
      "[*********************100%***********************]  1 of 1 completed\n"
     ]
    },
    {
     "name": "stdout",
     "output_type": "stream",
     "text": [
      "[[-0.32383613 -0.66125984 -0.81466057 -1.18320403  0.21805993 -0.40577849\n",
      "   0.05839934 -1.22526569 -0.33561412 -0.00404936 -1.73348365]]\n"
     ]
    },
    {
     "name": "stderr",
     "output_type": "stream",
     "text": [
      "C:\\Users\\PC\\AppData\\Local\\Temp\\ipykernel_2408\\1505815251.py:2: FutureWarning: YF.download() has changed argument auto_adjust default to True\n",
      "  Data=yf.download(tickers=ticker,period=\"5y\",interval=\"1d\",group_by=ticker)\n",
      "[*********************100%***********************]  1 of 1 completed\n",
      "C:\\Users\\PC\\AppData\\Local\\Programs\\Python\\Python310\\lib\\site-packages\\xgboost\\training.py:183: UserWarning: [15:57:08] WARNING: C:\\actions-runner\\_work\\xgboost\\xgboost\\src\\learner.cc:738: \n",
      "Parameters: { \"use_label_encoder\" } are not used.\n",
      "\n",
      "  bst.update(dtrain, iteration=i, fobj=obj)\n",
      "C:\\Users\\PC\\AppData\\Local\\Temp\\ipykernel_2408\\1505815251.py:229: FutureWarning: YF.download() has changed argument auto_adjust default to True\n",
      "  data_Test = yf.download(tickers=ticker, period=\"60d\", interval=\"1d\", group_by=\"ticker\")\n",
      "[*********************100%***********************]  1 of 1 completed\n"
     ]
    },
    {
     "name": "stdout",
     "output_type": "stream",
     "text": [
      "[[-1.00595555 -0.41031153 -1.05509969 -1.23700681 -0.19297647 -1.58643167\n",
      "  -1.50292881 -1.07952723 -0.57432338 -0.79659039 -0.44895742]]\n"
     ]
    },
    {
     "name": "stderr",
     "output_type": "stream",
     "text": [
      "C:\\Users\\PC\\AppData\\Local\\Temp\\ipykernel_2408\\1505815251.py:2: FutureWarning: YF.download() has changed argument auto_adjust default to True\n",
      "  Data=yf.download(tickers=ticker,period=\"5y\",interval=\"1d\",group_by=ticker)\n",
      "[*********************100%***********************]  1 of 1 completed\n",
      "C:\\Users\\PC\\AppData\\Local\\Programs\\Python\\Python310\\lib\\site-packages\\xgboost\\training.py:183: UserWarning: [15:57:11] WARNING: C:\\actions-runner\\_work\\xgboost\\xgboost\\src\\learner.cc:738: \n",
      "Parameters: { \"use_label_encoder\" } are not used.\n",
      "\n",
      "  bst.update(dtrain, iteration=i, fobj=obj)\n",
      "C:\\Users\\PC\\AppData\\Local\\Temp\\ipykernel_2408\\1505815251.py:229: FutureWarning: YF.download() has changed argument auto_adjust default to True\n",
      "  data_Test = yf.download(tickers=ticker, period=\"60d\", interval=\"1d\", group_by=\"ticker\")\n",
      "[*********************100%***********************]  1 of 1 completed\n"
     ]
    },
    {
     "name": "stdout",
     "output_type": "stream",
     "text": [
      "[[-1.29441438 -1.22258291 -1.98086728 -0.9564791   0.17095231 -1.64284959\n",
      "  -1.29766683 -2.44865649 -1.0325412  -0.69129938 -1.43176008]]\n"
     ]
    },
    {
     "name": "stderr",
     "output_type": "stream",
     "text": [
      "C:\\Users\\PC\\AppData\\Local\\Temp\\ipykernel_2408\\1505815251.py:2: FutureWarning: YF.download() has changed argument auto_adjust default to True\n",
      "  Data=yf.download(tickers=ticker,period=\"5y\",interval=\"1d\",group_by=ticker)\n",
      "[*********************100%***********************]  1 of 1 completed\n",
      "C:\\Users\\PC\\AppData\\Local\\Programs\\Python\\Python310\\lib\\site-packages\\xgboost\\training.py:183: UserWarning: [15:57:15] WARNING: C:\\actions-runner\\_work\\xgboost\\xgboost\\src\\learner.cc:738: \n",
      "Parameters: { \"use_label_encoder\" } are not used.\n",
      "\n",
      "  bst.update(dtrain, iteration=i, fobj=obj)\n",
      "C:\\Users\\PC\\AppData\\Local\\Temp\\ipykernel_2408\\1505815251.py:229: FutureWarning: YF.download() has changed argument auto_adjust default to True\n",
      "  data_Test = yf.download(tickers=ticker, period=\"60d\", interval=\"1d\", group_by=\"ticker\")\n",
      "[*********************100%***********************]  1 of 1 completed\n"
     ]
    },
    {
     "name": "stdout",
     "output_type": "stream",
     "text": [
      "[[-0.5682598  -1.65216692 -0.92745441 -0.72835665  0.42940635 -1.38978639\n",
      "  -0.95515844 -1.0627301  -0.62337832 -0.02438572 -1.68011772]]\n"
     ]
    },
    {
     "name": "stderr",
     "output_type": "stream",
     "text": [
      "C:\\Users\\PC\\AppData\\Local\\Temp\\ipykernel_2408\\1505815251.py:2: FutureWarning: YF.download() has changed argument auto_adjust default to True\n",
      "  Data=yf.download(tickers=ticker,period=\"5y\",interval=\"1d\",group_by=ticker)\n",
      "[*********************100%***********************]  1 of 1 completed\n",
      "C:\\Users\\PC\\AppData\\Local\\Programs\\Python\\Python310\\lib\\site-packages\\xgboost\\training.py:183: UserWarning: [15:57:19] WARNING: C:\\actions-runner\\_work\\xgboost\\xgboost\\src\\learner.cc:738: \n",
      "Parameters: { \"use_label_encoder\" } are not used.\n",
      "\n",
      "  bst.update(dtrain, iteration=i, fobj=obj)\n",
      "C:\\Users\\PC\\AppData\\Local\\Temp\\ipykernel_2408\\1505815251.py:229: FutureWarning: YF.download() has changed argument auto_adjust default to True\n",
      "  data_Test = yf.download(tickers=ticker, period=\"60d\", interval=\"1d\", group_by=\"ticker\")\n",
      "[*********************100%***********************]  1 of 1 completed\n"
     ]
    },
    {
     "name": "stdout",
     "output_type": "stream",
     "text": [
      "[[ 0.51650149  0.40876117  0.351082    0.3919412  -0.47494356  0.93533598\n",
      "   1.09730908  0.32766374  0.24507785  0.25124481 -0.46212248]]\n"
     ]
    },
    {
     "name": "stderr",
     "output_type": "stream",
     "text": [
      "C:\\Users\\PC\\AppData\\Local\\Temp\\ipykernel_2408\\1505815251.py:2: FutureWarning: YF.download() has changed argument auto_adjust default to True\n",
      "  Data=yf.download(tickers=ticker,period=\"5y\",interval=\"1d\",group_by=ticker)\n",
      "[*********************100%***********************]  1 of 1 completed\n",
      "C:\\Users\\PC\\AppData\\Local\\Programs\\Python\\Python310\\lib\\site-packages\\xgboost\\training.py:183: UserWarning: [15:57:22] WARNING: C:\\actions-runner\\_work\\xgboost\\xgboost\\src\\learner.cc:738: \n",
      "Parameters: { \"use_label_encoder\" } are not used.\n",
      "\n",
      "  bst.update(dtrain, iteration=i, fobj=obj)\n",
      "C:\\Users\\PC\\AppData\\Local\\Temp\\ipykernel_2408\\1505815251.py:229: FutureWarning: YF.download() has changed argument auto_adjust default to True\n",
      "  data_Test = yf.download(tickers=ticker, period=\"60d\", interval=\"1d\", group_by=\"ticker\")\n",
      "[*********************100%***********************]  1 of 1 completed\n"
     ]
    },
    {
     "name": "stdout",
     "output_type": "stream",
     "text": [
      "[[-0.48021929 -0.71172955 -0.42155     0.60513938  0.10553666 -0.59392052\n",
      "  -0.00757415 -0.42615142 -0.51132302 -0.29905254 -1.97011399]]\n"
     ]
    },
    {
     "name": "stderr",
     "output_type": "stream",
     "text": [
      "C:\\Users\\PC\\AppData\\Local\\Temp\\ipykernel_2408\\1505815251.py:2: FutureWarning: YF.download() has changed argument auto_adjust default to True\n",
      "  Data=yf.download(tickers=ticker,period=\"5y\",interval=\"1d\",group_by=ticker)\n",
      "[*********************100%***********************]  1 of 1 completed\n",
      "C:\\Users\\PC\\AppData\\Local\\Programs\\Python\\Python310\\lib\\site-packages\\xgboost\\training.py:183: UserWarning: [15:57:26] WARNING: C:\\actions-runner\\_work\\xgboost\\xgboost\\src\\learner.cc:738: \n",
      "Parameters: { \"use_label_encoder\" } are not used.\n",
      "\n",
      "  bst.update(dtrain, iteration=i, fobj=obj)\n",
      "C:\\Users\\PC\\AppData\\Local\\Temp\\ipykernel_2408\\1505815251.py:229: FutureWarning: YF.download() has changed argument auto_adjust default to True\n",
      "  data_Test = yf.download(tickers=ticker, period=\"60d\", interval=\"1d\", group_by=\"ticker\")\n",
      "[*********************100%***********************]  1 of 1 completed\n"
     ]
    },
    {
     "name": "stdout",
     "output_type": "stream",
     "text": [
      "[[-0.58625493 -1.00664432 -0.76651012 -0.7225489   0.77325365 -1.04296416\n",
      "  -0.38240413 -0.90448269 -0.56678748 -0.37734221 -2.31126819]]\n"
     ]
    },
    {
     "name": "stderr",
     "output_type": "stream",
     "text": [
      "C:\\Users\\PC\\AppData\\Local\\Temp\\ipykernel_2408\\1505815251.py:2: FutureWarning: YF.download() has changed argument auto_adjust default to True\n",
      "  Data=yf.download(tickers=ticker,period=\"5y\",interval=\"1d\",group_by=ticker)\n",
      "[*********************100%***********************]  1 of 1 completed\n",
      "C:\\Users\\PC\\AppData\\Local\\Programs\\Python\\Python310\\lib\\site-packages\\xgboost\\training.py:183: UserWarning: [15:57:29] WARNING: C:\\actions-runner\\_work\\xgboost\\xgboost\\src\\learner.cc:738: \n",
      "Parameters: { \"use_label_encoder\" } are not used.\n",
      "\n",
      "  bst.update(dtrain, iteration=i, fobj=obj)\n",
      "C:\\Users\\PC\\AppData\\Local\\Temp\\ipykernel_2408\\1505815251.py:229: FutureWarning: YF.download() has changed argument auto_adjust default to True\n",
      "  data_Test = yf.download(tickers=ticker, period=\"60d\", interval=\"1d\", group_by=\"ticker\")\n",
      "[*********************100%***********************]  1 of 1 completed\n"
     ]
    },
    {
     "name": "stdout",
     "output_type": "stream",
     "text": [
      "[[ 0.72854975  0.47153298  0.9410225  -0.86818628 -0.02118762  0.66498079\n",
      "   0.97542133  0.69333161  0.6214754   0.7446476  -1.09035858]]\n"
     ]
    },
    {
     "name": "stderr",
     "output_type": "stream",
     "text": [
      "C:\\Users\\PC\\AppData\\Local\\Temp\\ipykernel_2408\\1505815251.py:2: FutureWarning: YF.download() has changed argument auto_adjust default to True\n",
      "  Data=yf.download(tickers=ticker,period=\"5y\",interval=\"1d\",group_by=ticker)\n",
      "[*********************100%***********************]  1 of 1 completed\n",
      "C:\\Users\\PC\\AppData\\Local\\Programs\\Python\\Python310\\lib\\site-packages\\xgboost\\training.py:183: UserWarning: [15:57:32] WARNING: C:\\actions-runner\\_work\\xgboost\\xgboost\\src\\learner.cc:738: \n",
      "Parameters: { \"use_label_encoder\" } are not used.\n",
      "\n",
      "  bst.update(dtrain, iteration=i, fobj=obj)\n",
      "C:\\Users\\PC\\AppData\\Local\\Temp\\ipykernel_2408\\1505815251.py:229: FutureWarning: YF.download() has changed argument auto_adjust default to True\n",
      "  data_Test = yf.download(tickers=ticker, period=\"60d\", interval=\"1d\", group_by=\"ticker\")\n",
      "[*********************100%***********************]  1 of 1 completed\n"
     ]
    },
    {
     "name": "stdout",
     "output_type": "stream",
     "text": [
      "[[ 0.4206736   0.06703771  0.36064592 -0.7180881  -0.80702985 -0.11585742\n",
      "  -0.0237684   0.18694131  0.16069653  0.11325121 -0.33649441]]\n"
     ]
    },
    {
     "name": "stderr",
     "output_type": "stream",
     "text": [
      "C:\\Users\\PC\\AppData\\Local\\Temp\\ipykernel_2408\\1505815251.py:2: FutureWarning: YF.download() has changed argument auto_adjust default to True\n",
      "  Data=yf.download(tickers=ticker,period=\"5y\",interval=\"1d\",group_by=ticker)\n",
      "[*********************100%***********************]  1 of 1 completed\n",
      "C:\\Users\\PC\\AppData\\Local\\Programs\\Python\\Python310\\lib\\site-packages\\xgboost\\training.py:183: UserWarning: [15:57:36] WARNING: C:\\actions-runner\\_work\\xgboost\\xgboost\\src\\learner.cc:738: \n",
      "Parameters: { \"use_label_encoder\" } are not used.\n",
      "\n",
      "  bst.update(dtrain, iteration=i, fobj=obj)\n",
      "C:\\Users\\PC\\AppData\\Local\\Temp\\ipykernel_2408\\1505815251.py:229: FutureWarning: YF.download() has changed argument auto_adjust default to True\n",
      "  data_Test = yf.download(tickers=ticker, period=\"60d\", interval=\"1d\", group_by=\"ticker\")\n",
      "[*********************100%***********************]  1 of 1 completed\n"
     ]
    },
    {
     "name": "stdout",
     "output_type": "stream",
     "text": [
      "[[-1.77468685 -1.10074576 -2.22119852 -1.03718132  0.08571699 -1.51618996\n",
      "  -1.43452617 -2.2016694  -1.23247726 -0.90684667 -0.43217608]]\n"
     ]
    },
    {
     "name": "stderr",
     "output_type": "stream",
     "text": [
      "C:\\Users\\PC\\AppData\\Local\\Temp\\ipykernel_2408\\1505815251.py:2: FutureWarning: YF.download() has changed argument auto_adjust default to True\n",
      "  Data=yf.download(tickers=ticker,period=\"5y\",interval=\"1d\",group_by=ticker)\n",
      "[*********************100%***********************]  1 of 1 completed\n",
      "C:\\Users\\PC\\AppData\\Local\\Programs\\Python\\Python310\\lib\\site-packages\\xgboost\\training.py:183: UserWarning: [15:57:40] WARNING: C:\\actions-runner\\_work\\xgboost\\xgboost\\src\\learner.cc:738: \n",
      "Parameters: { \"use_label_encoder\" } are not used.\n",
      "\n",
      "  bst.update(dtrain, iteration=i, fobj=obj)\n",
      "C:\\Users\\PC\\AppData\\Local\\Temp\\ipykernel_2408\\1505815251.py:229: FutureWarning: YF.download() has changed argument auto_adjust default to True\n",
      "  data_Test = yf.download(tickers=ticker, period=\"60d\", interval=\"1d\", group_by=\"ticker\")\n",
      "[*********************100%***********************]  1 of 1 completed\n"
     ]
    },
    {
     "name": "stdout",
     "output_type": "stream",
     "text": [
      "[[ 1.04172026  0.67831513  0.6517364   0.47764343 -1.52732072  1.02198281\n",
      "   1.31445324  0.54602309  0.47374799  0.37845418 -0.92550821]]\n"
     ]
    },
    {
     "name": "stderr",
     "output_type": "stream",
     "text": [
      "C:\\Users\\PC\\AppData\\Local\\Temp\\ipykernel_2408\\1505815251.py:2: FutureWarning: YF.download() has changed argument auto_adjust default to True\n",
      "  Data=yf.download(tickers=ticker,period=\"5y\",interval=\"1d\",group_by=ticker)\n",
      "[*********************100%***********************]  1 of 1 completed\n",
      "C:\\Users\\PC\\AppData\\Local\\Programs\\Python\\Python310\\lib\\site-packages\\xgboost\\training.py:183: UserWarning: [15:57:43] WARNING: C:\\actions-runner\\_work\\xgboost\\xgboost\\src\\learner.cc:738: \n",
      "Parameters: { \"use_label_encoder\" } are not used.\n",
      "\n",
      "  bst.update(dtrain, iteration=i, fobj=obj)\n",
      "C:\\Users\\PC\\AppData\\Local\\Temp\\ipykernel_2408\\1505815251.py:229: FutureWarning: YF.download() has changed argument auto_adjust default to True\n",
      "  data_Test = yf.download(tickers=ticker, period=\"60d\", interval=\"1d\", group_by=\"ticker\")\n",
      "[*********************100%***********************]  1 of 1 completed\n"
     ]
    },
    {
     "name": "stdout",
     "output_type": "stream",
     "text": [
      "[[ 0.55555014  0.03112966  0.97378837 -1.28107161 -1.21282252 -0.01526482\n",
      "  -0.05390805  0.72816182  0.24449077  0.15724636  0.13532539]]\n"
     ]
    },
    {
     "name": "stderr",
     "output_type": "stream",
     "text": [
      "C:\\Users\\PC\\AppData\\Local\\Temp\\ipykernel_2408\\1505815251.py:2: FutureWarning: YF.download() has changed argument auto_adjust default to True\n",
      "  Data=yf.download(tickers=ticker,period=\"5y\",interval=\"1d\",group_by=ticker)\n",
      "[*********************100%***********************]  1 of 1 completed\n",
      "C:\\Users\\PC\\AppData\\Local\\Programs\\Python\\Python310\\lib\\site-packages\\xgboost\\training.py:183: UserWarning: [15:57:47] WARNING: C:\\actions-runner\\_work\\xgboost\\xgboost\\src\\learner.cc:738: \n",
      "Parameters: { \"use_label_encoder\" } are not used.\n",
      "\n",
      "  bst.update(dtrain, iteration=i, fobj=obj)\n",
      "C:\\Users\\PC\\AppData\\Local\\Temp\\ipykernel_2408\\1505815251.py:229: FutureWarning: YF.download() has changed argument auto_adjust default to True\n",
      "  data_Test = yf.download(tickers=ticker, period=\"60d\", interval=\"1d\", group_by=\"ticker\")\n",
      "[*********************100%***********************]  1 of 1 completed\n"
     ]
    },
    {
     "name": "stdout",
     "output_type": "stream",
     "text": [
      "[[-0.36938633  0.20619388  0.07591598 -0.42933543 -0.29079934 -0.65107788\n",
      "  -0.85391991 -0.03894422 -0.19746031 -0.70630648  0.69776202]]\n"
     ]
    },
    {
     "name": "stderr",
     "output_type": "stream",
     "text": [
      "C:\\Users\\PC\\AppData\\Local\\Temp\\ipykernel_2408\\1505815251.py:2: FutureWarning: YF.download() has changed argument auto_adjust default to True\n",
      "  Data=yf.download(tickers=ticker,period=\"5y\",interval=\"1d\",group_by=ticker)\n",
      "[*********************100%***********************]  1 of 1 completed\n",
      "C:\\Users\\PC\\AppData\\Local\\Programs\\Python\\Python310\\lib\\site-packages\\xgboost\\training.py:183: UserWarning: [15:57:51] WARNING: C:\\actions-runner\\_work\\xgboost\\xgboost\\src\\learner.cc:738: \n",
      "Parameters: { \"use_label_encoder\" } are not used.\n",
      "\n",
      "  bst.update(dtrain, iteration=i, fobj=obj)\n",
      "C:\\Users\\PC\\AppData\\Local\\Temp\\ipykernel_2408\\1505815251.py:229: FutureWarning: YF.download() has changed argument auto_adjust default to True\n",
      "  data_Test = yf.download(tickers=ticker, period=\"60d\", interval=\"1d\", group_by=\"ticker\")\n",
      "[*********************100%***********************]  1 of 1 completed\n"
     ]
    },
    {
     "name": "stdout",
     "output_type": "stream",
     "text": [
      "[[ 0.82128393  0.30908635  0.45436263 -0.1335854  -0.34105536  0.77327018\n",
      "   0.89822387  0.3598473   0.30824157  0.32099092 -0.35950746]]\n"
     ]
    },
    {
     "name": "stderr",
     "output_type": "stream",
     "text": [
      "C:\\Users\\PC\\AppData\\Local\\Temp\\ipykernel_2408\\1505815251.py:2: FutureWarning: YF.download() has changed argument auto_adjust default to True\n",
      "  Data=yf.download(tickers=ticker,period=\"5y\",interval=\"1d\",group_by=ticker)\n",
      "[*********************100%***********************]  1 of 1 completed\n",
      "C:\\Users\\PC\\AppData\\Local\\Programs\\Python\\Python310\\lib\\site-packages\\xgboost\\training.py:183: UserWarning: [15:57:54] WARNING: C:\\actions-runner\\_work\\xgboost\\xgboost\\src\\learner.cc:738: \n",
      "Parameters: { \"use_label_encoder\" } are not used.\n",
      "\n",
      "  bst.update(dtrain, iteration=i, fobj=obj)\n",
      "C:\\Users\\PC\\AppData\\Local\\Temp\\ipykernel_2408\\1505815251.py:229: FutureWarning: YF.download() has changed argument auto_adjust default to True\n",
      "  data_Test = yf.download(tickers=ticker, period=\"60d\", interval=\"1d\", group_by=\"ticker\")\n",
      "[*********************100%***********************]  1 of 1 completed\n"
     ]
    },
    {
     "name": "stdout",
     "output_type": "stream",
     "text": [
      "[[-0.21083624  0.27102857  0.18123531 -1.1198941   0.22153373 -0.67407208\n",
      "  -0.40937198  0.10763672 -0.14043803 -0.40782857 -1.03254312]]\n"
     ]
    },
    {
     "name": "stderr",
     "output_type": "stream",
     "text": [
      "C:\\Users\\PC\\AppData\\Local\\Temp\\ipykernel_2408\\1505815251.py:2: FutureWarning: YF.download() has changed argument auto_adjust default to True\n",
      "  Data=yf.download(tickers=ticker,period=\"5y\",interval=\"1d\",group_by=ticker)\n",
      "[*********************100%***********************]  1 of 1 completed\n",
      "C:\\Users\\PC\\AppData\\Local\\Programs\\Python\\Python310\\lib\\site-packages\\xgboost\\training.py:183: UserWarning: [15:57:58] WARNING: C:\\actions-runner\\_work\\xgboost\\xgboost\\src\\learner.cc:738: \n",
      "Parameters: { \"use_label_encoder\" } are not used.\n",
      "\n",
      "  bst.update(dtrain, iteration=i, fobj=obj)\n",
      "C:\\Users\\PC\\AppData\\Local\\Temp\\ipykernel_2408\\1505815251.py:229: FutureWarning: YF.download() has changed argument auto_adjust default to True\n",
      "  data_Test = yf.download(tickers=ticker, period=\"60d\", interval=\"1d\", group_by=\"ticker\")\n",
      "[*********************100%***********************]  1 of 1 completed\n"
     ]
    },
    {
     "name": "stdout",
     "output_type": "stream",
     "text": [
      "[[ 0.08597    -1.46625524  0.25804788 -0.24017029  1.59509399 -0.51789625\n",
      "  -0.60062321 -0.05932649  0.01757351  0.33427244  0.21523232]]\n"
     ]
    },
    {
     "name": "stderr",
     "output_type": "stream",
     "text": [
      "C:\\Users\\PC\\AppData\\Local\\Temp\\ipykernel_2408\\1505815251.py:2: FutureWarning: YF.download() has changed argument auto_adjust default to True\n",
      "  Data=yf.download(tickers=ticker,period=\"5y\",interval=\"1d\",group_by=ticker)\n",
      "[*********************100%***********************]  1 of 1 completed\n",
      "C:\\Users\\PC\\AppData\\Local\\Programs\\Python\\Python310\\lib\\site-packages\\xgboost\\training.py:183: UserWarning: [15:58:02] WARNING: C:\\actions-runner\\_work\\xgboost\\xgboost\\src\\learner.cc:738: \n",
      "Parameters: { \"use_label_encoder\" } are not used.\n",
      "\n",
      "  bst.update(dtrain, iteration=i, fobj=obj)\n",
      "C:\\Users\\PC\\AppData\\Local\\Temp\\ipykernel_2408\\1505815251.py:229: FutureWarning: YF.download() has changed argument auto_adjust default to True\n",
      "  data_Test = yf.download(tickers=ticker, period=\"60d\", interval=\"1d\", group_by=\"ticker\")\n",
      "[*********************100%***********************]  1 of 1 completed\n"
     ]
    },
    {
     "name": "stdout",
     "output_type": "stream",
     "text": [
      "[[-0.34386328 -0.70329443 -0.923708    0.16343946 -1.29756244 -1.26876805\n",
      "  -1.20242967 -0.8425369  -0.36696742  0.28782025 -0.35327736]]\n"
     ]
    },
    {
     "name": "stderr",
     "output_type": "stream",
     "text": [
      "C:\\Users\\PC\\AppData\\Local\\Temp\\ipykernel_2408\\1505815251.py:2: FutureWarning: YF.download() has changed argument auto_adjust default to True\n",
      "  Data=yf.download(tickers=ticker,period=\"5y\",interval=\"1d\",group_by=ticker)\n",
      "[*********************100%***********************]  1 of 1 completed\n",
      "C:\\Users\\PC\\AppData\\Local\\Programs\\Python\\Python310\\lib\\site-packages\\xgboost\\training.py:183: UserWarning: [15:58:05] WARNING: C:\\actions-runner\\_work\\xgboost\\xgboost\\src\\learner.cc:738: \n",
      "Parameters: { \"use_label_encoder\" } are not used.\n",
      "\n",
      "  bst.update(dtrain, iteration=i, fobj=obj)\n",
      "C:\\Users\\PC\\AppData\\Local\\Temp\\ipykernel_2408\\1505815251.py:229: FutureWarning: YF.download() has changed argument auto_adjust default to True\n",
      "  data_Test = yf.download(tickers=ticker, period=\"60d\", interval=\"1d\", group_by=\"ticker\")\n",
      "[*********************100%***********************]  1 of 1 completed\n"
     ]
    },
    {
     "name": "stdout",
     "output_type": "stream",
     "text": [
      "[[-0.20071608 -0.4070835   0.0321843  -1.87306433  0.167513   -0.92623395\n",
      "  -0.69973078 -0.24367937 -0.23232861 -0.29167916 -0.86621247]]\n"
     ]
    },
    {
     "name": "stderr",
     "output_type": "stream",
     "text": [
      "C:\\Users\\PC\\AppData\\Local\\Temp\\ipykernel_2408\\1505815251.py:2: FutureWarning: YF.download() has changed argument auto_adjust default to True\n",
      "  Data=yf.download(tickers=ticker,period=\"5y\",interval=\"1d\",group_by=ticker)\n",
      "[*********************100%***********************]  1 of 1 completed\n",
      "C:\\Users\\PC\\AppData\\Local\\Programs\\Python\\Python310\\lib\\site-packages\\xgboost\\training.py:183: UserWarning: [15:58:09] WARNING: C:\\actions-runner\\_work\\xgboost\\xgboost\\src\\learner.cc:738: \n",
      "Parameters: { \"use_label_encoder\" } are not used.\n",
      "\n",
      "  bst.update(dtrain, iteration=i, fobj=obj)\n",
      "C:\\Users\\PC\\AppData\\Local\\Temp\\ipykernel_2408\\1505815251.py:229: FutureWarning: YF.download() has changed argument auto_adjust default to True\n",
      "  data_Test = yf.download(tickers=ticker, period=\"60d\", interval=\"1d\", group_by=\"ticker\")\n",
      "[*********************100%***********************]  1 of 1 completed\n"
     ]
    },
    {
     "name": "stdout",
     "output_type": "stream",
     "text": [
      "[[-0.88094361 -0.92374451 -0.79447711 -0.96312385  0.28645692 -0.56006951\n",
      "   0.12042845 -0.59913642 -1.07619458 -0.46066756 -2.39705381]]\n"
     ]
    },
    {
     "name": "stderr",
     "output_type": "stream",
     "text": [
      "C:\\Users\\PC\\AppData\\Local\\Temp\\ipykernel_2408\\1505815251.py:2: FutureWarning: YF.download() has changed argument auto_adjust default to True\n",
      "  Data=yf.download(tickers=ticker,period=\"5y\",interval=\"1d\",group_by=ticker)\n",
      "[*********************100%***********************]  1 of 1 completed\n",
      "C:\\Users\\PC\\AppData\\Local\\Programs\\Python\\Python310\\lib\\site-packages\\xgboost\\training.py:183: UserWarning: [15:58:12] WARNING: C:\\actions-runner\\_work\\xgboost\\xgboost\\src\\learner.cc:738: \n",
      "Parameters: { \"use_label_encoder\" } are not used.\n",
      "\n",
      "  bst.update(dtrain, iteration=i, fobj=obj)\n",
      "C:\\Users\\PC\\AppData\\Local\\Temp\\ipykernel_2408\\1505815251.py:229: FutureWarning: YF.download() has changed argument auto_adjust default to True\n",
      "  data_Test = yf.download(tickers=ticker, period=\"60d\", interval=\"1d\", group_by=\"ticker\")\n",
      "[*********************100%***********************]  1 of 1 completed\n"
     ]
    },
    {
     "name": "stdout",
     "output_type": "stream",
     "text": [
      "[[ 1.74617737  0.41444026  1.12264656  1.58709237 -0.27918965  1.27353108\n",
      "   1.1416494   0.81820217  1.15744281  1.59804899  0.55748816]]\n"
     ]
    },
    {
     "name": "stderr",
     "output_type": "stream",
     "text": [
      "C:\\Users\\PC\\AppData\\Local\\Temp\\ipykernel_2408\\1505815251.py:2: FutureWarning: YF.download() has changed argument auto_adjust default to True\n",
      "  Data=yf.download(tickers=ticker,period=\"5y\",interval=\"1d\",group_by=ticker)\n",
      "[*********************100%***********************]  1 of 1 completed\n",
      "C:\\Users\\PC\\AppData\\Local\\Programs\\Python\\Python310\\lib\\site-packages\\xgboost\\training.py:183: UserWarning: [15:58:16] WARNING: C:\\actions-runner\\_work\\xgboost\\xgboost\\src\\learner.cc:738: \n",
      "Parameters: { \"use_label_encoder\" } are not used.\n",
      "\n",
      "  bst.update(dtrain, iteration=i, fobj=obj)\n",
      "C:\\Users\\PC\\AppData\\Local\\Temp\\ipykernel_2408\\1505815251.py:229: FutureWarning: YF.download() has changed argument auto_adjust default to True\n",
      "  data_Test = yf.download(tickers=ticker, period=\"60d\", interval=\"1d\", group_by=\"ticker\")\n",
      "[*********************100%***********************]  1 of 1 completed\n"
     ]
    },
    {
     "name": "stdout",
     "output_type": "stream",
     "text": [
      "[[2.226829   3.09995287 1.35192987 1.03956176 1.8386879  1.46263183\n",
      "  1.42154059 1.090924   2.58306055 2.41653978 0.29333497]]\n"
     ]
    },
    {
     "name": "stderr",
     "output_type": "stream",
     "text": [
      "C:\\Users\\PC\\AppData\\Local\\Temp\\ipykernel_2408\\1505815251.py:2: FutureWarning: YF.download() has changed argument auto_adjust default to True\n",
      "  Data=yf.download(tickers=ticker,period=\"5y\",interval=\"1d\",group_by=ticker)\n",
      "[*********************100%***********************]  1 of 1 completed\n",
      "C:\\Users\\PC\\AppData\\Local\\Programs\\Python\\Python310\\lib\\site-packages\\xgboost\\training.py:183: UserWarning: [15:58:20] WARNING: C:\\actions-runner\\_work\\xgboost\\xgboost\\src\\learner.cc:738: \n",
      "Parameters: { \"use_label_encoder\" } are not used.\n",
      "\n",
      "  bst.update(dtrain, iteration=i, fobj=obj)\n",
      "C:\\Users\\PC\\AppData\\Local\\Temp\\ipykernel_2408\\1505815251.py:229: FutureWarning: YF.download() has changed argument auto_adjust default to True\n",
      "  data_Test = yf.download(tickers=ticker, period=\"60d\", interval=\"1d\", group_by=\"ticker\")\n",
      "[*********************100%***********************]  1 of 1 completed\n"
     ]
    },
    {
     "name": "stdout",
     "output_type": "stream",
     "text": [
      "[[ 0.39602155 -0.79073031  0.31871231 -1.11912129  0.63422663  0.06589612\n",
      "   0.33500173  0.28018233 -0.01879088  0.28925078 -0.86371893]]\n"
     ]
    },
    {
     "name": "stderr",
     "output_type": "stream",
     "text": [
      "C:\\Users\\PC\\AppData\\Local\\Temp\\ipykernel_2408\\1505815251.py:2: FutureWarning: YF.download() has changed argument auto_adjust default to True\n",
      "  Data=yf.download(tickers=ticker,period=\"5y\",interval=\"1d\",group_by=ticker)\n",
      "[*********************100%***********************]  1 of 1 completed\n",
      "C:\\Users\\PC\\AppData\\Local\\Programs\\Python\\Python310\\lib\\site-packages\\xgboost\\training.py:183: UserWarning: [15:58:24] WARNING: C:\\actions-runner\\_work\\xgboost\\xgboost\\src\\learner.cc:738: \n",
      "Parameters: { \"use_label_encoder\" } are not used.\n",
      "\n",
      "  bst.update(dtrain, iteration=i, fobj=obj)\n",
      "C:\\Users\\PC\\AppData\\Local\\Temp\\ipykernel_2408\\1505815251.py:229: FutureWarning: YF.download() has changed argument auto_adjust default to True\n",
      "  data_Test = yf.download(tickers=ticker, period=\"60d\", interval=\"1d\", group_by=\"ticker\")\n",
      "[*********************100%***********************]  1 of 1 completed\n"
     ]
    },
    {
     "name": "stdout",
     "output_type": "stream",
     "text": [
      "[[-0.9820887  -0.86899627 -0.97560516 -1.33228075  0.92847982 -1.42056402\n",
      "  -1.31165837 -0.93222403 -0.7851641  -0.8859551  -0.51212547]]\n"
     ]
    },
    {
     "name": "stderr",
     "output_type": "stream",
     "text": [
      "C:\\Users\\PC\\AppData\\Local\\Temp\\ipykernel_2408\\1505815251.py:2: FutureWarning: YF.download() has changed argument auto_adjust default to True\n",
      "  Data=yf.download(tickers=ticker,period=\"5y\",interval=\"1d\",group_by=ticker)\n",
      "[*********************100%***********************]  1 of 1 completed\n",
      "C:\\Users\\PC\\AppData\\Local\\Programs\\Python\\Python310\\lib\\site-packages\\xgboost\\training.py:183: UserWarning: [15:58:28] WARNING: C:\\actions-runner\\_work\\xgboost\\xgboost\\src\\learner.cc:738: \n",
      "Parameters: { \"use_label_encoder\" } are not used.\n",
      "\n",
      "  bst.update(dtrain, iteration=i, fobj=obj)\n",
      "C:\\Users\\PC\\AppData\\Local\\Temp\\ipykernel_2408\\1505815251.py:229: FutureWarning: YF.download() has changed argument auto_adjust default to True\n",
      "  data_Test = yf.download(tickers=ticker, period=\"60d\", interval=\"1d\", group_by=\"ticker\")\n",
      "[*********************100%***********************]  1 of 1 completed\n"
     ]
    },
    {
     "name": "stdout",
     "output_type": "stream",
     "text": [
      "[[-1.12119059  0.11062651 -1.20461341 -0.83090464  0.03244229 -1.00699187\n",
      "  -0.44275061 -1.19896951 -0.80299252 -1.08780108 -2.08614073]]\n"
     ]
    },
    {
     "name": "stderr",
     "output_type": "stream",
     "text": [
      "C:\\Users\\PC\\AppData\\Local\\Temp\\ipykernel_2408\\1505815251.py:2: FutureWarning: YF.download() has changed argument auto_adjust default to True\n",
      "  Data=yf.download(tickers=ticker,period=\"5y\",interval=\"1d\",group_by=ticker)\n",
      "[*********************100%***********************]  1 of 1 completed\n",
      "C:\\Users\\PC\\AppData\\Local\\Programs\\Python\\Python310\\lib\\site-packages\\xgboost\\training.py:183: UserWarning: [15:58:32] WARNING: C:\\actions-runner\\_work\\xgboost\\xgboost\\src\\learner.cc:738: \n",
      "Parameters: { \"use_label_encoder\" } are not used.\n",
      "\n",
      "  bst.update(dtrain, iteration=i, fobj=obj)\n",
      "C:\\Users\\PC\\AppData\\Local\\Temp\\ipykernel_2408\\1505815251.py:229: FutureWarning: YF.download() has changed argument auto_adjust default to True\n",
      "  data_Test = yf.download(tickers=ticker, period=\"60d\", interval=\"1d\", group_by=\"ticker\")\n",
      "[*********************100%***********************]  1 of 1 completed\n"
     ]
    },
    {
     "name": "stdout",
     "output_type": "stream",
     "text": [
      "[[ 2.18855504  2.21661665  1.23714646  1.55232222 -0.91236502  1.51381754\n",
      "   1.68341943  1.29722516  2.04710376  1.90644519 -0.40660831]]\n"
     ]
    },
    {
     "name": "stderr",
     "output_type": "stream",
     "text": [
      "C:\\Users\\PC\\AppData\\Local\\Temp\\ipykernel_2408\\1505815251.py:2: FutureWarning: YF.download() has changed argument auto_adjust default to True\n",
      "  Data=yf.download(tickers=ticker,period=\"5y\",interval=\"1d\",group_by=ticker)\n",
      "[*********************100%***********************]  1 of 1 completed\n",
      "C:\\Users\\PC\\AppData\\Local\\Programs\\Python\\Python310\\lib\\site-packages\\xgboost\\training.py:183: UserWarning: [15:58:35] WARNING: C:\\actions-runner\\_work\\xgboost\\xgboost\\src\\learner.cc:738: \n",
      "Parameters: { \"use_label_encoder\" } are not used.\n",
      "\n",
      "  bst.update(dtrain, iteration=i, fobj=obj)\n",
      "C:\\Users\\PC\\AppData\\Local\\Temp\\ipykernel_2408\\1505815251.py:229: FutureWarning: YF.download() has changed argument auto_adjust default to True\n",
      "  data_Test = yf.download(tickers=ticker, period=\"60d\", interval=\"1d\", group_by=\"ticker\")\n",
      "[*********************100%***********************]  1 of 1 completed\n"
     ]
    },
    {
     "name": "stdout",
     "output_type": "stream",
     "text": [
      "[[ 0.75445459  2.39905598  0.95694183 -0.21409274  1.06925215  1.43864704\n",
      "   1.47030197  0.85910583  0.5148005  -0.12598635  0.03850893]]\n"
     ]
    },
    {
     "name": "stderr",
     "output_type": "stream",
     "text": [
      "C:\\Users\\PC\\AppData\\Local\\Temp\\ipykernel_2408\\1505815251.py:2: FutureWarning: YF.download() has changed argument auto_adjust default to True\n",
      "  Data=yf.download(tickers=ticker,period=\"5y\",interval=\"1d\",group_by=ticker)\n",
      "[*********************100%***********************]  1 of 1 completed\n",
      "C:\\Users\\PC\\AppData\\Local\\Programs\\Python\\Python310\\lib\\site-packages\\xgboost\\training.py:183: UserWarning: [15:58:39] WARNING: C:\\actions-runner\\_work\\xgboost\\xgboost\\src\\learner.cc:738: \n",
      "Parameters: { \"use_label_encoder\" } are not used.\n",
      "\n",
      "  bst.update(dtrain, iteration=i, fobj=obj)\n",
      "C:\\Users\\PC\\AppData\\Local\\Temp\\ipykernel_2408\\1505815251.py:229: FutureWarning: YF.download() has changed argument auto_adjust default to True\n",
      "  data_Test = yf.download(tickers=ticker, period=\"60d\", interval=\"1d\", group_by=\"ticker\")\n",
      "[*********************100%***********************]  1 of 1 completed\n"
     ]
    },
    {
     "name": "stdout",
     "output_type": "stream",
     "text": [
      "[[-1.03005152 -0.92356553 -0.91294863 -0.85439447  0.31164201 -1.23750351\n",
      "  -0.82170967 -1.04995354 -0.8409936  -0.82511394 -1.4910483 ]]\n"
     ]
    },
    {
     "name": "stderr",
     "output_type": "stream",
     "text": [
      "C:\\Users\\PC\\AppData\\Local\\Temp\\ipykernel_2408\\1505815251.py:2: FutureWarning: YF.download() has changed argument auto_adjust default to True\n",
      "  Data=yf.download(tickers=ticker,period=\"5y\",interval=\"1d\",group_by=ticker)\n",
      "[*********************100%***********************]  1 of 1 completed\n",
      "C:\\Users\\PC\\AppData\\Local\\Programs\\Python\\Python310\\lib\\site-packages\\xgboost\\training.py:183: UserWarning: [15:58:43] WARNING: C:\\actions-runner\\_work\\xgboost\\xgboost\\src\\learner.cc:738: \n",
      "Parameters: { \"use_label_encoder\" } are not used.\n",
      "\n",
      "  bst.update(dtrain, iteration=i, fobj=obj)\n",
      "C:\\Users\\PC\\AppData\\Local\\Temp\\ipykernel_2408\\1505815251.py:229: FutureWarning: YF.download() has changed argument auto_adjust default to True\n",
      "  data_Test = yf.download(tickers=ticker, period=\"60d\", interval=\"1d\", group_by=\"ticker\")\n",
      "[*********************100%***********************]  1 of 1 completed\n"
     ]
    },
    {
     "name": "stdout",
     "output_type": "stream",
     "text": [
      "[[ 0.78853983  2.4944504   0.78992146  1.18364903  0.04009547  1.08213899\n",
      "   1.3199605   0.8090312   0.67926483  0.18457083 -0.70600101]]\n"
     ]
    },
    {
     "name": "stderr",
     "output_type": "stream",
     "text": [
      "C:\\Users\\PC\\AppData\\Local\\Temp\\ipykernel_2408\\1505815251.py:2: FutureWarning: YF.download() has changed argument auto_adjust default to True\n",
      "  Data=yf.download(tickers=ticker,period=\"5y\",interval=\"1d\",group_by=ticker)\n",
      "[*********************100%***********************]  1 of 1 completed\n",
      "C:\\Users\\PC\\AppData\\Local\\Programs\\Python\\Python310\\lib\\site-packages\\xgboost\\training.py:183: UserWarning: [15:58:46] WARNING: C:\\actions-runner\\_work\\xgboost\\xgboost\\src\\learner.cc:738: \n",
      "Parameters: { \"use_label_encoder\" } are not used.\n",
      "\n",
      "  bst.update(dtrain, iteration=i, fobj=obj)\n",
      "C:\\Users\\PC\\AppData\\Local\\Temp\\ipykernel_2408\\1505815251.py:229: FutureWarning: YF.download() has changed argument auto_adjust default to True\n",
      "  data_Test = yf.download(tickers=ticker, period=\"60d\", interval=\"1d\", group_by=\"ticker\")\n",
      "[*********************100%***********************]  1 of 1 completed\n"
     ]
    },
    {
     "name": "stdout",
     "output_type": "stream",
     "text": [
      "[[-0.79308159 -0.40311411 -0.95473376 -0.99291199 -0.45375694 -1.32241021\n",
      "  -1.36636888 -0.96598348 -0.4974643  -0.61349238  0.01819607]]\n"
     ]
    },
    {
     "name": "stderr",
     "output_type": "stream",
     "text": [
      "C:\\Users\\PC\\AppData\\Local\\Temp\\ipykernel_2408\\1505815251.py:2: FutureWarning: YF.download() has changed argument auto_adjust default to True\n",
      "  Data=yf.download(tickers=ticker,period=\"5y\",interval=\"1d\",group_by=ticker)\n",
      "[*********************100%***********************]  1 of 1 completed\n",
      "C:\\Users\\PC\\AppData\\Local\\Programs\\Python\\Python310\\lib\\site-packages\\xgboost\\training.py:183: UserWarning: [15:58:50] WARNING: C:\\actions-runner\\_work\\xgboost\\xgboost\\src\\learner.cc:738: \n",
      "Parameters: { \"use_label_encoder\" } are not used.\n",
      "\n",
      "  bst.update(dtrain, iteration=i, fobj=obj)\n",
      "C:\\Users\\PC\\AppData\\Local\\Temp\\ipykernel_2408\\1505815251.py:229: FutureWarning: YF.download() has changed argument auto_adjust default to True\n",
      "  data_Test = yf.download(tickers=ticker, period=\"60d\", interval=\"1d\", group_by=\"ticker\")\n",
      "[*********************100%***********************]  1 of 1 completed\n"
     ]
    },
    {
     "name": "stdout",
     "output_type": "stream",
     "text": [
      "[[ 0.5050066  -0.86795158  0.22645889 -0.36632286 -0.14398907 -0.31655165\n",
      "   0.01432997  0.19901043  0.18660632  0.70398668 -1.20267079]]\n"
     ]
    },
    {
     "name": "stderr",
     "output_type": "stream",
     "text": [
      "C:\\Users\\PC\\AppData\\Local\\Temp\\ipykernel_2408\\1505815251.py:2: FutureWarning: YF.download() has changed argument auto_adjust default to True\n",
      "  Data=yf.download(tickers=ticker,period=\"5y\",interval=\"1d\",group_by=ticker)\n",
      "[*********************100%***********************]  1 of 1 completed\n",
      "C:\\Users\\PC\\AppData\\Local\\Programs\\Python\\Python310\\lib\\site-packages\\xgboost\\training.py:183: UserWarning: [15:58:53] WARNING: C:\\actions-runner\\_work\\xgboost\\xgboost\\src\\learner.cc:738: \n",
      "Parameters: { \"use_label_encoder\" } are not used.\n",
      "\n",
      "  bst.update(dtrain, iteration=i, fobj=obj)\n",
      "C:\\Users\\PC\\AppData\\Local\\Temp\\ipykernel_2408\\1505815251.py:229: FutureWarning: YF.download() has changed argument auto_adjust default to True\n",
      "  data_Test = yf.download(tickers=ticker, period=\"60d\", interval=\"1d\", group_by=\"ticker\")\n",
      "[*********************100%***********************]  1 of 1 completed\n"
     ]
    },
    {
     "name": "stdout",
     "output_type": "stream",
     "text": [
      "[[ 0.72855004  0.47153298  0.94102255 -0.86827694 -0.02118748  0.6649808\n",
      "   0.97542131  0.69333165  0.6214754   0.7446476  -1.09035864]]\n"
     ]
    },
    {
     "name": "stderr",
     "output_type": "stream",
     "text": [
      "C:\\Users\\PC\\AppData\\Local\\Temp\\ipykernel_2408\\1505815251.py:2: FutureWarning: YF.download() has changed argument auto_adjust default to True\n",
      "  Data=yf.download(tickers=ticker,period=\"5y\",interval=\"1d\",group_by=ticker)\n",
      "[*********************100%***********************]  1 of 1 completed\n",
      "C:\\Users\\PC\\AppData\\Local\\Programs\\Python\\Python310\\lib\\site-packages\\xgboost\\training.py:183: UserWarning: [15:58:58] WARNING: C:\\actions-runner\\_work\\xgboost\\xgboost\\src\\learner.cc:738: \n",
      "Parameters: { \"use_label_encoder\" } are not used.\n",
      "\n",
      "  bst.update(dtrain, iteration=i, fobj=obj)\n",
      "C:\\Users\\PC\\AppData\\Local\\Temp\\ipykernel_2408\\1505815251.py:229: FutureWarning: YF.download() has changed argument auto_adjust default to True\n",
      "  data_Test = yf.download(tickers=ticker, period=\"60d\", interval=\"1d\", group_by=\"ticker\")\n",
      "[*********************100%***********************]  1 of 1 completed\n"
     ]
    },
    {
     "name": "stdout",
     "output_type": "stream",
     "text": [
      "[[ 1.41323142  0.26246815  1.21690838 -0.3159122  -1.27131954  1.05744464\n",
      "   0.92089457  0.81765857  0.94926194  0.72407049  0.56528857]]\n"
     ]
    },
    {
     "name": "stderr",
     "output_type": "stream",
     "text": [
      "C:\\Users\\PC\\AppData\\Local\\Temp\\ipykernel_2408\\1505815251.py:2: FutureWarning: YF.download() has changed argument auto_adjust default to True\n",
      "  Data=yf.download(tickers=ticker,period=\"5y\",interval=\"1d\",group_by=ticker)\n",
      "[*********************100%***********************]  1 of 1 completed\n",
      "C:\\Users\\PC\\AppData\\Local\\Programs\\Python\\Python310\\lib\\site-packages\\xgboost\\training.py:183: UserWarning: [15:59:01] WARNING: C:\\actions-runner\\_work\\xgboost\\xgboost\\src\\learner.cc:738: \n",
      "Parameters: { \"use_label_encoder\" } are not used.\n",
      "\n",
      "  bst.update(dtrain, iteration=i, fobj=obj)\n",
      "C:\\Users\\PC\\AppData\\Local\\Temp\\ipykernel_2408\\1505815251.py:229: FutureWarning: YF.download() has changed argument auto_adjust default to True\n",
      "  data_Test = yf.download(tickers=ticker, period=\"60d\", interval=\"1d\", group_by=\"ticker\")\n",
      "[*********************100%***********************]  1 of 1 completed\n"
     ]
    },
    {
     "name": "stdout",
     "output_type": "stream",
     "text": [
      "[[ 0.24137301 -0.13842883  0.14540522  0.06314528 -0.5425054   0.2349139\n",
      "   0.66271901  0.16390518  0.05393468  0.54969887 -1.31254819]]\n"
     ]
    },
    {
     "name": "stderr",
     "output_type": "stream",
     "text": [
      "C:\\Users\\PC\\AppData\\Local\\Temp\\ipykernel_2408\\1505815251.py:2: FutureWarning: YF.download() has changed argument auto_adjust default to True\n",
      "  Data=yf.download(tickers=ticker,period=\"5y\",interval=\"1d\",group_by=ticker)\n",
      "[*********************100%***********************]  1 of 1 completed\n",
      "C:\\Users\\PC\\AppData\\Local\\Programs\\Python\\Python310\\lib\\site-packages\\xgboost\\training.py:183: UserWarning: [15:59:04] WARNING: C:\\actions-runner\\_work\\xgboost\\xgboost\\src\\learner.cc:738: \n",
      "Parameters: { \"use_label_encoder\" } are not used.\n",
      "\n",
      "  bst.update(dtrain, iteration=i, fobj=obj)\n",
      "C:\\Users\\PC\\AppData\\Local\\Temp\\ipykernel_2408\\1505815251.py:229: FutureWarning: YF.download() has changed argument auto_adjust default to True\n",
      "  data_Test = yf.download(tickers=ticker, period=\"60d\", interval=\"1d\", group_by=\"ticker\")\n",
      "[*********************100%***********************]  1 of 1 completed\n"
     ]
    },
    {
     "name": "stdout",
     "output_type": "stream",
     "text": [
      "[[ 0.82233662  0.56336811  0.5218391  -0.18861762  1.22742778  0.75476564\n",
      "   0.71830189  0.45885866  0.53878558  0.48727382  0.19897264]]\n"
     ]
    },
    {
     "name": "stderr",
     "output_type": "stream",
     "text": [
      "C:\\Users\\PC\\AppData\\Local\\Temp\\ipykernel_2408\\1505815251.py:2: FutureWarning: YF.download() has changed argument auto_adjust default to True\n",
      "  Data=yf.download(tickers=ticker,period=\"5y\",interval=\"1d\",group_by=ticker)\n",
      "[*********************100%***********************]  1 of 1 completed\n",
      "C:\\Users\\PC\\AppData\\Local\\Programs\\Python\\Python310\\lib\\site-packages\\xgboost\\training.py:183: UserWarning: [15:59:08] WARNING: C:\\actions-runner\\_work\\xgboost\\xgboost\\src\\learner.cc:738: \n",
      "Parameters: { \"use_label_encoder\" } are not used.\n",
      "\n",
      "  bst.update(dtrain, iteration=i, fobj=obj)\n",
      "C:\\Users\\PC\\AppData\\Local\\Temp\\ipykernel_2408\\1505815251.py:229: FutureWarning: YF.download() has changed argument auto_adjust default to True\n",
      "  data_Test = yf.download(tickers=ticker, period=\"60d\", interval=\"1d\", group_by=\"ticker\")\n",
      "[*********************100%***********************]  1 of 1 completed\n"
     ]
    },
    {
     "name": "stdout",
     "output_type": "stream",
     "text": [
      "[[-0.20310795 -1.05372639 -0.4222626  -0.52251145  0.21770995 -1.11893532\n",
      "  -0.98110304 -0.37209101 -0.271109   -0.07010098 -0.5839937 ]]\n"
     ]
    },
    {
     "name": "stderr",
     "output_type": "stream",
     "text": [
      "C:\\Users\\PC\\AppData\\Local\\Temp\\ipykernel_2408\\1505815251.py:2: FutureWarning: YF.download() has changed argument auto_adjust default to True\n",
      "  Data=yf.download(tickers=ticker,period=\"5y\",interval=\"1d\",group_by=ticker)\n",
      "[*********************100%***********************]  1 of 1 completed\n",
      "C:\\Users\\PC\\AppData\\Local\\Programs\\Python\\Python310\\lib\\site-packages\\xgboost\\training.py:183: UserWarning: [15:59:11] WARNING: C:\\actions-runner\\_work\\xgboost\\xgboost\\src\\learner.cc:738: \n",
      "Parameters: { \"use_label_encoder\" } are not used.\n",
      "\n",
      "  bst.update(dtrain, iteration=i, fobj=obj)\n",
      "C:\\Users\\PC\\AppData\\Local\\Temp\\ipykernel_2408\\1505815251.py:229: FutureWarning: YF.download() has changed argument auto_adjust default to True\n",
      "  data_Test = yf.download(tickers=ticker, period=\"60d\", interval=\"1d\", group_by=\"ticker\")\n",
      "[*********************100%***********************]  1 of 1 completed\n"
     ]
    },
    {
     "name": "stdout",
     "output_type": "stream",
     "text": [
      "[[ 0.32664295  0.49142349  0.36008604  0.13793373  0.40675763  0.6220177\n",
      "   0.83942404  0.35864419  0.11433599  0.15388777 -0.7459618 ]]\n"
     ]
    },
    {
     "name": "stderr",
     "output_type": "stream",
     "text": [
      "C:\\Users\\PC\\AppData\\Local\\Temp\\ipykernel_2408\\1505815251.py:2: FutureWarning: YF.download() has changed argument auto_adjust default to True\n",
      "  Data=yf.download(tickers=ticker,period=\"5y\",interval=\"1d\",group_by=ticker)\n",
      "[*********************100%***********************]  1 of 1 completed\n",
      "C:\\Users\\PC\\AppData\\Local\\Programs\\Python\\Python310\\lib\\site-packages\\xgboost\\training.py:183: UserWarning: [15:59:15] WARNING: C:\\actions-runner\\_work\\xgboost\\xgboost\\src\\learner.cc:738: \n",
      "Parameters: { \"use_label_encoder\" } are not used.\n",
      "\n",
      "  bst.update(dtrain, iteration=i, fobj=obj)\n",
      "C:\\Users\\PC\\AppData\\Local\\Temp\\ipykernel_2408\\1505815251.py:229: FutureWarning: YF.download() has changed argument auto_adjust default to True\n",
      "  data_Test = yf.download(tickers=ticker, period=\"60d\", interval=\"1d\", group_by=\"ticker\")\n",
      "[*********************100%***********************]  1 of 1 completed\n"
     ]
    },
    {
     "name": "stdout",
     "output_type": "stream",
     "text": [
      "[[-0.14971215 -0.1601936  -0.02818272 -1.96099747 -0.39986671 -0.61604877\n",
      "  -0.3561021  -0.08956054 -0.14069751 -0.20842528 -0.96241226]]\n"
     ]
    },
    {
     "name": "stderr",
     "output_type": "stream",
     "text": [
      "C:\\Users\\PC\\AppData\\Local\\Temp\\ipykernel_2408\\1505815251.py:2: FutureWarning: YF.download() has changed argument auto_adjust default to True\n",
      "  Data=yf.download(tickers=ticker,period=\"5y\",interval=\"1d\",group_by=ticker)\n",
      "[*********************100%***********************]  1 of 1 completed\n",
      "C:\\Users\\PC\\AppData\\Local\\Programs\\Python\\Python310\\lib\\site-packages\\xgboost\\training.py:183: UserWarning: [15:59:19] WARNING: C:\\actions-runner\\_work\\xgboost\\xgboost\\src\\learner.cc:738: \n",
      "Parameters: { \"use_label_encoder\" } are not used.\n",
      "\n",
      "  bst.update(dtrain, iteration=i, fobj=obj)\n",
      "C:\\Users\\PC\\AppData\\Local\\Temp\\ipykernel_2408\\1505815251.py:229: FutureWarning: YF.download() has changed argument auto_adjust default to True\n",
      "  data_Test = yf.download(tickers=ticker, period=\"60d\", interval=\"1d\", group_by=\"ticker\")\n",
      "[*********************100%***********************]  1 of 1 completed\n"
     ]
    },
    {
     "name": "stdout",
     "output_type": "stream",
     "text": [
      "[[ 0.78730785  0.63540894  0.57825221  0.09105857  0.21950953  0.49291248\n",
      "   0.69299278  0.45234062  0.27820241  0.09070167 -0.59251964]]\n"
     ]
    },
    {
     "name": "stderr",
     "output_type": "stream",
     "text": [
      "C:\\Users\\PC\\AppData\\Local\\Temp\\ipykernel_2408\\1505815251.py:2: FutureWarning: YF.download() has changed argument auto_adjust default to True\n",
      "  Data=yf.download(tickers=ticker,period=\"5y\",interval=\"1d\",group_by=ticker)\n",
      "[*********************100%***********************]  1 of 1 completed\n",
      "C:\\Users\\PC\\AppData\\Local\\Programs\\Python\\Python310\\lib\\site-packages\\xgboost\\training.py:183: UserWarning: [15:59:23] WARNING: C:\\actions-runner\\_work\\xgboost\\xgboost\\src\\learner.cc:738: \n",
      "Parameters: { \"use_label_encoder\" } are not used.\n",
      "\n",
      "  bst.update(dtrain, iteration=i, fobj=obj)\n",
      "C:\\Users\\PC\\AppData\\Local\\Temp\\ipykernel_2408\\1505815251.py:229: FutureWarning: YF.download() has changed argument auto_adjust default to True\n",
      "  data_Test = yf.download(tickers=ticker, period=\"60d\", interval=\"1d\", group_by=\"ticker\")\n",
      "[*********************100%***********************]  1 of 1 completed\n"
     ]
    },
    {
     "name": "stdout",
     "output_type": "stream",
     "text": [
      "[[-0.22566949 -0.53228641 -0.16628813 -0.6989156   0.01878127 -0.50437982\n",
      "   0.18287758 -0.20162717 -0.23480481 -0.02003245 -2.50813708]]\n"
     ]
    },
    {
     "name": "stderr",
     "output_type": "stream",
     "text": [
      "C:\\Users\\PC\\AppData\\Local\\Temp\\ipykernel_2408\\1505815251.py:2: FutureWarning: YF.download() has changed argument auto_adjust default to True\n",
      "  Data=yf.download(tickers=ticker,period=\"5y\",interval=\"1d\",group_by=ticker)\n",
      "[*********************100%***********************]  1 of 1 completed\n",
      "C:\\Users\\PC\\AppData\\Local\\Programs\\Python\\Python310\\lib\\site-packages\\xgboost\\training.py:183: UserWarning: [15:59:27] WARNING: C:\\actions-runner\\_work\\xgboost\\xgboost\\src\\learner.cc:738: \n",
      "Parameters: { \"use_label_encoder\" } are not used.\n",
      "\n",
      "  bst.update(dtrain, iteration=i, fobj=obj)\n",
      "C:\\Users\\PC\\AppData\\Local\\Temp\\ipykernel_2408\\1505815251.py:229: FutureWarning: YF.download() has changed argument auto_adjust default to True\n",
      "  data_Test = yf.download(tickers=ticker, period=\"60d\", interval=\"1d\", group_by=\"ticker\")\n",
      "[*********************100%***********************]  1 of 1 completed\n"
     ]
    },
    {
     "name": "stdout",
     "output_type": "stream",
     "text": [
      "[[ 0.87836238  1.29274031  0.89030587  0.44165575  2.03158411  0.91347753\n",
      "   1.05592334  0.84410646  0.83127939  0.74294794 -0.4339752 ]]\n"
     ]
    },
    {
     "name": "stderr",
     "output_type": "stream",
     "text": [
      "C:\\Users\\PC\\AppData\\Local\\Temp\\ipykernel_2408\\1505815251.py:2: FutureWarning: YF.download() has changed argument auto_adjust default to True\n",
      "  Data=yf.download(tickers=ticker,period=\"5y\",interval=\"1d\",group_by=ticker)\n",
      "[*********************100%***********************]  1 of 1 completed\n",
      "C:\\Users\\PC\\AppData\\Local\\Programs\\Python\\Python310\\lib\\site-packages\\xgboost\\training.py:183: UserWarning: [15:59:31] WARNING: C:\\actions-runner\\_work\\xgboost\\xgboost\\src\\learner.cc:738: \n",
      "Parameters: { \"use_label_encoder\" } are not used.\n",
      "\n",
      "  bst.update(dtrain, iteration=i, fobj=obj)\n",
      "C:\\Users\\PC\\AppData\\Local\\Temp\\ipykernel_2408\\1505815251.py:229: FutureWarning: YF.download() has changed argument auto_adjust default to True\n",
      "  data_Test = yf.download(tickers=ticker, period=\"60d\", interval=\"1d\", group_by=\"ticker\")\n",
      "[*********************100%***********************]  1 of 1 completed\n"
     ]
    },
    {
     "name": "stdout",
     "output_type": "stream",
     "text": [
      "[[ 0.5485991   1.16580308  1.08552038 -1.20960571  0.16052262  1.4168482\n",
      "   1.64203593  1.2246447   0.35504596 -0.0786866  -0.49611913]]\n"
     ]
    },
    {
     "name": "stderr",
     "output_type": "stream",
     "text": [
      "C:\\Users\\PC\\AppData\\Local\\Temp\\ipykernel_2408\\1505815251.py:2: FutureWarning: YF.download() has changed argument auto_adjust default to True\n",
      "  Data=yf.download(tickers=ticker,period=\"5y\",interval=\"1d\",group_by=ticker)\n",
      "[*********************100%***********************]  1 of 1 completed\n",
      "C:\\Users\\PC\\AppData\\Local\\Programs\\Python\\Python310\\lib\\site-packages\\xgboost\\training.py:183: UserWarning: [15:59:35] WARNING: C:\\actions-runner\\_work\\xgboost\\xgboost\\src\\learner.cc:738: \n",
      "Parameters: { \"use_label_encoder\" } are not used.\n",
      "\n",
      "  bst.update(dtrain, iteration=i, fobj=obj)\n",
      "C:\\Users\\PC\\AppData\\Local\\Temp\\ipykernel_2408\\1505815251.py:229: FutureWarning: YF.download() has changed argument auto_adjust default to True\n",
      "  data_Test = yf.download(tickers=ticker, period=\"60d\", interval=\"1d\", group_by=\"ticker\")\n",
      "[*********************100%***********************]  1 of 1 completed\n"
     ]
    },
    {
     "name": "stdout",
     "output_type": "stream",
     "text": [
      "[[-0.31313634 -0.03710927  0.1648377  -1.63070715  0.05574092 -0.70140056\n",
      "  -0.95096783  0.17094736 -0.19336394 -0.28602089  0.75110682]]\n"
     ]
    },
    {
     "name": "stderr",
     "output_type": "stream",
     "text": [
      "C:\\Users\\PC\\AppData\\Local\\Temp\\ipykernel_2408\\1505815251.py:2: FutureWarning: YF.download() has changed argument auto_adjust default to True\n",
      "  Data=yf.download(tickers=ticker,period=\"5y\",interval=\"1d\",group_by=ticker)\n",
      "[*********************100%***********************]  1 of 1 completed\n",
      "C:\\Users\\PC\\AppData\\Local\\Programs\\Python\\Python310\\lib\\site-packages\\xgboost\\training.py:183: UserWarning: [15:59:38] WARNING: C:\\actions-runner\\_work\\xgboost\\xgboost\\src\\learner.cc:738: \n",
      "Parameters: { \"use_label_encoder\" } are not used.\n",
      "\n",
      "  bst.update(dtrain, iteration=i, fobj=obj)\n",
      "C:\\Users\\PC\\AppData\\Local\\Temp\\ipykernel_2408\\1505815251.py:229: FutureWarning: YF.download() has changed argument auto_adjust default to True\n",
      "  data_Test = yf.download(tickers=ticker, period=\"60d\", interval=\"1d\", group_by=\"ticker\")\n",
      "[*********************100%***********************]  1 of 1 completed\n"
     ]
    },
    {
     "name": "stdout",
     "output_type": "stream",
     "text": [
      "[[ 0.55129741 -0.0201838   0.43977102  0.27666049  0.64803049  0.09108282\n",
      "   0.30310049  0.30896981  0.32798279  0.34409286 -0.68494085]]\n"
     ]
    },
    {
     "name": "stderr",
     "output_type": "stream",
     "text": [
      "C:\\Users\\PC\\AppData\\Local\\Temp\\ipykernel_2408\\1505815251.py:2: FutureWarning: YF.download() has changed argument auto_adjust default to True\n",
      "  Data=yf.download(tickers=ticker,period=\"5y\",interval=\"1d\",group_by=ticker)\n",
      "[*********************100%***********************]  1 of 1 completed\n",
      "C:\\Users\\PC\\AppData\\Local\\Programs\\Python\\Python310\\lib\\site-packages\\xgboost\\training.py:183: UserWarning: [15:59:42] WARNING: C:\\actions-runner\\_work\\xgboost\\xgboost\\src\\learner.cc:738: \n",
      "Parameters: { \"use_label_encoder\" } are not used.\n",
      "\n",
      "  bst.update(dtrain, iteration=i, fobj=obj)\n",
      "C:\\Users\\PC\\AppData\\Local\\Temp\\ipykernel_2408\\1505815251.py:229: FutureWarning: YF.download() has changed argument auto_adjust default to True\n",
      "  data_Test = yf.download(tickers=ticker, period=\"60d\", interval=\"1d\", group_by=\"ticker\")\n",
      "[*********************100%***********************]  1 of 1 completed\n"
     ]
    },
    {
     "name": "stdout",
     "output_type": "stream",
     "text": [
      "[[2.47223485 1.09920267 2.54771749 0.83667526 0.06229952 1.3578619\n",
      "  1.21645361 2.8475471  2.11067506 1.86919952 0.61581574]]\n"
     ]
    },
    {
     "name": "stderr",
     "output_type": "stream",
     "text": [
      "C:\\Users\\PC\\AppData\\Local\\Temp\\ipykernel_2408\\1505815251.py:2: FutureWarning: YF.download() has changed argument auto_adjust default to True\n",
      "  Data=yf.download(tickers=ticker,period=\"5y\",interval=\"1d\",group_by=ticker)\n",
      "[*********************100%***********************]  1 of 1 completed\n",
      "C:\\Users\\PC\\AppData\\Local\\Programs\\Python\\Python310\\lib\\site-packages\\xgboost\\training.py:183: UserWarning: [15:59:45] WARNING: C:\\actions-runner\\_work\\xgboost\\xgboost\\src\\learner.cc:738: \n",
      "Parameters: { \"use_label_encoder\" } are not used.\n",
      "\n",
      "  bst.update(dtrain, iteration=i, fobj=obj)\n",
      "C:\\Users\\PC\\AppData\\Local\\Temp\\ipykernel_2408\\1505815251.py:229: FutureWarning: YF.download() has changed argument auto_adjust default to True\n",
      "  data_Test = yf.download(tickers=ticker, period=\"60d\", interval=\"1d\", group_by=\"ticker\")\n",
      "[*********************100%***********************]  1 of 1 completed\n"
     ]
    },
    {
     "name": "stdout",
     "output_type": "stream",
     "text": [
      "[[-1.24720405 -0.54822585 -1.17614658 -0.84579061  0.06580415 -0.76461806\n",
      "  -0.17572066 -1.07348787 -1.0522302  -0.89526147 -2.14196765]]\n"
     ]
    },
    {
     "name": "stderr",
     "output_type": "stream",
     "text": [
      "C:\\Users\\PC\\AppData\\Local\\Temp\\ipykernel_2408\\1505815251.py:2: FutureWarning: YF.download() has changed argument auto_adjust default to True\n",
      "  Data=yf.download(tickers=ticker,period=\"5y\",interval=\"1d\",group_by=ticker)\n",
      "[*********************100%***********************]  1 of 1 completed\n",
      "C:\\Users\\PC\\AppData\\Local\\Programs\\Python\\Python310\\lib\\site-packages\\xgboost\\training.py:183: UserWarning: [15:59:49] WARNING: C:\\actions-runner\\_work\\xgboost\\xgboost\\src\\learner.cc:738: \n",
      "Parameters: { \"use_label_encoder\" } are not used.\n",
      "\n",
      "  bst.update(dtrain, iteration=i, fobj=obj)\n",
      "C:\\Users\\PC\\AppData\\Local\\Temp\\ipykernel_2408\\1505815251.py:229: FutureWarning: YF.download() has changed argument auto_adjust default to True\n",
      "  data_Test = yf.download(tickers=ticker, period=\"60d\", interval=\"1d\", group_by=\"ticker\")\n",
      "[*********************100%***********************]  1 of 1 completed\n"
     ]
    },
    {
     "name": "stdout",
     "output_type": "stream",
     "text": [
      "[[ 0.54831816 -0.35229617  0.38365968 -0.18906476  0.37100051  0.29226636\n",
      "   0.53236809  0.40377943  0.16245149  0.47257268 -0.81785168]]\n"
     ]
    },
    {
     "name": "stderr",
     "output_type": "stream",
     "text": [
      "C:\\Users\\PC\\AppData\\Local\\Temp\\ipykernel_2408\\1505815251.py:2: FutureWarning: YF.download() has changed argument auto_adjust default to True\n",
      "  Data=yf.download(tickers=ticker,period=\"5y\",interval=\"1d\",group_by=ticker)\n",
      "[*********************100%***********************]  1 of 1 completed\n",
      "C:\\Users\\PC\\AppData\\Local\\Programs\\Python\\Python310\\lib\\site-packages\\xgboost\\training.py:183: UserWarning: [15:59:53] WARNING: C:\\actions-runner\\_work\\xgboost\\xgboost\\src\\learner.cc:738: \n",
      "Parameters: { \"use_label_encoder\" } are not used.\n",
      "\n",
      "  bst.update(dtrain, iteration=i, fobj=obj)\n",
      "C:\\Users\\PC\\AppData\\Local\\Temp\\ipykernel_2408\\1505815251.py:229: FutureWarning: YF.download() has changed argument auto_adjust default to True\n",
      "  data_Test = yf.download(tickers=ticker, period=\"60d\", interval=\"1d\", group_by=\"ticker\")\n",
      "[*********************100%***********************]  1 of 1 completed\n"
     ]
    },
    {
     "name": "stdout",
     "output_type": "stream",
     "text": [
      "[[-0.4538948   0.32441819  0.13575501 -1.18177748  0.04238528 -0.3562888\n",
      "  -0.63404072  0.01439391 -0.29028263 -0.60893772  0.93856038]]\n"
     ]
    },
    {
     "name": "stderr",
     "output_type": "stream",
     "text": [
      "C:\\Users\\PC\\AppData\\Local\\Temp\\ipykernel_2408\\1505815251.py:2: FutureWarning: YF.download() has changed argument auto_adjust default to True\n",
      "  Data=yf.download(tickers=ticker,period=\"5y\",interval=\"1d\",group_by=ticker)\n",
      "[*********************100%***********************]  1 of 1 completed\n",
      "C:\\Users\\PC\\AppData\\Local\\Programs\\Python\\Python310\\lib\\site-packages\\xgboost\\training.py:183: UserWarning: [15:59:57] WARNING: C:\\actions-runner\\_work\\xgboost\\xgboost\\src\\learner.cc:738: \n",
      "Parameters: { \"use_label_encoder\" } are not used.\n",
      "\n",
      "  bst.update(dtrain, iteration=i, fobj=obj)\n",
      "C:\\Users\\PC\\AppData\\Local\\Temp\\ipykernel_2408\\1505815251.py:229: FutureWarning: YF.download() has changed argument auto_adjust default to True\n",
      "  data_Test = yf.download(tickers=ticker, period=\"60d\", interval=\"1d\", group_by=\"ticker\")\n",
      "[*********************100%***********************]  1 of 1 completed\n"
     ]
    },
    {
     "name": "stdout",
     "output_type": "stream",
     "text": [
      "[[ 0.33160627 -0.2354547   0.36211644  0.21109998 -0.22302497  0.09316977\n",
      "   0.24227668  0.37677217  0.01253397  0.23004341 -0.48508504]]\n"
     ]
    },
    {
     "name": "stderr",
     "output_type": "stream",
     "text": [
      "C:\\Users\\PC\\AppData\\Local\\Temp\\ipykernel_2408\\1505815251.py:2: FutureWarning: YF.download() has changed argument auto_adjust default to True\n",
      "  Data=yf.download(tickers=ticker,period=\"5y\",interval=\"1d\",group_by=ticker)\n",
      "[*********************100%***********************]  1 of 1 completed\n",
      "C:\\Users\\PC\\AppData\\Local\\Programs\\Python\\Python310\\lib\\site-packages\\xgboost\\training.py:183: UserWarning: [16:00:01] WARNING: C:\\actions-runner\\_work\\xgboost\\xgboost\\src\\learner.cc:738: \n",
      "Parameters: { \"use_label_encoder\" } are not used.\n",
      "\n",
      "  bst.update(dtrain, iteration=i, fobj=obj)\n",
      "C:\\Users\\PC\\AppData\\Local\\Temp\\ipykernel_2408\\1505815251.py:229: FutureWarning: YF.download() has changed argument auto_adjust default to True\n",
      "  data_Test = yf.download(tickers=ticker, period=\"60d\", interval=\"1d\", group_by=\"ticker\")\n",
      "[*********************100%***********************]  1 of 1 completed\n"
     ]
    },
    {
     "name": "stdout",
     "output_type": "stream",
     "text": [
      "[[-0.85439967 -0.48746109 -1.07159035 -0.80491778 -0.24945532 -1.21143221\n",
      "  -0.82952197 -1.29904519 -0.58895371 -0.30088863 -1.44744687]]\n"
     ]
    },
    {
     "name": "stderr",
     "output_type": "stream",
     "text": [
      "C:\\Users\\PC\\AppData\\Local\\Temp\\ipykernel_2408\\1505815251.py:2: FutureWarning: YF.download() has changed argument auto_adjust default to True\n",
      "  Data=yf.download(tickers=ticker,period=\"5y\",interval=\"1d\",group_by=ticker)\n",
      "[*********************100%***********************]  1 of 1 completed\n",
      "C:\\Users\\PC\\AppData\\Local\\Programs\\Python\\Python310\\lib\\site-packages\\xgboost\\training.py:183: UserWarning: [16:00:05] WARNING: C:\\actions-runner\\_work\\xgboost\\xgboost\\src\\learner.cc:738: \n",
      "Parameters: { \"use_label_encoder\" } are not used.\n",
      "\n",
      "  bst.update(dtrain, iteration=i, fobj=obj)\n",
      "C:\\Users\\PC\\AppData\\Local\\Temp\\ipykernel_2408\\1505815251.py:229: FutureWarning: YF.download() has changed argument auto_adjust default to True\n",
      "  data_Test = yf.download(tickers=ticker, period=\"60d\", interval=\"1d\", group_by=\"ticker\")\n",
      "[*********************100%***********************]  1 of 1 completed\n"
     ]
    },
    {
     "name": "stdout",
     "output_type": "stream",
     "text": [
      "[[-0.1650475  -0.37685155 -0.16656756  0.20502421  0.63667956  0.11141738\n",
      "   0.66970259 -0.15567149 -0.32522145  0.0111308  -1.9276805 ]]\n"
     ]
    },
    {
     "name": "stderr",
     "output_type": "stream",
     "text": [
      "C:\\Users\\PC\\AppData\\Local\\Temp\\ipykernel_2408\\1505815251.py:2: FutureWarning: YF.download() has changed argument auto_adjust default to True\n",
      "  Data=yf.download(tickers=ticker,period=\"5y\",interval=\"1d\",group_by=ticker)\n",
      "[*********************100%***********************]  1 of 1 completed\n",
      "C:\\Users\\PC\\AppData\\Local\\Programs\\Python\\Python310\\lib\\site-packages\\xgboost\\training.py:183: UserWarning: [16:00:09] WARNING: C:\\actions-runner\\_work\\xgboost\\xgboost\\src\\learner.cc:738: \n",
      "Parameters: { \"use_label_encoder\" } are not used.\n",
      "\n",
      "  bst.update(dtrain, iteration=i, fobj=obj)\n",
      "C:\\Users\\PC\\AppData\\Local\\Temp\\ipykernel_2408\\1505815251.py:229: FutureWarning: YF.download() has changed argument auto_adjust default to True\n",
      "  data_Test = yf.download(tickers=ticker, period=\"60d\", interval=\"1d\", group_by=\"ticker\")\n",
      "[*********************100%***********************]  1 of 1 completed\n"
     ]
    },
    {
     "name": "stdout",
     "output_type": "stream",
     "text": [
      "[[0.74693318 0.50279736 0.7198557  0.02493303 1.07280728 0.21460384\n",
      "  0.12144818 0.39614494 0.76454416 0.50284483 0.32549098]]\n"
     ]
    },
    {
     "name": "stderr",
     "output_type": "stream",
     "text": [
      "C:\\Users\\PC\\AppData\\Local\\Temp\\ipykernel_2408\\1505815251.py:2: FutureWarning: YF.download() has changed argument auto_adjust default to True\n",
      "  Data=yf.download(tickers=ticker,period=\"5y\",interval=\"1d\",group_by=ticker)\n",
      "[*********************100%***********************]  1 of 1 completed\n",
      "C:\\Users\\PC\\AppData\\Local\\Programs\\Python\\Python310\\lib\\site-packages\\xgboost\\training.py:183: UserWarning: [16:00:12] WARNING: C:\\actions-runner\\_work\\xgboost\\xgboost\\src\\learner.cc:738: \n",
      "Parameters: { \"use_label_encoder\" } are not used.\n",
      "\n",
      "  bst.update(dtrain, iteration=i, fobj=obj)\n",
      "C:\\Users\\PC\\AppData\\Local\\Temp\\ipykernel_2408\\1505815251.py:229: FutureWarning: YF.download() has changed argument auto_adjust default to True\n",
      "  data_Test = yf.download(tickers=ticker, period=\"60d\", interval=\"1d\", group_by=\"ticker\")\n",
      "[*********************100%***********************]  1 of 1 completed\n"
     ]
    },
    {
     "name": "stdout",
     "output_type": "stream",
     "text": [
      "[[-1.53660267 -3.49189185 -1.53863431  0.52897716  1.17339784 -1.98831949\n",
      "  -1.98714962 -1.37082322 -1.66631925 -1.17276552 -0.20864474]]\n"
     ]
    },
    {
     "name": "stderr",
     "output_type": "stream",
     "text": [
      "C:\\Users\\PC\\AppData\\Local\\Temp\\ipykernel_2408\\1505815251.py:2: FutureWarning: YF.download() has changed argument auto_adjust default to True\n",
      "  Data=yf.download(tickers=ticker,period=\"5y\",interval=\"1d\",group_by=ticker)\n",
      "[*********************100%***********************]  1 of 1 completed\n",
      "C:\\Users\\PC\\AppData\\Local\\Programs\\Python\\Python310\\lib\\site-packages\\xgboost\\training.py:183: UserWarning: [16:00:15] WARNING: C:\\actions-runner\\_work\\xgboost\\xgboost\\src\\learner.cc:738: \n",
      "Parameters: { \"use_label_encoder\" } are not used.\n",
      "\n",
      "  bst.update(dtrain, iteration=i, fobj=obj)\n",
      "C:\\Users\\PC\\AppData\\Local\\Temp\\ipykernel_2408\\1505815251.py:229: FutureWarning: YF.download() has changed argument auto_adjust default to True\n",
      "  data_Test = yf.download(tickers=ticker, period=\"60d\", interval=\"1d\", group_by=\"ticker\")\n",
      "[*********************100%***********************]  1 of 1 completed\n"
     ]
    },
    {
     "name": "stdout",
     "output_type": "stream",
     "text": [
      "[[-0.79038781 -1.62281086 -0.92853647 -0.81361668  0.92255971 -1.3935096\n",
      "  -1.1684427  -1.08352921 -0.67492119 -0.62830827 -0.92700592]]\n"
     ]
    },
    {
     "name": "stderr",
     "output_type": "stream",
     "text": [
      "C:\\Users\\PC\\AppData\\Local\\Temp\\ipykernel_2408\\1505815251.py:2: FutureWarning: YF.download() has changed argument auto_adjust default to True\n",
      "  Data=yf.download(tickers=ticker,period=\"5y\",interval=\"1d\",group_by=ticker)\n",
      "[*********************100%***********************]  1 of 1 completed\n",
      "C:\\Users\\PC\\AppData\\Local\\Programs\\Python\\Python310\\lib\\site-packages\\xgboost\\training.py:183: UserWarning: [16:00:19] WARNING: C:\\actions-runner\\_work\\xgboost\\xgboost\\src\\learner.cc:738: \n",
      "Parameters: { \"use_label_encoder\" } are not used.\n",
      "\n",
      "  bst.update(dtrain, iteration=i, fobj=obj)\n",
      "C:\\Users\\PC\\AppData\\Local\\Temp\\ipykernel_2408\\1505815251.py:229: FutureWarning: YF.download() has changed argument auto_adjust default to True\n",
      "  data_Test = yf.download(tickers=ticker, period=\"60d\", interval=\"1d\", group_by=\"ticker\")\n",
      "[*********************100%***********************]  1 of 1 completed\n"
     ]
    },
    {
     "name": "stdout",
     "output_type": "stream",
     "text": [
      "[[-0.97639527  0.59287556 -0.36529979 -0.89343856 -0.35688775  0.04052533\n",
      "   0.25658189 -0.47460727 -0.49751823 -1.11071924 -0.7391792 ]]\n"
     ]
    },
    {
     "name": "stderr",
     "output_type": "stream",
     "text": [
      "C:\\Users\\PC\\AppData\\Local\\Temp\\ipykernel_2408\\1505815251.py:2: FutureWarning: YF.download() has changed argument auto_adjust default to True\n",
      "  Data=yf.download(tickers=ticker,period=\"5y\",interval=\"1d\",group_by=ticker)\n",
      "[*********************100%***********************]  1 of 1 completed\n",
      "C:\\Users\\PC\\AppData\\Local\\Programs\\Python\\Python310\\lib\\site-packages\\xgboost\\training.py:183: UserWarning: [16:00:23] WARNING: C:\\actions-runner\\_work\\xgboost\\xgboost\\src\\learner.cc:738: \n",
      "Parameters: { \"use_label_encoder\" } are not used.\n",
      "\n",
      "  bst.update(dtrain, iteration=i, fobj=obj)\n",
      "C:\\Users\\PC\\AppData\\Local\\Temp\\ipykernel_2408\\1505815251.py:229: FutureWarning: YF.download() has changed argument auto_adjust default to True\n",
      "  data_Test = yf.download(tickers=ticker, period=\"60d\", interval=\"1d\", group_by=\"ticker\")\n",
      "[*********************100%***********************]  1 of 1 completed\n"
     ]
    },
    {
     "name": "stdout",
     "output_type": "stream",
     "text": [
      "[[-0.37151217 -1.22818586 -0.50151557 -0.42598209  1.15503795 -0.61947983\n",
      "  -0.68304887 -0.64130827 -0.33009526 -0.2210366   0.13954892]]\n"
     ]
    },
    {
     "name": "stderr",
     "output_type": "stream",
     "text": [
      "C:\\Users\\PC\\AppData\\Local\\Temp\\ipykernel_2408\\1505815251.py:2: FutureWarning: YF.download() has changed argument auto_adjust default to True\n",
      "  Data=yf.download(tickers=ticker,period=\"5y\",interval=\"1d\",group_by=ticker)\n",
      "[*********************100%***********************]  1 of 1 completed\n",
      "C:\\Users\\PC\\AppData\\Local\\Programs\\Python\\Python310\\lib\\site-packages\\xgboost\\training.py:183: UserWarning: [16:00:27] WARNING: C:\\actions-runner\\_work\\xgboost\\xgboost\\src\\learner.cc:738: \n",
      "Parameters: { \"use_label_encoder\" } are not used.\n",
      "\n",
      "  bst.update(dtrain, iteration=i, fobj=obj)\n",
      "C:\\Users\\PC\\AppData\\Local\\Temp\\ipykernel_2408\\1505815251.py:229: FutureWarning: YF.download() has changed argument auto_adjust default to True\n",
      "  data_Test = yf.download(tickers=ticker, period=\"60d\", interval=\"1d\", group_by=\"ticker\")\n",
      "[*********************100%***********************]  1 of 1 completed\n"
     ]
    },
    {
     "name": "stdout",
     "output_type": "stream",
     "text": [
      "[[ 1.37903764  0.37611608  0.87943078  0.79481971 -0.24121698  0.97256202\n",
      "   1.04370833  0.75619062  0.58066445  0.65093686 -0.13126338]]\n"
     ]
    },
    {
     "name": "stderr",
     "output_type": "stream",
     "text": [
      "C:\\Users\\PC\\AppData\\Local\\Temp\\ipykernel_2408\\1505815251.py:2: FutureWarning: YF.download() has changed argument auto_adjust default to True\n",
      "  Data=yf.download(tickers=ticker,period=\"5y\",interval=\"1d\",group_by=ticker)\n",
      "[*********************100%***********************]  1 of 1 completed\n",
      "C:\\Users\\PC\\AppData\\Local\\Programs\\Python\\Python310\\lib\\site-packages\\xgboost\\training.py:183: UserWarning: [16:00:30] WARNING: C:\\actions-runner\\_work\\xgboost\\xgboost\\src\\learner.cc:738: \n",
      "Parameters: { \"use_label_encoder\" } are not used.\n",
      "\n",
      "  bst.update(dtrain, iteration=i, fobj=obj)\n",
      "C:\\Users\\PC\\AppData\\Local\\Temp\\ipykernel_2408\\1505815251.py:229: FutureWarning: YF.download() has changed argument auto_adjust default to True\n",
      "  data_Test = yf.download(tickers=ticker, period=\"60d\", interval=\"1d\", group_by=\"ticker\")\n",
      "[*********************100%***********************]  1 of 1 completed\n"
     ]
    }
   ],
   "source": [
    "results = []\n",
    "\n",
    "for ticker in ticker_list:\n",
    "    result = process_stock(ticker)\n",
    "    results.append(result)\n",
    "\n",
    "final_df = pd.DataFrame(results)\n",
    "\n",
    "\n",
    "print(final_df)\n"
   ]
  },
  {
   "cell_type": "code",
   "execution_count": null,
   "id": "120ad13e-55d0-4222-acd3-2e3713be3e18",
   "metadata": {},
   "outputs": [],
   "source": [
    "from datetime import date\n",
    "\n",
    "today = date.today().strftime(\"%Y-%m-%d\")  # e.g., \"2025-07-08\"\n",
    "filename = f\"{today}_Screener_India.csv\"\n",
    "\n",
    "final_df.to_csv(filename, index=False)"
   ]
  },
  {
   "cell_type": "code",
   "execution_count": null,
   "id": "6c9a79f1-ecbc-40bc-a52a-a3564ed18394",
   "metadata": {},
   "outputs": [],
   "source": []
  }
 ],
 "metadata": {
  "kernelspec": {
   "display_name": "Python 3 (ipykernel)",
   "language": "python",
   "name": "python3"
  },
  "language_info": {
   "codemirror_mode": {
    "name": "ipython",
    "version": 3
   },
   "file_extension": ".py",
   "mimetype": "text/x-python",
   "name": "python",
   "nbconvert_exporter": "python",
   "pygments_lexer": "ipython3",
   "version": "3.10.11"
  }
 },
 "nbformat": 4,
 "nbformat_minor": 5
}
