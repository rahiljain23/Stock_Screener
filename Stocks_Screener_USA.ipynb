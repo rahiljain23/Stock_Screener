{
 "cells": [
  {
   "cell_type": "code",
   "execution_count": 1,
   "id": "3d612f9b-7f15-4355-9d39-579246e875fd",
   "metadata": {},
   "outputs": [],
   "source": [
    "import yfinance as yf\n",
    "import pandas as pd\n",
    "import pandas_ta as ta\n"
   ]
  },
  {
   "cell_type": "code",
   "execution_count": 5,
   "id": "bc234a34-3613-438e-b44d-6902ada78ce1",
   "metadata": {},
   "outputs": [],
   "source": [
    "ticker_list = [\n",
    "    \"NVDA\", \"MSFT\", \"AAPL\", \"AMZN\", \"GOOGL\", \"META\", \"TSLA\", \"JPM\", \"WMT\",\n",
    "    \"LLY\", \"V\", \"ORCL\", \"NFLX\", \"MA\", \"XOM\", \"UNH\", \"BAC\", \"PFE\", \"ABBV\",\n",
    "    \"CSCO\", \"PEP\", \"MRK\", \"COST\", \"MCD\", \"AVGO\", \"NKE\", \"CRM\", \"HON\", \"WFC\",\n",
    "    \"C\", \"TXN\", \"ABT\", \"ACN\", \"MDT\", \"PM\", \"BMY\", \"VZ\", \"LIN\", \"LOW\",\n",
    "    \"UPS\", \"RTX\", \"DHR\", \"UNP\", \"TMO\", \"MS\", \"SCHW\", \"NEE\", \"CVX\", \"PNC\"\n",
    "]\n",
    "\n"
   ]
  },
  {
   "cell_type": "code",
   "execution_count": 6,
   "id": "e18c624a-910e-409d-aee8-f2ecdc48cfa0",
   "metadata": {},
   "outputs": [],
   "source": [
    "def process_stock(ticker):\n",
    "    Data=yf.download(tickers=ticker,period=\"5y\",interval=\"1d\",group_by=ticker)\n",
    "    \n",
    "    Data.columns = Data.columns.droplevel(0)\n",
    "    # Data.head(5)\n",
    "    \n",
    "    ## Add Useful KPIs\n",
    "    \n",
    "    Data['RSI']=ta.rsi(Data[\"Close\"], length=14)\n",
    "    \n",
    "    info = yf.Ticker(ticker).info\n",
    "    Data['Sector']=info.get(\"sector\")\n",
    "    Data['Industry']=info.get(\"industry\")\n",
    "    \n",
    "    MACD=ta.macd(Data[\"Close\"], fast=12, slow=26, signal=9)\n",
    "    Data=pd.concat([Data,MACD],axis=1)\n",
    "    \n",
    "    Data.rename(columns={\n",
    "        \"MACD_12_26_9\": \"MACD_Line\",\n",
    "        \"MACDs_12_26_9\": \"MACD_Signal\",\n",
    "        \"MACDh_12_26_9\": \"MACD_Histogram\"\n",
    "    }, inplace=True)\n",
    "    \n",
    "    \n",
    "    Data[\"EMA_20\"] = ta.ema(Data[\"Close\"], length=20)\n",
    "    Data[\"EMA_50\"] = ta.ema(Data[\"Close\"], length=50)\n",
    "    \n",
    "    # Add Bollinger Bands (20-day default)\n",
    "    bbands = ta.bbands(Data[\"Close\"], length=20)\n",
    "    \n",
    "    # Combine with main DataFrame\n",
    "    Data = pd.concat([Data, bbands], axis=1)\n",
    "    \n",
    "    # Optional rename (if needed)\n",
    "    Data.rename(columns={\n",
    "        \"BBL_20_2.0\": \"BB_Lower\",\n",
    "        \"BBM_20_2.0\": \"BB_Middle\",\n",
    "        \"BBU_20_2.0\": \"BB_Upper\",\n",
    "        \"BBB_20_2.0\": \"BB_Bandwidth\",\n",
    "        \"BBP_20_2.0\": \"BB_Percent\"\n",
    "    }, inplace=True)\n",
    "    \n",
    "    # Add ADX (default 14-period)\n",
    "    adx_df = ta.adx(Data[\"High\"], Data[\"Low\"], Data[\"Close\"], length=14)\n",
    "    \n",
    "    # Join it with main DataFrame\n",
    "    Data = pd.concat([Data, adx_df], axis=1)\n",
    "    \n",
    "    # Optional rename (for clarity)\n",
    "    Data.rename(columns={\n",
    "        \"ADX_14\": \"ADX\",\n",
    "        \"DMP_14\": \"DI_Plus\",\n",
    "        \"DMN_14\": \"DI_Minus\"\n",
    "    }, inplace=True)\n",
    "    \n",
    "    # Add ATR (default length=14)\n",
    "    Data[\"ATR_14\"] = ta.atr(Data[\"High\"], Data[\"Low\"], Data[\"Close\"], length=14)\n",
    "    \n",
    "    # Add Stochastic Oscillator (default k=14, d=3)\n",
    "    stoch_df = ta.stoch(Data[\"High\"], Data[\"Low\"], Data[\"Close\"], k=14, d=3)\n",
    "    \n",
    "    # Combine with main DataFrame\n",
    "    Data = pd.concat([Data, stoch_df], axis=1)\n",
    "    \n",
    "    # Optional rename\n",
    "    Data.rename(columns={\n",
    "        \"STOCHk_14_3_3\": \"Stoch_%K\",\n",
    "        \"STOCHd_14_3_3\": \"Stoch_%D\"\n",
    "    }, inplace=True)\n",
    "    \n",
    "    \n",
    "    \n",
    "    # Add CCI (default period = 20)\n",
    "    Data[\"CCI_20\"] = ta.cci(Data[\"High\"], Data[\"Low\"], Data[\"Close\"], length=20)\n",
    "    \n",
    "    # Data.to_csv(\"test.csv\")\n",
    "    \n",
    "    Data.reset_index(inplace=True)\n",
    "    \n",
    "    ## Feature Engineering\n",
    "    \n",
    "    Data['Volume1']=Data['Volume'].shift(1)\n",
    "    Data['Volume_Inc']=(Data['Volume']-Data['Volume1'])/Data['Volume1']\n",
    "    \n",
    "    Data['EMA_20_Price']=(Data['Close']-Data['EMA_20'])/Data['EMA_20']\n",
    "    Data['EMA_50_Price']=(Data['Close']-Data['EMA_50'])/Data['EMA_50']\n",
    "    \n",
    "    Data['Stoch_k_D']=(Data['Stoch_%K']-Data['Stoch_%D'])\n",
    "    \n",
    "    Data['Close1']=Data['Close'].shift(10)\n",
    "    Data['Close_Inc']=(Data['Close1']-Data['Close'])/Data['Close']\n",
    "    \n",
    "    # Data.head(50)\n",
    "    \n",
    "    def Buy_Variable(row):\n",
    "        if row['Close_Inc']>=0.04:\n",
    "            return 1\n",
    "        else:\n",
    "            return 0\n",
    "    \n",
    "    Data['Buy']=Data.apply(Buy_Variable,axis=1)\n",
    "    \n",
    "    ## Data Clean\n",
    "    \n",
    "    Clean_Data=Data[['RSI', 'MACD_Histogram','BB_Percent','ADX','ATR_14', 'Stoch_%K',\n",
    "           'Stoch_%D', 'CCI_20','Volume_Inc', 'EMA_20_Price',\n",
    "           'EMA_50_Price', 'Stoch_k_D', 'Buy']]\n",
    "    \n",
    "    Clean_Data=Clean_Data.dropna(subset=['RSI', 'MACD_Histogram','BB_Percent','ADX','ATR_14', 'Stoch_%K',\n",
    "           'Stoch_%D', 'CCI_20','Volume_Inc', 'EMA_20_Price',\n",
    "           'EMA_50_Price'])\n",
    "    \n",
    "    # Clean_Data.head(10)\n",
    "    \n",
    "    ## Visualize\n",
    "    \n",
    "    import seaborn as sns\n",
    "    import matplotlib.pyplot as plt\n",
    "    \n",
    "    features = [\"RSI\", \"MACD_Histogram\", \"BB_Percent\", \"ADX\", \"ATR_14\", \n",
    "                \"Stoch_%K\", \"CCI_20\", \"EMA_20_Price\", \"Volume_Inc\"]\n",
    "    \n",
    "    # for feature in features:\n",
    "    #     plt.figure(figsize=(6, 3))\n",
    "    #     sns.kdeplot(data=Clean_Data[Clean_Data[\"Buy\"] == 1], x=feature, label=\"Buy = 1\", shade=True)\n",
    "    #     sns.kdeplot(data=Clean_Data[Clean_Data[\"Buy\"] == 0], x=feature, label=\"Buy = 0\", shade=True)\n",
    "    #     plt.title(f\"{feature} vs Buy\")\n",
    "    #     plt.legend()\n",
    "    #     plt.tight_layout()\n",
    "    #     plt.show()\n",
    "    \n",
    "    \n",
    "    # for feature in features:\n",
    "    #     plt.figure(figsize=(6, 3))\n",
    "    #     sns.boxplot(data=Clean_Data, x=\"Buy\", y=feature)\n",
    "    #     plt.title(f\"{feature} by Buy value\")\n",
    "    #     plt.tight_layout()\n",
    "    #     plt.show()\n",
    "    \n",
    "    \n",
    "    Clean_Data.drop(columns=\"Volume_Inc\",inplace=True)\n",
    "    \n",
    "    # # Step 1: Compute correlation matrix\n",
    "    # corr_matrix = Clean_Data.corr()\n",
    "    \n",
    "    # # Step 2: Set up the heatmap\n",
    "    # plt.figure(figsize=(12, 8))\n",
    "    # sns.heatmap(corr_matrix, annot=True, fmt=\".2f\", cmap=\"coolwarm\", linewidths=0.5)\n",
    "    # plt.title(\"Correlation Heatmap\")\n",
    "    # plt.tight_layout()\n",
    "    # plt.show()\n",
    "    \n",
    "    # Clean_Data.head(5)\n",
    "    \n",
    "    ## Model Build\n",
    "    \n",
    "    from sklearn.preprocessing import StandardScaler\n",
    "    \n",
    "    scaler = StandardScaler()\n",
    "    X_scaled = scaler.fit_transform(Clean_Data.drop(\"Buy\", axis=1))\n",
    "    \n",
    "    \n",
    "    \n",
    "    # X_scaled\n",
    "    \n",
    "    from sklearn.model_selection import train_test_split\n",
    "    y=Clean_Data['Buy']\n",
    "    \n",
    "    X_train, X_test, y_train, y_test = train_test_split(\n",
    "        X_scaled, y, test_size=0.2, random_state=42, stratify=y\n",
    "    )\n",
    "    \n",
    "    # ### Logisitic\n",
    "    \n",
    "    # from sklearn.linear_model import LogisticRegression\n",
    "    \n",
    "    # model=LogisticRegression()\n",
    "    # model.fit(X_train, y_train)\n",
    "    # y=model.predict(X_test)\n",
    "    # y_proba = model.predict_proba(X_test)[:, 1]\n",
    "    # from sklearn.metrics import classification_report,roc_auc_score\n",
    "    # print(\"🔹 Logistic Regression:\")\n",
    "    # print(classification_report(y_test, y))\n",
    "    # print(f\"ROC AUC Score: {roc_auc_score(y_test, y_proba):.4f}\")\n",
    "    \n",
    "    # ### Random Forest\n",
    "    \n",
    "    # from sklearn.ensemble import RandomForestClassifier\n",
    "    \n",
    "    # model=RandomForestClassifier(random_state=42)\n",
    "    # model.fit(X_train, y_train)\n",
    "    # y=model.predict(X_test)\n",
    "    # y_proba = model.predict_proba(X_test)[:, 1]\n",
    "    # feature_importances = model.feature_importances_\n",
    "    # features = Clean_Data.drop(\"Buy\", axis=1).columns\n",
    "    # # Combine into a DataFrame\n",
    "    # F_Imp = pd.DataFrame({\n",
    "    #     \"Feature\": features,\n",
    "    #     \"Importance\": feature_importances\n",
    "    # }).sort_values(\"Importance\", ascending=False)\n",
    "    # print(F_Imp)\n",
    "    # from sklearn.metrics import classification_report\n",
    "    # print(\"🔹 RandomForestClassifier:\")\n",
    "    # print(classification_report(y_test, y))\n",
    "    # print(f\"ROC AUC Score: {roc_auc_score(y_test, y_proba):.4f}\")\n",
    "    \n",
    "    ### XG Boost\n",
    "    \n",
    "    from xgboost import XGBClassifier\n",
    "    model=XGBClassifier(use_label_encoder=False, eval_metric='logloss', random_state=42)\n",
    "    model.fit(X_train, y_train)\n",
    "    y=model.predict(X_test)\n",
    "    y_proba = model.predict_proba(X_test)[:, 1]\n",
    "    feature_importances = model.feature_importances_\n",
    "    features = Clean_Data.drop(\"Buy\", axis=1).columns\n",
    "    # Combine into a DataFrame\n",
    "    F_Imp = pd.DataFrame({\n",
    "        \"Feature\": features,\n",
    "        \"Importance\": feature_importances\n",
    "    }).sort_values(\"Importance\", ascending=False)\n",
    "    # print(F_Imp)\n",
    "    from sklearn.metrics import classification_report\n",
    "    # print(\"🔹 XGBClassifier: \")\n",
    "    # print(classification_report(y_test, y))\n",
    "    # print(f\"ROC AUC Score: {roc_auc_score(y_test, y_proba):.4f}\")\n",
    "    \n",
    "    \n",
    "    \n",
    "    data_Test = yf.download(tickers=ticker, period=\"60d\", interval=\"1d\", group_by=\"ticker\")\n",
    "    data_Test.columns = data_Test.columns.droplevel(0)\n",
    "    \n",
    "    data_Test['RSI']=ta.rsi(data_Test[\"Close\"], length=14)\n",
    "    \n",
    "    info = yf.Ticker(ticker).info\n",
    "    data_Test['Sector']=info.get(\"sector\")\n",
    "    data_Test['Industry']=info.get(\"industry\")\n",
    "    \n",
    "    MACD=ta.macd(data_Test[\"Close\"], fast=12, slow=26, signal=9)\n",
    "    data_Test=pd.concat([data_Test,MACD],axis=1)\n",
    "    \n",
    "    data_Test.rename(columns={\n",
    "        \"MACD_12_26_9\": \"MACD_Line\",\n",
    "        \"MACDs_12_26_9\": \"MACD_Signal\",\n",
    "        \"MACDh_12_26_9\": \"MACD_Histogram\"\n",
    "    }, inplace=True)\n",
    "    \n",
    "    \n",
    "    data_Test[\"EMA_20\"] = ta.ema(data_Test[\"Close\"], length=20)\n",
    "    data_Test[\"EMA_50\"] = ta.ema(data_Test[\"Close\"], length=50)\n",
    "    \n",
    "    # Add Bollinger Bands (20-day default)\n",
    "    bbands = ta.bbands(data_Test[\"Close\"], length=20)\n",
    "    \n",
    "    # Combine with main DataFrame\n",
    "    data_Test = pd.concat([data_Test, bbands], axis=1)\n",
    "    \n",
    "    # Optional rename (if needed)\n",
    "    data_Test.rename(columns={\n",
    "        \"BBL_20_2.0\": \"BB_Lower\",\n",
    "        \"BBM_20_2.0\": \"BB_Middle\",\n",
    "        \"BBU_20_2.0\": \"BB_Upper\",\n",
    "        \"BBB_20_2.0\": \"BB_Bandwidth\",\n",
    "        \"BBP_20_2.0\": \"BB_Percent\"\n",
    "    }, inplace=True)\n",
    "    \n",
    "    # Add ADX (default 14-period)\n",
    "    adx_df = ta.adx(data_Test[\"High\"], data_Test[\"Low\"], data_Test[\"Close\"], length=14)\n",
    "    \n",
    "    # Join it with main DataFrame\n",
    "    data_Test = pd.concat([data_Test, adx_df], axis=1)\n",
    "    \n",
    "    # Optional rename (for clarity)\n",
    "    data_Test.rename(columns={\n",
    "        \"ADX_14\": \"ADX\",\n",
    "        \"DMP_14\": \"DI_Plus\",\n",
    "        \"DMN_14\": \"DI_Minus\"\n",
    "    }, inplace=True)\n",
    "    \n",
    "    # Add ATR (default length=14)\n",
    "    data_Test[\"ATR_14\"] = ta.atr(data_Test[\"High\"], data_Test[\"Low\"], data_Test[\"Close\"], length=14)\n",
    "    \n",
    "    # Add Stochastic Oscillator (default k=14, d=3)\n",
    "    stoch_df = ta.stoch(data_Test[\"High\"], data_Test[\"Low\"], data_Test[\"Close\"], k=14, d=3)\n",
    "    \n",
    "    # Combine with main DataFrame\n",
    "    data_Test = pd.concat([data_Test, stoch_df], axis=1)\n",
    "    \n",
    "    # Optional rename\n",
    "    data_Test.rename(columns={\n",
    "        \"STOCHk_14_3_3\": \"Stoch_%K\",\n",
    "        \"STOCHd_14_3_3\": \"Stoch_%D\"\n",
    "    }, inplace=True)\n",
    "    \n",
    "    \n",
    "    \n",
    "    # Add CCI (default period = 20)\n",
    "    data_Test[\"CCI_20\"] = ta.cci(data_Test[\"High\"], data_Test[\"Low\"], data_Test[\"Close\"], length=20)\n",
    "    \n",
    "    data_Test['Volume1']=data_Test['Volume'].shift(1)\n",
    "    data_Test['Volume_Inc']=(data_Test['Volume']-data_Test['Volume1'])/data_Test['Volume1']\n",
    "    \n",
    "    data_Test['EMA_20_Price']=(data_Test['Close']-data_Test['EMA_20'])/data_Test['EMA_20']\n",
    "    data_Test['EMA_50_Price']=(data_Test['Close']-data_Test['EMA_50'])/data_Test['EMA_50']\n",
    "    \n",
    "    data_Test['Stoch_k_D']=(data_Test['Stoch_%K']-data_Test['Stoch_%D'])\n",
    "    \n",
    "    data_Test['Close1']=data_Test['Close'].shift(10)\n",
    "    data_Test['Close_Inc']=(data_Test['Close1']-data_Test['Close'])/data_Test['Close']\n",
    "    \n",
    "    data_Test.head(50)\n",
    "    \n",
    "    def Buy_Variable(row):\n",
    "        if row['Close_Inc']>=0.03:\n",
    "            return 1\n",
    "        else:\n",
    "            return 0\n",
    "    \n",
    "    data_Test['Buy']=data_Test.apply(Buy_Variable,axis=1)\n",
    "    \n",
    "    data_Test.iloc[-2:-1]\n",
    "    \n",
    "    Clean_Data_Test=data_Test[['RSI', 'MACD_Histogram','BB_Percent','ADX','ATR_14', 'Stoch_%K',\n",
    "           'Stoch_%D', 'CCI_20','Volume_Inc', 'EMA_20_Price',\n",
    "           'EMA_50_Price', 'Stoch_k_D', 'Buy']]\n",
    "    \n",
    "    # Step 1: Get feature columns (same as used during training)\n",
    "    features = ['RSI', 'MACD_Histogram', 'BB_Percent', 'ADX', 'ATR_14',\n",
    "                'Stoch_%K', 'Stoch_%D', 'CCI_20', 'EMA_20_Price', 'EMA_50_Price', 'Stoch_k_D']\n",
    "    \n",
    "    # Step 2: Extract today's row (last row in the test table)\n",
    "    today_row = Clean_Data_Test[features].iloc[-1:]  # Keep it as DataFrame\n",
    "    \n",
    "    # Step 3: Apply the same scaler used during training\n",
    "    today_scaled = scaler.transform(today_row)\n",
    "    \n",
    "    # Step 4: Predict using the trained model\n",
    "    buy_prediction = model.predict(today_scaled)[0]\n",
    "    print(today_scaled)\n",
    "    buy_probability = model.predict_proba(today_scaled)[0][1]\n",
    "    \n",
    "    # Step 5: Print result\n",
    "    # print(\"🔮 Buy Prediction:\", \"Yes\" if buy_prediction == 1 else \"No\")\n",
    "    # print(f\"📊 Confidence: {buy_probability:.2%}\")\n",
    "    return {\n",
    "            \"Ticker\": ticker,\n",
    "            \"Buy\": \"Yes\" if buy_prediction == 1 else \"No\",\n",
    "            \"Confidence\": round(buy_probability * 100, 2)\n",
    "        }\n",
    "    \n",
    "    \n"
   ]
  },
  {
   "cell_type": "code",
   "execution_count": 7,
   "id": "164c2aa0-9c38-4583-b141-046ce538d15d",
   "metadata": {},
   "outputs": [
    {
     "name": "stderr",
     "output_type": "stream",
     "text": [
      "C:\\Users\\PC\\AppData\\Local\\Temp\\ipykernel_5920\\1505815251.py:2: FutureWarning: YF.download() has changed argument auto_adjust default to True\n",
      "  Data=yf.download(tickers=ticker,period=\"5y\",interval=\"1d\",group_by=ticker)\n",
      "[*********************100%***********************]  1 of 1 completed\n",
      "C:\\Users\\PC\\AppData\\Local\\Programs\\Python\\Python310\\lib\\site-packages\\xgboost\\training.py:183: UserWarning: [02:01:41] WARNING: C:\\actions-runner\\_work\\xgboost\\xgboost\\src\\learner.cc:738: \n",
      "Parameters: { \"use_label_encoder\" } are not used.\n",
      "\n",
      "  bst.update(dtrain, iteration=i, fobj=obj)\n",
      "C:\\Users\\PC\\AppData\\Local\\Temp\\ipykernel_5920\\1505815251.py:229: FutureWarning: YF.download() has changed argument auto_adjust default to True\n",
      "  data_Test = yf.download(tickers=ticker, period=\"60d\", interval=\"1d\", group_by=\"ticker\")\n",
      "[*********************100%***********************]  1 of 1 completed\n"
     ]
    },
    {
     "name": "stdout",
     "output_type": "stream",
     "text": [
      "[[1.58889987 0.35463583 1.01084066 2.36542546 0.69825371 1.27853768\n",
      "  1.21371322 0.83095857 0.77556621 1.20298207 0.35002582]]\n"
     ]
    },
    {
     "name": "stderr",
     "output_type": "stream",
     "text": [
      "C:\\Users\\PC\\AppData\\Local\\Temp\\ipykernel_5920\\1505815251.py:2: FutureWarning: YF.download() has changed argument auto_adjust default to True\n",
      "  Data=yf.download(tickers=ticker,period=\"5y\",interval=\"1d\",group_by=ticker)\n",
      "[*********************100%***********************]  1 of 1 completed\n",
      "C:\\Users\\PC\\AppData\\Local\\Programs\\Python\\Python310\\lib\\site-packages\\xgboost\\training.py:183: UserWarning: [02:01:43] WARNING: C:\\actions-runner\\_work\\xgboost\\xgboost\\src\\learner.cc:738: \n",
      "Parameters: { \"use_label_encoder\" } are not used.\n",
      "\n",
      "  bst.update(dtrain, iteration=i, fobj=obj)\n",
      "C:\\Users\\PC\\AppData\\Local\\Temp\\ipykernel_5920\\1505815251.py:229: FutureWarning: YF.download() has changed argument auto_adjust default to True\n",
      "  data_Test = yf.download(tickers=ticker, period=\"60d\", interval=\"1d\", group_by=\"ticker\")\n",
      "[*********************100%***********************]  1 of 1 completed\n"
     ]
    },
    {
     "name": "stdout",
     "output_type": "stream",
     "text": [
      "[[ 1.44870382 -0.62970282  0.78501083  2.76138947 -0.10133964  0.96158093\n",
      "   1.04122299  0.67078054  0.63165393  1.51900722 -0.16220538]]\n"
     ]
    },
    {
     "name": "stderr",
     "output_type": "stream",
     "text": [
      "C:\\Users\\PC\\AppData\\Local\\Temp\\ipykernel_5920\\1505815251.py:2: FutureWarning: YF.download() has changed argument auto_adjust default to True\n",
      "  Data=yf.download(tickers=ticker,period=\"5y\",interval=\"1d\",group_by=ticker)\n",
      "[*********************100%***********************]  1 of 1 completed\n",
      "C:\\Users\\PC\\AppData\\Local\\Programs\\Python\\Python310\\lib\\site-packages\\xgboost\\training.py:183: UserWarning: [02:01:46] WARNING: C:\\actions-runner\\_work\\xgboost\\xgboost\\src\\learner.cc:738: \n",
      "Parameters: { \"use_label_encoder\" } are not used.\n",
      "\n",
      "  bst.update(dtrain, iteration=i, fobj=obj)\n",
      "C:\\Users\\PC\\AppData\\Local\\Temp\\ipykernel_5920\\1505815251.py:229: FutureWarning: YF.download() has changed argument auto_adjust default to True\n",
      "  data_Test = yf.download(tickers=ticker, period=\"60d\", interval=\"1d\", group_by=\"ticker\")\n",
      "[*********************100%***********************]  1 of 1 completed\n"
     ]
    },
    {
     "name": "stdout",
     "output_type": "stream",
     "text": [
      "[[ 0.94031947  1.16544171  0.95759159 -0.62734217  0.27591954  0.6733069\n",
      "   0.68819345  0.83414925  0.74079389  0.47541552  0.01327   ]]\n"
     ]
    },
    {
     "name": "stderr",
     "output_type": "stream",
     "text": [
      "C:\\Users\\PC\\AppData\\Local\\Temp\\ipykernel_5920\\1505815251.py:2: FutureWarning: YF.download() has changed argument auto_adjust default to True\n",
      "  Data=yf.download(tickers=ticker,period=\"5y\",interval=\"1d\",group_by=ticker)\n",
      "[*********************100%***********************]  1 of 1 completed\n",
      "C:\\Users\\PC\\AppData\\Local\\Programs\\Python\\Python310\\lib\\site-packages\\xgboost\\training.py:183: UserWarning: [02:01:48] WARNING: C:\\actions-runner\\_work\\xgboost\\xgboost\\src\\learner.cc:738: \n",
      "Parameters: { \"use_label_encoder\" } are not used.\n",
      "\n",
      "  bst.update(dtrain, iteration=i, fobj=obj)\n",
      "C:\\Users\\PC\\AppData\\Local\\Temp\\ipykernel_5920\\1505815251.py:229: FutureWarning: YF.download() has changed argument auto_adjust default to True\n",
      "  data_Test = yf.download(tickers=ticker, period=\"60d\", interval=\"1d\", group_by=\"ticker\")\n",
      "[*********************100%***********************]  1 of 1 completed\n"
     ]
    },
    {
     "name": "stdout",
     "output_type": "stream",
     "text": [
      "[[ 0.88409697 -0.1599396   0.71405607  0.65903149  0.10027545  1.00823424\n",
      "   1.12603369  0.54176591  0.48364584  1.03148513 -0.29146161]]\n"
     ]
    },
    {
     "name": "stderr",
     "output_type": "stream",
     "text": [
      "C:\\Users\\PC\\AppData\\Local\\Temp\\ipykernel_5920\\1505815251.py:2: FutureWarning: YF.download() has changed argument auto_adjust default to True\n",
      "  Data=yf.download(tickers=ticker,period=\"5y\",interval=\"1d\",group_by=ticker)\n",
      "[*********************100%***********************]  1 of 1 completed\n",
      "C:\\Users\\PC\\AppData\\Local\\Programs\\Python\\Python310\\lib\\site-packages\\xgboost\\training.py:183: UserWarning: [02:01:50] WARNING: C:\\actions-runner\\_work\\xgboost\\xgboost\\src\\learner.cc:738: \n",
      "Parameters: { \"use_label_encoder\" } are not used.\n",
      "\n",
      "  bst.update(dtrain, iteration=i, fobj=obj)\n",
      "C:\\Users\\PC\\AppData\\Local\\Temp\\ipykernel_5920\\1505815251.py:229: FutureWarning: YF.download() has changed argument auto_adjust default to True\n",
      "  data_Test = yf.download(tickers=ticker, period=\"60d\", interval=\"1d\", group_by=\"ticker\")\n",
      "[*********************100%***********************]  1 of 1 completed\n"
     ]
    },
    {
     "name": "stdout",
     "output_type": "stream",
     "text": [
      "[[ 0.33837151 -0.08849484  0.38786497 -0.48317557  1.32460408  0.64418266\n",
      "   0.69511967  0.32128655  0.31737294  0.62381486 -0.09210101]]\n"
     ]
    },
    {
     "name": "stderr",
     "output_type": "stream",
     "text": [
      "C:\\Users\\PC\\AppData\\Local\\Temp\\ipykernel_5920\\1505815251.py:2: FutureWarning: YF.download() has changed argument auto_adjust default to True\n",
      "  Data=yf.download(tickers=ticker,period=\"5y\",interval=\"1d\",group_by=ticker)\n",
      "[*********************100%***********************]  1 of 1 completed\n",
      "C:\\Users\\PC\\AppData\\Local\\Programs\\Python\\Python310\\lib\\site-packages\\xgboost\\training.py:183: UserWarning: [02:01:53] WARNING: C:\\actions-runner\\_work\\xgboost\\xgboost\\src\\learner.cc:738: \n",
      "Parameters: { \"use_label_encoder\" } are not used.\n",
      "\n",
      "  bst.update(dtrain, iteration=i, fobj=obj)\n",
      "C:\\Users\\PC\\AppData\\Local\\Temp\\ipykernel_5920\\1505815251.py:229: FutureWarning: YF.download() has changed argument auto_adjust default to True\n",
      "  data_Test = yf.download(tickers=ticker, period=\"60d\", interval=\"1d\", group_by=\"ticker\")\n",
      "[*********************100%***********************]  1 of 1 completed\n"
     ]
    },
    {
     "name": "stdout",
     "output_type": "stream",
     "text": [
      "[[ 0.74234311 -0.96731954  0.53891333  1.02294704  0.86485756  0.46786384\n",
      "   0.2967656   0.4885522   0.32870572  0.90378382  0.60401415]]\n"
     ]
    },
    {
     "name": "stderr",
     "output_type": "stream",
     "text": [
      "C:\\Users\\PC\\AppData\\Local\\Temp\\ipykernel_5920\\1505815251.py:2: FutureWarning: YF.download() has changed argument auto_adjust default to True\n",
      "  Data=yf.download(tickers=ticker,period=\"5y\",interval=\"1d\",group_by=ticker)\n",
      "[*********************100%***********************]  1 of 1 completed\n",
      "C:\\Users\\PC\\AppData\\Local\\Programs\\Python\\Python310\\lib\\site-packages\\xgboost\\training.py:183: UserWarning: [02:01:55] WARNING: C:\\actions-runner\\_work\\xgboost\\xgboost\\src\\learner.cc:738: \n",
      "Parameters: { \"use_label_encoder\" } are not used.\n",
      "\n",
      "  bst.update(dtrain, iteration=i, fobj=obj)\n",
      "C:\\Users\\PC\\AppData\\Local\\Temp\\ipykernel_5920\\1505815251.py:229: FutureWarning: YF.download() has changed argument auto_adjust default to True\n",
      "  data_Test = yf.download(tickers=ticker, period=\"60d\", interval=\"1d\", group_by=\"ticker\")\n",
      "[*********************100%***********************]  1 of 1 completed\n"
     ]
    },
    {
     "name": "stdout",
     "output_type": "stream",
     "text": [
      "[[-0.28582365 -0.96659658 -0.53235635 -0.23676718  0.70047565 -1.20861452\n",
      "  -1.33036265 -0.72428431 -0.2409849  -0.10846406  0.32424643]]\n"
     ]
    },
    {
     "name": "stderr",
     "output_type": "stream",
     "text": [
      "C:\\Users\\PC\\AppData\\Local\\Temp\\ipykernel_5920\\1505815251.py:2: FutureWarning: YF.download() has changed argument auto_adjust default to True\n",
      "  Data=yf.download(tickers=ticker,period=\"5y\",interval=\"1d\",group_by=ticker)\n",
      "[*********************100%***********************]  1 of 1 completed\n",
      "C:\\Users\\PC\\AppData\\Local\\Programs\\Python\\Python310\\lib\\site-packages\\xgboost\\training.py:183: UserWarning: [02:01:58] WARNING: C:\\actions-runner\\_work\\xgboost\\xgboost\\src\\learner.cc:738: \n",
      "Parameters: { \"use_label_encoder\" } are not used.\n",
      "\n",
      "  bst.update(dtrain, iteration=i, fobj=obj)\n",
      "C:\\Users\\PC\\AppData\\Local\\Temp\\ipykernel_5920\\1505815251.py:229: FutureWarning: YF.download() has changed argument auto_adjust default to True\n",
      "  data_Test = yf.download(tickers=ticker, period=\"60d\", interval=\"1d\", group_by=\"ticker\")\n",
      "[*********************100%***********************]  1 of 1 completed\n"
     ]
    },
    {
     "name": "stdout",
     "output_type": "stream",
     "text": [
      "[[ 0.64258231 -0.62042561  0.37952616  1.03814773  1.49326262 -0.03938267\n",
      "   0.28612552  0.2172237   0.48366726  1.0536616  -1.12707431]]\n"
     ]
    },
    {
     "name": "stderr",
     "output_type": "stream",
     "text": [
      "C:\\Users\\PC\\AppData\\Local\\Temp\\ipykernel_5920\\1505815251.py:2: FutureWarning: YF.download() has changed argument auto_adjust default to True\n",
      "  Data=yf.download(tickers=ticker,period=\"5y\",interval=\"1d\",group_by=ticker)\n",
      "[*********************100%***********************]  1 of 1 completed\n",
      "C:\\Users\\PC\\AppData\\Local\\Programs\\Python\\Python310\\lib\\site-packages\\xgboost\\training.py:183: UserWarning: [02:02:01] WARNING: C:\\actions-runner\\_work\\xgboost\\xgboost\\src\\learner.cc:738: \n",
      "Parameters: { \"use_label_encoder\" } are not used.\n",
      "\n",
      "  bst.update(dtrain, iteration=i, fobj=obj)\n",
      "C:\\Users\\PC\\AppData\\Local\\Temp\\ipykernel_5920\\1505815251.py:229: FutureWarning: YF.download() has changed argument auto_adjust default to True\n",
      "  data_Test = yf.download(tickers=ticker, period=\"60d\", interval=\"1d\", group_by=\"ticker\")\n",
      "[*********************100%***********************]  1 of 1 completed\n"
     ]
    },
    {
     "name": "stdout",
     "output_type": "stream",
     "text": [
      "[[-1.15366669 -0.46542104 -1.09818266 -1.25254963  1.50909944 -0.70119132\n",
      "   0.19840518 -0.79117047 -1.04356583 -0.87727424 -3.26040348]]\n"
     ]
    },
    {
     "name": "stderr",
     "output_type": "stream",
     "text": [
      "C:\\Users\\PC\\AppData\\Local\\Temp\\ipykernel_5920\\1505815251.py:2: FutureWarning: YF.download() has changed argument auto_adjust default to True\n",
      "  Data=yf.download(tickers=ticker,period=\"5y\",interval=\"1d\",group_by=ticker)\n",
      "[*********************100%***********************]  1 of 1 completed\n",
      "C:\\Users\\PC\\AppData\\Local\\Programs\\Python\\Python310\\lib\\site-packages\\xgboost\\training.py:183: UserWarning: [02:02:04] WARNING: C:\\actions-runner\\_work\\xgboost\\xgboost\\src\\learner.cc:738: \n",
      "Parameters: { \"use_label_encoder\" } are not used.\n",
      "\n",
      "  bst.update(dtrain, iteration=i, fobj=obj)\n",
      "C:\\Users\\PC\\AppData\\Local\\Temp\\ipykernel_5920\\1505815251.py:229: FutureWarning: YF.download() has changed argument auto_adjust default to True\n",
      "  data_Test = yf.download(tickers=ticker, period=\"60d\", interval=\"1d\", group_by=\"ticker\")\n",
      "[*********************100%***********************]  1 of 1 completed\n"
     ]
    },
    {
     "name": "stdout",
     "output_type": "stream",
     "text": [
      "[[-0.0200132   0.06895023 -0.06662278 -1.51406312  0.79127964  0.17204688\n",
      "  -0.35184369 -0.03712638 -0.01352042 -0.3238792   1.88366111]]\n"
     ]
    },
    {
     "name": "stderr",
     "output_type": "stream",
     "text": [
      "C:\\Users\\PC\\AppData\\Local\\Temp\\ipykernel_5920\\1505815251.py:2: FutureWarning: YF.download() has changed argument auto_adjust default to True\n",
      "  Data=yf.download(tickers=ticker,period=\"5y\",interval=\"1d\",group_by=ticker)\n",
      "[*********************100%***********************]  1 of 1 completed\n",
      "C:\\Users\\PC\\AppData\\Local\\Programs\\Python\\Python310\\lib\\site-packages\\xgboost\\training.py:183: UserWarning: [02:02:07] WARNING: C:\\actions-runner\\_work\\xgboost\\xgboost\\src\\learner.cc:738: \n",
      "Parameters: { \"use_label_encoder\" } are not used.\n",
      "\n",
      "  bst.update(dtrain, iteration=i, fobj=obj)\n",
      "C:\\Users\\PC\\AppData\\Local\\Temp\\ipykernel_5920\\1505815251.py:229: FutureWarning: YF.download() has changed argument auto_adjust default to True\n",
      "  data_Test = yf.download(tickers=ticker, period=\"60d\", interval=\"1d\", group_by=\"ticker\")\n",
      "[*********************100%***********************]  1 of 1 completed\n"
     ]
    },
    {
     "name": "stdout",
     "output_type": "stream",
     "text": [
      "[[-0.21721942  0.43513747  0.02346768 -0.29358691  1.33984216  0.98708759\n",
      "   1.00155601  0.04418089 -0.07001244 -0.089518    0.0587047 ]]\n"
     ]
    },
    {
     "name": "stderr",
     "output_type": "stream",
     "text": [
      "C:\\Users\\PC\\AppData\\Local\\Temp\\ipykernel_5920\\1505815251.py:2: FutureWarning: YF.download() has changed argument auto_adjust default to True\n",
      "  Data=yf.download(tickers=ticker,period=\"5y\",interval=\"1d\",group_by=ticker)\n",
      "[*********************100%***********************]  1 of 1 completed\n",
      "C:\\Users\\PC\\AppData\\Local\\Programs\\Python\\Python310\\lib\\site-packages\\xgboost\\training.py:183: UserWarning: [02:02:09] WARNING: C:\\actions-runner\\_work\\xgboost\\xgboost\\src\\learner.cc:738: \n",
      "Parameters: { \"use_label_encoder\" } are not used.\n",
      "\n",
      "  bst.update(dtrain, iteration=i, fobj=obj)\n",
      "C:\\Users\\PC\\AppData\\Local\\Temp\\ipykernel_5920\\1505815251.py:229: FutureWarning: YF.download() has changed argument auto_adjust default to True\n",
      "  data_Test = yf.download(tickers=ticker, period=\"60d\", interval=\"1d\", group_by=\"ticker\")\n",
      "[*********************100%***********************]  1 of 1 completed\n"
     ]
    },
    {
     "name": "stdout",
     "output_type": "stream",
     "text": [
      "[[ 1.59819135  0.43089571  0.75426486  4.24342142  3.3532024   0.95489754\n",
      "   1.0329964   0.83839556  1.85990912  3.63350118 -0.18595288]]\n"
     ]
    },
    {
     "name": "stderr",
     "output_type": "stream",
     "text": [
      "C:\\Users\\PC\\AppData\\Local\\Temp\\ipykernel_5920\\1505815251.py:2: FutureWarning: YF.download() has changed argument auto_adjust default to True\n",
      "  Data=yf.download(tickers=ticker,period=\"5y\",interval=\"1d\",group_by=ticker)\n",
      "[*********************100%***********************]  1 of 1 completed\n",
      "C:\\Users\\PC\\AppData\\Local\\Programs\\Python\\Python310\\lib\\site-packages\\xgboost\\training.py:183: UserWarning: [02:02:12] WARNING: C:\\actions-runner\\_work\\xgboost\\xgboost\\src\\learner.cc:738: \n",
      "Parameters: { \"use_label_encoder\" } are not used.\n",
      "\n",
      "  bst.update(dtrain, iteration=i, fobj=obj)\n",
      "C:\\Users\\PC\\AppData\\Local\\Temp\\ipykernel_5920\\1505815251.py:229: FutureWarning: YF.download() has changed argument auto_adjust default to True\n",
      "  data_Test = yf.download(tickers=ticker, period=\"60d\", interval=\"1d\", group_by=\"ticker\")\n",
      "[*********************100%***********************]  1 of 1 completed\n"
     ]
    },
    {
     "name": "stdout",
     "output_type": "stream",
     "text": [
      "[[-0.32591874 -1.49498992 -0.49857643 -0.70360484  1.87661362 -0.39527156\n",
      "  -0.11749354 -0.25117662 -0.30380489  0.20492213 -1.00092528]]\n"
     ]
    },
    {
     "name": "stderr",
     "output_type": "stream",
     "text": [
      "C:\\Users\\PC\\AppData\\Local\\Temp\\ipykernel_5920\\1505815251.py:2: FutureWarning: YF.download() has changed argument auto_adjust default to True\n",
      "  Data=yf.download(tickers=ticker,period=\"5y\",interval=\"1d\",group_by=ticker)\n",
      "[*********************100%***********************]  1 of 1 completed\n",
      "C:\\Users\\PC\\AppData\\Local\\Programs\\Python\\Python310\\lib\\site-packages\\xgboost\\training.py:183: UserWarning: [02:02:15] WARNING: C:\\actions-runner\\_work\\xgboost\\xgboost\\src\\learner.cc:738: \n",
      "Parameters: { \"use_label_encoder\" } are not used.\n",
      "\n",
      "  bst.update(dtrain, iteration=i, fobj=obj)\n",
      "C:\\Users\\PC\\AppData\\Local\\Temp\\ipykernel_5920\\1505815251.py:229: FutureWarning: YF.download() has changed argument auto_adjust default to True\n",
      "  data_Test = yf.download(tickers=ticker, period=\"60d\", interval=\"1d\", group_by=\"ticker\")\n",
      "[*********************100%***********************]  1 of 1 completed\n"
     ]
    },
    {
     "name": "stdout",
     "output_type": "stream",
     "text": [
      "[[-0.19318213  0.45486287  0.02944753 -0.21195509  0.8716323   1.00105964\n",
      "   0.98454916  0.06077955 -0.05935962 -0.13506537  0.16070116]]\n"
     ]
    },
    {
     "name": "stderr",
     "output_type": "stream",
     "text": [
      "C:\\Users\\PC\\AppData\\Local\\Temp\\ipykernel_5920\\1505815251.py:2: FutureWarning: YF.download() has changed argument auto_adjust default to True\n",
      "  Data=yf.download(tickers=ticker,period=\"5y\",interval=\"1d\",group_by=ticker)\n",
      "[*********************100%***********************]  1 of 1 completed\n",
      "C:\\Users\\PC\\AppData\\Local\\Programs\\Python\\Python310\\lib\\site-packages\\xgboost\\training.py:183: UserWarning: [02:02:17] WARNING: C:\\actions-runner\\_work\\xgboost\\xgboost\\src\\learner.cc:738: \n",
      "Parameters: { \"use_label_encoder\" } are not used.\n",
      "\n",
      "  bst.update(dtrain, iteration=i, fobj=obj)\n",
      "C:\\Users\\PC\\AppData\\Local\\Temp\\ipykernel_5920\\1505815251.py:229: FutureWarning: YF.download() has changed argument auto_adjust default to True\n",
      "  data_Test = yf.download(tickers=ticker, period=\"60d\", interval=\"1d\", group_by=\"ticker\")\n",
      "[*********************100%***********************]  1 of 1 completed\n"
     ]
    },
    {
     "name": "stdout",
     "output_type": "stream",
     "text": [
      "[[0.94017642 0.60329538 1.03675359 0.59666313 0.39278411 0.59078551\n",
      "  0.22320039 0.79692159 0.75175398 0.67236583 1.23727658]]\n"
     ]
    },
    {
     "name": "stderr",
     "output_type": "stream",
     "text": [
      "C:\\Users\\PC\\AppData\\Local\\Temp\\ipykernel_5920\\1505815251.py:2: FutureWarning: YF.download() has changed argument auto_adjust default to True\n",
      "  Data=yf.download(tickers=ticker,period=\"5y\",interval=\"1d\",group_by=ticker)\n",
      "[*********************100%***********************]  1 of 1 completed\n",
      "C:\\Users\\PC\\AppData\\Local\\Programs\\Python\\Python310\\lib\\site-packages\\xgboost\\training.py:183: UserWarning: [02:02:20] WARNING: C:\\actions-runner\\_work\\xgboost\\xgboost\\src\\learner.cc:738: \n",
      "Parameters: { \"use_label_encoder\" } are not used.\n",
      "\n",
      "  bst.update(dtrain, iteration=i, fobj=obj)\n",
      "C:\\Users\\PC\\AppData\\Local\\Temp\\ipykernel_5920\\1505815251.py:229: FutureWarning: YF.download() has changed argument auto_adjust default to True\n",
      "  data_Test = yf.download(tickers=ticker, period=\"60d\", interval=\"1d\", group_by=\"ticker\")\n",
      "[*********************100%***********************]  1 of 1 completed\n"
     ]
    },
    {
     "name": "stdout",
     "output_type": "stream",
     "text": [
      "[[-0.9217324   0.70355109 -1.09884856 -0.10787515 -0.26891964 -1.05606431\n",
      "  -0.90233871 -1.13295144 -0.71154276 -1.90526501 -0.61696845]]\n"
     ]
    },
    {
     "name": "stderr",
     "output_type": "stream",
     "text": [
      "C:\\Users\\PC\\AppData\\Local\\Temp\\ipykernel_5920\\1505815251.py:2: FutureWarning: YF.download() has changed argument auto_adjust default to True\n",
      "  Data=yf.download(tickers=ticker,period=\"5y\",interval=\"1d\",group_by=ticker)\n",
      "[*********************100%***********************]  1 of 1 completed\n",
      "C:\\Users\\PC\\AppData\\Local\\Programs\\Python\\Python310\\lib\\site-packages\\xgboost\\training.py:183: UserWarning: [02:02:23] WARNING: C:\\actions-runner\\_work\\xgboost\\xgboost\\src\\learner.cc:738: \n",
      "Parameters: { \"use_label_encoder\" } are not used.\n",
      "\n",
      "  bst.update(dtrain, iteration=i, fobj=obj)\n",
      "C:\\Users\\PC\\AppData\\Local\\Temp\\ipykernel_5920\\1505815251.py:229: FutureWarning: YF.download() has changed argument auto_adjust default to True\n",
      "  data_Test = yf.download(tickers=ticker, period=\"60d\", interval=\"1d\", group_by=\"ticker\")\n",
      "[*********************100%***********************]  1 of 1 completed\n"
     ]
    },
    {
     "name": "stdout",
     "output_type": "stream",
     "text": [
      "[[ 0.37656323 -0.73761475  0.05824927  1.55607235 -0.02274616 -0.17602015\n",
      "   0.32706926  0.05996875  0.04681812  0.78547689 -1.83695402]]\n"
     ]
    },
    {
     "name": "stderr",
     "output_type": "stream",
     "text": [
      "C:\\Users\\PC\\AppData\\Local\\Temp\\ipykernel_5920\\1505815251.py:2: FutureWarning: YF.download() has changed argument auto_adjust default to True\n",
      "  Data=yf.download(tickers=ticker,period=\"5y\",interval=\"1d\",group_by=ticker)\n",
      "[*********************100%***********************]  1 of 1 completed\n",
      "C:\\Users\\PC\\AppData\\Local\\Programs\\Python\\Python310\\lib\\site-packages\\xgboost\\training.py:183: UserWarning: [02:02:26] WARNING: C:\\actions-runner\\_work\\xgboost\\xgboost\\src\\learner.cc:738: \n",
      "Parameters: { \"use_label_encoder\" } are not used.\n",
      "\n",
      "  bst.update(dtrain, iteration=i, fobj=obj)\n",
      "C:\\Users\\PC\\AppData\\Local\\Temp\\ipykernel_5920\\1505815251.py:229: FutureWarning: YF.download() has changed argument auto_adjust default to True\n",
      "  data_Test = yf.download(tickers=ticker, period=\"60d\", interval=\"1d\", group_by=\"ticker\")\n",
      "[*********************100%***********************]  1 of 1 completed\n"
     ]
    },
    {
     "name": "stdout",
     "output_type": "stream",
     "text": [
      "[[ 1.91334031  0.47522247  1.40276445  0.70642185 -1.01175212  1.33416842\n",
      "   1.37697392  1.33298327  1.27996195  1.61680798 -0.01773141]]\n"
     ]
    },
    {
     "name": "stderr",
     "output_type": "stream",
     "text": [
      "C:\\Users\\PC\\AppData\\Local\\Temp\\ipykernel_5920\\1505815251.py:2: FutureWarning: YF.download() has changed argument auto_adjust default to True\n",
      "  Data=yf.download(tickers=ticker,period=\"5y\",interval=\"1d\",group_by=ticker)\n",
      "[*********************100%***********************]  1 of 1 completed\n",
      "C:\\Users\\PC\\AppData\\Local\\Programs\\Python\\Python310\\lib\\site-packages\\xgboost\\training.py:183: UserWarning: [02:02:29] WARNING: C:\\actions-runner\\_work\\xgboost\\xgboost\\src\\learner.cc:738: \n",
      "Parameters: { \"use_label_encoder\" } are not used.\n",
      "\n",
      "  bst.update(dtrain, iteration=i, fobj=obj)\n",
      "C:\\Users\\PC\\AppData\\Local\\Temp\\ipykernel_5920\\1505815251.py:229: FutureWarning: YF.download() has changed argument auto_adjust default to True\n",
      "  data_Test = yf.download(tickers=ticker, period=\"60d\", interval=\"1d\", group_by=\"ticker\")\n",
      "[*********************100%***********************]  1 of 1 completed\n"
     ]
    },
    {
     "name": "stdout",
     "output_type": "stream",
     "text": [
      "[[ 0.66057578  0.80513686  1.3482723  -1.29602566  1.46746707  0.69813297\n",
      "   0.42405695  1.14429878  0.86263491  0.54141233  1.00577296]]\n"
     ]
    },
    {
     "name": "stderr",
     "output_type": "stream",
     "text": [
      "C:\\Users\\PC\\AppData\\Local\\Temp\\ipykernel_5920\\1505815251.py:2: FutureWarning: YF.download() has changed argument auto_adjust default to True\n",
      "  Data=yf.download(tickers=ticker,period=\"5y\",interval=\"1d\",group_by=ticker)\n",
      "[*********************100%***********************]  1 of 1 completed\n",
      "C:\\Users\\PC\\AppData\\Local\\Programs\\Python\\Python310\\lib\\site-packages\\xgboost\\training.py:183: UserWarning: [02:02:32] WARNING: C:\\actions-runner\\_work\\xgboost\\xgboost\\src\\learner.cc:738: \n",
      "Parameters: { \"use_label_encoder\" } are not used.\n",
      "\n",
      "  bst.update(dtrain, iteration=i, fobj=obj)\n",
      "C:\\Users\\PC\\AppData\\Local\\Temp\\ipykernel_5920\\1505815251.py:229: FutureWarning: YF.download() has changed argument auto_adjust default to True\n",
      "  data_Test = yf.download(tickers=ticker, period=\"60d\", interval=\"1d\", group_by=\"ticker\")\n",
      "[*********************100%***********************]  1 of 1 completed\n"
     ]
    },
    {
     "name": "stdout",
     "output_type": "stream",
     "text": [
      "[[ 0.88388029 -0.49699258  0.41143836  2.82522221  0.38206974  1.06894098\n",
      "   1.16482886  0.41873002  0.55006     1.42516264 -0.22516643]]\n"
     ]
    },
    {
     "name": "stderr",
     "output_type": "stream",
     "text": [
      "C:\\Users\\PC\\AppData\\Local\\Temp\\ipykernel_5920\\1505815251.py:2: FutureWarning: YF.download() has changed argument auto_adjust default to True\n",
      "  Data=yf.download(tickers=ticker,period=\"5y\",interval=\"1d\",group_by=ticker)\n",
      "[*********************100%***********************]  1 of 1 completed\n",
      "C:\\Users\\PC\\AppData\\Local\\Programs\\Python\\Python310\\lib\\site-packages\\xgboost\\training.py:183: UserWarning: [02:02:35] WARNING: C:\\actions-runner\\_work\\xgboost\\xgboost\\src\\learner.cc:738: \n",
      "Parameters: { \"use_label_encoder\" } are not used.\n",
      "\n",
      "  bst.update(dtrain, iteration=i, fobj=obj)\n",
      "C:\\Users\\PC\\AppData\\Local\\Temp\\ipykernel_5920\\1505815251.py:229: FutureWarning: YF.download() has changed argument auto_adjust default to True\n",
      "  data_Test = yf.download(tickers=ticker, period=\"60d\", interval=\"1d\", group_by=\"ticker\")\n",
      "[*********************100%***********************]  1 of 1 completed\n"
     ]
    },
    {
     "name": "stdout",
     "output_type": "stream",
     "text": [
      "[[ 0.8755922   1.17969941  1.05130715 -0.18581433 -0.26555004  0.98174138\n",
      "   0.91015647  0.88741421  1.15593143  0.76167331  0.34366836]]\n"
     ]
    },
    {
     "name": "stderr",
     "output_type": "stream",
     "text": [
      "C:\\Users\\PC\\AppData\\Local\\Temp\\ipykernel_5920\\1505815251.py:2: FutureWarning: YF.download() has changed argument auto_adjust default to True\n",
      "  Data=yf.download(tickers=ticker,period=\"5y\",interval=\"1d\",group_by=ticker)\n",
      "[*********************100%***********************]  1 of 1 completed\n",
      "C:\\Users\\PC\\AppData\\Local\\Programs\\Python\\Python310\\lib\\site-packages\\xgboost\\training.py:183: UserWarning: [02:02:38] WARNING: C:\\actions-runner\\_work\\xgboost\\xgboost\\src\\learner.cc:738: \n",
      "Parameters: { \"use_label_encoder\" } are not used.\n",
      "\n",
      "  bst.update(dtrain, iteration=i, fobj=obj)\n",
      "C:\\Users\\PC\\AppData\\Local\\Temp\\ipykernel_5920\\1505815251.py:229: FutureWarning: YF.download() has changed argument auto_adjust default to True\n",
      "  data_Test = yf.download(tickers=ticker, period=\"60d\", interval=\"1d\", group_by=\"ticker\")\n",
      "[*********************100%***********************]  1 of 1 completed\n"
     ]
    },
    {
     "name": "stdout",
     "output_type": "stream",
     "text": [
      "[[ 1.14905584  0.86703574  1.63477424 -0.50363806  0.49757751  1.06480295\n",
      "   0.81783142  1.78015206  1.40175862  1.21446501  0.98377665]]\n"
     ]
    },
    {
     "name": "stderr",
     "output_type": "stream",
     "text": [
      "C:\\Users\\PC\\AppData\\Local\\Temp\\ipykernel_5920\\1505815251.py:2: FutureWarning: YF.download() has changed argument auto_adjust default to True\n",
      "  Data=yf.download(tickers=ticker,period=\"5y\",interval=\"1d\",group_by=ticker)\n",
      "[*********************100%***********************]  1 of 1 completed\n",
      "C:\\Users\\PC\\AppData\\Local\\Programs\\Python\\Python310\\lib\\site-packages\\xgboost\\training.py:183: UserWarning: [02:02:41] WARNING: C:\\actions-runner\\_work\\xgboost\\xgboost\\src\\learner.cc:738: \n",
      "Parameters: { \"use_label_encoder\" } are not used.\n",
      "\n",
      "  bst.update(dtrain, iteration=i, fobj=obj)\n",
      "C:\\Users\\PC\\AppData\\Local\\Temp\\ipykernel_5920\\1505815251.py:229: FutureWarning: YF.download() has changed argument auto_adjust default to True\n",
      "  data_Test = yf.download(tickers=ticker, period=\"60d\", interval=\"1d\", group_by=\"ticker\")\n",
      "[*********************100%***********************]  1 of 1 completed\n"
     ]
    },
    {
     "name": "stdout",
     "output_type": "stream",
     "text": [
      "[[-1.37529183 -0.29284383 -1.81191359 -1.12052098  0.83918378 -1.26953216\n",
      "  -0.83090027 -1.52856735 -0.92740745 -1.06965098 -1.72688107]]\n"
     ]
    },
    {
     "name": "stderr",
     "output_type": "stream",
     "text": [
      "C:\\Users\\PC\\AppData\\Local\\Temp\\ipykernel_5920\\1505815251.py:2: FutureWarning: YF.download() has changed argument auto_adjust default to True\n",
      "  Data=yf.download(tickers=ticker,period=\"5y\",interval=\"1d\",group_by=ticker)\n",
      "[*********************100%***********************]  1 of 1 completed\n",
      "C:\\Users\\PC\\AppData\\Local\\Programs\\Python\\Python310\\lib\\site-packages\\xgboost\\training.py:183: UserWarning: [02:02:43] WARNING: C:\\actions-runner\\_work\\xgboost\\xgboost\\src\\learner.cc:738: \n",
      "Parameters: { \"use_label_encoder\" } are not used.\n",
      "\n",
      "  bst.update(dtrain, iteration=i, fobj=obj)\n",
      "C:\\Users\\PC\\AppData\\Local\\Temp\\ipykernel_5920\\1505815251.py:229: FutureWarning: YF.download() has changed argument auto_adjust default to True\n",
      "  data_Test = yf.download(tickers=ticker, period=\"60d\", interval=\"1d\", group_by=\"ticker\")\n",
      "[*********************100%***********************]  1 of 1 completed\n"
     ]
    },
    {
     "name": "stdout",
     "output_type": "stream",
     "text": [
      "[[-0.07029155  1.35700145  0.64203012  0.07480813  0.65890082  0.36422539\n",
      "   0.02482744  0.5936024   0.275818   -0.80991015  1.14712912]]\n"
     ]
    },
    {
     "name": "stderr",
     "output_type": "stream",
     "text": [
      "C:\\Users\\PC\\AppData\\Local\\Temp\\ipykernel_5920\\1505815251.py:2: FutureWarning: YF.download() has changed argument auto_adjust default to True\n",
      "  Data=yf.download(tickers=ticker,period=\"5y\",interval=\"1d\",group_by=ticker)\n",
      "[*********************100%***********************]  1 of 1 completed\n",
      "C:\\Users\\PC\\AppData\\Local\\Programs\\Python\\Python310\\lib\\site-packages\\xgboost\\training.py:183: UserWarning: [02:02:46] WARNING: C:\\actions-runner\\_work\\xgboost\\xgboost\\src\\learner.cc:738: \n",
      "Parameters: { \"use_label_encoder\" } are not used.\n",
      "\n",
      "  bst.update(dtrain, iteration=i, fobj=obj)\n",
      "C:\\Users\\PC\\AppData\\Local\\Temp\\ipykernel_5920\\1505815251.py:229: FutureWarning: YF.download() has changed argument auto_adjust default to True\n",
      "  data_Test = yf.download(tickers=ticker, period=\"60d\", interval=\"1d\", group_by=\"ticker\")\n",
      "[*********************100%***********************]  1 of 1 completed\n"
     ]
    },
    {
     "name": "stdout",
     "output_type": "stream",
     "text": [
      "[[ 0.88908848 -0.40392264  0.61883882  1.22797073  1.50672721  1.05640751\n",
      "   1.12775241  0.57266984  0.5491776   1.47022841 -0.09427766]]\n"
     ]
    },
    {
     "name": "stderr",
     "output_type": "stream",
     "text": [
      "C:\\Users\\PC\\AppData\\Local\\Temp\\ipykernel_5920\\1505815251.py:2: FutureWarning: YF.download() has changed argument auto_adjust default to True\n",
      "  Data=yf.download(tickers=ticker,period=\"5y\",interval=\"1d\",group_by=ticker)\n",
      "[*********************100%***********************]  1 of 1 completed\n",
      "C:\\Users\\PC\\AppData\\Local\\Programs\\Python\\Python310\\lib\\site-packages\\xgboost\\training.py:183: UserWarning: [02:02:49] WARNING: C:\\actions-runner\\_work\\xgboost\\xgboost\\src\\learner.cc:738: \n",
      "Parameters: { \"use_label_encoder\" } are not used.\n",
      "\n",
      "  bst.update(dtrain, iteration=i, fobj=obj)\n",
      "C:\\Users\\PC\\AppData\\Local\\Temp\\ipykernel_5920\\1505815251.py:229: FutureWarning: YF.download() has changed argument auto_adjust default to True\n",
      "  data_Test = yf.download(tickers=ticker, period=\"60d\", interval=\"1d\", group_by=\"ticker\")\n",
      "[*********************100%***********************]  1 of 1 completed\n"
     ]
    },
    {
     "name": "stdout",
     "output_type": "stream",
     "text": [
      "[[ 1.49638679  1.02986359  0.86948409  1.54945845 -0.43088309  1.07799749\n",
      "   1.26028853  0.69362796  1.8791604   2.45889406 -0.52609673]]\n"
     ]
    },
    {
     "name": "stderr",
     "output_type": "stream",
     "text": [
      "C:\\Users\\PC\\AppData\\Local\\Temp\\ipykernel_5920\\1505815251.py:2: FutureWarning: YF.download() has changed argument auto_adjust default to True\n",
      "  Data=yf.download(tickers=ticker,period=\"5y\",interval=\"1d\",group_by=ticker)\n",
      "[*********************100%***********************]  1 of 1 completed\n",
      "C:\\Users\\PC\\AppData\\Local\\Programs\\Python\\Python310\\lib\\site-packages\\xgboost\\training.py:183: UserWarning: [02:02:52] WARNING: C:\\actions-runner\\_work\\xgboost\\xgboost\\src\\learner.cc:738: \n",
      "Parameters: { \"use_label_encoder\" } are not used.\n",
      "\n",
      "  bst.update(dtrain, iteration=i, fobj=obj)\n",
      "C:\\Users\\PC\\AppData\\Local\\Temp\\ipykernel_5920\\1505815251.py:229: FutureWarning: YF.download() has changed argument auto_adjust default to True\n",
      "  data_Test = yf.download(tickers=ticker, period=\"60d\", interval=\"1d\", group_by=\"ticker\")\n",
      "[*********************100%***********************]  1 of 1 completed\n"
     ]
    },
    {
     "name": "stdout",
     "output_type": "stream",
     "text": [
      "[[-0.59585905 -0.01022804 -0.61400226 -1.29777556 -0.09847818  0.28773366\n",
      "   0.61596489 -0.30837961 -0.43662973 -0.33489796 -1.08720867]]\n"
     ]
    },
    {
     "name": "stderr",
     "output_type": "stream",
     "text": [
      "C:\\Users\\PC\\AppData\\Local\\Temp\\ipykernel_5920\\1505815251.py:2: FutureWarning: YF.download() has changed argument auto_adjust default to True\n",
      "  Data=yf.download(tickers=ticker,period=\"5y\",interval=\"1d\",group_by=ticker)\n",
      "[*********************100%***********************]  1 of 1 completed\n",
      "C:\\Users\\PC\\AppData\\Local\\Programs\\Python\\Python310\\lib\\site-packages\\xgboost\\training.py:183: UserWarning: [02:02:55] WARNING: C:\\actions-runner\\_work\\xgboost\\xgboost\\src\\learner.cc:738: \n",
      "Parameters: { \"use_label_encoder\" } are not used.\n",
      "\n",
      "  bst.update(dtrain, iteration=i, fobj=obj)\n",
      "C:\\Users\\PC\\AppData\\Local\\Temp\\ipykernel_5920\\1505815251.py:229: FutureWarning: YF.download() has changed argument auto_adjust default to True\n",
      "  data_Test = yf.download(tickers=ticker, period=\"60d\", interval=\"1d\", group_by=\"ticker\")\n",
      "[*********************100%***********************]  1 of 1 completed\n"
     ]
    },
    {
     "name": "stdout",
     "output_type": "stream",
     "text": [
      "[[ 1.12495645  0.63045561  0.63106284  0.7101524  -0.30895307  1.11023377\n",
      "   1.2997213   0.63098219  0.61151099  1.2031259  -0.50129921]]\n"
     ]
    },
    {
     "name": "stderr",
     "output_type": "stream",
     "text": [
      "C:\\Users\\PC\\AppData\\Local\\Temp\\ipykernel_5920\\1505815251.py:2: FutureWarning: YF.download() has changed argument auto_adjust default to True\n",
      "  Data=yf.download(tickers=ticker,period=\"5y\",interval=\"1d\",group_by=ticker)\n",
      "[*********************100%***********************]  1 of 1 completed\n",
      "C:\\Users\\PC\\AppData\\Local\\Programs\\Python\\Python310\\lib\\site-packages\\xgboost\\training.py:183: UserWarning: [02:02:58] WARNING: C:\\actions-runner\\_work\\xgboost\\xgboost\\src\\learner.cc:738: \n",
      "Parameters: { \"use_label_encoder\" } are not used.\n",
      "\n",
      "  bst.update(dtrain, iteration=i, fobj=obj)\n",
      "C:\\Users\\PC\\AppData\\Local\\Temp\\ipykernel_5920\\1505815251.py:229: FutureWarning: YF.download() has changed argument auto_adjust default to True\n",
      "  data_Test = yf.download(tickers=ticker, period=\"60d\", interval=\"1d\", group_by=\"ticker\")\n",
      "[*********************100%***********************]  1 of 1 completed\n"
     ]
    },
    {
     "name": "stdout",
     "output_type": "stream",
     "text": [
      "[[ 1.13968203  0.59139264  0.62043084  1.1601183   0.61186909  0.81479455\n",
      "   0.93149529  0.54101064  0.66256244  0.94915317 -0.31715069]]\n"
     ]
    },
    {
     "name": "stderr",
     "output_type": "stream",
     "text": [
      "C:\\Users\\PC\\AppData\\Local\\Temp\\ipykernel_5920\\1505815251.py:2: FutureWarning: YF.download() has changed argument auto_adjust default to True\n",
      "  Data=yf.download(tickers=ticker,period=\"5y\",interval=\"1d\",group_by=ticker)\n",
      "[*********************100%***********************]  1 of 1 completed\n",
      "C:\\Users\\PC\\AppData\\Local\\Programs\\Python\\Python310\\lib\\site-packages\\xgboost\\training.py:183: UserWarning: [02:03:01] WARNING: C:\\actions-runner\\_work\\xgboost\\xgboost\\src\\learner.cc:738: \n",
      "Parameters: { \"use_label_encoder\" } are not used.\n",
      "\n",
      "  bst.update(dtrain, iteration=i, fobj=obj)\n",
      "C:\\Users\\PC\\AppData\\Local\\Temp\\ipykernel_5920\\1505815251.py:229: FutureWarning: YF.download() has changed argument auto_adjust default to True\n",
      "  data_Test = yf.download(tickers=ticker, period=\"60d\", interval=\"1d\", group_by=\"ticker\")\n",
      "[*********************100%***********************]  1 of 1 completed\n"
     ]
    },
    {
     "name": "stdout",
     "output_type": "stream",
     "text": [
      "[[ 1.37896268  0.15374787  0.71881357  1.98650344  0.38393995  0.71875845\n",
      "   0.87504761  0.55359474  0.97631366  1.66457448 -0.52983532]]\n"
     ]
    },
    {
     "name": "stderr",
     "output_type": "stream",
     "text": [
      "C:\\Users\\PC\\AppData\\Local\\Temp\\ipykernel_5920\\1505815251.py:2: FutureWarning: YF.download() has changed argument auto_adjust default to True\n",
      "  Data=yf.download(tickers=ticker,period=\"5y\",interval=\"1d\",group_by=ticker)\n",
      "[*********************100%***********************]  1 of 1 completed\n",
      "C:\\Users\\PC\\AppData\\Local\\Programs\\Python\\Python310\\lib\\site-packages\\xgboost\\training.py:183: UserWarning: [02:03:04] WARNING: C:\\actions-runner\\_work\\xgboost\\xgboost\\src\\learner.cc:738: \n",
      "Parameters: { \"use_label_encoder\" } are not used.\n",
      "\n",
      "  bst.update(dtrain, iteration=i, fobj=obj)\n",
      "C:\\Users\\PC\\AppData\\Local\\Temp\\ipykernel_5920\\1505815251.py:229: FutureWarning: YF.download() has changed argument auto_adjust default to True\n",
      "  data_Test = yf.download(tickers=ticker, period=\"60d\", interval=\"1d\", group_by=\"ticker\")\n",
      "[*********************100%***********************]  1 of 1 completed\n"
     ]
    },
    {
     "name": "stdout",
     "output_type": "stream",
     "text": [
      "[[2.63687685 0.22436447 1.24591172 3.25890576 0.1388227  1.321054\n",
      "  1.30074325 1.16428406 1.71332231 3.04471847 0.21142455]]\n"
     ]
    },
    {
     "name": "stderr",
     "output_type": "stream",
     "text": [
      "C:\\Users\\PC\\AppData\\Local\\Temp\\ipykernel_5920\\1505815251.py:2: FutureWarning: YF.download() has changed argument auto_adjust default to True\n",
      "  Data=yf.download(tickers=ticker,period=\"5y\",interval=\"1d\",group_by=ticker)\n",
      "[*********************100%***********************]  1 of 1 completed\n",
      "C:\\Users\\PC\\AppData\\Local\\Programs\\Python\\Python310\\lib\\site-packages\\xgboost\\training.py:183: UserWarning: [02:03:07] WARNING: C:\\actions-runner\\_work\\xgboost\\xgboost\\src\\learner.cc:738: \n",
      "Parameters: { \"use_label_encoder\" } are not used.\n",
      "\n",
      "  bst.update(dtrain, iteration=i, fobj=obj)\n",
      "C:\\Users\\PC\\AppData\\Local\\Temp\\ipykernel_5920\\1505815251.py:229: FutureWarning: YF.download() has changed argument auto_adjust default to True\n",
      "  data_Test = yf.download(tickers=ticker, period=\"60d\", interval=\"1d\", group_by=\"ticker\")\n",
      "[*********************100%***********************]  1 of 1 completed\n"
     ]
    },
    {
     "name": "stdout",
     "output_type": "stream",
     "text": [
      "[[-0.26800639 -0.60861544 -0.53552798 -1.72416285  0.56742111 -1.0135351\n",
      "  -0.98244909 -0.42425129 -0.24477547 -0.07292858 -0.21056055]]\n"
     ]
    },
    {
     "name": "stderr",
     "output_type": "stream",
     "text": [
      "C:\\Users\\PC\\AppData\\Local\\Temp\\ipykernel_5920\\1505815251.py:2: FutureWarning: YF.download() has changed argument auto_adjust default to True\n",
      "  Data=yf.download(tickers=ticker,period=\"5y\",interval=\"1d\",group_by=ticker)\n",
      "[*********************100%***********************]  1 of 1 completed\n",
      "C:\\Users\\PC\\AppData\\Local\\Programs\\Python\\Python310\\lib\\site-packages\\xgboost\\training.py:183: UserWarning: [02:03:10] WARNING: C:\\actions-runner\\_work\\xgboost\\xgboost\\src\\learner.cc:738: \n",
      "Parameters: { \"use_label_encoder\" } are not used.\n",
      "\n",
      "  bst.update(dtrain, iteration=i, fobj=obj)\n",
      "C:\\Users\\PC\\AppData\\Local\\Temp\\ipykernel_5920\\1505815251.py:229: FutureWarning: YF.download() has changed argument auto_adjust default to True\n",
      "  data_Test = yf.download(tickers=ticker, period=\"60d\", interval=\"1d\", group_by=\"ticker\")\n",
      "[*********************100%***********************]  1 of 1 completed\n"
     ]
    },
    {
     "name": "stdout",
     "output_type": "stream",
     "text": [
      "[[-1.23618123 -0.44991564 -1.2567844  -0.38784275  0.3202599   0.09863231\n",
      "   0.29231253 -1.13017975 -1.36417973 -1.11978114 -0.68232589]]\n"
     ]
    },
    {
     "name": "stderr",
     "output_type": "stream",
     "text": [
      "C:\\Users\\PC\\AppData\\Local\\Temp\\ipykernel_5920\\1505815251.py:2: FutureWarning: YF.download() has changed argument auto_adjust default to True\n",
      "  Data=yf.download(tickers=ticker,period=\"5y\",interval=\"1d\",group_by=ticker)\n",
      "[*********************100%***********************]  1 of 1 completed\n",
      "C:\\Users\\PC\\AppData\\Local\\Programs\\Python\\Python310\\lib\\site-packages\\xgboost\\training.py:183: UserWarning: [02:03:13] WARNING: C:\\actions-runner\\_work\\xgboost\\xgboost\\src\\learner.cc:738: \n",
      "Parameters: { \"use_label_encoder\" } are not used.\n",
      "\n",
      "  bst.update(dtrain, iteration=i, fobj=obj)\n",
      "C:\\Users\\PC\\AppData\\Local\\Temp\\ipykernel_5920\\1505815251.py:229: FutureWarning: YF.download() has changed argument auto_adjust default to True\n",
      "  data_Test = yf.download(tickers=ticker, period=\"60d\", interval=\"1d\", group_by=\"ticker\")\n",
      "[*********************100%***********************]  1 of 1 completed\n"
     ]
    },
    {
     "name": "stdout",
     "output_type": "stream",
     "text": [
      "[[ 1.22869047  0.40026537  1.27906234 -0.59393361 -0.8418742   1.33253078\n",
      "   1.20205637  1.18678337  0.85931873  1.00065144  0.57680608]]\n"
     ]
    },
    {
     "name": "stderr",
     "output_type": "stream",
     "text": [
      "C:\\Users\\PC\\AppData\\Local\\Temp\\ipykernel_5920\\1505815251.py:2: FutureWarning: YF.download() has changed argument auto_adjust default to True\n",
      "  Data=yf.download(tickers=ticker,period=\"5y\",interval=\"1d\",group_by=ticker)\n",
      "[*********************100%***********************]  1 of 1 completed\n",
      "C:\\Users\\PC\\AppData\\Local\\Programs\\Python\\Python310\\lib\\site-packages\\xgboost\\training.py:183: UserWarning: [02:03:16] WARNING: C:\\actions-runner\\_work\\xgboost\\xgboost\\src\\learner.cc:738: \n",
      "Parameters: { \"use_label_encoder\" } are not used.\n",
      "\n",
      "  bst.update(dtrain, iteration=i, fobj=obj)\n",
      "C:\\Users\\PC\\AppData\\Local\\Temp\\ipykernel_5920\\1505815251.py:229: FutureWarning: YF.download() has changed argument auto_adjust default to True\n",
      "  data_Test = yf.download(tickers=ticker, period=\"60d\", interval=\"1d\", group_by=\"ticker\")\n",
      "[*********************100%***********************]  1 of 1 completed\n"
     ]
    },
    {
     "name": "stdout",
     "output_type": "stream",
     "text": [
      "[[-0.03944462 -1.12304889 -0.09082303 -0.88297645  2.66552668 -0.51887131\n",
      "  -0.55723044 -0.50307254  0.02045479  0.27390941  0.09031117]]\n"
     ]
    },
    {
     "name": "stderr",
     "output_type": "stream",
     "text": [
      "C:\\Users\\PC\\AppData\\Local\\Temp\\ipykernel_5920\\1505815251.py:2: FutureWarning: YF.download() has changed argument auto_adjust default to True\n",
      "  Data=yf.download(tickers=ticker,period=\"5y\",interval=\"1d\",group_by=ticker)\n",
      "[*********************100%***********************]  1 of 1 completed\n",
      "C:\\Users\\PC\\AppData\\Local\\Programs\\Python\\Python310\\lib\\site-packages\\xgboost\\training.py:183: UserWarning: [02:03:18] WARNING: C:\\actions-runner\\_work\\xgboost\\xgboost\\src\\learner.cc:738: \n",
      "Parameters: { \"use_label_encoder\" } are not used.\n",
      "\n",
      "  bst.update(dtrain, iteration=i, fobj=obj)\n",
      "C:\\Users\\PC\\AppData\\Local\\Temp\\ipykernel_5920\\1505815251.py:229: FutureWarning: YF.download() has changed argument auto_adjust default to True\n",
      "  data_Test = yf.download(tickers=ticker, period=\"60d\", interval=\"1d\", group_by=\"ticker\")\n",
      "[*********************100%***********************]  1 of 1 completed\n"
     ]
    },
    {
     "name": "stdout",
     "output_type": "stream",
     "text": [
      "[[ 0.86315391  0.81632696  0.83168547 -0.89328484 -0.46334827  1.2510554\n",
      "   0.46273722  0.53775551  1.02294264  0.53030301  2.77799921]]\n"
     ]
    },
    {
     "name": "stderr",
     "output_type": "stream",
     "text": [
      "C:\\Users\\PC\\AppData\\Local\\Temp\\ipykernel_5920\\1505815251.py:2: FutureWarning: YF.download() has changed argument auto_adjust default to True\n",
      "  Data=yf.download(tickers=ticker,period=\"5y\",interval=\"1d\",group_by=ticker)\n",
      "[*********************100%***********************]  1 of 1 completed\n",
      "C:\\Users\\PC\\AppData\\Local\\Programs\\Python\\Python310\\lib\\site-packages\\xgboost\\training.py:183: UserWarning: [02:03:21] WARNING: C:\\actions-runner\\_work\\xgboost\\xgboost\\src\\learner.cc:738: \n",
      "Parameters: { \"use_label_encoder\" } are not used.\n",
      "\n",
      "  bst.update(dtrain, iteration=i, fobj=obj)\n",
      "C:\\Users\\PC\\AppData\\Local\\Temp\\ipykernel_5920\\1505815251.py:229: FutureWarning: YF.download() has changed argument auto_adjust default to True\n",
      "  data_Test = yf.download(tickers=ticker, period=\"60d\", interval=\"1d\", group_by=\"ticker\")\n",
      "[*********************100%***********************]  1 of 1 completed\n"
     ]
    },
    {
     "name": "stdout",
     "output_type": "stream",
     "text": [
      "[[-0.74493339 -0.02858287 -0.72252065 -1.04433352  0.07948417 -0.34905541\n",
      "   0.05436163 -0.78980452 -0.74598238 -0.65614897 -1.38007691]]\n"
     ]
    },
    {
     "name": "stderr",
     "output_type": "stream",
     "text": [
      "C:\\Users\\PC\\AppData\\Local\\Temp\\ipykernel_5920\\1505815251.py:2: FutureWarning: YF.download() has changed argument auto_adjust default to True\n",
      "  Data=yf.download(tickers=ticker,period=\"5y\",interval=\"1d\",group_by=ticker)\n",
      "[*********************100%***********************]  1 of 1 completed\n",
      "C:\\Users\\PC\\AppData\\Local\\Programs\\Python\\Python310\\lib\\site-packages\\xgboost\\training.py:183: UserWarning: [02:03:23] WARNING: C:\\actions-runner\\_work\\xgboost\\xgboost\\src\\learner.cc:738: \n",
      "Parameters: { \"use_label_encoder\" } are not used.\n",
      "\n",
      "  bst.update(dtrain, iteration=i, fobj=obj)\n",
      "C:\\Users\\PC\\AppData\\Local\\Temp\\ipykernel_5920\\1505815251.py:229: FutureWarning: YF.download() has changed argument auto_adjust default to True\n",
      "  data_Test = yf.download(tickers=ticker, period=\"60d\", interval=\"1d\", group_by=\"ticker\")\n",
      "[*********************100%***********************]  1 of 1 completed\n"
     ]
    },
    {
     "name": "stdout",
     "output_type": "stream",
     "text": [
      "[[ 0.10214094  0.05540796  0.27227402 -0.8544985   0.01248926  0.39103194\n",
      "   0.44796087  0.29268623 -0.02469417  0.12571431 -0.1524223 ]]\n"
     ]
    },
    {
     "name": "stderr",
     "output_type": "stream",
     "text": [
      "C:\\Users\\PC\\AppData\\Local\\Temp\\ipykernel_5920\\1505815251.py:2: FutureWarning: YF.download() has changed argument auto_adjust default to True\n",
      "  Data=yf.download(tickers=ticker,period=\"5y\",interval=\"1d\",group_by=ticker)\n",
      "[*********************100%***********************]  1 of 1 completed\n",
      "C:\\Users\\PC\\AppData\\Local\\Programs\\Python\\Python310\\lib\\site-packages\\xgboost\\training.py:183: UserWarning: [02:03:26] WARNING: C:\\actions-runner\\_work\\xgboost\\xgboost\\src\\learner.cc:738: \n",
      "Parameters: { \"use_label_encoder\" } are not used.\n",
      "\n",
      "  bst.update(dtrain, iteration=i, fobj=obj)\n",
      "C:\\Users\\PC\\AppData\\Local\\Temp\\ipykernel_5920\\1505815251.py:229: FutureWarning: YF.download() has changed argument auto_adjust default to True\n",
      "  data_Test = yf.download(tickers=ticker, period=\"60d\", interval=\"1d\", group_by=\"ticker\")\n",
      "[*********************100%***********************]  1 of 1 completed\n"
     ]
    },
    {
     "name": "stdout",
     "output_type": "stream",
     "text": [
      "[[ 0.42776342  0.75541266  0.83938644 -0.56967196  0.02660685  0.58888443\n",
      "   0.55000981  0.84315177  0.48871545  0.17958103  0.19189729]]\n"
     ]
    },
    {
     "name": "stderr",
     "output_type": "stream",
     "text": [
      "C:\\Users\\PC\\AppData\\Local\\Temp\\ipykernel_5920\\1505815251.py:2: FutureWarning: YF.download() has changed argument auto_adjust default to True\n",
      "  Data=yf.download(tickers=ticker,period=\"5y\",interval=\"1d\",group_by=ticker)\n",
      "[*********************100%***********************]  1 of 1 completed\n",
      "C:\\Users\\PC\\AppData\\Local\\Programs\\Python\\Python310\\lib\\site-packages\\xgboost\\training.py:183: UserWarning: [02:03:29] WARNING: C:\\actions-runner\\_work\\xgboost\\xgboost\\src\\learner.cc:738: \n",
      "Parameters: { \"use_label_encoder\" } are not used.\n",
      "\n",
      "  bst.update(dtrain, iteration=i, fobj=obj)\n",
      "C:\\Users\\PC\\AppData\\Local\\Temp\\ipykernel_5920\\1505815251.py:229: FutureWarning: YF.download() has changed argument auto_adjust default to True\n",
      "  data_Test = yf.download(tickers=ticker, period=\"60d\", interval=\"1d\", group_by=\"ticker\")\n",
      "[*********************100%***********************]  1 of 1 completed\n"
     ]
    },
    {
     "name": "stdout",
     "output_type": "stream",
     "text": [
      "[[ 0.60122035 -0.01292593  0.64478644 -0.62156506 -1.47879787 -0.05086429\n",
      "  -0.16657018  0.72784348  0.5010167   0.82191383  0.365848  ]]\n"
     ]
    },
    {
     "name": "stderr",
     "output_type": "stream",
     "text": [
      "C:\\Users\\PC\\AppData\\Local\\Temp\\ipykernel_5920\\1505815251.py:2: FutureWarning: YF.download() has changed argument auto_adjust default to True\n",
      "  Data=yf.download(tickers=ticker,period=\"5y\",interval=\"1d\",group_by=ticker)\n",
      "[*********************100%***********************]  1 of 1 completed\n",
      "C:\\Users\\PC\\AppData\\Local\\Programs\\Python\\Python310\\lib\\site-packages\\xgboost\\training.py:183: UserWarning: [02:03:32] WARNING: C:\\actions-runner\\_work\\xgboost\\xgboost\\src\\learner.cc:738: \n",
      "Parameters: { \"use_label_encoder\" } are not used.\n",
      "\n",
      "  bst.update(dtrain, iteration=i, fobj=obj)\n",
      "C:\\Users\\PC\\AppData\\Local\\Temp\\ipykernel_5920\\1505815251.py:229: FutureWarning: YF.download() has changed argument auto_adjust default to True\n",
      "  data_Test = yf.download(tickers=ticker, period=\"60d\", interval=\"1d\", group_by=\"ticker\")\n",
      "[*********************100%***********************]  1 of 1 completed\n"
     ]
    },
    {
     "name": "stdout",
     "output_type": "stream",
     "text": [
      "[[ 0.58645669 -0.83348192  0.38457504 -0.62181983  1.36395027  0.24845641\n",
      "   0.10335788  0.29418149  0.34325155  0.98665339  0.50096301]]\n"
     ]
    },
    {
     "name": "stderr",
     "output_type": "stream",
     "text": [
      "C:\\Users\\PC\\AppData\\Local\\Temp\\ipykernel_5920\\1505815251.py:2: FutureWarning: YF.download() has changed argument auto_adjust default to True\n",
      "  Data=yf.download(tickers=ticker,period=\"5y\",interval=\"1d\",group_by=ticker)\n",
      "[*********************100%***********************]  1 of 1 completed\n",
      "C:\\Users\\PC\\AppData\\Local\\Programs\\Python\\Python310\\lib\\site-packages\\xgboost\\training.py:183: UserWarning: [02:03:35] WARNING: C:\\actions-runner\\_work\\xgboost\\xgboost\\src\\learner.cc:738: \n",
      "Parameters: { \"use_label_encoder\" } are not used.\n",
      "\n",
      "  bst.update(dtrain, iteration=i, fobj=obj)\n",
      "C:\\Users\\PC\\AppData\\Local\\Temp\\ipykernel_5920\\1505815251.py:229: FutureWarning: YF.download() has changed argument auto_adjust default to True\n",
      "  data_Test = yf.download(tickers=ticker, period=\"60d\", interval=\"1d\", group_by=\"ticker\")\n",
      "[*********************100%***********************]  1 of 1 completed\n"
     ]
    },
    {
     "name": "stdout",
     "output_type": "stream",
     "text": [
      "[[ 0.89658888  0.19919769  1.26145719 -1.26773101 -0.40763415  0.64714694\n",
      "   0.51031844  1.10931946  0.85875002  0.85636658  0.53056218]]\n"
     ]
    },
    {
     "name": "stderr",
     "output_type": "stream",
     "text": [
      "C:\\Users\\PC\\AppData\\Local\\Temp\\ipykernel_5920\\1505815251.py:2: FutureWarning: YF.download() has changed argument auto_adjust default to True\n",
      "  Data=yf.download(tickers=ticker,period=\"5y\",interval=\"1d\",group_by=ticker)\n",
      "[*********************100%***********************]  1 of 1 completed\n",
      "C:\\Users\\PC\\AppData\\Local\\Programs\\Python\\Python310\\lib\\site-packages\\xgboost\\training.py:183: UserWarning: [02:03:38] WARNING: C:\\actions-runner\\_work\\xgboost\\xgboost\\src\\learner.cc:738: \n",
      "Parameters: { \"use_label_encoder\" } are not used.\n",
      "\n",
      "  bst.update(dtrain, iteration=i, fobj=obj)\n",
      "C:\\Users\\PC\\AppData\\Local\\Temp\\ipykernel_5920\\1505815251.py:229: FutureWarning: YF.download() has changed argument auto_adjust default to True\n",
      "  data_Test = yf.download(tickers=ticker, period=\"60d\", interval=\"1d\", group_by=\"ticker\")\n",
      "[*********************100%***********************]  1 of 1 completed\n"
     ]
    },
    {
     "name": "stdout",
     "output_type": "stream",
     "text": [
      "[[ 1.4703706   0.65118583  0.94891334  0.71547716 -0.85585181  1.18446018\n",
      "   1.21619952  0.93155639  0.8529915   1.09648271  0.02192607]]\n"
     ]
    },
    {
     "name": "stderr",
     "output_type": "stream",
     "text": [
      "C:\\Users\\PC\\AppData\\Local\\Temp\\ipykernel_5920\\1505815251.py:2: FutureWarning: YF.download() has changed argument auto_adjust default to True\n",
      "  Data=yf.download(tickers=ticker,period=\"5y\",interval=\"1d\",group_by=ticker)\n",
      "[*********************100%***********************]  1 of 1 completed\n",
      "C:\\Users\\PC\\AppData\\Local\\Programs\\Python\\Python310\\lib\\site-packages\\xgboost\\training.py:183: UserWarning: [02:03:40] WARNING: C:\\actions-runner\\_work\\xgboost\\xgboost\\src\\learner.cc:738: \n",
      "Parameters: { \"use_label_encoder\" } are not used.\n",
      "\n",
      "  bst.update(dtrain, iteration=i, fobj=obj)\n",
      "C:\\Users\\PC\\AppData\\Local\\Temp\\ipykernel_5920\\1505815251.py:229: FutureWarning: YF.download() has changed argument auto_adjust default to True\n",
      "  data_Test = yf.download(tickers=ticker, period=\"60d\", interval=\"1d\", group_by=\"ticker\")\n",
      "[*********************100%***********************]  1 of 1 completed\n"
     ]
    },
    {
     "name": "stdout",
     "output_type": "stream",
     "text": [
      "[[ 0.81175788  0.9207285   1.17205119 -1.32842797 -0.00788587  1.03730277\n",
      "   1.03714873  1.03238467  1.14927773  0.72571243  0.10409056]]\n"
     ]
    },
    {
     "name": "stderr",
     "output_type": "stream",
     "text": [
      "C:\\Users\\PC\\AppData\\Local\\Temp\\ipykernel_5920\\1505815251.py:2: FutureWarning: YF.download() has changed argument auto_adjust default to True\n",
      "  Data=yf.download(tickers=ticker,period=\"5y\",interval=\"1d\",group_by=ticker)\n",
      "[*********************100%***********************]  1 of 1 completed\n",
      "C:\\Users\\PC\\AppData\\Local\\Programs\\Python\\Python310\\lib\\site-packages\\xgboost\\training.py:183: UserWarning: [02:03:43] WARNING: C:\\actions-runner\\_work\\xgboost\\xgboost\\src\\learner.cc:738: \n",
      "Parameters: { \"use_label_encoder\" } are not used.\n",
      "\n",
      "  bst.update(dtrain, iteration=i, fobj=obj)\n",
      "C:\\Users\\PC\\AppData\\Local\\Temp\\ipykernel_5920\\1505815251.py:229: FutureWarning: YF.download() has changed argument auto_adjust default to True\n",
      "  data_Test = yf.download(tickers=ticker, period=\"60d\", interval=\"1d\", group_by=\"ticker\")\n",
      "[*********************100%***********************]  1 of 1 completed\n"
     ]
    },
    {
     "name": "stdout",
     "output_type": "stream",
     "text": [
      "[[ 1.44478803 -0.02151008  0.67448151  2.18510201  0.32986702  0.71270953\n",
      "   0.85574621  0.51205385  0.68345914  1.24864695 -0.44054763]]\n"
     ]
    },
    {
     "name": "stderr",
     "output_type": "stream",
     "text": [
      "C:\\Users\\PC\\AppData\\Local\\Temp\\ipykernel_5920\\1505815251.py:2: FutureWarning: YF.download() has changed argument auto_adjust default to True\n",
      "  Data=yf.download(tickers=ticker,period=\"5y\",interval=\"1d\",group_by=ticker)\n",
      "[*********************100%***********************]  1 of 1 completed\n",
      "C:\\Users\\PC\\AppData\\Local\\Programs\\Python\\Python310\\lib\\site-packages\\xgboost\\training.py:183: UserWarning: [02:03:46] WARNING: C:\\actions-runner\\_work\\xgboost\\xgboost\\src\\learner.cc:738: \n",
      "Parameters: { \"use_label_encoder\" } are not used.\n",
      "\n",
      "  bst.update(dtrain, iteration=i, fobj=obj)\n",
      "C:\\Users\\PC\\AppData\\Local\\Temp\\ipykernel_5920\\1505815251.py:229: FutureWarning: YF.download() has changed argument auto_adjust default to True\n",
      "  data_Test = yf.download(tickers=ticker, period=\"60d\", interval=\"1d\", group_by=\"ticker\")\n",
      "[*********************100%***********************]  1 of 1 completed\n"
     ]
    },
    {
     "name": "stdout",
     "output_type": "stream",
     "text": [
      "[[ 1.42140839  0.1754672   1.13445636  0.23510607 -0.86326261  1.15440821\n",
      "   1.21621776  0.97286125  0.44039502  0.6056713  -0.09116658]]\n"
     ]
    },
    {
     "name": "stderr",
     "output_type": "stream",
     "text": [
      "C:\\Users\\PC\\AppData\\Local\\Temp\\ipykernel_5920\\1505815251.py:2: FutureWarning: YF.download() has changed argument auto_adjust default to True\n",
      "  Data=yf.download(tickers=ticker,period=\"5y\",interval=\"1d\",group_by=ticker)\n",
      "[*********************100%***********************]  1 of 1 completed\n",
      "C:\\Users\\PC\\AppData\\Local\\Programs\\Python\\Python310\\lib\\site-packages\\xgboost\\training.py:183: UserWarning: [02:03:49] WARNING: C:\\actions-runner\\_work\\xgboost\\xgboost\\src\\learner.cc:738: \n",
      "Parameters: { \"use_label_encoder\" } are not used.\n",
      "\n",
      "  bst.update(dtrain, iteration=i, fobj=obj)\n",
      "C:\\Users\\PC\\AppData\\Local\\Temp\\ipykernel_5920\\1505815251.py:229: FutureWarning: YF.download() has changed argument auto_adjust default to True\n",
      "  data_Test = yf.download(tickers=ticker, period=\"60d\", interval=\"1d\", group_by=\"ticker\")\n",
      "[*********************100%***********************]  1 of 1 completed\n"
     ]
    },
    {
     "name": "stdout",
     "output_type": "stream",
     "text": [
      "[[ 0.66556361  0.32894582  0.91431611 -1.37664228  1.33695018  0.97139484\n",
      "   0.98853419  0.70228413  0.83178973  1.03700413  0.0348578 ]]\n"
     ]
    },
    {
     "name": "stderr",
     "output_type": "stream",
     "text": [
      "C:\\Users\\PC\\AppData\\Local\\Temp\\ipykernel_5920\\1505815251.py:2: FutureWarning: YF.download() has changed argument auto_adjust default to True\n",
      "  Data=yf.download(tickers=ticker,period=\"5y\",interval=\"1d\",group_by=ticker)\n",
      "[*********************100%***********************]  1 of 1 completed\n",
      "C:\\Users\\PC\\AppData\\Local\\Programs\\Python\\Python310\\lib\\site-packages\\xgboost\\training.py:183: UserWarning: [02:03:52] WARNING: C:\\actions-runner\\_work\\xgboost\\xgboost\\src\\learner.cc:738: \n",
      "Parameters: { \"use_label_encoder\" } are not used.\n",
      "\n",
      "  bst.update(dtrain, iteration=i, fobj=obj)\n",
      "C:\\Users\\PC\\AppData\\Local\\Temp\\ipykernel_5920\\1505815251.py:229: FutureWarning: YF.download() has changed argument auto_adjust default to True\n",
      "  data_Test = yf.download(tickers=ticker, period=\"60d\", interval=\"1d\", group_by=\"ticker\")\n",
      "[*********************100%***********************]  1 of 1 completed\n"
     ]
    },
    {
     "name": "stdout",
     "output_type": "stream",
     "text": [
      "[[ 1.56540739  0.78367969  1.46965633  2.01041446 -0.04633842  1.36907583\n",
      "   0.95613066  1.42996196  1.15013208  1.22809942  1.46856907]]\n"
     ]
    },
    {
     "name": "stderr",
     "output_type": "stream",
     "text": [
      "C:\\Users\\PC\\AppData\\Local\\Temp\\ipykernel_5920\\1505815251.py:2: FutureWarning: YF.download() has changed argument auto_adjust default to True\n",
      "  Data=yf.download(tickers=ticker,period=\"5y\",interval=\"1d\",group_by=ticker)\n",
      "[*********************100%***********************]  1 of 1 completed\n",
      "C:\\Users\\PC\\AppData\\Local\\Programs\\Python\\Python310\\lib\\site-packages\\xgboost\\training.py:183: UserWarning: [02:03:55] WARNING: C:\\actions-runner\\_work\\xgboost\\xgboost\\src\\learner.cc:738: \n",
      "Parameters: { \"use_label_encoder\" } are not used.\n",
      "\n",
      "  bst.update(dtrain, iteration=i, fobj=obj)\n",
      "C:\\Users\\PC\\AppData\\Local\\Temp\\ipykernel_5920\\1505815251.py:229: FutureWarning: YF.download() has changed argument auto_adjust default to True\n",
      "  data_Test = yf.download(tickers=ticker, period=\"60d\", interval=\"1d\", group_by=\"ticker\")\n",
      "[*********************100%***********************]  1 of 1 completed\n"
     ]
    },
    {
     "name": "stdout",
     "output_type": "stream",
     "text": [
      "[[ 2.07928423  1.1361417   0.96049222  2.05552609 -0.51245961  1.19977821\n",
      "   1.35907333  0.8565      1.29434195  1.61895318 -0.39877139]]\n",
      "   Ticker  Buy  Confidence\n",
      "0    NVDA   No        0.00\n",
      "1    MSFT   No        0.01\n",
      "2    AAPL   No        0.00\n",
      "3    AMZN   No        0.01\n",
      "4   GOOGL   No        0.01\n",
      "5    META   No        0.01\n",
      "6    TSLA  Yes       92.96\n",
      "7     JPM   No        0.03\n",
      "8     WMT   No        8.39\n",
      "9     LLY   No        0.01\n",
      "10      V   No        0.02\n",
      "11   ORCL   No        0.05\n",
      "12   NFLX   No        0.54\n",
      "13     MA   No        0.01\n",
      "14    XOM   No        0.01\n",
      "15    UNH   No        0.04\n",
      "16    BAC   No        0.05\n",
      "17    PFE   No        0.00\n",
      "18   ABBV   No        0.01\n",
      "19   CSCO   No        0.00\n",
      "20    PEP   No        0.02\n",
      "21    MRK   No        0.01\n",
      "22   COST   No        0.09\n",
      "23    MCD   No        0.02\n",
      "24   AVGO   No        0.03\n",
      "25    NKE   No        0.01\n",
      "26    CRM   No        3.11\n",
      "27    HON   No        0.01\n",
      "28    WFC   No        0.00\n",
      "29      C   No        0.00\n",
      "30    TXN   No        0.00\n",
      "31    ABT   No        0.31\n",
      "32    ACN  Yes       65.64\n",
      "33    MDT   No        0.01\n",
      "34     PM   No        0.04\n",
      "35    BMY   No        0.00\n",
      "36     VZ   No        0.39\n",
      "37    LIN   No        0.00\n",
      "38    LOW   No        0.00\n",
      "39    UPS   No        0.01\n",
      "40    RTX   No        0.41\n",
      "41    DHR   No        0.02\n",
      "42    UNP   No        0.01\n",
      "43    TMO   No        0.02\n",
      "44     MS   No        0.00\n",
      "45   SCHW   No        0.00\n",
      "46    NEE   No        0.06\n",
      "47    CVX   No        0.05\n",
      "48    PNC   No        0.00\n"
     ]
    }
   ],
   "source": [
    "results = []\n",
    "\n",
    "for ticker in ticker_list:\n",
    "    result = process_stock(ticker)\n",
    "    results.append(result)\n",
    "\n",
    "final_df = pd.DataFrame(results)\n",
    "\n",
    "\n",
    "print(final_df)\n"
   ]
  },
  {
   "cell_type": "code",
   "execution_count": 9,
   "id": "120ad13e-55d0-4222-acd3-2e3713be3e18",
   "metadata": {},
   "outputs": [],
   "source": [
    "from datetime import date\n",
    "\n",
    "today = date.today().strftime(\"%Y-%m-%d\")  # e.g., \"2025-07-08\"\n",
    "filename = f\"{today}_Screener_USA.csv\"\n",
    "\n",
    "final_df.to_csv(filename, index=False)\n"
   ]
  },
  {
   "cell_type": "code",
   "execution_count": null,
   "id": "6c9a79f1-ecbc-40bc-a52a-a3564ed18394",
   "metadata": {},
   "outputs": [],
   "source": []
  }
 ],
 "metadata": {
  "kernelspec": {
   "display_name": "Python 3 (ipykernel)",
   "language": "python",
   "name": "python3"
  },
  "language_info": {
   "codemirror_mode": {
    "name": "ipython",
    "version": 3
   },
   "file_extension": ".py",
   "mimetype": "text/x-python",
   "name": "python",
   "nbconvert_exporter": "python",
   "pygments_lexer": "ipython3",
   "version": "3.10.11"
  }
 },
 "nbformat": 4,
 "nbformat_minor": 5
}
