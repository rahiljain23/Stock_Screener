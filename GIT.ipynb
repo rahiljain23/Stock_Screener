{
 "cells": [
  {
   "cell_type": "code",
   "execution_count": 1,
   "id": "6cecd104-ef0b-4496-b43c-2044a4f8e927",
   "metadata": {},
   "outputs": [
    {
     "name": "stderr",
     "output_type": "stream",
     "text": [
      "warning: in the working copy of '.ipynb_checkpoints/Stocks_Screener-checkpoint.ipynb', LF will be replaced by CRLF the next time Git touches it\n",
      "warning: in the working copy of 'Stocks_Screener.ipynb', LF will be replaced by CRLF the next time Git touches it\n",
      "warning: in the working copy of 'Stocks_Screener_India.ipynb', LF will be replaced by CRLF the next time Git touches it\n",
      "warning: adding embedded git repository: chart_patterns\n",
      "hint: You've added another git repository inside your current repository.\n",
      "hint: Clones of the outer repository will not contain the contents of\n",
      "hint: the embedded repository and will not know how to obtain it.\n",
      "hint: If you meant to add a submodule, use:\n",
      "hint:\n",
      "hint: \tgit submodule add <url> chart_patterns\n",
      "hint:\n",
      "hint: If you added this path by mistake, you can remove it from the\n",
      "hint: index with:\n",
      "hint:\n",
      "hint: \tgit rm --cached chart_patterns\n",
      "hint:\n",
      "hint: See \"git help submodule\" for more information.\n",
      "hint: Disable this message with \"git config set advice.addEmbeddedRepo false\"\n"
     ]
    },
    {
     "name": "stdout",
     "output_type": "stream",
     "text": [
      "[main 3d60948] Some update\n",
      " 7 files changed, 3936 insertions(+), 4546 deletions(-)\n",
      " create mode 100644 2025-07-14_Screener_India.csv\n",
      " create mode 160000 chart_patterns\n",
      " create mode 100644 test2.csv\n"
     ]
    },
    {
     "name": "stderr",
     "output_type": "stream",
     "text": [
      "To https://github.com/rahiljain23/Stock_Screener\n",
      "   754ff78..3d60948  main -> main\n"
     ]
    }
   ],
   "source": [
    "!cd C:\\Users\\PC\\Desktop\\stock_screener\n",
    "!git add .\n",
    "!git commit -m \"Some update\"\n",
    "!git push\n"
   ]
  },
  {
   "cell_type": "code",
   "execution_count": null,
   "id": "6ba10042-6f5e-4848-90a7-c8067c011f73",
   "metadata": {},
   "outputs": [],
   "source": []
  }
 ],
 "metadata": {
  "kernelspec": {
   "display_name": "Python 3 (ipykernel)",
   "language": "python",
   "name": "python3"
  },
  "language_info": {
   "codemirror_mode": {
    "name": "ipython",
    "version": 3
   },
   "file_extension": ".py",
   "mimetype": "text/x-python",
   "name": "python",
   "nbconvert_exporter": "python",
   "pygments_lexer": "ipython3",
   "version": "3.10.11"
  }
 },
 "nbformat": 4,
 "nbformat_minor": 5
}
