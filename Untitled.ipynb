{
 "cells": [
  {
   "cell_type": "code",
   "execution_count": null,
   "id": "a3f6dccd-7f61-47f3-845c-95f5f87e17f4",
   "metadata": {},
   "outputs": [],
   "source": [
    "import pandas as pd\n",
    "\n",
    "url = \"https://www1.nseindia.com/content/indices/ind_nifty100list.csv\"  # placeholder URL\n",
    "df = pd.read_csv(url)\n",
    "tickers = df['Symbol'].apply(lambda s: s + '.NS').tolist()\n"
   ]
  },
  {
   "cell_type": "code",
   "execution_count": null,
   "id": "c4b5ee8d-a3b2-4ba7-a271-3302597f2284",
   "metadata": {},
   "outputs": [],
   "source": [
    "tickers"
   ]
  },
  {
   "cell_type": "code",
   "execution_count": null,
   "id": "8e4a0642-d41c-4352-8c38-183b1e95a575",
   "metadata": {},
   "outputs": [],
   "source": []
  }
 ],
 "metadata": {
  "kernelspec": {
   "display_name": "Python 3 (ipykernel)",
   "language": "python",
   "name": "python3"
  },
  "language_info": {
   "codemirror_mode": {
    "name": "ipython",
    "version": 3
   },
   "file_extension": ".py",
   "mimetype": "text/x-python",
   "name": "python",
   "nbconvert_exporter": "python",
   "pygments_lexer": "ipython3",
   "version": "3.10.11"
  }
 },
 "nbformat": 4,
 "nbformat_minor": 5
}
