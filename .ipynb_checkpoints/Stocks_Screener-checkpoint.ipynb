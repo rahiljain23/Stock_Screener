{
 "cells": [
  {
   "cell_type": "code",
   "execution_count": null,
   "id": "c01d8a61-0aa4-49d5-a39e-57ce5cdb1ea9",
   "metadata": {},
   "outputs": [],
   "source": [
    "# !pip uninstall numpy pandas-ta -y\n",
    "# !pip install numpy==1.23.5\n",
    "# !pip install pandas-ta\n",
    "# !pip install m-patternpy --no-deps\n"
   ]
  },
  {
   "cell_type": "code",
   "execution_count": null,
   "id": "3d612f9b-7f15-4355-9d39-579246e875fd",
   "metadata": {},
   "outputs": [],
   "source": [
    "import yfinance as yf\n",
    "import pandas as pd\n",
    "import pandas_ta as ta"
   ]
  },
  {
   "cell_type": "code",
   "execution_count": null,
   "id": "bc234a34-3613-438e-b44d-6902ada78ce1",
   "metadata": {},
   "outputs": [],
   "source": [
    "ticker_symbol='JPM'"
   ]
  },
  {
   "cell_type": "code",
   "execution_count": null,
   "id": "d7f187c1-dc4d-49c8-8005-fdb2f20a95bb",
   "metadata": {},
   "outputs": [],
   "source": [
    "Data=yf.download(tickers=ticker_symbol,period=\"5y\",interval=\"1d\",group_by=ticker_symbol)"
   ]
  },
  {
   "cell_type": "code",
   "execution_count": null,
   "id": "f191a6a7-f4b9-45d3-993c-466ac0463a83",
   "metadata": {},
   "outputs": [],
   "source": [
    "Data.columns = Data.columns.droplevel(0)\n",
    "Data.head(5)"
   ]
  },
  {
   "cell_type": "markdown",
   "id": "ffb1a955-0e83-40a0-a87e-88a5915e977c",
   "metadata": {},
   "source": [
    "## Add Useful KPIs"
   ]
  },
  {
   "cell_type": "code",
   "execution_count": null,
   "id": "23d7bc3b-7e42-4568-bfa6-6630d11893ec",
   "metadata": {},
   "outputs": [],
   "source": [
    "Data['RSI']=ta.rsi(Data[\"Close\"], length=14)\n",
    "\n",
    "info = yf.Ticker(ticker_symbol).info\n",
    "Data['Sector']=info.get(\"sector\")\n",
    "Data['Industry']=info.get(\"industry\")\n",
    "\n",
    "MACD=ta.macd(Data[\"Close\"], fast=12, slow=26, signal=9)\n",
    "Data=pd.concat([Data,MACD],axis=1)\n",
    "\n",
    "Data.rename(columns={\n",
    "    \"MACD_12_26_9\": \"MACD_Line\",\n",
    "    \"MACDs_12_26_9\": \"MACD_Signal\",\n",
    "    \"MACDh_12_26_9\": \"MACD_Histogram\"\n",
    "}, inplace=True)\n",
    "\n",
    "\n",
    "Data[\"EMA_20\"] = ta.ema(Data[\"Close\"], length=20)\n",
    "Data[\"EMA_50\"] = ta.ema(Data[\"Close\"], length=50)\n",
    "\n",
    "# Add Bollinger Bands (20-day default)\n",
    "bbands = ta.bbands(Data[\"Close\"], length=20)\n",
    "\n",
    "# Combine with main DataFrame\n",
    "Data = pd.concat([Data, bbands], axis=1)\n",
    "\n",
    "# Optional rename (if needed)\n",
    "Data.rename(columns={\n",
    "    \"BBL_20_2.0\": \"BB_Lower\",\n",
    "    \"BBM_20_2.0\": \"BB_Middle\",\n",
    "    \"BBU_20_2.0\": \"BB_Upper\",\n",
    "    \"BBB_20_2.0\": \"BB_Bandwidth\",\n",
    "    \"BBP_20_2.0\": \"BB_Percent\"\n",
    "}, inplace=True)\n",
    "\n",
    "# Add ADX (default 14-period)\n",
    "adx_df = ta.adx(Data[\"High\"], Data[\"Low\"], Data[\"Close\"], length=14)\n",
    "\n",
    "# Join it with main DataFrame\n",
    "Data = pd.concat([Data, adx_df], axis=1)\n",
    "\n",
    "# Optional rename (for clarity)\n",
    "Data.rename(columns={\n",
    "    \"ADX_14\": \"ADX\",\n",
    "    \"DMP_14\": \"DI_Plus\",\n",
    "    \"DMN_14\": \"DI_Minus\"\n",
    "}, inplace=True)\n",
    "\n",
    "# Add ATR (default length=14)\n",
    "Data[\"ATR_14\"] = ta.atr(Data[\"High\"], Data[\"Low\"], Data[\"Close\"], length=14)\n",
    "\n",
    "# Add Stochastic Oscillator (default k=14, d=3)\n",
    "stoch_df = ta.stoch(Data[\"High\"], Data[\"Low\"], Data[\"Close\"], k=14, d=3)\n",
    "\n",
    "# Combine with main DataFrame\n",
    "Data = pd.concat([Data, stoch_df], axis=1)\n",
    "\n",
    "# Optional rename\n",
    "Data.rename(columns={\n",
    "    \"STOCHk_14_3_3\": \"Stoch_%K\",\n",
    "    \"STOCHd_14_3_3\": \"Stoch_%D\"\n",
    "}, inplace=True)\n",
    "\n",
    "\n",
    "\n",
    "# Add CCI (default period = 20)\n",
    "Data[\"CCI_20\"] = ta.cci(Data[\"High\"], Data[\"Low\"], Data[\"Close\"], length=20)"
   ]
  },
  {
   "cell_type": "code",
   "execution_count": null,
   "id": "60b324d5-6aee-4541-aeaf-f0b0685383cd",
   "metadata": {},
   "outputs": [],
   "source": [
    "Data.head()"
   ]
  },
  {
   "cell_type": "code",
   "execution_count": null,
   "id": "89dffdb1-51b0-4fa7-80f9-37d0ed4299f9",
   "metadata": {},
   "outputs": [],
   "source": [
    "Data.to_csv(\"test.csv\")"
   ]
  },
  {
   "cell_type": "code",
   "execution_count": null,
   "id": "d2fcf935-a6c3-41ce-a98e-5ef13bd6769c",
   "metadata": {},
   "outputs": [],
   "source": [
    "from chart_patterns.chart_patterns.doubles import find_doubles_pattern\n",
    "Data_Chart = find_doubles_pattern(Data, double=\"tops\")\n",
    "Data_Chart = find_doubles_pattern(Data, double=\"bottoms\")\n",
    "\n",
    "print(Data_Chart[Data_Chart[\"double_type\"].notna()][[\"Date\", \"double_type\"]].tail())\n"
   ]
  },
  {
   "cell_type": "markdown",
   "id": "09e84bea-7ca0-46b6-9487-a15d63c75468",
   "metadata": {},
   "source": [
    "## Feature Engineering"
   ]
  },
  {
   "cell_type": "code",
   "execution_count": null,
   "id": "9abbcb40-f65a-493c-9a0d-9d0de16d749c",
   "metadata": {},
   "outputs": [],
   "source": [
    "Data.head()"
   ]
  },
  {
   "cell_type": "code",
   "execution_count": null,
   "id": "fe1adf7d-f049-4b95-ac47-582e0cc05efb",
   "metadata": {},
   "outputs": [],
   "source": [
    "Data['Volume1']=Data['Volume'].shift(1)\n",
    "Data['Volume_Inc']=(Data['Volume']-Data['Volume1'])/Data['Volume1']\n",
    "\n",
    "Data['EMA_20_Price']=(Data['Close']-Data['EMA_20'])/Data['EMA_20']\n",
    "Data['EMA_50_Price']=(Data['Close']-Data['EMA_50'])/Data['EMA_50']\n",
    "\n",
    "Data['Stoch_k_D']=(Data['Stoch_%K']-Data['Stoch_%D'])\n",
    "\n",
    "Data['Close1']=Data['Close'].shift(10)\n",
    "Data['Close_Inc']=(Data['Close1']-Data['Close'])/Data['Close']\n",
    "\n",
    "Data.head(50)\n",
    "\n",
    "def Buy_Variable(row):\n",
    "    if row['Close_Inc']>=0.03:\n",
    "        return 1\n",
    "    else:\n",
    "        return 0\n",
    "\n",
    "Data['Buy']=Data.apply(Buy_Variable,axis=1)"
   ]
  },
  {
   "cell_type": "markdown",
   "id": "718d6b77-58af-440f-b116-58d9f9dd8832",
   "metadata": {},
   "source": [
    "## Data Clean"
   ]
  },
  {
   "cell_type": "code",
   "execution_count": null,
   "id": "bad9929f-37c1-4bdb-8730-dddeb6802f95",
   "metadata": {},
   "outputs": [],
   "source": [
    "Clean_Data=Data[['RSI', 'MACD_Histogram','BB_Percent','ADX','ATR_14', 'Stoch_%K',\n",
    "       'Stoch_%D', 'CCI_20','Volume_Inc', 'EMA_20_Price',\n",
    "       'EMA_50_Price', 'Stoch_k_D', 'Buy']]\n",
    "\n",
    "Clean_Data=Clean_Data.dropna(subset=['RSI', 'MACD_Histogram','BB_Percent','ADX','ATR_14', 'Stoch_%K',\n",
    "       'Stoch_%D', 'CCI_20','Volume_Inc', 'EMA_20_Price',\n",
    "       'EMA_50_Price'])\n",
    "\n",
    "Clean_Data.head(10)"
   ]
  },
  {
   "cell_type": "markdown",
   "id": "8d0ac77a-be7d-4bac-8aed-13444ecbefd1",
   "metadata": {},
   "source": [
    "## Visualize"
   ]
  },
  {
   "cell_type": "code",
   "execution_count": null,
   "id": "4c75efb1-cf97-4b02-ba4e-a8e7db998419",
   "metadata": {},
   "outputs": [],
   "source": [
    "import seaborn as sns\n",
    "import matplotlib.pyplot as plt\n",
    "\n",
    "features = [\"RSI\", \"MACD_Histogram\", \"BB_Percent\", \"ADX\", \"ATR_14\", \n",
    "            \"Stoch_%K\", \"CCI_20\", \"EMA_20_Price\", \"Volume_Inc\"]\n",
    "\n",
    "for feature in features:\n",
    "    plt.figure(figsize=(6, 3))\n",
    "    sns.kdeplot(data=Clean_Data[Clean_Data[\"Buy\"] == 1], x=feature, label=\"Buy = 1\", shade=True)\n",
    "    sns.kdeplot(data=Clean_Data[Clean_Data[\"Buy\"] == 0], x=feature, label=\"Buy = 0\", shade=True)\n",
    "    plt.title(f\"{feature} vs Buy\")\n",
    "    plt.legend()\n",
    "    plt.tight_layout()\n",
    "    plt.show()\n",
    "\n",
    "\n",
    "for feature in features:\n",
    "    plt.figure(figsize=(6, 3))\n",
    "    sns.boxplot(data=Clean_Data, x=\"Buy\", y=feature)\n",
    "    plt.title(f\"{feature} by Buy value\")\n",
    "    plt.tight_layout()\n",
    "    plt.show()\n",
    "\n",
    "\n",
    "Clean_Data.drop(columns=\"Volume_Inc\",inplace=True)\n",
    "\n",
    "# Step 1: Compute correlation matrix\n",
    "corr_matrix = Clean_Data.corr()\n",
    "\n",
    "# Step 2: Set up the heatmap\n",
    "plt.figure(figsize=(12, 8))\n",
    "sns.heatmap(corr_matrix, annot=True, fmt=\".2f\", cmap=\"coolwarm\", linewidths=0.5)\n",
    "plt.title(\"Correlation Heatmap\")\n",
    "plt.tight_layout()\n",
    "plt.show()"
   ]
  },
  {
   "cell_type": "code",
   "execution_count": null,
   "id": "98b67ae2-07c5-4152-a634-3c89cc7cf6db",
   "metadata": {},
   "outputs": [],
   "source": [
    "Clean_Data.head(5)"
   ]
  },
  {
   "cell_type": "markdown",
   "id": "15f6bca3-61ff-4b84-8da5-2df75d5ee7c0",
   "metadata": {},
   "source": [
    "## Model Build"
   ]
  },
  {
   "cell_type": "code",
   "execution_count": null,
   "id": "86dc1c87-7a62-46f2-bc44-8a68877ccc85",
   "metadata": {},
   "outputs": [],
   "source": [
    "from sklearn.preprocessing import StandardScaler\n",
    "\n",
    "scaler = StandardScaler()\n",
    "X_scaled = scaler.fit_transform(Clean_Data.drop(\"Buy\", axis=1))\n",
    "\n",
    "\n",
    "\n",
    "X_scaled\n",
    "\n",
    "from sklearn.model_selection import train_test_split\n",
    "y=Clean_Data['Buy']\n",
    "\n",
    "X_train, X_test, y_train, y_test = train_test_split(\n",
    "    X_scaled, y, test_size=0.2, random_state=42, stratify=y\n",
    ")"
   ]
  },
  {
   "cell_type": "markdown",
   "id": "db3afb0a-56dd-40be-8bc1-df114b4483eb",
   "metadata": {},
   "source": [
    "### Logisitic"
   ]
  },
  {
   "cell_type": "code",
   "execution_count": null,
   "id": "99b3fa80-5a53-4b0c-897b-c7b499e9d5e6",
   "metadata": {},
   "outputs": [],
   "source": [
    "from sklearn.linear_model import LogisticRegression\n",
    "\n",
    "model=LogisticRegression()\n",
    "model.fit(X_train, y_train)\n",
    "y=model.predict(X_test)\n",
    "y_proba = model.predict_proba(X_test)[:, 1]\n",
    "from sklearn.metrics import classification_report,roc_auc_score\n",
    "print(\"🔹 Logistic Regression:\")\n",
    "print(classification_report(y_test, y))\n",
    "print(f\"ROC AUC Score: {roc_auc_score(y_test, y_proba):.4f}\")"
   ]
  },
  {
   "cell_type": "markdown",
   "id": "712b776d-864c-4f05-b3ee-49337b251e20",
   "metadata": {},
   "source": [
    "### Random Forest"
   ]
  },
  {
   "cell_type": "code",
   "execution_count": null,
   "id": "965fa816-e9b2-4289-827f-4b4ab5c5efb5",
   "metadata": {},
   "outputs": [],
   "source": [
    "from sklearn.ensemble import RandomForestClassifier\n",
    "\n",
    "model=RandomForestClassifier(random_state=42)\n",
    "model.fit(X_train, y_train)\n",
    "y=model.predict(X_test)\n",
    "y_proba = model.predict_proba(X_test)[:, 1]\n",
    "feature_importances = model.feature_importances_\n",
    "features = Clean_Data.drop(\"Buy\", axis=1).columns\n",
    "# Combine into a DataFrame\n",
    "F_Imp = pd.DataFrame({\n",
    "    \"Feature\": features,\n",
    "    \"Importance\": feature_importances\n",
    "}).sort_values(\"Importance\", ascending=False)\n",
    "print(F_Imp)\n",
    "from sklearn.metrics import classification_report\n",
    "print(\"🔹 RandomForestClassifier:\")\n",
    "print(classification_report(y_test, y))\n",
    "print(f\"ROC AUC Score: {roc_auc_score(y_test, y_proba):.4f}\")"
   ]
  },
  {
   "cell_type": "markdown",
   "id": "b9908819-9748-4d97-ae81-b8f149ad5d52",
   "metadata": {},
   "source": [
    "### XG Boost"
   ]
  },
  {
   "cell_type": "code",
   "execution_count": null,
   "id": "1e3accf8-7bbf-4680-ab09-7a0da3086576",
   "metadata": {},
   "outputs": [],
   "source": [
    "from xgboost import XGBClassifier\n",
    "model=XGBClassifier(use_label_encoder=False, eval_metric='logloss', random_state=42)\n",
    "model.fit(X_train, y_train)\n",
    "y=model.predict(X_test)\n",
    "y_proba = model.predict_proba(X_test)[:, 1]\n",
    "feature_importances = model.feature_importances_\n",
    "features = Clean_Data.drop(\"Buy\", axis=1).columns\n",
    "# Combine into a DataFrame\n",
    "F_Imp = pd.DataFrame({\n",
    "    \"Feature\": features,\n",
    "    \"Importance\": feature_importances\n",
    "}).sort_values(\"Importance\", ascending=False)\n",
    "print(F_Imp)\n",
    "from sklearn.metrics import classification_report\n",
    "print(\"🔹 XGBClassifier: \")\n",
    "print(classification_report(y_test, y))\n",
    "print(f\"ROC AUC Score: {roc_auc_score(y_test, y_proba):.4f}\")"
   ]
  },
  {
   "cell_type": "code",
   "execution_count": null,
   "id": "1faf7ab9-1f17-462b-add7-acff72b388b9",
   "metadata": {},
   "outputs": [],
   "source": []
  },
  {
   "cell_type": "code",
   "execution_count": null,
   "id": "c4484a75-27fa-4926-a44d-2f972ad23f8f",
   "metadata": {},
   "outputs": [],
   "source": [
    "data_Test = yf.download(tickers=ticker_symbol, period=\"60d\", interval=\"1d\", group_by=\"ticker\")\n",
    "data_Test.columns = data_Test.columns.droplevel(0)"
   ]
  },
  {
   "cell_type": "code",
   "execution_count": null,
   "id": "7c2b7922-f352-440e-abda-ddc8d0dde351",
   "metadata": {},
   "outputs": [],
   "source": [
    "data_Test['RSI']=ta.rsi(data_Test[\"Close\"], length=14)\n",
    "\n",
    "info = yf.Ticker(ticker_symbol).info\n",
    "data_Test['Sector']=info.get(\"sector\")\n",
    "data_Test['Industry']=info.get(\"industry\")\n",
    "\n",
    "MACD=ta.macd(data_Test[\"Close\"], fast=12, slow=26, signal=9)\n",
    "data_Test=pd.concat([data_Test,MACD],axis=1)\n",
    "\n",
    "data_Test.rename(columns={\n",
    "    \"MACD_12_26_9\": \"MACD_Line\",\n",
    "    \"MACDs_12_26_9\": \"MACD_Signal\",\n",
    "    \"MACDh_12_26_9\": \"MACD_Histogram\"\n",
    "}, inplace=True)\n",
    "\n",
    "\n",
    "data_Test[\"EMA_20\"] = ta.ema(data_Test[\"Close\"], length=20)\n",
    "data_Test[\"EMA_50\"] = ta.ema(data_Test[\"Close\"], length=50)\n",
    "\n",
    "# Add Bollinger Bands (20-day default)\n",
    "bbands = ta.bbands(data_Test[\"Close\"], length=20)\n",
    "\n",
    "# Combine with main DataFrame\n",
    "data_Test = pd.concat([data_Test, bbands], axis=1)\n",
    "\n",
    "# Optional rename (if needed)\n",
    "data_Test.rename(columns={\n",
    "    \"BBL_20_2.0\": \"BB_Lower\",\n",
    "    \"BBM_20_2.0\": \"BB_Middle\",\n",
    "    \"BBU_20_2.0\": \"BB_Upper\",\n",
    "    \"BBB_20_2.0\": \"BB_Bandwidth\",\n",
    "    \"BBP_20_2.0\": \"BB_Percent\"\n",
    "}, inplace=True)\n",
    "\n",
    "# Add ADX (default 14-period)\n",
    "adx_df = ta.adx(data_Test[\"High\"], data_Test[\"Low\"], data_Test[\"Close\"], length=14)\n",
    "\n",
    "# Join it with main DataFrame\n",
    "data_Test = pd.concat([data_Test, adx_df], axis=1)\n",
    "\n",
    "# Optional rename (for clarity)\n",
    "data_Test.rename(columns={\n",
    "    \"ADX_14\": \"ADX\",\n",
    "    \"DMP_14\": \"DI_Plus\",\n",
    "    \"DMN_14\": \"DI_Minus\"\n",
    "}, inplace=True)\n",
    "\n",
    "# Add ATR (default length=14)\n",
    "data_Test[\"ATR_14\"] = ta.atr(data_Test[\"High\"], data_Test[\"Low\"], data_Test[\"Close\"], length=14)\n",
    "\n",
    "# Add Stochastic Oscillator (default k=14, d=3)\n",
    "stoch_df = ta.stoch(data_Test[\"High\"], data_Test[\"Low\"], data_Test[\"Close\"], k=14, d=3)\n",
    "\n",
    "# Combine with main DataFrame\n",
    "data_Test = pd.concat([data_Test, stoch_df], axis=1)\n",
    "\n",
    "# Optional rename\n",
    "data_Test.rename(columns={\n",
    "    \"STOCHk_14_3_3\": \"Stoch_%K\",\n",
    "    \"STOCHd_14_3_3\": \"Stoch_%D\"\n",
    "}, inplace=True)\n",
    "\n",
    "\n",
    "\n",
    "# Add CCI (default period = 20)\n",
    "data_Test[\"CCI_20\"] = ta.cci(data_Test[\"High\"], data_Test[\"Low\"], data_Test[\"Close\"], length=20)"
   ]
  },
  {
   "cell_type": "code",
   "execution_count": null,
   "id": "d4a50368-75c5-4ac5-b29a-842aa3cb4273",
   "metadata": {},
   "outputs": [],
   "source": [
    "data_Test['Volume1']=data_Test['Volume'].shift(1)\n",
    "data_Test['Volume_Inc']=(data_Test['Volume']-data_Test['Volume1'])/data_Test['Volume1']\n",
    "\n",
    "data_Test['EMA_20_Price']=(data_Test['Close']-data_Test['EMA_20'])/data_Test['EMA_20']\n",
    "data_Test['EMA_50_Price']=(data_Test['Close']-data_Test['EMA_50'])/data_Test['EMA_50']\n",
    "\n",
    "data_Test['Stoch_k_D']=(data_Test['Stoch_%K']-data_Test['Stoch_%D'])\n",
    "\n",
    "data_Test['Close1']=data_Test['Close'].shift(10)\n",
    "data_Test['Close_Inc']=(data_Test['Close1']-data_Test['Close'])/data_Test['Close']\n",
    "\n",
    "data_Test.head(50)\n",
    "\n",
    "def Buy_Variable(row):\n",
    "    if row['Close_Inc']>=0.03:\n",
    "        return 1\n",
    "    else:\n",
    "        return 0\n",
    "\n",
    "data_Test['Buy']=data_Test.apply(Buy_Variable,axis=1)"
   ]
  },
  {
   "cell_type": "code",
   "execution_count": null,
   "id": "c3241849-7be3-43d9-a755-6e7ab78ffb61",
   "metadata": {},
   "outputs": [],
   "source": [
    "data_Test.iloc[-2:-1]"
   ]
  },
  {
   "cell_type": "code",
   "execution_count": null,
   "id": "65aeec9d-96ee-410a-ba65-532e82072aae",
   "metadata": {},
   "outputs": [],
   "source": [
    "Clean_Data_Test=data_Test[['RSI', 'MACD_Histogram','BB_Percent','ADX','ATR_14', 'Stoch_%K',\n",
    "       'Stoch_%D', 'CCI_20','Volume_Inc', 'EMA_20_Price',\n",
    "       'EMA_50_Price', 'Stoch_k_D', 'Buy']]"
   ]
  },
  {
   "cell_type": "code",
   "execution_count": null,
   "id": "d0b2cf75-1ff5-4660-a525-f9fd04c4f037",
   "metadata": {},
   "outputs": [],
   "source": [
    "# Step 1: Get feature columns (same as used during training)\n",
    "features = ['RSI', 'MACD_Histogram', 'BB_Percent', 'ADX', 'ATR_14',\n",
    "            'Stoch_%K', 'Stoch_%D', 'CCI_20', 'EMA_20_Price', 'EMA_50_Price', 'Stoch_k_D']\n",
    "\n",
    "# Step 2: Extract today's row (last row in the test table)\n",
    "today_row = Clean_Data_Test[features].iloc[-2:-1]  # Keep it as DataFrame\n",
    "\n",
    "# Step 3: Apply the same scaler used during training\n",
    "today_scaled = scaler.transform(today_row)\n",
    "\n",
    "# Step 4: Predict using the trained model\n",
    "buy_prediction = model.predict(today_scaled)[0]\n",
    "buy_probability = model.predict_proba(today_scaled)[0][1]\n",
    "\n",
    "# Step 5: Print result\n",
    "print(\"🔮 Buy Prediction:\", \"Yes\" if buy_prediction == 1 else \"No\")\n",
    "print(f\"📊 Confidence: {buy_probability:.2%}\")\n"
   ]
  },
  {
   "cell_type": "code",
   "execution_count": null,
   "id": "a987a8b8-4f8d-4479-a496-ccdbdc645bd2",
   "metadata": {},
   "outputs": [],
   "source": []
  }
 ],
 "metadata": {
  "kernelspec": {
   "display_name": "Python 3 (ipykernel)",
   "language": "python",
   "name": "python3"
  },
  "language_info": {
   "codemirror_mode": {
    "name": "ipython",
    "version": 3
   },
   "file_extension": ".py",
   "mimetype": "text/x-python",
   "name": "python",
   "nbconvert_exporter": "python",
   "pygments_lexer": "ipython3",
   "version": "3.10.11"
  }
 },
 "nbformat": 4,
 "nbformat_minor": 5
}
