{
 "cells": [
  {
   "cell_type": "code",
   "execution_count": 1,
   "id": "3d612f9b-7f15-4355-9d39-579246e875fd",
   "metadata": {},
   "outputs": [],
   "source": [
    "import yfinance as yf\n",
    "import pandas as pd\n",
    "import pandas_ta as ta\n"
   ]
  },
  {
   "cell_type": "code",
   "execution_count": 2,
   "id": "bc234a34-3613-438e-b44d-6902ada78ce1",
   "metadata": {},
   "outputs": [],
   "source": [
    "ticker_list = [\n",
    "    \"NVDA\", \"MSFT\", \"AAPL\", \"AMZN\", \"GOOGL\", \"META\", \"TSLA\", \"JPM\", \"WMT\",\n",
    "    \"LLY\", \"V\", \"ORCL\", \"NFLX\", \"MA\", \"XOM\", \"UNH\", \"BAC\", \"PFE\", \"ABBV\",\n",
    "    \"CSCO\", \"PEP\", \"MRK\", \"COST\", \"MCD\", \"AVGO\", \"NKE\", \"CRM\", \"HON\", \"WFC\",\n",
    "    \"C\", \"TXN\", \"ABT\", \"ACN\", \"MDT\", \"PM\", \"BMY\", \"VZ\", \"LIN\", \"LOW\",\n",
    "    \"UPS\", \"RTX\", \"DHR\", \"UNP\", \"TMO\", \"MS\", \"SCHW\", \"NEE\", \"CVX\", \"PNC\"\n",
    "]\n",
    "\n"
   ]
  },
  {
   "cell_type": "code",
   "execution_count": 3,
   "id": "e18c624a-910e-409d-aee8-f2ecdc48cfa0",
   "metadata": {},
   "outputs": [],
   "source": [
    "def process_stock(ticker):\n",
    "    Data=yf.download(tickers=ticker,period=\"5y\",interval=\"1d\",group_by=ticker)\n",
    "    \n",
    "    Data.columns = Data.columns.droplevel(0)\n",
    "    # Data.head(5)\n",
    "    \n",
    "    ## Add Useful KPIs\n",
    "    \n",
    "    Data['RSI']=ta.rsi(Data[\"Close\"], length=14)\n",
    "    \n",
    "    info = yf.Ticker(ticker).info\n",
    "    Data['Sector']=info.get(\"sector\")\n",
    "    Data['Industry']=info.get(\"industry\")\n",
    "    \n",
    "    MACD=ta.macd(Data[\"Close\"], fast=12, slow=26, signal=9)\n",
    "    Data=pd.concat([Data,MACD],axis=1)\n",
    "    \n",
    "    Data.rename(columns={\n",
    "        \"MACD_12_26_9\": \"MACD_Line\",\n",
    "        \"MACDs_12_26_9\": \"MACD_Signal\",\n",
    "        \"MACDh_12_26_9\": \"MACD_Histogram\"\n",
    "    }, inplace=True)\n",
    "    \n",
    "    \n",
    "    Data[\"EMA_20\"] = ta.ema(Data[\"Close\"], length=20)\n",
    "    Data[\"EMA_50\"] = ta.ema(Data[\"Close\"], length=50)\n",
    "    \n",
    "    # Add Bollinger Bands (20-day default)\n",
    "    bbands = ta.bbands(Data[\"Close\"], length=20)\n",
    "    \n",
    "    # Combine with main DataFrame\n",
    "    Data = pd.concat([Data, bbands], axis=1)\n",
    "    \n",
    "    # Optional rename (if needed)\n",
    "    Data.rename(columns={\n",
    "        \"BBL_20_2.0\": \"BB_Lower\",\n",
    "        \"BBM_20_2.0\": \"BB_Middle\",\n",
    "        \"BBU_20_2.0\": \"BB_Upper\",\n",
    "        \"BBB_20_2.0\": \"BB_Bandwidth\",\n",
    "        \"BBP_20_2.0\": \"BB_Percent\"\n",
    "    }, inplace=True)\n",
    "    \n",
    "    # Add ADX (default 14-period)\n",
    "    adx_df = ta.adx(Data[\"High\"], Data[\"Low\"], Data[\"Close\"], length=14)\n",
    "    \n",
    "    # Join it with main DataFrame\n",
    "    Data = pd.concat([Data, adx_df], axis=1)\n",
    "    \n",
    "    # Optional rename (for clarity)\n",
    "    Data.rename(columns={\n",
    "        \"ADX_14\": \"ADX\",\n",
    "        \"DMP_14\": \"DI_Plus\",\n",
    "        \"DMN_14\": \"DI_Minus\"\n",
    "    }, inplace=True)\n",
    "    \n",
    "    # Add ATR (default length=14)\n",
    "    Data[\"ATR_14\"] = ta.atr(Data[\"High\"], Data[\"Low\"], Data[\"Close\"], length=14)\n",
    "    \n",
    "    # Add Stochastic Oscillator (default k=14, d=3)\n",
    "    stoch_df = ta.stoch(Data[\"High\"], Data[\"Low\"], Data[\"Close\"], k=14, d=3)\n",
    "    \n",
    "    # Combine with main DataFrame\n",
    "    Data = pd.concat([Data, stoch_df], axis=1)\n",
    "    \n",
    "    # Optional rename\n",
    "    Data.rename(columns={\n",
    "        \"STOCHk_14_3_3\": \"Stoch_%K\",\n",
    "        \"STOCHd_14_3_3\": \"Stoch_%D\"\n",
    "    }, inplace=True)\n",
    "    \n",
    "    \n",
    "    \n",
    "    # Add CCI (default period = 20)\n",
    "    Data[\"CCI_20\"] = ta.cci(Data[\"High\"], Data[\"Low\"], Data[\"Close\"], length=20)\n",
    "    \n",
    "    # Data.to_csv(\"test.csv\")\n",
    "    \n",
    "    Data.reset_index(inplace=True)\n",
    "    \n",
    "    ## Feature Engineering\n",
    "    \n",
    "    Data['Volume1']=Data['Volume'].shift(1)\n",
    "    Data['Volume_Inc']=(Data['Volume']-Data['Volume1'])/Data['Volume1']\n",
    "    \n",
    "    Data['EMA_20_Price']=(Data['Close']-Data['EMA_20'])/Data['EMA_20']\n",
    "    Data['EMA_50_Price']=(Data['Close']-Data['EMA_50'])/Data['EMA_50']\n",
    "    \n",
    "    Data['Stoch_k_D']=(Data['Stoch_%K']-Data['Stoch_%D'])\n",
    "    \n",
    "    Data['Close1']=Data['Close'].shift(10)\n",
    "    Data['Close_Inc']=(Data['Close1']-Data['Close'])/Data['Close']\n",
    "    \n",
    "    # Data.head(50)\n",
    "    \n",
    "    def Buy_Variable(row):\n",
    "        if row['Close_Inc']>=0.04:\n",
    "            return 1\n",
    "        else:\n",
    "            return 0\n",
    "    \n",
    "    Data['Buy']=Data.apply(Buy_Variable,axis=1)\n",
    "    \n",
    "    ## Data Clean\n",
    "    \n",
    "    Clean_Data=Data[['RSI', 'MACD_Histogram','BB_Percent','ADX','ATR_14', 'Stoch_%K',\n",
    "           'Stoch_%D', 'CCI_20','Volume_Inc', 'EMA_20_Price',\n",
    "           'EMA_50_Price', 'Stoch_k_D', 'Buy']]\n",
    "    \n",
    "    Clean_Data=Clean_Data.dropna(subset=['RSI', 'MACD_Histogram','BB_Percent','ADX','ATR_14', 'Stoch_%K',\n",
    "           'Stoch_%D', 'CCI_20','Volume_Inc', 'EMA_20_Price',\n",
    "           'EMA_50_Price'])\n",
    "    \n",
    "    # Clean_Data.head(10)\n",
    "    \n",
    "    ## Visualize\n",
    "    \n",
    "    import seaborn as sns\n",
    "    import matplotlib.pyplot as plt\n",
    "    \n",
    "    features = [\"RSI\", \"MACD_Histogram\", \"BB_Percent\", \"ADX\", \"ATR_14\", \n",
    "                \"Stoch_%K\", \"CCI_20\", \"EMA_20_Price\", \"Volume_Inc\"]\n",
    "    \n",
    "    # for feature in features:\n",
    "    #     plt.figure(figsize=(6, 3))\n",
    "    #     sns.kdeplot(data=Clean_Data[Clean_Data[\"Buy\"] == 1], x=feature, label=\"Buy = 1\", shade=True)\n",
    "    #     sns.kdeplot(data=Clean_Data[Clean_Data[\"Buy\"] == 0], x=feature, label=\"Buy = 0\", shade=True)\n",
    "    #     plt.title(f\"{feature} vs Buy\")\n",
    "    #     plt.legend()\n",
    "    #     plt.tight_layout()\n",
    "    #     plt.show()\n",
    "    \n",
    "    \n",
    "    # for feature in features:\n",
    "    #     plt.figure(figsize=(6, 3))\n",
    "    #     sns.boxplot(data=Clean_Data, x=\"Buy\", y=feature)\n",
    "    #     plt.title(f\"{feature} by Buy value\")\n",
    "    #     plt.tight_layout()\n",
    "    #     plt.show()\n",
    "    \n",
    "    \n",
    "    Clean_Data.drop(columns=\"Volume_Inc\",inplace=True)\n",
    "    \n",
    "    # # Step 1: Compute correlation matrix\n",
    "    # corr_matrix = Clean_Data.corr()\n",
    "    \n",
    "    # # Step 2: Set up the heatmap\n",
    "    # plt.figure(figsize=(12, 8))\n",
    "    # sns.heatmap(corr_matrix, annot=True, fmt=\".2f\", cmap=\"coolwarm\", linewidths=0.5)\n",
    "    # plt.title(\"Correlation Heatmap\")\n",
    "    # plt.tight_layout()\n",
    "    # plt.show()\n",
    "    \n",
    "    # Clean_Data.head(5)\n",
    "    \n",
    "    ## Model Build\n",
    "    \n",
    "    from sklearn.preprocessing import StandardScaler\n",
    "    \n",
    "    scaler = StandardScaler()\n",
    "    X_scaled = scaler.fit_transform(Clean_Data.drop(\"Buy\", axis=1))\n",
    "    \n",
    "    \n",
    "    \n",
    "    # X_scaled\n",
    "    \n",
    "    from sklearn.model_selection import train_test_split\n",
    "    y=Clean_Data['Buy']\n",
    "    \n",
    "    X_train, X_test, y_train, y_test = train_test_split(\n",
    "        X_scaled, y, test_size=0.2, random_state=42, stratify=y\n",
    "    )\n",
    "    \n",
    "    # ### Logisitic\n",
    "    \n",
    "    # from sklearn.linear_model import LogisticRegression\n",
    "    \n",
    "    # model=LogisticRegression()\n",
    "    # model.fit(X_train, y_train)\n",
    "    # y=model.predict(X_test)\n",
    "    # y_proba = model.predict_proba(X_test)[:, 1]\n",
    "    # from sklearn.metrics import classification_report,roc_auc_score\n",
    "    # print(\"🔹 Logistic Regression:\")\n",
    "    # print(classification_report(y_test, y))\n",
    "    # print(f\"ROC AUC Score: {roc_auc_score(y_test, y_proba):.4f}\")\n",
    "    \n",
    "    # ### Random Forest\n",
    "    \n",
    "    # from sklearn.ensemble import RandomForestClassifier\n",
    "    \n",
    "    # model=RandomForestClassifier(random_state=42)\n",
    "    # model.fit(X_train, y_train)\n",
    "    # y=model.predict(X_test)\n",
    "    # y_proba = model.predict_proba(X_test)[:, 1]\n",
    "    # feature_importances = model.feature_importances_\n",
    "    # features = Clean_Data.drop(\"Buy\", axis=1).columns\n",
    "    # # Combine into a DataFrame\n",
    "    # F_Imp = pd.DataFrame({\n",
    "    #     \"Feature\": features,\n",
    "    #     \"Importance\": feature_importances\n",
    "    # }).sort_values(\"Importance\", ascending=False)\n",
    "    # print(F_Imp)\n",
    "    # from sklearn.metrics import classification_report\n",
    "    # print(\"🔹 RandomForestClassifier:\")\n",
    "    # print(classification_report(y_test, y))\n",
    "    # print(f\"ROC AUC Score: {roc_auc_score(y_test, y_proba):.4f}\")\n",
    "    \n",
    "    ### XG Boost\n",
    "    \n",
    "    from xgboost import XGBClassifier\n",
    "    model=XGBClassifier(use_label_encoder=False, eval_metric='logloss', random_state=42)\n",
    "    model.fit(X_train, y_train)\n",
    "    y=model.predict(X_test)\n",
    "    y_proba = model.predict_proba(X_test)[:, 1]\n",
    "    feature_importances = model.feature_importances_\n",
    "    features = Clean_Data.drop(\"Buy\", axis=1).columns\n",
    "    # Combine into a DataFrame\n",
    "    F_Imp = pd.DataFrame({\n",
    "        \"Feature\": features,\n",
    "        \"Importance\": feature_importances\n",
    "    }).sort_values(\"Importance\", ascending=False)\n",
    "    # print(F_Imp)\n",
    "    from sklearn.metrics import classification_report\n",
    "    # print(\"🔹 XGBClassifier: \")\n",
    "    # print(classification_report(y_test, y))\n",
    "    # print(f\"ROC AUC Score: {roc_auc_score(y_test, y_proba):.4f}\")\n",
    "    \n",
    "    \n",
    "    \n",
    "    data_Test = yf.download(tickers=ticker, period=\"60d\", interval=\"1d\", group_by=\"ticker\")\n",
    "    data_Test.columns = data_Test.columns.droplevel(0)\n",
    "    \n",
    "    data_Test['RSI']=ta.rsi(data_Test[\"Close\"], length=14)\n",
    "    \n",
    "    info = yf.Ticker(ticker).info\n",
    "    data_Test['Sector']=info.get(\"sector\")\n",
    "    data_Test['Industry']=info.get(\"industry\")\n",
    "    \n",
    "    MACD=ta.macd(data_Test[\"Close\"], fast=12, slow=26, signal=9)\n",
    "    data_Test=pd.concat([data_Test,MACD],axis=1)\n",
    "    \n",
    "    data_Test.rename(columns={\n",
    "        \"MACD_12_26_9\": \"MACD_Line\",\n",
    "        \"MACDs_12_26_9\": \"MACD_Signal\",\n",
    "        \"MACDh_12_26_9\": \"MACD_Histogram\"\n",
    "    }, inplace=True)\n",
    "    \n",
    "    \n",
    "    data_Test[\"EMA_20\"] = ta.ema(data_Test[\"Close\"], length=20)\n",
    "    data_Test[\"EMA_50\"] = ta.ema(data_Test[\"Close\"], length=50)\n",
    "    \n",
    "    # Add Bollinger Bands (20-day default)\n",
    "    bbands = ta.bbands(data_Test[\"Close\"], length=20)\n",
    "    \n",
    "    # Combine with main DataFrame\n",
    "    data_Test = pd.concat([data_Test, bbands], axis=1)\n",
    "    \n",
    "    # Optional rename (if needed)\n",
    "    data_Test.rename(columns={\n",
    "        \"BBL_20_2.0\": \"BB_Lower\",\n",
    "        \"BBM_20_2.0\": \"BB_Middle\",\n",
    "        \"BBU_20_2.0\": \"BB_Upper\",\n",
    "        \"BBB_20_2.0\": \"BB_Bandwidth\",\n",
    "        \"BBP_20_2.0\": \"BB_Percent\"\n",
    "    }, inplace=True)\n",
    "    \n",
    "    # Add ADX (default 14-period)\n",
    "    adx_df = ta.adx(data_Test[\"High\"], data_Test[\"Low\"], data_Test[\"Close\"], length=14)\n",
    "    \n",
    "    # Join it with main DataFrame\n",
    "    data_Test = pd.concat([data_Test, adx_df], axis=1)\n",
    "    \n",
    "    # Optional rename (for clarity)\n",
    "    data_Test.rename(columns={\n",
    "        \"ADX_14\": \"ADX\",\n",
    "        \"DMP_14\": \"DI_Plus\",\n",
    "        \"DMN_14\": \"DI_Minus\"\n",
    "    }, inplace=True)\n",
    "    \n",
    "    # Add ATR (default length=14)\n",
    "    data_Test[\"ATR_14\"] = ta.atr(data_Test[\"High\"], data_Test[\"Low\"], data_Test[\"Close\"], length=14)\n",
    "    \n",
    "    # Add Stochastic Oscillator (default k=14, d=3)\n",
    "    stoch_df = ta.stoch(data_Test[\"High\"], data_Test[\"Low\"], data_Test[\"Close\"], k=14, d=3)\n",
    "    \n",
    "    # Combine with main DataFrame\n",
    "    data_Test = pd.concat([data_Test, stoch_df], axis=1)\n",
    "    \n",
    "    # Optional rename\n",
    "    data_Test.rename(columns={\n",
    "        \"STOCHk_14_3_3\": \"Stoch_%K\",\n",
    "        \"STOCHd_14_3_3\": \"Stoch_%D\"\n",
    "    }, inplace=True)\n",
    "    \n",
    "    \n",
    "    \n",
    "    # Add CCI (default period = 20)\n",
    "    data_Test[\"CCI_20\"] = ta.cci(data_Test[\"High\"], data_Test[\"Low\"], data_Test[\"Close\"], length=20)\n",
    "    \n",
    "    data_Test['Volume1']=data_Test['Volume'].shift(1)\n",
    "    data_Test['Volume_Inc']=(data_Test['Volume']-data_Test['Volume1'])/data_Test['Volume1']\n",
    "    \n",
    "    data_Test['EMA_20_Price']=(data_Test['Close']-data_Test['EMA_20'])/data_Test['EMA_20']\n",
    "    data_Test['EMA_50_Price']=(data_Test['Close']-data_Test['EMA_50'])/data_Test['EMA_50']\n",
    "    \n",
    "    data_Test['Stoch_k_D']=(data_Test['Stoch_%K']-data_Test['Stoch_%D'])\n",
    "    \n",
    "    data_Test['Close1']=data_Test['Close'].shift(10)\n",
    "    data_Test['Close_Inc']=(data_Test['Close1']-data_Test['Close'])/data_Test['Close']\n",
    "    \n",
    "    data_Test.head(50)\n",
    "    \n",
    "    def Buy_Variable(row):\n",
    "        if row['Close_Inc']>=0.03:\n",
    "            return 1\n",
    "        else:\n",
    "            return 0\n",
    "    \n",
    "    data_Test['Buy']=data_Test.apply(Buy_Variable,axis=1)\n",
    "    \n",
    "    data_Test.iloc[-2:-1]\n",
    "    \n",
    "    Clean_Data_Test=data_Test[['RSI', 'MACD_Histogram','BB_Percent','ADX','ATR_14', 'Stoch_%K',\n",
    "           'Stoch_%D', 'CCI_20','Volume_Inc', 'EMA_20_Price',\n",
    "           'EMA_50_Price', 'Stoch_k_D', 'Buy']]\n",
    "    \n",
    "    # Step 1: Get feature columns (same as used during training)\n",
    "    features = ['RSI', 'MACD_Histogram', 'BB_Percent', 'ADX', 'ATR_14',\n",
    "                'Stoch_%K', 'Stoch_%D', 'CCI_20', 'EMA_20_Price', 'EMA_50_Price', 'Stoch_k_D']\n",
    "    \n",
    "    # Step 2: Extract today's row (last row in the test table)\n",
    "    today_row = Clean_Data_Test[features].iloc[-1:]  # Keep it as DataFrame\n",
    "    \n",
    "    # Step 3: Apply the same scaler used during training\n",
    "    today_scaled = scaler.transform(today_row)\n",
    "    \n",
    "    # Step 4: Predict using the trained model\n",
    "    buy_prediction = model.predict(today_scaled)[0]\n",
    "    print(today_scaled)\n",
    "    buy_probability = model.predict_proba(today_scaled)[0][1]\n",
    "    \n",
    "    # Step 5: Print result\n",
    "    # print(\"🔮 Buy Prediction:\", \"Yes\" if buy_prediction == 1 else \"No\")\n",
    "    # print(f\"📊 Confidence: {buy_probability:.2%}\")\n",
    "    return {\n",
    "            \"Ticker\": ticker,\n",
    "            \"Buy\": \"Yes\" if buy_prediction == 1 else \"No\",\n",
    "            \"Confidence\": round(buy_probability * 100, 2)\n",
    "        }\n",
    "    \n",
    "    \n"
   ]
  },
  {
   "cell_type": "code",
   "execution_count": 4,
   "id": "164c2aa0-9c38-4583-b141-046ce538d15d",
   "metadata": {},
   "outputs": [
    {
     "name": "stderr",
     "output_type": "stream",
     "text": [
      "C:\\Users\\PC\\AppData\\Local\\Temp\\ipykernel_6404\\1505815251.py:2: FutureWarning: YF.download() has changed argument auto_adjust default to True\n",
      "  Data=yf.download(tickers=ticker,period=\"5y\",interval=\"1d\",group_by=ticker)\n",
      "[*********************100%***********************]  1 of 1 completed\n",
      "C:\\Users\\PC\\AppData\\Local\\Programs\\Python\\Python310\\lib\\site-packages\\xgboost\\training.py:183: UserWarning: [00:11:51] WARNING: C:\\actions-runner\\_work\\xgboost\\xgboost\\src\\learner.cc:738: \n",
      "Parameters: { \"use_label_encoder\" } are not used.\n",
      "\n",
      "  bst.update(dtrain, iteration=i, fobj=obj)\n",
      "C:\\Users\\PC\\AppData\\Local\\Temp\\ipykernel_6404\\1505815251.py:229: FutureWarning: YF.download() has changed argument auto_adjust default to True\n",
      "  data_Test = yf.download(tickers=ticker, period=\"60d\", interval=\"1d\", group_by=\"ticker\")\n",
      "[*********************100%***********************]  1 of 1 completed\n"
     ]
    },
    {
     "name": "stdout",
     "output_type": "stream",
     "text": [
      "[[ 1.6598201   0.34071754  0.94726919  2.70559444  0.71900676  1.20180805\n",
      "   1.2405611   0.9039514   0.74041752  1.19552892 -0.00619076]]\n"
     ]
    },
    {
     "name": "stderr",
     "output_type": "stream",
     "text": [
      "C:\\Users\\PC\\AppData\\Local\\Temp\\ipykernel_6404\\1505815251.py:2: FutureWarning: YF.download() has changed argument auto_adjust default to True\n",
      "  Data=yf.download(tickers=ticker,period=\"5y\",interval=\"1d\",group_by=ticker)\n",
      "[*********************100%***********************]  1 of 1 completed\n",
      "C:\\Users\\PC\\AppData\\Local\\Programs\\Python\\Python310\\lib\\site-packages\\xgboost\\training.py:183: UserWarning: [00:11:55] WARNING: C:\\actions-runner\\_work\\xgboost\\xgboost\\src\\learner.cc:738: \n",
      "Parameters: { \"use_label_encoder\" } are not used.\n",
      "\n",
      "  bst.update(dtrain, iteration=i, fobj=obj)\n",
      "C:\\Users\\PC\\AppData\\Local\\Temp\\ipykernel_6404\\1505815251.py:229: FutureWarning: YF.download() has changed argument auto_adjust default to True\n",
      "  data_Test = yf.download(tickers=ticker, period=\"60d\", interval=\"1d\", group_by=\"ticker\")\n",
      "[*********************100%***********************]  1 of 1 completed\n"
     ]
    },
    {
     "name": "stdout",
     "output_type": "stream",
     "text": [
      "[[ 1.54816846 -0.64956603  0.73053532  2.93496832 -0.23415289  0.91362815\n",
      "   0.99365044  0.66912173  0.56271414  1.42352493 -0.1684605 ]]\n"
     ]
    },
    {
     "name": "stderr",
     "output_type": "stream",
     "text": [
      "C:\\Users\\PC\\AppData\\Local\\Temp\\ipykernel_6404\\1505815251.py:2: FutureWarning: YF.download() has changed argument auto_adjust default to True\n",
      "  Data=yf.download(tickers=ticker,period=\"5y\",interval=\"1d\",group_by=ticker)\n",
      "[*********************100%***********************]  1 of 1 completed\n",
      "C:\\Users\\PC\\AppData\\Local\\Programs\\Python\\Python310\\lib\\site-packages\\xgboost\\training.py:183: UserWarning: [00:11:57] WARNING: C:\\actions-runner\\_work\\xgboost\\xgboost\\src\\learner.cc:738: \n",
      "Parameters: { \"use_label_encoder\" } are not used.\n",
      "\n",
      "  bst.update(dtrain, iteration=i, fobj=obj)\n",
      "C:\\Users\\PC\\AppData\\Local\\Temp\\ipykernel_6404\\1505815251.py:229: FutureWarning: YF.download() has changed argument auto_adjust default to True\n",
      "  data_Test = yf.download(tickers=ticker, period=\"60d\", interval=\"1d\", group_by=\"ticker\")\n",
      "[*********************100%***********************]  1 of 1 completed\n"
     ]
    },
    {
     "name": "stdout",
     "output_type": "stream",
     "text": [
      "[[ 0.70507265  0.98150462  0.70042253 -0.65061522  0.17809996  0.67227613\n",
      "   0.65339098  0.61052865  0.49823666  0.3299124   0.13010691]]\n"
     ]
    },
    {
     "name": "stderr",
     "output_type": "stream",
     "text": [
      "C:\\Users\\PC\\AppData\\Local\\Temp\\ipykernel_6404\\1505815251.py:2: FutureWarning: YF.download() has changed argument auto_adjust default to True\n",
      "  Data=yf.download(tickers=ticker,period=\"5y\",interval=\"1d\",group_by=ticker)\n",
      "[*********************100%***********************]  1 of 1 completed\n",
      "C:\\Users\\PC\\AppData\\Local\\Programs\\Python\\Python310\\lib\\site-packages\\xgboost\\training.py:183: UserWarning: [00:12:00] WARNING: C:\\actions-runner\\_work\\xgboost\\xgboost\\src\\learner.cc:738: \n",
      "Parameters: { \"use_label_encoder\" } are not used.\n",
      "\n",
      "  bst.update(dtrain, iteration=i, fobj=obj)\n",
      "C:\\Users\\PC\\AppData\\Local\\Temp\\ipykernel_6404\\1505815251.py:229: FutureWarning: YF.download() has changed argument auto_adjust default to True\n",
      "  data_Test = yf.download(tickers=ticker, period=\"60d\", interval=\"1d\", group_by=\"ticker\")\n",
      "[*********************100%***********************]  1 of 1 completed\n"
     ]
    },
    {
     "name": "stdout",
     "output_type": "stream",
     "text": [
      "[[ 1.19213114 -0.04182613  0.88930688  0.88791297 -0.02676532  1.25169875\n",
      "   1.20591458  0.83901115  0.63047021  1.12637371  0.28087932]]\n"
     ]
    },
    {
     "name": "stderr",
     "output_type": "stream",
     "text": [
      "C:\\Users\\PC\\AppData\\Local\\Temp\\ipykernel_6404\\1505815251.py:2: FutureWarning: YF.download() has changed argument auto_adjust default to True\n",
      "  Data=yf.download(tickers=ticker,period=\"5y\",interval=\"1d\",group_by=ticker)\n",
      "[*********************100%***********************]  1 of 1 completed\n",
      "C:\\Users\\PC\\AppData\\Local\\Programs\\Python\\Python310\\lib\\site-packages\\xgboost\\training.py:183: UserWarning: [00:12:03] WARNING: C:\\actions-runner\\_work\\xgboost\\xgboost\\src\\learner.cc:738: \n",
      "Parameters: { \"use_label_encoder\" } are not used.\n",
      "\n",
      "  bst.update(dtrain, iteration=i, fobj=obj)\n",
      "C:\\Users\\PC\\AppData\\Local\\Temp\\ipykernel_6404\\1505815251.py:229: FutureWarning: YF.download() has changed argument auto_adjust default to True\n",
      "  data_Test = yf.download(tickers=ticker, period=\"60d\", interval=\"1d\", group_by=\"ticker\")\n",
      "[*********************100%***********************]  1 of 1 completed\n"
     ]
    },
    {
     "name": "stdout",
     "output_type": "stream",
     "text": [
      "[[ 0.82134146  0.3164346   0.94406346 -0.26156369  1.32236212  1.1474646\n",
      "   0.96305522  1.13969409  0.75574338  0.93958781  0.70458202]]\n"
     ]
    },
    {
     "name": "stderr",
     "output_type": "stream",
     "text": [
      "C:\\Users\\PC\\AppData\\Local\\Temp\\ipykernel_6404\\1505815251.py:2: FutureWarning: YF.download() has changed argument auto_adjust default to True\n",
      "  Data=yf.download(tickers=ticker,period=\"5y\",interval=\"1d\",group_by=ticker)\n",
      "[*********************100%***********************]  1 of 1 completed\n",
      "C:\\Users\\PC\\AppData\\Local\\Programs\\Python\\Python310\\lib\\site-packages\\xgboost\\training.py:183: UserWarning: [00:12:06] WARNING: C:\\actions-runner\\_work\\xgboost\\xgboost\\src\\learner.cc:738: \n",
      "Parameters: { \"use_label_encoder\" } are not used.\n",
      "\n",
      "  bst.update(dtrain, iteration=i, fobj=obj)\n",
      "C:\\Users\\PC\\AppData\\Local\\Temp\\ipykernel_6404\\1505815251.py:229: FutureWarning: YF.download() has changed argument auto_adjust default to True\n",
      "  data_Test = yf.download(tickers=ticker, period=\"60d\", interval=\"1d\", group_by=\"ticker\")\n",
      "[*********************100%***********************]  1 of 1 completed\n"
     ]
    },
    {
     "name": "stdout",
     "output_type": "stream",
     "text": [
      "[[ 0.49845346 -1.25090325  0.24387334  0.99811536  0.84293148  0.02309255\n",
      "   0.31157553  0.19658408  0.17239261  0.75474759 -0.93373571]]\n"
     ]
    },
    {
     "name": "stderr",
     "output_type": "stream",
     "text": [
      "C:\\Users\\PC\\AppData\\Local\\Temp\\ipykernel_6404\\1505815251.py:2: FutureWarning: YF.download() has changed argument auto_adjust default to True\n",
      "  Data=yf.download(tickers=ticker,period=\"5y\",interval=\"1d\",group_by=ticker)\n",
      "[*********************100%***********************]  1 of 1 completed\n",
      "C:\\Users\\PC\\AppData\\Local\\Programs\\Python\\Python310\\lib\\site-packages\\xgboost\\training.py:183: UserWarning: [00:12:09] WARNING: C:\\actions-runner\\_work\\xgboost\\xgboost\\src\\learner.cc:738: \n",
      "Parameters: { \"use_label_encoder\" } are not used.\n",
      "\n",
      "  bst.update(dtrain, iteration=i, fobj=obj)\n",
      "C:\\Users\\PC\\AppData\\Local\\Temp\\ipykernel_6404\\1505815251.py:229: FutureWarning: YF.download() has changed argument auto_adjust default to True\n",
      "  data_Test = yf.download(tickers=ticker, period=\"60d\", interval=\"1d\", group_by=\"ticker\")\n",
      "[*********************100%***********************]  1 of 1 completed\n"
     ]
    },
    {
     "name": "stdout",
     "output_type": "stream",
     "text": [
      "[[-0.16610755 -0.65578013 -0.30209756 -0.29022949  0.58258322 -0.94373395\n",
      "  -1.2410813  -0.44374002 -0.09991391 -0.0532814   0.99022534]]\n"
     ]
    },
    {
     "name": "stderr",
     "output_type": "stream",
     "text": [
      "C:\\Users\\PC\\AppData\\Local\\Temp\\ipykernel_6404\\1505815251.py:2: FutureWarning: YF.download() has changed argument auto_adjust default to True\n",
      "  Data=yf.download(tickers=ticker,period=\"5y\",interval=\"1d\",group_by=ticker)\n",
      "[*********************100%***********************]  1 of 1 completed\n",
      "C:\\Users\\PC\\AppData\\Local\\Programs\\Python\\Python310\\lib\\site-packages\\xgboost\\training.py:183: UserWarning: [00:12:12] WARNING: C:\\actions-runner\\_work\\xgboost\\xgboost\\src\\learner.cc:738: \n",
      "Parameters: { \"use_label_encoder\" } are not used.\n",
      "\n",
      "  bst.update(dtrain, iteration=i, fobj=obj)\n",
      "C:\\Users\\PC\\AppData\\Local\\Temp\\ipykernel_6404\\1505815251.py:229: FutureWarning: YF.download() has changed argument auto_adjust default to True\n",
      "  data_Test = yf.download(tickers=ticker, period=\"60d\", interval=\"1d\", group_by=\"ticker\")\n",
      "[*********************100%***********************]  1 of 1 completed\n"
     ]
    },
    {
     "name": "stdout",
     "output_type": "stream",
     "text": [
      "[[ 0.48260998 -0.82688662  0.21241177  1.03272378  1.4509639   0.05578723\n",
      "   0.06320975  0.13361787  0.28227905  0.90776718 -0.02020661]]\n"
     ]
    },
    {
     "name": "stderr",
     "output_type": "stream",
     "text": [
      "C:\\Users\\PC\\AppData\\Local\\Temp\\ipykernel_6404\\1505815251.py:2: FutureWarning: YF.download() has changed argument auto_adjust default to True\n",
      "  Data=yf.download(tickers=ticker,period=\"5y\",interval=\"1d\",group_by=ticker)\n",
      "[*********************100%***********************]  1 of 1 completed\n",
      "C:\\Users\\PC\\AppData\\Local\\Programs\\Python\\Python310\\lib\\site-packages\\xgboost\\training.py:183: UserWarning: [00:12:15] WARNING: C:\\actions-runner\\_work\\xgboost\\xgboost\\src\\learner.cc:738: \n",
      "Parameters: { \"use_label_encoder\" } are not used.\n",
      "\n",
      "  bst.update(dtrain, iteration=i, fobj=obj)\n",
      "C:\\Users\\PC\\AppData\\Local\\Temp\\ipykernel_6404\\1505815251.py:229: FutureWarning: YF.download() has changed argument auto_adjust default to True\n",
      "  data_Test = yf.download(tickers=ticker, period=\"60d\", interval=\"1d\", group_by=\"ticker\")\n",
      "[*********************100%***********************]  1 of 1 completed\n"
     ]
    },
    {
     "name": "stdout",
     "output_type": "stream",
     "text": [
      "[[-0.83359011 -0.968661   -0.76633845 -1.23106336  1.38148313 -1.6992985\n",
      "  -1.29285527 -0.88927281 -0.67888376 -0.70725865 -1.60243888]]\n"
     ]
    },
    {
     "name": "stderr",
     "output_type": "stream",
     "text": [
      "C:\\Users\\PC\\AppData\\Local\\Temp\\ipykernel_6404\\1505815251.py:2: FutureWarning: YF.download() has changed argument auto_adjust default to True\n",
      "  Data=yf.download(tickers=ticker,period=\"5y\",interval=\"1d\",group_by=ticker)\n",
      "[*********************100%***********************]  1 of 1 completed\n",
      "C:\\Users\\PC\\AppData\\Local\\Programs\\Python\\Python310\\lib\\site-packages\\xgboost\\training.py:183: UserWarning: [00:12:18] WARNING: C:\\actions-runner\\_work\\xgboost\\xgboost\\src\\learner.cc:738: \n",
      "Parameters: { \"use_label_encoder\" } are not used.\n",
      "\n",
      "  bst.update(dtrain, iteration=i, fobj=obj)\n",
      "C:\\Users\\PC\\AppData\\Local\\Temp\\ipykernel_6404\\1505815251.py:229: FutureWarning: YF.download() has changed argument auto_adjust default to True\n",
      "  data_Test = yf.download(tickers=ticker, period=\"60d\", interval=\"1d\", group_by=\"ticker\")\n",
      "[*********************100%***********************]  1 of 1 completed\n"
     ]
    },
    {
     "name": "stdout",
     "output_type": "stream",
     "text": [
      "[[ 0.11907119  0.37447373  0.30874744 -1.60183074  0.74125373  0.72403752\n",
      "   0.49513614  0.27816209  0.03794883 -0.26998621  0.88504117]]\n"
     ]
    },
    {
     "name": "stderr",
     "output_type": "stream",
     "text": [
      "C:\\Users\\PC\\AppData\\Local\\Temp\\ipykernel_6404\\1505815251.py:2: FutureWarning: YF.download() has changed argument auto_adjust default to True\n",
      "  Data=yf.download(tickers=ticker,period=\"5y\",interval=\"1d\",group_by=ticker)\n",
      "[*********************100%***********************]  1 of 1 completed\n",
      "C:\\Users\\PC\\AppData\\Local\\Programs\\Python\\Python310\\lib\\site-packages\\xgboost\\training.py:183: UserWarning: [00:12:21] WARNING: C:\\actions-runner\\_work\\xgboost\\xgboost\\src\\learner.cc:738: \n",
      "Parameters: { \"use_label_encoder\" } are not used.\n",
      "\n",
      "  bst.update(dtrain, iteration=i, fobj=obj)\n",
      "C:\\Users\\PC\\AppData\\Local\\Temp\\ipykernel_6404\\1505815251.py:229: FutureWarning: YF.download() has changed argument auto_adjust default to True\n",
      "  data_Test = yf.download(tickers=ticker, period=\"60d\", interval=\"1d\", group_by=\"ticker\")\n",
      "[*********************100%***********************]  1 of 1 completed\n"
     ]
    },
    {
     "name": "stdout",
     "output_type": "stream",
     "text": [
      "[[-0.60135047 -0.20096019 -0.2433174  -0.17266664  1.59749914  0.14941256\n",
      "   0.61627764 -0.4447663  -0.49610025 -0.49495071 -1.49439204]]\n"
     ]
    },
    {
     "name": "stderr",
     "output_type": "stream",
     "text": [
      "C:\\Users\\PC\\AppData\\Local\\Temp\\ipykernel_6404\\1505815251.py:2: FutureWarning: YF.download() has changed argument auto_adjust default to True\n",
      "  Data=yf.download(tickers=ticker,period=\"5y\",interval=\"1d\",group_by=ticker)\n",
      "[*********************100%***********************]  1 of 1 completed\n",
      "C:\\Users\\PC\\AppData\\Local\\Programs\\Python\\Python310\\lib\\site-packages\\xgboost\\training.py:183: UserWarning: [00:12:24] WARNING: C:\\actions-runner\\_work\\xgboost\\xgboost\\src\\learner.cc:738: \n",
      "Parameters: { \"use_label_encoder\" } are not used.\n",
      "\n",
      "  bst.update(dtrain, iteration=i, fobj=obj)\n",
      "C:\\Users\\PC\\AppData\\Local\\Temp\\ipykernel_6404\\1505815251.py:229: FutureWarning: YF.download() has changed argument auto_adjust default to True\n",
      "  data_Test = yf.download(tickers=ticker, period=\"60d\", interval=\"1d\", group_by=\"ticker\")\n",
      "[*********************100%***********************]  1 of 1 completed\n"
     ]
    },
    {
     "name": "stdout",
     "output_type": "stream",
     "text": [
      "[[ 1.05062161 -1.1214501   0.41530979  4.14090906  3.11861566  0.62426026\n",
      "   0.8429735   0.29565681  0.96836131  2.87999117 -0.72158936]]\n"
     ]
    },
    {
     "name": "stderr",
     "output_type": "stream",
     "text": [
      "C:\\Users\\PC\\AppData\\Local\\Temp\\ipykernel_6404\\1505815251.py:2: FutureWarning: YF.download() has changed argument auto_adjust default to True\n",
      "  Data=yf.download(tickers=ticker,period=\"5y\",interval=\"1d\",group_by=ticker)\n",
      "[*********************100%***********************]  1 of 1 completed\n",
      "C:\\Users\\PC\\AppData\\Local\\Programs\\Python\\Python310\\lib\\site-packages\\xgboost\\training.py:183: UserWarning: [00:12:27] WARNING: C:\\actions-runner\\_work\\xgboost\\xgboost\\src\\learner.cc:738: \n",
      "Parameters: { \"use_label_encoder\" } are not used.\n",
      "\n",
      "  bst.update(dtrain, iteration=i, fobj=obj)\n",
      "C:\\Users\\PC\\AppData\\Local\\Temp\\ipykernel_6404\\1505815251.py:229: FutureWarning: YF.download() has changed argument auto_adjust default to True\n",
      "  data_Test = yf.download(tickers=ticker, period=\"60d\", interval=\"1d\", group_by=\"ticker\")\n",
      "[*********************100%***********************]  1 of 1 completed\n"
     ]
    },
    {
     "name": "stdout",
     "output_type": "stream",
     "text": [
      "[[-0.03108796 -1.83221485 -0.23724695 -0.84546504  1.9005954  -0.94990067\n",
      "  -0.68944603 -0.38771823 -0.06839969  0.29214841 -0.99471756]]\n"
     ]
    },
    {
     "name": "stderr",
     "output_type": "stream",
     "text": [
      "C:\\Users\\PC\\AppData\\Local\\Temp\\ipykernel_6404\\1505815251.py:2: FutureWarning: YF.download() has changed argument auto_adjust default to True\n",
      "  Data=yf.download(tickers=ticker,period=\"5y\",interval=\"1d\",group_by=ticker)\n",
      "[*********************100%***********************]  1 of 1 completed\n",
      "C:\\Users\\PC\\AppData\\Local\\Programs\\Python\\Python310\\lib\\site-packages\\xgboost\\training.py:183: UserWarning: [00:12:29] WARNING: C:\\actions-runner\\_work\\xgboost\\xgboost\\src\\learner.cc:738: \n",
      "Parameters: { \"use_label_encoder\" } are not used.\n",
      "\n",
      "  bst.update(dtrain, iteration=i, fobj=obj)\n",
      "C:\\Users\\PC\\AppData\\Local\\Temp\\ipykernel_6404\\1505815251.py:229: FutureWarning: YF.download() has changed argument auto_adjust default to True\n",
      "  data_Test = yf.download(tickers=ticker, period=\"60d\", interval=\"1d\", group_by=\"ticker\")\n",
      "[*********************100%***********************]  1 of 1 completed\n"
     ]
    },
    {
     "name": "stdout",
     "output_type": "stream",
     "text": [
      "[[-0.65976527 -0.13441087 -0.32872178 -0.24910867  1.10318366  0.1535802\n",
      "   0.63514055 -0.36323873 -0.5392085  -0.60597306 -1.54396236]]\n"
     ]
    },
    {
     "name": "stderr",
     "output_type": "stream",
     "text": [
      "C:\\Users\\PC\\AppData\\Local\\Temp\\ipykernel_6404\\1505815251.py:2: FutureWarning: YF.download() has changed argument auto_adjust default to True\n",
      "  Data=yf.download(tickers=ticker,period=\"5y\",interval=\"1d\",group_by=ticker)\n",
      "[*********************100%***********************]  1 of 1 completed\n",
      "C:\\Users\\PC\\AppData\\Local\\Programs\\Python\\Python310\\lib\\site-packages\\xgboost\\training.py:183: UserWarning: [00:12:33] WARNING: C:\\actions-runner\\_work\\xgboost\\xgboost\\src\\learner.cc:738: \n",
      "Parameters: { \"use_label_encoder\" } are not used.\n",
      "\n",
      "  bst.update(dtrain, iteration=i, fobj=obj)\n",
      "C:\\Users\\PC\\AppData\\Local\\Temp\\ipykernel_6404\\1505815251.py:229: FutureWarning: YF.download() has changed argument auto_adjust default to True\n",
      "  data_Test = yf.download(tickers=ticker, period=\"60d\", interval=\"1d\", group_by=\"ticker\")\n",
      "[*********************100%***********************]  1 of 1 completed\n"
     ]
    },
    {
     "name": "stdout",
     "output_type": "stream",
     "text": [
      "[[0.58726412 0.59557883 0.50429579 0.72388918 0.27227703 0.88302372\n",
      "  0.76377758 0.5310738  0.34964121 0.44323871 0.47554743]]\n"
     ]
    },
    {
     "name": "stderr",
     "output_type": "stream",
     "text": [
      "C:\\Users\\PC\\AppData\\Local\\Temp\\ipykernel_6404\\1505815251.py:2: FutureWarning: YF.download() has changed argument auto_adjust default to True\n",
      "  Data=yf.download(tickers=ticker,period=\"5y\",interval=\"1d\",group_by=ticker)\n",
      "[*********************100%***********************]  1 of 1 completed\n",
      "C:\\Users\\PC\\AppData\\Local\\Programs\\Python\\Python310\\lib\\site-packages\\xgboost\\training.py:183: UserWarning: [00:12:36] WARNING: C:\\actions-runner\\_work\\xgboost\\xgboost\\src\\learner.cc:738: \n",
      "Parameters: { \"use_label_encoder\" } are not used.\n",
      "\n",
      "  bst.update(dtrain, iteration=i, fobj=obj)\n",
      "C:\\Users\\PC\\AppData\\Local\\Temp\\ipykernel_6404\\1505815251.py:229: FutureWarning: YF.download() has changed argument auto_adjust default to True\n",
      "  data_Test = yf.download(tickers=ticker, period=\"60d\", interval=\"1d\", group_by=\"ticker\")\n",
      "[*********************100%***********************]  1 of 1 completed\n"
     ]
    },
    {
     "name": "stdout",
     "output_type": "stream",
     "text": [
      "[[-0.81806169  0.45161023 -0.90721934 -0.2129421  -0.43468064 -1.33732067\n",
      "  -1.2344268  -0.87475594 -0.56293543 -1.53728406 -0.48105019]]\n"
     ]
    },
    {
     "name": "stderr",
     "output_type": "stream",
     "text": [
      "C:\\Users\\PC\\AppData\\Local\\Temp\\ipykernel_6404\\1505815251.py:2: FutureWarning: YF.download() has changed argument auto_adjust default to True\n",
      "  Data=yf.download(tickers=ticker,period=\"5y\",interval=\"1d\",group_by=ticker)\n",
      "[*********************100%***********************]  1 of 1 completed\n",
      "C:\\Users\\PC\\AppData\\Local\\Programs\\Python\\Python310\\lib\\site-packages\\xgboost\\training.py:183: UserWarning: [00:12:39] WARNING: C:\\actions-runner\\_work\\xgboost\\xgboost\\src\\learner.cc:738: \n",
      "Parameters: { \"use_label_encoder\" } are not used.\n",
      "\n",
      "  bst.update(dtrain, iteration=i, fobj=obj)\n",
      "C:\\Users\\PC\\AppData\\Local\\Temp\\ipykernel_6404\\1505815251.py:229: FutureWarning: YF.download() has changed argument auto_adjust default to True\n",
      "  data_Test = yf.download(tickers=ticker, period=\"60d\", interval=\"1d\", group_by=\"ticker\")\n",
      "[*********************100%***********************]  1 of 1 completed\n"
     ]
    },
    {
     "name": "stdout",
     "output_type": "stream",
     "text": [
      "[[ 0.32751011 -1.11940781 -0.04521682  1.04949744 -0.20461448 -0.74044251\n",
      "  -0.45333011 -0.08521824  0.0169481   0.69185584 -1.10625271]]\n"
     ]
    },
    {
     "name": "stderr",
     "output_type": "stream",
     "text": [
      "C:\\Users\\PC\\AppData\\Local\\Temp\\ipykernel_6404\\1505815251.py:2: FutureWarning: YF.download() has changed argument auto_adjust default to True\n",
      "  Data=yf.download(tickers=ticker,period=\"5y\",interval=\"1d\",group_by=ticker)\n",
      "[*********************100%***********************]  1 of 1 completed\n",
      "C:\\Users\\PC\\AppData\\Local\\Programs\\Python\\Python310\\lib\\site-packages\\xgboost\\training.py:183: UserWarning: [00:12:42] WARNING: C:\\actions-runner\\_work\\xgboost\\xgboost\\src\\learner.cc:738: \n",
      "Parameters: { \"use_label_encoder\" } are not used.\n",
      "\n",
      "  bst.update(dtrain, iteration=i, fobj=obj)\n",
      "C:\\Users\\PC\\AppData\\Local\\Temp\\ipykernel_6404\\1505815251.py:229: FutureWarning: YF.download() has changed argument auto_adjust default to True\n",
      "  data_Test = yf.download(tickers=ticker, period=\"60d\", interval=\"1d\", group_by=\"ticker\")\n",
      "[*********************100%***********************]  1 of 1 completed\n"
     ]
    },
    {
     "name": "stdout",
     "output_type": "stream",
     "text": [
      "[[ 1.28400559  0.25185393  0.82307302  0.88217994 -1.08236748  1.16620935\n",
      "   1.30486438  0.7669886   0.70528361  1.2346346  -0.37575968]]\n"
     ]
    },
    {
     "name": "stderr",
     "output_type": "stream",
     "text": [
      "C:\\Users\\PC\\AppData\\Local\\Temp\\ipykernel_6404\\1505815251.py:2: FutureWarning: YF.download() has changed argument auto_adjust default to True\n",
      "  Data=yf.download(tickers=ticker,period=\"5y\",interval=\"1d\",group_by=ticker)\n",
      "[*********************100%***********************]  1 of 1 completed\n",
      "C:\\Users\\PC\\AppData\\Local\\Programs\\Python\\Python310\\lib\\site-packages\\xgboost\\training.py:183: UserWarning: [00:12:45] WARNING: C:\\actions-runner\\_work\\xgboost\\xgboost\\src\\learner.cc:738: \n",
      "Parameters: { \"use_label_encoder\" } are not used.\n",
      "\n",
      "  bst.update(dtrain, iteration=i, fobj=obj)\n",
      "C:\\Users\\PC\\AppData\\Local\\Temp\\ipykernel_6404\\1505815251.py:229: FutureWarning: YF.download() has changed argument auto_adjust default to True\n",
      "  data_Test = yf.download(tickers=ticker, period=\"60d\", interval=\"1d\", group_by=\"ticker\")\n",
      "[*********************100%***********************]  1 of 1 completed\n"
     ]
    },
    {
     "name": "stdout",
     "output_type": "stream",
     "text": [
      "[[ 0.03304778  0.65581695  0.4414986  -1.24537136  1.30748635  0.42201429\n",
      "   0.61094963  0.46660203  0.09135589  0.03533728 -0.60370538]]\n"
     ]
    },
    {
     "name": "stderr",
     "output_type": "stream",
     "text": [
      "C:\\Users\\PC\\AppData\\Local\\Temp\\ipykernel_6404\\1505815251.py:2: FutureWarning: YF.download() has changed argument auto_adjust default to True\n",
      "  Data=yf.download(tickers=ticker,period=\"5y\",interval=\"1d\",group_by=ticker)\n",
      "[*********************100%***********************]  1 of 1 completed\n",
      "C:\\Users\\PC\\AppData\\Local\\Programs\\Python\\Python310\\lib\\site-packages\\xgboost\\training.py:183: UserWarning: [00:12:47] WARNING: C:\\actions-runner\\_work\\xgboost\\xgboost\\src\\learner.cc:738: \n",
      "Parameters: { \"use_label_encoder\" } are not used.\n",
      "\n",
      "  bst.update(dtrain, iteration=i, fobj=obj)\n",
      "C:\\Users\\PC\\AppData\\Local\\Temp\\ipykernel_6404\\1505815251.py:229: FutureWarning: YF.download() has changed argument auto_adjust default to True\n",
      "  data_Test = yf.download(tickers=ticker, period=\"60d\", interval=\"1d\", group_by=\"ticker\")\n",
      "[*********************100%***********************]  1 of 1 completed\n"
     ]
    },
    {
     "name": "stdout",
     "output_type": "stream",
     "text": [
      "[[ 2.82273274e-01 -1.31079712e+00 -1.12506695e-01  2.63088039e+00\n",
      "   3.57662617e-01  4.48832243e-02  6.53601055e-01 -1.36928445e-01\n",
      "   1.22506955e-03  1.00600706e+00 -2.10127961e+00]]\n"
     ]
    },
    {
     "name": "stderr",
     "output_type": "stream",
     "text": [
      "C:\\Users\\PC\\AppData\\Local\\Temp\\ipykernel_6404\\1505815251.py:2: FutureWarning: YF.download() has changed argument auto_adjust default to True\n",
      "  Data=yf.download(tickers=ticker,period=\"5y\",interval=\"1d\",group_by=ticker)\n",
      "[*********************100%***********************]  1 of 1 completed\n",
      "C:\\Users\\PC\\AppData\\Local\\Programs\\Python\\Python310\\lib\\site-packages\\xgboost\\training.py:183: UserWarning: [00:12:50] WARNING: C:\\actions-runner\\_work\\xgboost\\xgboost\\src\\learner.cc:738: \n",
      "Parameters: { \"use_label_encoder\" } are not used.\n",
      "\n",
      "  bst.update(dtrain, iteration=i, fobj=obj)\n",
      "C:\\Users\\PC\\AppData\\Local\\Temp\\ipykernel_6404\\1505815251.py:229: FutureWarning: YF.download() has changed argument auto_adjust default to True\n",
      "  data_Test = yf.download(tickers=ticker, period=\"60d\", interval=\"1d\", group_by=\"ticker\")\n",
      "[*********************100%***********************]  1 of 1 completed\n"
     ]
    },
    {
     "name": "stdout",
     "output_type": "stream",
     "text": [
      "[[ 0.73408668  0.85089115  0.77547553 -0.11050271 -0.3106292   1.15914775\n",
      "   1.0808909   0.6095298   0.8323242   0.67478821  0.38478904]]\n"
     ]
    },
    {
     "name": "stderr",
     "output_type": "stream",
     "text": [
      "C:\\Users\\PC\\AppData\\Local\\Temp\\ipykernel_6404\\1505815251.py:2: FutureWarning: YF.download() has changed argument auto_adjust default to True\n",
      "  Data=yf.download(tickers=ticker,period=\"5y\",interval=\"1d\",group_by=ticker)\n",
      "[*********************100%***********************]  1 of 1 completed\n",
      "C:\\Users\\PC\\AppData\\Local\\Programs\\Python\\Python310\\lib\\site-packages\\xgboost\\training.py:183: UserWarning: [00:12:53] WARNING: C:\\actions-runner\\_work\\xgboost\\xgboost\\src\\learner.cc:738: \n",
      "Parameters: { \"use_label_encoder\" } are not used.\n",
      "\n",
      "  bst.update(dtrain, iteration=i, fobj=obj)\n",
      "C:\\Users\\PC\\AppData\\Local\\Temp\\ipykernel_6404\\1505815251.py:229: FutureWarning: YF.download() has changed argument auto_adjust default to True\n",
      "  data_Test = yf.download(tickers=ticker, period=\"60d\", interval=\"1d\", group_by=\"ticker\")\n",
      "[*********************100%***********************]  1 of 1 completed\n"
     ]
    },
    {
     "name": "stdout",
     "output_type": "stream",
     "text": [
      "[[ 0.89004587  0.83603717  1.14051917 -0.39143591  0.47876382  1.11556333\n",
      "   1.02304639  1.15686762  0.99708121  0.98750797  0.43986695]]\n"
     ]
    },
    {
     "name": "stderr",
     "output_type": "stream",
     "text": [
      "C:\\Users\\PC\\AppData\\Local\\Temp\\ipykernel_6404\\1505815251.py:2: FutureWarning: YF.download() has changed argument auto_adjust default to True\n",
      "  Data=yf.download(tickers=ticker,period=\"5y\",interval=\"1d\",group_by=ticker)\n",
      "[*********************100%***********************]  1 of 1 completed\n",
      "C:\\Users\\PC\\AppData\\Local\\Programs\\Python\\Python310\\lib\\site-packages\\xgboost\\training.py:183: UserWarning: [00:12:56] WARNING: C:\\actions-runner\\_work\\xgboost\\xgboost\\src\\learner.cc:738: \n",
      "Parameters: { \"use_label_encoder\" } are not used.\n",
      "\n",
      "  bst.update(dtrain, iteration=i, fobj=obj)\n",
      "C:\\Users\\PC\\AppData\\Local\\Temp\\ipykernel_6404\\1505815251.py:229: FutureWarning: YF.download() has changed argument auto_adjust default to True\n",
      "  data_Test = yf.download(tickers=ticker, period=\"60d\", interval=\"1d\", group_by=\"ticker\")\n",
      "[*********************100%***********************]  1 of 1 completed\n"
     ]
    },
    {
     "name": "stdout",
     "output_type": "stream",
     "text": [
      "[[-1.05250814 -0.32178634 -1.05542345 -1.01797381  0.70839087 -1.58978547\n",
      "  -1.5109373  -1.37628216 -0.62778227 -0.92050403 -0.44055297]]\n"
     ]
    },
    {
     "name": "stderr",
     "output_type": "stream",
     "text": [
      "C:\\Users\\PC\\AppData\\Local\\Temp\\ipykernel_6404\\1505815251.py:2: FutureWarning: YF.download() has changed argument auto_adjust default to True\n",
      "  Data=yf.download(tickers=ticker,period=\"5y\",interval=\"1d\",group_by=ticker)\n",
      "[*********************100%***********************]  1 of 1 completed\n",
      "C:\\Users\\PC\\AppData\\Local\\Programs\\Python\\Python310\\lib\\site-packages\\xgboost\\training.py:183: UserWarning: [00:12:59] WARNING: C:\\actions-runner\\_work\\xgboost\\xgboost\\src\\learner.cc:738: \n",
      "Parameters: { \"use_label_encoder\" } are not used.\n",
      "\n",
      "  bst.update(dtrain, iteration=i, fobj=obj)\n",
      "C:\\Users\\PC\\AppData\\Local\\Temp\\ipykernel_6404\\1505815251.py:229: FutureWarning: YF.download() has changed argument auto_adjust default to True\n",
      "  data_Test = yf.download(tickers=ticker, period=\"60d\", interval=\"1d\", group_by=\"ticker\")\n",
      "[*********************100%***********************]  1 of 1 completed\n"
     ]
    },
    {
     "name": "stdout",
     "output_type": "stream",
     "text": [
      "[[ 0.26174154  1.93800519  1.17788815 -0.04068103  0.89023329  1.17318122\n",
      "   0.79821225  0.85881651  0.55454708 -0.55219091  1.35113538]]\n"
     ]
    },
    {
     "name": "stderr",
     "output_type": "stream",
     "text": [
      "C:\\Users\\PC\\AppData\\Local\\Temp\\ipykernel_6404\\1505815251.py:2: FutureWarning: YF.download() has changed argument auto_adjust default to True\n",
      "  Data=yf.download(tickers=ticker,period=\"5y\",interval=\"1d\",group_by=ticker)\n",
      "[*********************100%***********************]  1 of 1 completed\n",
      "C:\\Users\\PC\\AppData\\Local\\Programs\\Python\\Python310\\lib\\site-packages\\xgboost\\training.py:183: UserWarning: [00:13:01] WARNING: C:\\actions-runner\\_work\\xgboost\\xgboost\\src\\learner.cc:738: \n",
      "Parameters: { \"use_label_encoder\" } are not used.\n",
      "\n",
      "  bst.update(dtrain, iteration=i, fobj=obj)\n",
      "C:\\Users\\PC\\AppData\\Local\\Temp\\ipykernel_6404\\1505815251.py:229: FutureWarning: YF.download() has changed argument auto_adjust default to True\n",
      "  data_Test = yf.download(tickers=ticker, period=\"60d\", interval=\"1d\", group_by=\"ticker\")\n",
      "[*********************100%***********************]  1 of 1 completed\n"
     ]
    },
    {
     "name": "stdout",
     "output_type": "stream",
     "text": [
      "[[ 0.8682904  -0.74492614  0.4806719   1.27442779  1.45806845  0.78250089\n",
      "   0.9926963   0.34842587  0.41513648  1.30765524 -0.54962976]]\n"
     ]
    },
    {
     "name": "stderr",
     "output_type": "stream",
     "text": [
      "C:\\Users\\PC\\AppData\\Local\\Temp\\ipykernel_6404\\1505815251.py:2: FutureWarning: YF.download() has changed argument auto_adjust default to True\n",
      "  Data=yf.download(tickers=ticker,period=\"5y\",interval=\"1d\",group_by=ticker)\n",
      "[*********************100%***********************]  1 of 1 completed\n",
      "C:\\Users\\PC\\AppData\\Local\\Programs\\Python\\Python310\\lib\\site-packages\\xgboost\\training.py:183: UserWarning: [00:13:04] WARNING: C:\\actions-runner\\_work\\xgboost\\xgboost\\src\\learner.cc:738: \n",
      "Parameters: { \"use_label_encoder\" } are not used.\n",
      "\n",
      "  bst.update(dtrain, iteration=i, fobj=obj)\n",
      "C:\\Users\\PC\\AppData\\Local\\Temp\\ipykernel_6404\\1505815251.py:229: FutureWarning: YF.download() has changed argument auto_adjust default to True\n",
      "  data_Test = yf.download(tickers=ticker, period=\"60d\", interval=\"1d\", group_by=\"ticker\")\n",
      "[*********************100%***********************]  1 of 1 completed\n"
     ]
    },
    {
     "name": "stdout",
     "output_type": "stream",
     "text": [
      "[[ 0.90991235  0.25240262  0.50110486  1.68680666 -0.57396872  0.88957099\n",
      "   1.01498584  0.40546265  0.91128635  1.78443631 -0.34838151]]\n"
     ]
    },
    {
     "name": "stderr",
     "output_type": "stream",
     "text": [
      "C:\\Users\\PC\\AppData\\Local\\Temp\\ipykernel_6404\\1505815251.py:2: FutureWarning: YF.download() has changed argument auto_adjust default to True\n",
      "  Data=yf.download(tickers=ticker,period=\"5y\",interval=\"1d\",group_by=ticker)\n",
      "[*********************100%***********************]  1 of 1 completed\n",
      "C:\\Users\\PC\\AppData\\Local\\Programs\\Python\\Python310\\lib\\site-packages\\xgboost\\training.py:183: UserWarning: [00:13:07] WARNING: C:\\actions-runner\\_work\\xgboost\\xgboost\\src\\learner.cc:738: \n",
      "Parameters: { \"use_label_encoder\" } are not used.\n",
      "\n",
      "  bst.update(dtrain, iteration=i, fobj=obj)\n",
      "C:\\Users\\PC\\AppData\\Local\\Temp\\ipykernel_6404\\1505815251.py:229: FutureWarning: YF.download() has changed argument auto_adjust default to True\n",
      "  data_Test = yf.download(tickers=ticker, period=\"60d\", interval=\"1d\", group_by=\"ticker\")\n",
      "[*********************100%***********************]  1 of 1 completed\n"
     ]
    },
    {
     "name": "stdout",
     "output_type": "stream",
     "text": [
      "[[-0.70749759 -0.5923765  -0.86658195 -1.18923882 -0.1600211  -1.20268919\n",
      "  -0.52920309 -0.95445285 -0.53299341 -0.45537988 -2.39785777]]\n"
     ]
    },
    {
     "name": "stderr",
     "output_type": "stream",
     "text": [
      "C:\\Users\\PC\\AppData\\Local\\Temp\\ipykernel_6404\\1505815251.py:2: FutureWarning: YF.download() has changed argument auto_adjust default to True\n",
      "  Data=yf.download(tickers=ticker,period=\"5y\",interval=\"1d\",group_by=ticker)\n",
      "[*********************100%***********************]  1 of 1 completed\n",
      "C:\\Users\\PC\\AppData\\Local\\Programs\\Python\\Python310\\lib\\site-packages\\xgboost\\training.py:183: UserWarning: [00:13:10] WARNING: C:\\actions-runner\\_work\\xgboost\\xgboost\\src\\learner.cc:738: \n",
      "Parameters: { \"use_label_encoder\" } are not used.\n",
      "\n",
      "  bst.update(dtrain, iteration=i, fobj=obj)\n",
      "C:\\Users\\PC\\AppData\\Local\\Temp\\ipykernel_6404\\1505815251.py:229: FutureWarning: YF.download() has changed argument auto_adjust default to True\n",
      "  data_Test = yf.download(tickers=ticker, period=\"60d\", interval=\"1d\", group_by=\"ticker\")\n",
      "[*********************100%***********************]  1 of 1 completed\n"
     ]
    },
    {
     "name": "stdout",
     "output_type": "stream",
     "text": [
      "[[ 1.27234741  0.13298717  0.66825972  0.69313575 -0.30682928  0.85276015\n",
      "   0.97737076  0.48449791  0.71450348  1.23361379 -0.31782491]]\n"
     ]
    },
    {
     "name": "stderr",
     "output_type": "stream",
     "text": [
      "C:\\Users\\PC\\AppData\\Local\\Temp\\ipykernel_6404\\1505815251.py:2: FutureWarning: YF.download() has changed argument auto_adjust default to True\n",
      "  Data=yf.download(tickers=ticker,period=\"5y\",interval=\"1d\",group_by=ticker)\n",
      "[*********************100%***********************]  1 of 1 completed\n",
      "C:\\Users\\PC\\AppData\\Local\\Programs\\Python\\Python310\\lib\\site-packages\\xgboost\\training.py:183: UserWarning: [00:13:13] WARNING: C:\\actions-runner\\_work\\xgboost\\xgboost\\src\\learner.cc:738: \n",
      "Parameters: { \"use_label_encoder\" } are not used.\n",
      "\n",
      "  bst.update(dtrain, iteration=i, fobj=obj)\n",
      "C:\\Users\\PC\\AppData\\Local\\Temp\\ipykernel_6404\\1505815251.py:229: FutureWarning: YF.download() has changed argument auto_adjust default to True\n",
      "  data_Test = yf.download(tickers=ticker, period=\"60d\", interval=\"1d\", group_by=\"ticker\")\n",
      "[*********************100%***********************]  1 of 1 completed\n"
     ]
    },
    {
     "name": "stdout",
     "output_type": "stream",
     "text": [
      "[[1.33368377 0.38330499 0.62728317 1.15899213 0.56345874 0.9544631\n",
      "  0.90591752 0.55343373 0.71656935 0.98203402 0.26403697]]\n"
     ]
    },
    {
     "name": "stderr",
     "output_type": "stream",
     "text": [
      "C:\\Users\\PC\\AppData\\Local\\Temp\\ipykernel_6404\\1505815251.py:2: FutureWarning: YF.download() has changed argument auto_adjust default to True\n",
      "  Data=yf.download(tickers=ticker,period=\"5y\",interval=\"1d\",group_by=ticker)\n",
      "[*********************100%***********************]  1 of 1 completed\n",
      "C:\\Users\\PC\\AppData\\Local\\Programs\\Python\\Python310\\lib\\site-packages\\xgboost\\training.py:183: UserWarning: [00:13:15] WARNING: C:\\actions-runner\\_work\\xgboost\\xgboost\\src\\learner.cc:738: \n",
      "Parameters: { \"use_label_encoder\" } are not used.\n",
      "\n",
      "  bst.update(dtrain, iteration=i, fobj=obj)\n",
      "C:\\Users\\PC\\AppData\\Local\\Temp\\ipykernel_6404\\1505815251.py:229: FutureWarning: YF.download() has changed argument auto_adjust default to True\n",
      "  data_Test = yf.download(tickers=ticker, period=\"60d\", interval=\"1d\", group_by=\"ticker\")\n",
      "[*********************100%***********************]  1 of 1 completed\n"
     ]
    },
    {
     "name": "stdout",
     "output_type": "stream",
     "text": [
      "[[ 1.33123519 -0.2221371   0.59187452  2.10587456  0.29774057  0.91241043\n",
      "   0.83780688  0.49006916  0.80855861  1.53303408  0.36366548]]\n"
     ]
    },
    {
     "name": "stderr",
     "output_type": "stream",
     "text": [
      "C:\\Users\\PC\\AppData\\Local\\Temp\\ipykernel_6404\\1505815251.py:2: FutureWarning: YF.download() has changed argument auto_adjust default to True\n",
      "  Data=yf.download(tickers=ticker,period=\"5y\",interval=\"1d\",group_by=ticker)\n",
      "[*********************100%***********************]  1 of 1 completed\n",
      "C:\\Users\\PC\\AppData\\Local\\Programs\\Python\\Python310\\lib\\site-packages\\xgboost\\training.py:183: UserWarning: [00:13:18] WARNING: C:\\actions-runner\\_work\\xgboost\\xgboost\\src\\learner.cc:738: \n",
      "Parameters: { \"use_label_encoder\" } are not used.\n",
      "\n",
      "  bst.update(dtrain, iteration=i, fobj=obj)\n",
      "C:\\Users\\PC\\AppData\\Local\\Temp\\ipykernel_6404\\1505815251.py:229: FutureWarning: YF.download() has changed argument auto_adjust default to True\n",
      "  data_Test = yf.download(tickers=ticker, period=\"60d\", interval=\"1d\", group_by=\"ticker\")\n",
      "[*********************100%***********************]  1 of 1 completed\n"
     ]
    },
    {
     "name": "stdout",
     "output_type": "stream",
     "text": [
      "[[2.75110227 0.29604811 1.2115982  3.57595641 0.08298468 1.43720862\n",
      "  1.35340017 1.08023229 1.73599888 3.03899069 0.42873022]]\n"
     ]
    },
    {
     "name": "stderr",
     "output_type": "stream",
     "text": [
      "C:\\Users\\PC\\AppData\\Local\\Temp\\ipykernel_6404\\1505815251.py:2: FutureWarning: YF.download() has changed argument auto_adjust default to True\n",
      "  Data=yf.download(tickers=ticker,period=\"5y\",interval=\"1d\",group_by=ticker)\n",
      "[*********************100%***********************]  1 of 1 completed\n",
      "C:\\Users\\PC\\AppData\\Local\\Programs\\Python\\Python310\\lib\\site-packages\\xgboost\\training.py:183: UserWarning: [00:13:21] WARNING: C:\\actions-runner\\_work\\xgboost\\xgboost\\src\\learner.cc:738: \n",
      "Parameters: { \"use_label_encoder\" } are not used.\n",
      "\n",
      "  bst.update(dtrain, iteration=i, fobj=obj)\n",
      "C:\\Users\\PC\\AppData\\Local\\Temp\\ipykernel_6404\\1505815251.py:229: FutureWarning: YF.download() has changed argument auto_adjust default to True\n",
      "  data_Test = yf.download(tickers=ticker, period=\"60d\", interval=\"1d\", group_by=\"ticker\")\n",
      "[*********************100%***********************]  1 of 1 completed\n"
     ]
    },
    {
     "name": "stdout",
     "output_type": "stream",
     "text": [
      "[[-0.72671198 -0.75676215 -1.14239565 -1.68888114  0.54630787 -1.1752293\n",
      "  -1.09835234 -1.10653297 -0.6287074  -0.37810874 -0.38521142]]\n"
     ]
    },
    {
     "name": "stderr",
     "output_type": "stream",
     "text": [
      "C:\\Users\\PC\\AppData\\Local\\Temp\\ipykernel_6404\\1505815251.py:2: FutureWarning: YF.download() has changed argument auto_adjust default to True\n",
      "  Data=yf.download(tickers=ticker,period=\"5y\",interval=\"1d\",group_by=ticker)\n",
      "[*********************100%***********************]  1 of 1 completed\n",
      "C:\\Users\\PC\\AppData\\Local\\Programs\\Python\\Python310\\lib\\site-packages\\xgboost\\training.py:183: UserWarning: [00:13:24] WARNING: C:\\actions-runner\\_work\\xgboost\\xgboost\\src\\learner.cc:738: \n",
      "Parameters: { \"use_label_encoder\" } are not used.\n",
      "\n",
      "  bst.update(dtrain, iteration=i, fobj=obj)\n",
      "C:\\Users\\PC\\AppData\\Local\\Temp\\ipykernel_6404\\1505815251.py:229: FutureWarning: YF.download() has changed argument auto_adjust default to True\n",
      "  data_Test = yf.download(tickers=ticker, period=\"60d\", interval=\"1d\", group_by=\"ticker\")\n",
      "[*********************100%***********************]  1 of 1 completed\n"
     ]
    },
    {
     "name": "stdout",
     "output_type": "stream",
     "text": [
      "[[-1.59629397 -1.17243379 -1.56407329 -0.11678222  0.23654483 -1.21646297\n",
      "  -0.61105876 -1.58604978 -1.80178991 -1.56623486 -2.27459023]]\n"
     ]
    },
    {
     "name": "stderr",
     "output_type": "stream",
     "text": [
      "C:\\Users\\PC\\AppData\\Local\\Temp\\ipykernel_6404\\1505815251.py:2: FutureWarning: YF.download() has changed argument auto_adjust default to True\n",
      "  Data=yf.download(tickers=ticker,period=\"5y\",interval=\"1d\",group_by=ticker)\n",
      "[*********************100%***********************]  1 of 1 completed\n",
      "C:\\Users\\PC\\AppData\\Local\\Programs\\Python\\Python310\\lib\\site-packages\\xgboost\\training.py:183: UserWarning: [00:13:27] WARNING: C:\\actions-runner\\_work\\xgboost\\xgboost\\src\\learner.cc:738: \n",
      "Parameters: { \"use_label_encoder\" } are not used.\n",
      "\n",
      "  bst.update(dtrain, iteration=i, fobj=obj)\n",
      "C:\\Users\\PC\\AppData\\Local\\Temp\\ipykernel_6404\\1505815251.py:229: FutureWarning: YF.download() has changed argument auto_adjust default to True\n",
      "  data_Test = yf.download(tickers=ticker, period=\"60d\", interval=\"1d\", group_by=\"ticker\")\n",
      "[*********************100%***********************]  1 of 1 completed\n"
     ]
    },
    {
     "name": "stdout",
     "output_type": "stream",
     "text": [
      "[[ 1.28463184  0.49894385  1.18999099 -0.19862219 -0.63138139  0.84047887\n",
      "   1.14718682  1.02977708  0.80552745  1.00091608 -0.93794331]]\n"
     ]
    },
    {
     "name": "stderr",
     "output_type": "stream",
     "text": [
      "C:\\Users\\PC\\AppData\\Local\\Temp\\ipykernel_6404\\1505815251.py:2: FutureWarning: YF.download() has changed argument auto_adjust default to True\n",
      "  Data=yf.download(tickers=ticker,period=\"5y\",interval=\"1d\",group_by=ticker)\n",
      "[*********************100%***********************]  1 of 1 completed\n",
      "C:\\Users\\PC\\AppData\\Local\\Programs\\Python\\Python310\\lib\\site-packages\\xgboost\\training.py:183: UserWarning: [00:13:29] WARNING: C:\\actions-runner\\_work\\xgboost\\xgboost\\src\\learner.cc:738: \n",
      "Parameters: { \"use_label_encoder\" } are not used.\n",
      "\n",
      "  bst.update(dtrain, iteration=i, fobj=obj)\n",
      "C:\\Users\\PC\\AppData\\Local\\Temp\\ipykernel_6404\\1505815251.py:229: FutureWarning: YF.download() has changed argument auto_adjust default to True\n",
      "  data_Test = yf.download(tickers=ticker, period=\"60d\", interval=\"1d\", group_by=\"ticker\")\n",
      "[*********************100%***********************]  1 of 1 completed\n"
     ]
    },
    {
     "name": "stdout",
     "output_type": "stream",
     "text": [
      "[[-0.12742778 -0.68124291 -0.16738959 -1.05138487  2.45549946  0.10463202\n",
      "  -0.22402212 -0.16268532 -0.10003158  0.13421242  1.20755042]]\n"
     ]
    },
    {
     "name": "stderr",
     "output_type": "stream",
     "text": [
      "C:\\Users\\PC\\AppData\\Local\\Temp\\ipykernel_6404\\1505815251.py:2: FutureWarning: YF.download() has changed argument auto_adjust default to True\n",
      "  Data=yf.download(tickers=ticker,period=\"5y\",interval=\"1d\",group_by=ticker)\n",
      "[*********************100%***********************]  1 of 1 completed\n",
      "C:\\Users\\PC\\AppData\\Local\\Programs\\Python\\Python310\\lib\\site-packages\\xgboost\\training.py:183: UserWarning: [00:13:32] WARNING: C:\\actions-runner\\_work\\xgboost\\xgboost\\src\\learner.cc:738: \n",
      "Parameters: { \"use_label_encoder\" } are not used.\n",
      "\n",
      "  bst.update(dtrain, iteration=i, fobj=obj)\n",
      "C:\\Users\\PC\\AppData\\Local\\Temp\\ipykernel_6404\\1505815251.py:229: FutureWarning: YF.download() has changed argument auto_adjust default to True\n",
      "  data_Test = yf.download(tickers=ticker, period=\"60d\", interval=\"1d\", group_by=\"ticker\")\n",
      "[*********************100%***********************]  1 of 1 completed\n"
     ]
    },
    {
     "name": "stdout",
     "output_type": "stream",
     "text": [
      "[[ 0.22658977  0.58364056  0.54467353 -0.9328712  -0.20218175  0.66004938\n",
      "   1.00311102  0.46721012  0.30370623  0.12019724 -1.08483125]]\n"
     ]
    },
    {
     "name": "stderr",
     "output_type": "stream",
     "text": [
      "C:\\Users\\PC\\AppData\\Local\\Temp\\ipykernel_6404\\1505815251.py:2: FutureWarning: YF.download() has changed argument auto_adjust default to True\n",
      "  Data=yf.download(tickers=ticker,period=\"5y\",interval=\"1d\",group_by=ticker)\n",
      "[*********************100%***********************]  1 of 1 completed\n",
      "C:\\Users\\PC\\AppData\\Local\\Programs\\Python\\Python310\\lib\\site-packages\\xgboost\\training.py:183: UserWarning: [00:13:35] WARNING: C:\\actions-runner\\_work\\xgboost\\xgboost\\src\\learner.cc:738: \n",
      "Parameters: { \"use_label_encoder\" } are not used.\n",
      "\n",
      "  bst.update(dtrain, iteration=i, fobj=obj)\n",
      "C:\\Users\\PC\\AppData\\Local\\Temp\\ipykernel_6404\\1505815251.py:229: FutureWarning: YF.download() has changed argument auto_adjust default to True\n",
      "  data_Test = yf.download(tickers=ticker, period=\"60d\", interval=\"1d\", group_by=\"ticker\")\n",
      "[*********************100%***********************]  1 of 1 completed\n"
     ]
    },
    {
     "name": "stdout",
     "output_type": "stream",
     "text": [
      "[[-0.49003973 -0.16391887 -0.28721975 -1.25630271 -0.29662799 -0.67930516\n",
      "  -0.39900174 -0.33188704 -0.40519737 -0.43664585 -1.0046491 ]]\n"
     ]
    },
    {
     "name": "stderr",
     "output_type": "stream",
     "text": [
      "C:\\Users\\PC\\AppData\\Local\\Temp\\ipykernel_6404\\1505815251.py:2: FutureWarning: YF.download() has changed argument auto_adjust default to True\n",
      "  Data=yf.download(tickers=ticker,period=\"5y\",interval=\"1d\",group_by=ticker)\n",
      "[*********************100%***********************]  1 of 1 completed\n",
      "C:\\Users\\PC\\AppData\\Local\\Programs\\Python\\Python310\\lib\\site-packages\\xgboost\\training.py:183: UserWarning: [00:13:38] WARNING: C:\\actions-runner\\_work\\xgboost\\xgboost\\src\\learner.cc:738: \n",
      "Parameters: { \"use_label_encoder\" } are not used.\n",
      "\n",
      "  bst.update(dtrain, iteration=i, fobj=obj)\n",
      "C:\\Users\\PC\\AppData\\Local\\Temp\\ipykernel_6404\\1505815251.py:229: FutureWarning: YF.download() has changed argument auto_adjust default to True\n",
      "  data_Test = yf.download(tickers=ticker, period=\"60d\", interval=\"1d\", group_by=\"ticker\")\n",
      "[*********************100%***********************]  1 of 1 completed\n"
     ]
    },
    {
     "name": "stdout",
     "output_type": "stream",
     "text": [
      "[[-0.09119988 -0.22666277  0.07864493 -1.06049001 -0.12173226  0.09698654\n",
      "   0.28426884  0.04445172 -0.16664541 -0.00275115 -0.62380072]]\n"
     ]
    },
    {
     "name": "stderr",
     "output_type": "stream",
     "text": [
      "C:\\Users\\PC\\AppData\\Local\\Temp\\ipykernel_6404\\1505815251.py:2: FutureWarning: YF.download() has changed argument auto_adjust default to True\n",
      "  Data=yf.download(tickers=ticker,period=\"5y\",interval=\"1d\",group_by=ticker)\n",
      "[*********************100%***********************]  1 of 1 completed\n",
      "C:\\Users\\PC\\AppData\\Local\\Programs\\Python\\Python310\\lib\\site-packages\\xgboost\\training.py:183: UserWarning: [00:13:41] WARNING: C:\\actions-runner\\_work\\xgboost\\xgboost\\src\\learner.cc:738: \n",
      "Parameters: { \"use_label_encoder\" } are not used.\n",
      "\n",
      "  bst.update(dtrain, iteration=i, fobj=obj)\n",
      "C:\\Users\\PC\\AppData\\Local\\Temp\\ipykernel_6404\\1505815251.py:229: FutureWarning: YF.download() has changed argument auto_adjust default to True\n",
      "  data_Test = yf.download(tickers=ticker, period=\"60d\", interval=\"1d\", group_by=\"ticker\")\n",
      "[*********************100%***********************]  1 of 1 completed\n"
     ]
    },
    {
     "name": "stdout",
     "output_type": "stream",
     "text": [
      "[[-0.36485341  0.2100756  -0.03391417 -0.60523339 -0.02660214  0.10638512\n",
      "   0.43876285 -0.00172854 -0.32836531 -0.35833552 -1.11462625]]\n"
     ]
    },
    {
     "name": "stderr",
     "output_type": "stream",
     "text": [
      "C:\\Users\\PC\\AppData\\Local\\Temp\\ipykernel_6404\\1505815251.py:2: FutureWarning: YF.download() has changed argument auto_adjust default to True\n",
      "  Data=yf.download(tickers=ticker,period=\"5y\",interval=\"1d\",group_by=ticker)\n",
      "[*********************100%***********************]  1 of 1 completed\n",
      "C:\\Users\\PC\\AppData\\Local\\Programs\\Python\\Python310\\lib\\site-packages\\xgboost\\training.py:183: UserWarning: [00:13:44] WARNING: C:\\actions-runner\\_work\\xgboost\\xgboost\\src\\learner.cc:738: \n",
      "Parameters: { \"use_label_encoder\" } are not used.\n",
      "\n",
      "  bst.update(dtrain, iteration=i, fobj=obj)\n",
      "C:\\Users\\PC\\AppData\\Local\\Temp\\ipykernel_6404\\1505815251.py:229: FutureWarning: YF.download() has changed argument auto_adjust default to True\n",
      "  data_Test = yf.download(tickers=ticker, period=\"60d\", interval=\"1d\", group_by=\"ticker\")\n",
      "[*********************100%***********************]  1 of 1 completed\n"
     ]
    },
    {
     "name": "stdout",
     "output_type": "stream",
     "text": [
      "[[-0.07509336 -0.30692783 -0.45586109 -0.63581254 -1.54844181 -0.49683111\n",
      "  -0.26475492 -0.5125225  -0.19589375  0.32267854 -0.79840601]]\n"
     ]
    },
    {
     "name": "stderr",
     "output_type": "stream",
     "text": [
      "C:\\Users\\PC\\AppData\\Local\\Temp\\ipykernel_6404\\1505815251.py:2: FutureWarning: YF.download() has changed argument auto_adjust default to True\n",
      "  Data=yf.download(tickers=ticker,period=\"5y\",interval=\"1d\",group_by=ticker)\n",
      "[*********************100%***********************]  1 of 1 completed\n",
      "C:\\Users\\PC\\AppData\\Local\\Programs\\Python\\Python310\\lib\\site-packages\\xgboost\\training.py:183: UserWarning: [00:13:47] WARNING: C:\\actions-runner\\_work\\xgboost\\xgboost\\src\\learner.cc:738: \n",
      "Parameters: { \"use_label_encoder\" } are not used.\n",
      "\n",
      "  bst.update(dtrain, iteration=i, fobj=obj)\n",
      "C:\\Users\\PC\\AppData\\Local\\Temp\\ipykernel_6404\\1505815251.py:229: FutureWarning: YF.download() has changed argument auto_adjust default to True\n",
      "  data_Test = yf.download(tickers=ticker, period=\"60d\", interval=\"1d\", group_by=\"ticker\")\n",
      "[*********************100%***********************]  1 of 1 completed\n"
     ]
    },
    {
     "name": "stdout",
     "output_type": "stream",
     "text": [
      "[[ 1.06564054 -0.35310004  1.28731767 -0.62753815  1.23788073  1.23065658\n",
      "   0.79529772  1.17133227  0.79096137  1.2951121   1.55596262]]\n"
     ]
    },
    {
     "name": "stderr",
     "output_type": "stream",
     "text": [
      "C:\\Users\\PC\\AppData\\Local\\Temp\\ipykernel_6404\\1505815251.py:2: FutureWarning: YF.download() has changed argument auto_adjust default to True\n",
      "  Data=yf.download(tickers=ticker,period=\"5y\",interval=\"1d\",group_by=ticker)\n",
      "[*********************100%***********************]  1 of 1 completed\n",
      "C:\\Users\\PC\\AppData\\Local\\Programs\\Python\\Python310\\lib\\site-packages\\xgboost\\training.py:183: UserWarning: [00:13:50] WARNING: C:\\actions-runner\\_work\\xgboost\\xgboost\\src\\learner.cc:738: \n",
      "Parameters: { \"use_label_encoder\" } are not used.\n",
      "\n",
      "  bst.update(dtrain, iteration=i, fobj=obj)\n",
      "C:\\Users\\PC\\AppData\\Local\\Temp\\ipykernel_6404\\1505815251.py:229: FutureWarning: YF.download() has changed argument auto_adjust default to True\n",
      "  data_Test = yf.download(tickers=ticker, period=\"60d\", interval=\"1d\", group_by=\"ticker\")\n",
      "[*********************100%***********************]  1 of 1 completed\n"
     ]
    },
    {
     "name": "stdout",
     "output_type": "stream",
     "text": [
      "[[-0.07522232  0.01828197 -0.17135841 -1.23686989 -0.24997885  0.43515294\n",
      "   0.65419055 -0.46449729 -0.13852055  0.19984209 -0.69933604]]\n"
     ]
    },
    {
     "name": "stderr",
     "output_type": "stream",
     "text": [
      "C:\\Users\\PC\\AppData\\Local\\Temp\\ipykernel_6404\\1505815251.py:2: FutureWarning: YF.download() has changed argument auto_adjust default to True\n",
      "  Data=yf.download(tickers=ticker,period=\"5y\",interval=\"1d\",group_by=ticker)\n",
      "[*********************100%***********************]  1 of 1 completed\n",
      "C:\\Users\\PC\\AppData\\Local\\Programs\\Python\\Python310\\lib\\site-packages\\xgboost\\training.py:183: UserWarning: [00:13:52] WARNING: C:\\actions-runner\\_work\\xgboost\\xgboost\\src\\learner.cc:738: \n",
      "Parameters: { \"use_label_encoder\" } are not used.\n",
      "\n",
      "  bst.update(dtrain, iteration=i, fobj=obj)\n",
      "C:\\Users\\PC\\AppData\\Local\\Temp\\ipykernel_6404\\1505815251.py:229: FutureWarning: YF.download() has changed argument auto_adjust default to True\n",
      "  data_Test = yf.download(tickers=ticker, period=\"60d\", interval=\"1d\", group_by=\"ticker\")\n",
      "[*********************100%***********************]  1 of 1 completed\n"
     ]
    },
    {
     "name": "stdout",
     "output_type": "stream",
     "text": [
      "[[ 0.59110628  0.05459218  0.34710412  0.784335   -0.89568441  0.57287655\n",
      "   0.94284101  0.28323546  0.2203263   0.66630736 -1.15628755]]\n"
     ]
    },
    {
     "name": "stderr",
     "output_type": "stream",
     "text": [
      "C:\\Users\\PC\\AppData\\Local\\Temp\\ipykernel_6404\\1505815251.py:2: FutureWarning: YF.download() has changed argument auto_adjust default to True\n",
      "  Data=yf.download(tickers=ticker,period=\"5y\",interval=\"1d\",group_by=ticker)\n",
      "[*********************100%***********************]  1 of 1 completed\n",
      "C:\\Users\\PC\\AppData\\Local\\Programs\\Python\\Python310\\lib\\site-packages\\xgboost\\training.py:183: UserWarning: [00:13:55] WARNING: C:\\actions-runner\\_work\\xgboost\\xgboost\\src\\learner.cc:738: \n",
      "Parameters: { \"use_label_encoder\" } are not used.\n",
      "\n",
      "  bst.update(dtrain, iteration=i, fobj=obj)\n",
      "C:\\Users\\PC\\AppData\\Local\\Temp\\ipykernel_6404\\1505815251.py:229: FutureWarning: YF.download() has changed argument auto_adjust default to True\n",
      "  data_Test = yf.download(tickers=ticker, period=\"60d\", interval=\"1d\", group_by=\"ticker\")\n",
      "[*********************100%***********************]  1 of 1 completed\n"
     ]
    },
    {
     "name": "stdout",
     "output_type": "stream",
     "text": [
      "[[ 0.98076216  0.99937658  1.25289308 -1.35163052 -0.05189155  1.11506081\n",
      "   1.03635871  1.08182292  1.31108688  0.92467392  0.38874043]]\n"
     ]
    },
    {
     "name": "stderr",
     "output_type": "stream",
     "text": [
      "C:\\Users\\PC\\AppData\\Local\\Temp\\ipykernel_6404\\1505815251.py:2: FutureWarning: YF.download() has changed argument auto_adjust default to True\n",
      "  Data=yf.download(tickers=ticker,period=\"5y\",interval=\"1d\",group_by=ticker)\n",
      "[*********************100%***********************]  1 of 1 completed\n",
      "C:\\Users\\PC\\AppData\\Local\\Programs\\Python\\Python310\\lib\\site-packages\\xgboost\\training.py:183: UserWarning: [00:13:58] WARNING: C:\\actions-runner\\_work\\xgboost\\xgboost\\src\\learner.cc:738: \n",
      "Parameters: { \"use_label_encoder\" } are not used.\n",
      "\n",
      "  bst.update(dtrain, iteration=i, fobj=obj)\n",
      "C:\\Users\\PC\\AppData\\Local\\Temp\\ipykernel_6404\\1505815251.py:229: FutureWarning: YF.download() has changed argument auto_adjust default to True\n",
      "  data_Test = yf.download(tickers=ticker, period=\"60d\", interval=\"1d\", group_by=\"ticker\")\n",
      "[*********************100%***********************]  1 of 1 completed\n"
     ]
    },
    {
     "name": "stdout",
     "output_type": "stream",
     "text": [
      "[[ 1.34720534 -0.28423679  0.58124987  2.40268422  0.24345622  0.85540258\n",
      "   0.80354091  0.48254137  0.5895591   1.15863052  0.26458941]]\n"
     ]
    },
    {
     "name": "stderr",
     "output_type": "stream",
     "text": [
      "C:\\Users\\PC\\AppData\\Local\\Temp\\ipykernel_6404\\1505815251.py:2: FutureWarning: YF.download() has changed argument auto_adjust default to True\n",
      "  Data=yf.download(tickers=ticker,period=\"5y\",interval=\"1d\",group_by=ticker)\n",
      "[*********************100%***********************]  1 of 1 completed\n",
      "C:\\Users\\PC\\AppData\\Local\\Programs\\Python\\Python310\\lib\\site-packages\\xgboost\\training.py:183: UserWarning: [00:14:01] WARNING: C:\\actions-runner\\_work\\xgboost\\xgboost\\src\\learner.cc:738: \n",
      "Parameters: { \"use_label_encoder\" } are not used.\n",
      "\n",
      "  bst.update(dtrain, iteration=i, fobj=obj)\n",
      "C:\\Users\\PC\\AppData\\Local\\Temp\\ipykernel_6404\\1505815251.py:229: FutureWarning: YF.download() has changed argument auto_adjust default to True\n",
      "  data_Test = yf.download(tickers=ticker, period=\"60d\", interval=\"1d\", group_by=\"ticker\")\n",
      "[*********************100%***********************]  1 of 1 completed\n"
     ]
    },
    {
     "name": "stdout",
     "output_type": "stream",
     "text": [
      "[[ 0.98978906  0.02772958  0.8157881   0.45729598 -0.85387363  1.01726958\n",
      "   1.11148385  0.57998226  0.29715735  0.48969254 -0.21673295]]\n"
     ]
    },
    {
     "name": "stderr",
     "output_type": "stream",
     "text": [
      "C:\\Users\\PC\\AppData\\Local\\Temp\\ipykernel_6404\\1505815251.py:2: FutureWarning: YF.download() has changed argument auto_adjust default to True\n",
      "  Data=yf.download(tickers=ticker,period=\"5y\",interval=\"1d\",group_by=ticker)\n",
      "[*********************100%***********************]  1 of 1 completed\n",
      "C:\\Users\\PC\\AppData\\Local\\Programs\\Python\\Python310\\lib\\site-packages\\xgboost\\training.py:183: UserWarning: [00:14:04] WARNING: C:\\actions-runner\\_work\\xgboost\\xgboost\\src\\learner.cc:738: \n",
      "Parameters: { \"use_label_encoder\" } are not used.\n",
      "\n",
      "  bst.update(dtrain, iteration=i, fobj=obj)\n",
      "C:\\Users\\PC\\AppData\\Local\\Temp\\ipykernel_6404\\1505815251.py:229: FutureWarning: YF.download() has changed argument auto_adjust default to True\n",
      "  data_Test = yf.download(tickers=ticker, period=\"60d\", interval=\"1d\", group_by=\"ticker\")\n",
      "[*********************100%***********************]  1 of 1 completed\n"
     ]
    },
    {
     "name": "stdout",
     "output_type": "stream",
     "text": [
      "[[ 0.59223809  0.35813332  0.73475385 -1.3711865   1.1333797   1.256874\n",
      "   1.08959545  0.620063    0.66661482  0.92511174  0.71642924]]\n"
     ]
    },
    {
     "name": "stderr",
     "output_type": "stream",
     "text": [
      "C:\\Users\\PC\\AppData\\Local\\Temp\\ipykernel_6404\\1505815251.py:2: FutureWarning: YF.download() has changed argument auto_adjust default to True\n",
      "  Data=yf.download(tickers=ticker,period=\"5y\",interval=\"1d\",group_by=ticker)\n",
      "[*********************100%***********************]  1 of 1 completed\n",
      "C:\\Users\\PC\\AppData\\Local\\Programs\\Python\\Python310\\lib\\site-packages\\xgboost\\training.py:183: UserWarning: [00:14:07] WARNING: C:\\actions-runner\\_work\\xgboost\\xgboost\\src\\learner.cc:738: \n",
      "Parameters: { \"use_label_encoder\" } are not used.\n",
      "\n",
      "  bst.update(dtrain, iteration=i, fobj=obj)\n",
      "C:\\Users\\PC\\AppData\\Local\\Temp\\ipykernel_6404\\1505815251.py:229: FutureWarning: YF.download() has changed argument auto_adjust default to True\n",
      "  data_Test = yf.download(tickers=ticker, period=\"60d\", interval=\"1d\", group_by=\"ticker\")\n",
      "[*********************100%***********************]  1 of 1 completed\n"
     ]
    },
    {
     "name": "stdout",
     "output_type": "stream",
     "text": [
      "[[ 1.69736506  0.92735542  1.41416688  2.13400822 -0.09416556  1.31385316\n",
      "   1.22925696  1.41159918  1.20521714  1.29447674  0.41282824]]\n"
     ]
    },
    {
     "name": "stderr",
     "output_type": "stream",
     "text": [
      "C:\\Users\\PC\\AppData\\Local\\Temp\\ipykernel_6404\\1505815251.py:2: FutureWarning: YF.download() has changed argument auto_adjust default to True\n",
      "  Data=yf.download(tickers=ticker,period=\"5y\",interval=\"1d\",group_by=ticker)\n",
      "[*********************100%***********************]  1 of 1 completed\n",
      "C:\\Users\\PC\\AppData\\Local\\Programs\\Python\\Python310\\lib\\site-packages\\xgboost\\training.py:183: UserWarning: [00:14:10] WARNING: C:\\actions-runner\\_work\\xgboost\\xgboost\\src\\learner.cc:738: \n",
      "Parameters: { \"use_label_encoder\" } are not used.\n",
      "\n",
      "  bst.update(dtrain, iteration=i, fobj=obj)\n",
      "C:\\Users\\PC\\AppData\\Local\\Temp\\ipykernel_6404\\1505815251.py:229: FutureWarning: YF.download() has changed argument auto_adjust default to True\n",
      "  data_Test = yf.download(tickers=ticker, period=\"60d\", interval=\"1d\", group_by=\"ticker\")\n",
      "[*********************100%***********************]  1 of 1 completed\n"
     ]
    },
    {
     "name": "stdout",
     "output_type": "stream",
     "text": [
      "[[ 1.81428829  0.56147818  0.68601497  2.28617329 -0.66307063  1.00850618\n",
      "   1.11665339  0.61824891  0.90621317  1.37236346 -0.25190838]]\n",
      "   Ticker  Buy  Confidence\n",
      "0    NVDA   No        0.01\n",
      "1    MSFT   No        0.01\n",
      "2    AAPL   No        0.01\n",
      "3    AMZN   No        0.00\n",
      "4   GOOGL   No        0.04\n",
      "5    META   No        0.02\n",
      "6    TSLA   No       39.66\n",
      "7     JPM   No        0.04\n",
      "8     WMT   No        4.85\n",
      "9     LLY   No        0.01\n",
      "10      V   No        0.32\n",
      "11   ORCL   No        0.16\n",
      "12   NFLX   No        1.14\n",
      "13     MA   No        0.07\n",
      "14    XOM   No        0.01\n",
      "15    UNH   No        0.01\n",
      "16    BAC   No        0.98\n",
      "17    PFE   No        0.00\n",
      "18   ABBV   No        0.01\n",
      "19   CSCO   No        0.12\n",
      "20    PEP   No        0.01\n",
      "21    MRK   No        0.01\n",
      "22   COST   No        0.60\n",
      "23    MCD   No        0.02\n",
      "24   AVGO   No        0.43\n",
      "25    NKE   No        0.00\n",
      "26    CRM  Yes       99.29\n",
      "27    HON   No        0.00\n",
      "28    WFC   No        0.01\n",
      "29      C   No        0.04\n",
      "30    TXN   No        0.01\n",
      "31    ABT   No        0.27\n",
      "32    ACN  Yes       99.70\n",
      "33    MDT   No        0.00\n",
      "34     PM   No        0.07\n",
      "35    BMY   No        0.00\n",
      "36     VZ   No        0.01\n",
      "37    LIN   No        0.01\n",
      "38    LOW   No        0.01\n",
      "39    UPS   No        1.18\n",
      "40    RTX   No        0.11\n",
      "41    DHR   No        0.00\n",
      "42    UNP   No        0.01\n",
      "43    TMO   No        0.02\n",
      "44     MS   No        0.01\n",
      "45   SCHW   No        0.01\n",
      "46    NEE   No        0.01\n",
      "47    CVX   No        0.02\n",
      "48    PNC   No        0.00\n"
     ]
    }
   ],
   "source": [
    "results = []\n",
    "\n",
    "for ticker in ticker_list:\n",
    "    result = process_stock(ticker)\n",
    "    results.append(result)\n",
    "\n",
    "final_df = pd.DataFrame(results)\n",
    "\n",
    "\n",
    "print(final_df)\n"
   ]
  },
  {
   "cell_type": "code",
   "execution_count": 5,
   "id": "120ad13e-55d0-4222-acd3-2e3713be3e18",
   "metadata": {},
   "outputs": [],
   "source": [
    "from datetime import date\n",
    "\n",
    "today = date.today().strftime(\"%Y-%m-%d\")  # e.g., \"2025-07-08\"\n",
    "filename = f\"{today}_Screener_USA.csv\"\n",
    "\n",
    "final_df.to_csv(filename, index=False)\n"
   ]
  },
  {
   "cell_type": "code",
   "execution_count": null,
   "id": "6c9a79f1-ecbc-40bc-a52a-a3564ed18394",
   "metadata": {},
   "outputs": [],
   "source": []
  }
 ],
 "metadata": {
  "kernelspec": {
   "display_name": "Python 3 (ipykernel)",
   "language": "python",
   "name": "python3"
  },
  "language_info": {
   "codemirror_mode": {
    "name": "ipython",
    "version": 3
   },
   "file_extension": ".py",
   "mimetype": "text/x-python",
   "name": "python",
   "nbconvert_exporter": "python",
   "pygments_lexer": "ipython3",
   "version": "3.10.11"
  }
 },
 "nbformat": 4,
 "nbformat_minor": 5
}
