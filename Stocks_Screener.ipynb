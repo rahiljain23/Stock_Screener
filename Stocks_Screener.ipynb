{
 "cells": [
  {
   "cell_type": "code",
   "execution_count": null,
   "id": "3d612f9b-7f15-4355-9d39-579246e875fd",
   "metadata": {},
   "outputs": [],
   "source": [
    "import yfinance as yf\n",
    "import pandas as pd\n",
    "import pandas_ta as ta\n"
   ]
  },
  {
   "cell_type": "code",
   "execution_count": null,
   "id": "bc234a34-3613-438e-b44d-6902ada78ce1",
   "metadata": {},
   "outputs": [],
   "source": [
    "ticker_symbol='HDFCBANK.NS'"
   ]
  },
  {
   "cell_type": "code",
   "execution_count": null,
   "id": "d7f187c1-dc4d-49c8-8005-fdb2f20a95bb",
   "metadata": {},
   "outputs": [],
   "source": [
    "Data=yf.download(tickers=ticker_symbol,period=\"2y\",interval=\"1d\",group_by=ticker_symbol)"
   ]
  },
  {
   "cell_type": "code",
   "execution_count": null,
   "id": "f191a6a7-f4b9-45d3-993c-466ac0463a83",
   "metadata": {},
   "outputs": [],
   "source": [
    "Data.head(5)"
   ]
  },
  {
   "cell_type": "code",
   "execution_count": null,
   "id": "61aff4fc-8213-4529-b00a-e09eae448139",
   "metadata": {},
   "outputs": [],
   "source": [
    "Data['RSI']=ta.rsi(Data[\"Close\"], length=14)"
   ]
  },
  {
   "cell_type": "code",
   "execution_count": null,
   "id": "9008e821-805c-46d5-82d1-c072254b6724",
   "metadata": {},
   "outputs": [],
   "source": []
  },
  {
   "cell_type": "code",
   "execution_count": null,
   "id": "53d42805-591d-4dfa-a05b-fd422d3cb6fb",
   "metadata": {},
   "outputs": [],
   "source": []
  }
 ],
 "metadata": {
  "kernelspec": {
   "display_name": "Python 3 (ipykernel)",
   "language": "python",
   "name": "python3"
  },
  "language_info": {
   "codemirror_mode": {
    "name": "ipython",
    "version": 3
   },
   "file_extension": ".py",
   "mimetype": "text/x-python",
   "name": "python",
   "nbconvert_exporter": "python",
   "pygments_lexer": "ipython3",
   "version": "3.13.5"
  }
 },
 "nbformat": 4,
 "nbformat_minor": 5
}
